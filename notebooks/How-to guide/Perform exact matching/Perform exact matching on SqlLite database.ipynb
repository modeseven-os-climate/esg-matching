{
 "cells": [
  {
   "cell_type": "markdown",
   "id": "5874e187",
   "metadata": {},
   "source": [
    "# How to...perform exact matching on SqlLite database"
   ]
  },
  {
   "cell_type": "code",
   "execution_count": 1,
   "id": "cce6ec58",
   "metadata": {},
   "outputs": [],
   "source": [
    "# Sets up the location of the api relative to this notebook \n",
    "import sys\n",
    "sys.path.append('../../../')"
   ]
  },
  {
   "cell_type": "code",
   "execution_count": 2,
   "id": "b7e4afad",
   "metadata": {},
   "outputs": [],
   "source": [
    "# Import the module for connection to a sqllite database\n",
    "from esgmatching.db_engine.engines.connector_sql_lite import SqlLiteConnector"
   ]
  },
  {
   "cell_type": "code",
   "execution_count": 3,
   "id": "147febf3",
   "metadata": {},
   "outputs": [],
   "source": [
    "# Import the modules for file management\n",
    "from esgmatching.file_reader.file import File\n",
    "from esgmatching.file_reader.file_reader_csv import FileReaderCsv"
   ]
  },
  {
   "cell_type": "code",
   "execution_count": 4,
   "id": "3510ba98",
   "metadata": {},
   "outputs": [],
   "source": [
    "# Import the modules for the etl processing: reading, transformation and loading data to a database\n",
    "from esgmatching.processing.etl_processing import EtlProcessing"
   ]
  },
  {
   "cell_type": "markdown",
   "id": "cd980ffa",
   "metadata": {},
   "source": [
    "## 1. Database setup"
   ]
  },
  {
   "cell_type": "code",
   "execution_count": 5,
   "id": "8cab963e",
   "metadata": {},
   "outputs": [],
   "source": [
    "# Localization of the database to be created in relation to this jupyter notebook\n",
    "# The database will be created in the /data/dabase folder, under the project main folder\n",
    "path_db = '../../../tests/data/sqlite/test_esg_matching.db'"
   ]
  },
  {
   "cell_type": "code",
   "execution_count": 6,
   "id": "1d521c01",
   "metadata": {},
   "outputs": [],
   "source": [
    "# The database connector is represented by the class SqlLiteConnector \n",
    "db_conn = SqlLiteConnector()"
   ]
  },
  {
   "cell_type": "code",
   "execution_count": 7,
   "id": "dfbb576f",
   "metadata": {},
   "outputs": [],
   "source": [
    "# The connect() method of the SqlLiteConnector is used to stablish a connection with the database if it exists, \n",
    "# or to create a new one. The property path_db defines the location and name of the database.\n",
    "# The  property show_sql_statement indicates if the SQL statements are echoed (or printed) in the default output channel.\n",
    "db_conn.path_db = path_db\n",
    "db_conn.show_sql_statement = False\n",
    "db_conn.connect()"
   ]
  },
  {
   "cell_type": "code",
   "execution_count": 8,
   "id": "ee2ddb08",
   "metadata": {},
   "outputs": [
    {
     "data": {
      "text/plain": [
       "True"
      ]
     },
     "execution_count": 8,
     "metadata": {},
     "output_type": "execute_result"
    }
   ],
   "source": [
    "# Check if the connection was stablished\n",
    "db_conn.is_connected()"
   ]
  },
  {
   "cell_type": "markdown",
   "id": "3d2f76ce",
   "metadata": {},
   "source": [
    "## 2. Load the data into database from csv files"
   ]
  },
  {
   "cell_type": "code",
   "execution_count": 9,
   "id": "276f781c",
   "metadata": {},
   "outputs": [],
   "source": [
    "# Create an ETL process object\n",
    "etl_proc_obj = EtlProcessing(db_conn)"
   ]
  },
  {
   "cell_type": "code",
   "execution_count": 10,
   "id": "3226f31f",
   "metadata": {},
   "outputs": [],
   "source": [
    "# Crete a file reader object for csv files\n",
    "csv_reader_obj = FileReaderCsv()  "
   ]
  },
  {
   "cell_type": "code",
   "execution_count": 11,
   "id": "43c8d0a3",
   "metadata": {},
   "outputs": [],
   "source": [
    "# Referential Data Source\n",
    "ref_settings = '../../../tests/data/sqlite/test_referential1_sqlite.json'\n",
    "ref_obj = File(ref_settings)"
   ]
  },
  {
   "cell_type": "code",
   "execution_count": 12,
   "id": "ef7fbd4d",
   "metadata": {},
   "outputs": [
    {
     "name": "stdout",
     "output_type": "stream",
     "text": [
      "../../../tests/data/test_referential1.csv\n"
     ]
    }
   ],
   "source": [
    "# Load data from REFERENCIAL\n",
    "db_ref = etl_proc_obj.load_file_to_db(ref_obj, csv_reader_obj)"
   ]
  },
  {
   "cell_type": "code",
   "execution_count": 13,
   "id": "e564888f",
   "metadata": {},
   "outputs": [],
   "source": [
    "# Target Data Sources\n",
    "tgt1_settings = '../../../tests/data/sqlite/test_target1_sqlite.json'\n",
    "tgt1_obj = File(tgt1_settings)"
   ]
  },
  {
   "cell_type": "code",
   "execution_count": 14,
   "id": "ca7f666a",
   "metadata": {},
   "outputs": [
    {
     "name": "stdout",
     "output_type": "stream",
     "text": [
      "../../../tests/data/test_target1.csv\n"
     ]
    }
   ],
   "source": [
    "# Load data from TARGET 1\n",
    "db_tgt1 = etl_proc_obj.load_file_to_db(tgt1_obj, csv_reader_obj)"
   ]
  },
  {
   "cell_type": "code",
   "execution_count": 15,
   "id": "2cebadfb",
   "metadata": {},
   "outputs": [
    {
     "data": {
      "text/plain": [
       "{'matching_with_ref1': {'dfm': {'isin': ['ISIN']},\n",
       "  'drm': {'name+country': ['COMPANY', 'COUNTRY']},\n",
       "  'ifm': {'isin': ['ISIN'],\n",
       "   'lei': ['LEI'],\n",
       "   'name+country': ['COMPANY', 'COUNTRY']}}}"
      ]
     },
     "execution_count": 15,
     "metadata": {},
     "output_type": "execute_result"
    }
   ],
   "source": [
    "db_tgt1.get_policy_definition()"
   ]
  },
  {
   "cell_type": "code",
   "execution_count": 16,
   "id": "82e4a9c2",
   "metadata": {},
   "outputs": [],
   "source": [
    "# Target Data Sources\n",
    "tgt2_settings = '../../../tests/data/sqlite/test_target2_sqlite.json'\n",
    "tgt2_obj = File(tgt2_settings)"
   ]
  },
  {
   "cell_type": "code",
   "execution_count": 17,
   "id": "1c9ee10a",
   "metadata": {},
   "outputs": [
    {
     "name": "stdout",
     "output_type": "stream",
     "text": [
      "../../../tests/data/test_target2.csv\n"
     ]
    }
   ],
   "source": [
    "# Load data from TARGET 1\n",
    "db_tgt2 = etl_proc_obj.load_file_to_db(tgt2_obj, csv_reader_obj)"
   ]
  },
  {
   "cell_type": "markdown",
   "id": "f8bb55e3",
   "metadata": {},
   "source": [
    "## 3. Creating matching/no-matching tables"
   ]
  },
  {
   "cell_type": "code",
   "execution_count": 18,
   "id": "02c7bb72",
   "metadata": {},
   "outputs": [],
   "source": [
    "match_settings = '../../../tests/data/sqlite/test_matching_sqlite.json'\n",
    "no_match_settings = '../../../tests/data/sqlite/test_no_matching_sqlite.json'"
   ]
  },
  {
   "cell_type": "code",
   "execution_count": 19,
   "id": "70c52c8c",
   "metadata": {},
   "outputs": [],
   "source": [
    "file_match = File(match_settings)\n",
    "file_no_match = File(no_match_settings)"
   ]
  },
  {
   "cell_type": "code",
   "execution_count": 20,
   "id": "34d69000",
   "metadata": {
    "scrolled": true
   },
   "outputs": [],
   "source": [
    "# Call the create_data_source_from_settings() method by passing the File\n",
    "db_matching = etl_proc_obj.create_data_source(file_match)"
   ]
  },
  {
   "cell_type": "code",
   "execution_count": 21,
   "id": "6d5dfd21",
   "metadata": {},
   "outputs": [],
   "source": [
    "# Call the create_data_source_from_settings() method by passing the File\n",
    "db_no_matching = etl_proc_obj.create_data_source(file_no_match)"
   ]
  },
  {
   "cell_type": "markdown",
   "id": "eb372b0d",
   "metadata": {},
   "source": [
    "## 4. Checking attribute mapping alias"
   ]
  },
  {
   "cell_type": "code",
   "execution_count": 22,
   "id": "c5f64f36",
   "metadata": {},
   "outputs": [
    {
     "data": {
      "text/plain": [
       "{'ISIN': Column('ISIN', String(), table=<ESG_MATCH_REF>),\n",
       " 'COMPANY': Column('COMPANY', String(), table=<ESG_MATCH_REF>),\n",
       " 'COUNTRY': Column('COUNTRY', String(), table=<ESG_MATCH_REF>)}"
      ]
     },
     "execution_count": 22,
     "metadata": {},
     "output_type": "execute_result"
    }
   ],
   "source": [
    "db_ref.get_mapping_to_alias()"
   ]
  },
  {
   "cell_type": "code",
   "execution_count": 23,
   "id": "c12daac7",
   "metadata": {},
   "outputs": [
    {
     "data": {
      "text/plain": [
       "{'ISIN': Column('ISIN', String(), table=<ESG_MATCH_TGT1>),\n",
       " 'LEI': Column('LEI', String(), table=<ESG_MATCH_TGT1>),\n",
       " 'COMPANY': Column('COMPANY', String(), table=<ESG_MATCH_TGT1>),\n",
       " 'COUNTRY': Column('COUNTRY', String(), table=<ESG_MATCH_TGT1>)}"
      ]
     },
     "execution_count": 23,
     "metadata": {},
     "output_type": "execute_result"
    }
   ],
   "source": [
    "db_tgt1.get_mapping_to_alias()"
   ]
  },
  {
   "cell_type": "code",
   "execution_count": 24,
   "id": "bef3d452",
   "metadata": {},
   "outputs": [
    {
     "data": {
      "text/plain": [
       "{'ISIN': Column('ISIN', String(), table=<ESG_MATCH_TGT2>),\n",
       " 'LEI': Column('LEI', String(), table=<ESG_MATCH_TGT2>),\n",
       " 'SEDOL': Column('SEDOL', String(), table=<ESG_MATCH_TGT2>),\n",
       " 'COMPANY': Column('COMPANY', String(), table=<ESG_MATCH_TGT2>),\n",
       " 'COUNTRY': Column('COUNTRY', String(), table=<ESG_MATCH_TGT2>)}"
      ]
     },
     "execution_count": 24,
     "metadata": {},
     "output_type": "execute_result"
    }
   ],
   "source": [
    "db_tgt2.get_mapping_to_alias()"
   ]
  },
  {
   "cell_type": "markdown",
   "id": "2b59d599",
   "metadata": {},
   "source": [
    "## 5. Checking attribute mapping between sources and matching tables"
   ]
  },
  {
   "cell_type": "code",
   "execution_count": 25,
   "id": "5667f91a",
   "metadata": {},
   "outputs": [
    {
     "data": {
      "text/plain": [
       "{'REF_ID': Column('UNIQUE_ID', Integer(), table=<ESG_MATCH_REF>, primary_key=True, nullable=False),\n",
       " 'REF_COMPANY': Column('COMPANY', String(), table=<ESG_MATCH_REF>),\n",
       " 'REF_COUNTRY': Column('COUNTRY', String(), table=<ESG_MATCH_REF>)}"
      ]
     },
     "execution_count": 25,
     "metadata": {},
     "output_type": "execute_result"
    }
   ],
   "source": [
    "db_ref.get_mapping_to_matching()"
   ]
  },
  {
   "cell_type": "code",
   "execution_count": 26,
   "id": "e0142407",
   "metadata": {},
   "outputs": [
    {
     "data": {
      "text/plain": [
       "{'TGT_ID': Column('UNIQUE_ID', Integer(), table=<ESG_MATCH_TGT1>, primary_key=True, nullable=False),\n",
       " 'ISIN': Column('ISIN', String(), table=<ESG_MATCH_TGT1>),\n",
       " 'LEI': Column('LEI', String(), table=<ESG_MATCH_TGT1>),\n",
       " 'TGT_COMPANY': Column('COMPANY', String(), table=<ESG_MATCH_TGT1>),\n",
       " 'TGT_COUNTRY': Column('COUNTRY', String(), table=<ESG_MATCH_TGT1>)}"
      ]
     },
     "execution_count": 26,
     "metadata": {},
     "output_type": "execute_result"
    }
   ],
   "source": [
    "db_tgt1.get_mapping_to_matching()"
   ]
  },
  {
   "cell_type": "code",
   "execution_count": 27,
   "id": "5590d258",
   "metadata": {},
   "outputs": [
    {
     "data": {
      "text/plain": [
       "{'TGT_ID': Column('UNIQUE_ID', Integer(), table=<ESG_MATCH_TGT2>, primary_key=True, nullable=False),\n",
       " 'ISIN': Column('ISIN', String(), table=<ESG_MATCH_TGT2>),\n",
       " 'LEI': Column('LEI', String(), table=<ESG_MATCH_TGT2>),\n",
       " 'SEDOL': Column('SEDOL', String(), table=<ESG_MATCH_TGT2>),\n",
       " 'TGT_COMPANY': Column('COMPANY', String(), table=<ESG_MATCH_TGT2>),\n",
       " 'TGT_COUNTRY': Column('COUNTRY', String(), table=<ESG_MATCH_TGT2>)}"
      ]
     },
     "execution_count": 27,
     "metadata": {},
     "output_type": "execute_result"
    }
   ],
   "source": [
    "db_tgt2.get_mapping_to_matching()"
   ]
  },
  {
   "cell_type": "markdown",
   "id": "f60ebc53",
   "metadata": {},
   "source": [
    "## 6. Create policies for matching each target data source with the referential"
   ]
  },
  {
   "cell_type": "code",
   "execution_count": 28,
   "id": "07be9e87",
   "metadata": {},
   "outputs": [],
   "source": [
    "# Import policy module\n",
    "from esgmatching.db_matcher.matching_policy import MatchingPolicy"
   ]
  },
  {
   "cell_type": "code",
   "execution_count": 29,
   "id": "4fb6fa14",
   "metadata": {},
   "outputs": [],
   "source": [
    "# Create macthing policy object for target1\n",
    "policy_match_tgt1 = MatchingPolicy(db_tgt1, 'matching_with_ref1')"
   ]
  },
  {
   "cell_type": "code",
   "execution_count": 30,
   "id": "08342a83",
   "metadata": {},
   "outputs": [],
   "source": [
    "# Set the referential and matching/no-matching sources\n",
    "policy_match_tgt1.set_referential_source(db_ref)\n",
    "policy_match_tgt1.set_matching_source(db_matching)\n",
    "policy_match_tgt1.set_no_matching_source(db_no_matching)"
   ]
  },
  {
   "cell_type": "code",
   "execution_count": 31,
   "id": "e621da45",
   "metadata": {},
   "outputs": [],
   "source": [
    "# Create macthing policy object for target2\n",
    "policy_match_tgt2 = MatchingPolicy(db_tgt2, 'matching_with_ref1')"
   ]
  },
  {
   "cell_type": "code",
   "execution_count": 32,
   "id": "aaf8274f",
   "metadata": {},
   "outputs": [],
   "source": [
    "# Set the referential and matching/no-matching sources\n",
    "policy_match_tgt2.set_referential_source(db_ref)\n",
    "policy_match_tgt2.set_matching_source(db_matching)\n",
    "policy_match_tgt2.set_no_matching_source(db_no_matching)"
   ]
  },
  {
   "cell_type": "markdown",
   "id": "6e62383f",
   "metadata": {},
   "source": [
    "## 7. Perform direct full matching (DFM) for each data source"
   ]
  },
  {
   "cell_type": "code",
   "execution_count": 33,
   "id": "e1aac282",
   "metadata": {},
   "outputs": [],
   "source": [
    "# Import DFM module\n",
    "from esgmatching.db_matcher.db_matcher_dfm import DbMatcherDfm"
   ]
  },
  {
   "cell_type": "code",
   "execution_count": 34,
   "id": "8df93fe4",
   "metadata": {},
   "outputs": [],
   "source": [
    "# Create a matcher object for DFM\n",
    "dfm_matcher_obj = DbMatcherDfm(db_conn)"
   ]
  },
  {
   "cell_type": "code",
   "execution_count": 35,
   "id": "14241c99",
   "metadata": {},
   "outputs": [],
   "source": [
    "# Perform DFM on target 1\n",
    "dfm_matcher_obj.set_policy(policy_match_tgt1)\n",
    "dfm_matcher_obj.execute_matching()"
   ]
  },
  {
   "cell_type": "code",
   "execution_count": 36,
   "id": "f7b77396",
   "metadata": {},
   "outputs": [],
   "source": [
    "# Perform DFM on target 2\n",
    "dfm_matcher_obj.set_policy(policy_match_tgt2)\n",
    "dfm_matcher_obj.execute_matching()"
   ]
  },
  {
   "cell_type": "markdown",
   "id": "13353981",
   "metadata": {},
   "source": [
    "## 8. Perform direct residual matching (DRM) for each data source"
   ]
  },
  {
   "cell_type": "code",
   "execution_count": 37,
   "id": "b3d5b866",
   "metadata": {},
   "outputs": [],
   "source": [
    "# Import DRM module\n",
    "from esgmatching.db_matcher.db_matcher_drm import DbMatcherDrm"
   ]
  },
  {
   "cell_type": "code",
   "execution_count": 38,
   "id": "6063d3f1",
   "metadata": {},
   "outputs": [],
   "source": [
    "# Create a matcher object for DRM\n",
    "drm_matcher_obj = DbMatcherDrm(db_conn)"
   ]
  },
  {
   "cell_type": "code",
   "execution_count": 39,
   "id": "bafb60ca",
   "metadata": {},
   "outputs": [],
   "source": [
    "# Perform DRM on target 1\n",
    "drm_matcher_obj.set_policy(policy_match_tgt1)\n",
    "drm_matcher_obj.execute_matching()"
   ]
  },
  {
   "cell_type": "code",
   "execution_count": 40,
   "id": "8326a958",
   "metadata": {},
   "outputs": [],
   "source": [
    "# Perform DRM on target 2\n",
    "drm_matcher_obj.set_policy(policy_match_tgt2)\n",
    "drm_matcher_obj.execute_matching()"
   ]
  },
  {
   "cell_type": "markdown",
   "id": "f1cbd7d9",
   "metadata": {},
   "source": [
    "## 9. Perform indirect full matching (IFM) for each data source"
   ]
  },
  {
   "cell_type": "code",
   "execution_count": 41,
   "id": "1587b012",
   "metadata": {},
   "outputs": [],
   "source": [
    "# Import IFM module\n",
    "from esgmatching.db_matcher.db_matcher_ifm import DbMatcherIfm"
   ]
  },
  {
   "cell_type": "code",
   "execution_count": 42,
   "id": "e28438be",
   "metadata": {},
   "outputs": [],
   "source": [
    "# Create a matcher object for IFM\n",
    "ifm_matcher_obj = DbMatcherIfm(db_conn)"
   ]
  },
  {
   "cell_type": "code",
   "execution_count": 43,
   "id": "a9263279",
   "metadata": {},
   "outputs": [],
   "source": [
    "# Perform IFM on target 1\n",
    "ifm_matcher_obj.set_policy(policy_match_tgt1)\n",
    "ifm_matcher_obj.execute_matching()"
   ]
  },
  {
   "cell_type": "code",
   "execution_count": 44,
   "id": "c9803270",
   "metadata": {},
   "outputs": [],
   "source": [
    "# Perform IFM on target 2\n",
    "ifm_matcher_obj.set_policy(policy_match_tgt2)\n",
    "ifm_matcher_obj.execute_matching()"
   ]
  },
  {
   "cell_type": "markdown",
   "id": "f79b6cfd",
   "metadata": {},
   "source": [
    "## 10. Close database connection"
   ]
  },
  {
   "cell_type": "code",
   "execution_count": 45,
   "id": "54de4508",
   "metadata": {},
   "outputs": [],
   "source": [
    "db_conn.disconnect()"
   ]
  },
  {
   "cell_type": "code",
   "execution_count": 46,
   "id": "b208b749",
   "metadata": {},
   "outputs": [
    {
     "data": {
      "text/plain": [
       "False"
      ]
     },
     "execution_count": 46,
     "metadata": {},
     "output_type": "execute_result"
    }
   ],
   "source": [
    "db_conn.is_connected()"
   ]
  },
  {
   "cell_type": "code",
   "execution_count": null,
   "id": "88b80e63",
   "metadata": {},
   "outputs": [],
   "source": []
  }
 ],
 "metadata": {
  "kernelspec": {
   "display_name": "Python 3",
   "language": "python",
   "name": "python3"
  },
  "language_info": {
   "codemirror_mode": {
    "name": "ipython",
    "version": 3
   },
   "file_extension": ".py",
   "mimetype": "text/x-python",
   "name": "python",
   "nbconvert_exporter": "python",
   "pygments_lexer": "ipython3",
   "version": "3.9.5"
  }
 },
 "nbformat": 4,
 "nbformat_minor": 5
}
