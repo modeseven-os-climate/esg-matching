{
 "cells": [
  {
   "cell_type": "markdown",
   "id": "5874e187",
   "metadata": {},
   "source": [
    "# How to...perform exact matching on SqlLite database"
   ]
  },
  {
   "cell_type": "code",
   "execution_count": 1,
   "id": "cce6ec58",
   "metadata": {},
   "outputs": [],
   "source": [
    "# Sets up the location of the api relative to this notebook \n",
    "import sys\n",
    "sys.path.append('../../../')"
   ]
  },
  {
   "cell_type": "code",
   "execution_count": 2,
   "id": "b7e4afad",
   "metadata": {},
   "outputs": [],
   "source": [
    "# Import the module for connection to a sqllite database\n",
    "from esgmatching.db_engine.engines.connector_sql_lite import SqlLiteConnector"
   ]
  },
  {
   "cell_type": "code",
   "execution_count": 3,
   "id": "147febf3",
   "metadata": {},
   "outputs": [],
   "source": [
    "# Import the modules for file management\n",
    "from esgmatching.file_reader.file import File\n",
    "from esgmatching.file_reader.file_reader_csv import FileReaderCsv"
   ]
  },
  {
   "cell_type": "code",
   "execution_count": 4,
   "id": "3510ba98",
   "metadata": {},
   "outputs": [],
   "source": [
    "# Import the modules for the etl processing: reading, transformation and loading data to a database\n",
    "from esgmatching.processing.etl_processing import EtlProcessing"
   ]
  },
  {
   "cell_type": "markdown",
   "id": "cd980ffa",
   "metadata": {},
   "source": [
    "## 1. Database setup"
   ]
  },
  {
   "cell_type": "code",
   "execution_count": 5,
   "id": "8cab963e",
   "metadata": {},
   "outputs": [],
   "source": [
    "# Localization of the database to be created in relation to this jupyter notebook\n",
    "# The database will be created in the /data/dabase folder, under the project main folder\n",
    "path_db = '../../../tests/data/sqlite/test_esg_matching.db'"
   ]
  },
  {
   "cell_type": "code",
   "execution_count": 6,
   "id": "1d521c01",
   "metadata": {},
   "outputs": [],
   "source": [
    "# The database connector is represented by the class SqlLiteConnector \n",
    "db_conn = SqlLiteConnector()"
   ]
  },
  {
   "cell_type": "code",
   "execution_count": 7,
   "id": "dfbb576f",
   "metadata": {},
   "outputs": [],
   "source": [
    "# The connect() method of the SqlLiteConnector is used to stablish a connection with the database if it exists, \n",
    "# or to create a new one. The property path_db defines the location and name of the database.\n",
    "# The  property show_sql_statement indicates if the SQL statements are echoed (or printed) in the default output channel.\n",
    "db_conn.path_db = path_db\n",
    "db_conn.show_sql_statement = False\n",
    "db_conn.connect()"
   ]
  },
  {
   "cell_type": "code",
   "execution_count": 8,
   "id": "ee2ddb08",
   "metadata": {},
   "outputs": [
    {
     "data": {
      "text/plain": [
       "True"
      ]
     },
     "execution_count": 8,
     "metadata": {},
     "output_type": "execute_result"
    }
   ],
   "source": [
    "# Check if the connection was stablished\n",
    "db_conn.is_connected()"
   ]
  },
  {
   "cell_type": "markdown",
   "id": "3d2f76ce",
   "metadata": {},
   "source": [
    "## 2. Load the data into database from csv files"
   ]
  },
  {
   "cell_type": "code",
   "execution_count": 9,
   "id": "276f781c",
   "metadata": {},
   "outputs": [],
   "source": [
    "# Create an ETL process object\n",
    "etl_proc_obj = EtlProcessing(db_conn)"
   ]
  },
  {
   "cell_type": "code",
   "execution_count": 10,
   "id": "3226f31f",
   "metadata": {},
   "outputs": [],
   "source": [
    "# Crete a file reader object for csv files\n",
    "csv_reader_obj = FileReaderCsv()  "
   ]
  },
  {
   "cell_type": "code",
   "execution_count": 11,
   "id": "43c8d0a3",
   "metadata": {},
   "outputs": [],
   "source": [
    "# Referential Data Source\n",
    "ref_settings = '../../../tests/data/sqlite/test_referential1_sqlite.json'\n",
    "ref_obj = File(ref_settings)"
   ]
  },
  {
   "cell_type": "code",
   "execution_count": 12,
   "id": "ef7fbd4d",
   "metadata": {},
   "outputs": [
    {
     "name": "stdout",
     "output_type": "stream",
     "text": [
      "../../../tests/data/test_referential1.csv\n"
     ]
    }
   ],
   "source": [
    "# Load data from REFERENCIAL\n",
    "db_ref = etl_proc_obj.load_file_to_db(ref_obj, csv_reader_obj)"
   ]
  },
  {
   "cell_type": "code",
   "execution_count": 13,
   "id": "e564888f",
   "metadata": {},
   "outputs": [],
   "source": [
    "# Target Data Sources\n",
    "tgt1_settings = '../../../tests/data/sqlite/test_target1_sqlite.json'\n",
    "tgt1_obj = File(tgt1_settings)"
   ]
  },
  {
   "cell_type": "code",
   "execution_count": 14,
   "id": "ca7f666a",
   "metadata": {},
   "outputs": [
    {
     "name": "stdout",
     "output_type": "stream",
     "text": [
      "../../../tests/data/test_target1.csv\n"
     ]
    }
   ],
   "source": [
    "# Load data from TARGET 1\n",
    "db_tgt1 = etl_proc_obj.load_file_to_db(tgt1_obj, csv_reader_obj)"
   ]
  },
  {
   "cell_type": "code",
   "execution_count": 15,
   "id": "2cebadfb",
   "metadata": {},
   "outputs": [
    {
     "data": {
      "text/plain": [
       "{'matching_with_ref1': {'dfm': {'isin': ['ISIN']},\n",
       "  'drm': {'name+country': ['COMPANY', 'COUNTRY']},\n",
       "  'ifm': {'isin': ['ISIN'], 'name+country': ['COMPANY', 'COUNTRY']}}}"
      ]
     },
     "execution_count": 15,
     "metadata": {},
     "output_type": "execute_result"
    }
   ],
   "source": [
    "db_tgt1.get_policy_definition()"
   ]
  },
  {
   "cell_type": "code",
   "execution_count": 16,
   "id": "82e4a9c2",
   "metadata": {},
   "outputs": [],
   "source": [
    "# Target Data Sources\n",
    "tgt2_settings = '../../../tests/data/sqlite/test_target2_sqlite.json'\n",
    "tgt2_obj = File(tgt2_settings)"
   ]
  },
  {
   "cell_type": "code",
   "execution_count": 17,
   "id": "1c9ee10a",
   "metadata": {},
   "outputs": [
    {
     "name": "stdout",
     "output_type": "stream",
     "text": [
      "../../../tests/data/test_target2.csv\n"
     ]
    }
   ],
   "source": [
    "# Load data from TARGET 1\n",
    "db_tgt2 = etl_proc_obj.load_file_to_db(tgt2_obj, csv_reader_obj)"
   ]
  },
  {
   "cell_type": "markdown",
   "id": "f8bb55e3",
   "metadata": {},
   "source": [
    "## 3. Creating matching/no-matching tables"
   ]
  },
  {
   "cell_type": "code",
   "execution_count": 18,
   "id": "02c7bb72",
   "metadata": {},
   "outputs": [],
   "source": [
    "match_settings = '../../../tests/data/sqlite/test_matching_sqlite.json'\n",
    "no_match_settings = '../../../tests/data/sqlite/test_no_matching_sqlite.json'"
   ]
  },
  {
   "cell_type": "code",
   "execution_count": 19,
   "id": "70c52c8c",
   "metadata": {},
   "outputs": [],
   "source": [
    "file_match = File(match_settings)\n",
    "file_no_match = File(no_match_settings)"
   ]
  },
  {
   "cell_type": "code",
   "execution_count": 20,
   "id": "34d69000",
   "metadata": {},
   "outputs": [],
   "source": [
    "# Call the create_data_source_from_settings() method by passing the File\n",
    "db_matching = etl_proc_obj.create_data_source(file_match)"
   ]
  },
  {
   "cell_type": "code",
   "execution_count": 21,
   "id": "6d5dfd21",
   "metadata": {},
   "outputs": [],
   "source": [
    "# Call the create_data_source_from_settings() method by passing the File\n",
    "db_no_matching = etl_proc_obj.create_data_source(file_no_match)"
   ]
  },
  {
   "cell_type": "markdown",
   "id": "eb372b0d",
   "metadata": {},
   "source": [
    "## 4. Checking attribute mapping alias"
   ]
  },
  {
   "cell_type": "code",
   "execution_count": 22,
   "id": "c5f64f36",
   "metadata": {},
   "outputs": [
    {
     "data": {
      "text/plain": [
       "{'ISIN': Column('ISIN', String(), table=<ESG_MATCH_REF>),\n",
       " 'COMPANY': Column('COMPANY', String(), table=<ESG_MATCH_REF>),\n",
       " 'COUNTRY': Column('COUNTRY', String(), table=<ESG_MATCH_REF>)}"
      ]
     },
     "execution_count": 22,
     "metadata": {},
     "output_type": "execute_result"
    }
   ],
   "source": [
    "db_ref.get_mapping_to_alias()"
   ]
  },
  {
   "cell_type": "code",
   "execution_count": 23,
   "id": "c12daac7",
   "metadata": {},
   "outputs": [
    {
     "data": {
      "text/plain": [
       "{'ISIN': Column('ISIN', String(), table=<ESG_MATCH_TGT1>),\n",
       " 'LEI': Column('LEI', String(), table=<ESG_MATCH_TGT1>),\n",
       " 'COMPANY': Column('COMPANY', String(), table=<ESG_MATCH_TGT1>),\n",
       " 'COUNTRY': Column('COUNTRY', String(), table=<ESG_MATCH_TGT1>)}"
      ]
     },
     "execution_count": 23,
     "metadata": {},
     "output_type": "execute_result"
    }
   ],
   "source": [
    "db_tgt1.get_mapping_to_alias()"
   ]
  },
  {
   "cell_type": "code",
   "execution_count": 24,
   "id": "bef3d452",
   "metadata": {},
   "outputs": [
    {
     "data": {
      "text/plain": [
       "{'ISIN': Column('ISIN', String(), table=<ESG_MATCH_TGT2>),\n",
       " 'LEI': Column('LEI', String(), table=<ESG_MATCH_TGT2>),\n",
       " 'SEDOL': Column('SEDOL', String(), table=<ESG_MATCH_TGT2>),\n",
       " 'COMPANY': Column('COMPANY', String(), table=<ESG_MATCH_TGT2>),\n",
       " 'COUNTRY': Column('COUNTRY', String(), table=<ESG_MATCH_TGT2>)}"
      ]
     },
     "execution_count": 24,
     "metadata": {},
     "output_type": "execute_result"
    }
   ],
   "source": [
    "db_tgt2.get_mapping_to_alias()"
   ]
  },
  {
   "cell_type": "markdown",
   "id": "2b59d599",
   "metadata": {},
   "source": [
    "## 5. Checking attribute mapping between sources and matching tables"
   ]
  },
  {
   "cell_type": "code",
   "execution_count": 25,
   "id": "5667f91a",
   "metadata": {},
   "outputs": [
    {
     "data": {
      "text/plain": [
       "{'REF_ID': Column('UNIQUE_ID', Integer(), table=<ESG_MATCH_REF>, primary_key=True, nullable=False),\n",
       " 'REF_COMPANY': Column('COMPANY', String(), table=<ESG_MATCH_REF>),\n",
       " 'REF_COUNTRY': Column('COUNTRY', String(), table=<ESG_MATCH_REF>)}"
      ]
     },
     "execution_count": 25,
     "metadata": {},
     "output_type": "execute_result"
    }
   ],
   "source": [
    "db_ref.get_mapping_to_matching()"
   ]
  },
  {
   "cell_type": "code",
   "execution_count": 26,
   "id": "e0142407",
   "metadata": {},
   "outputs": [
    {
     "data": {
      "text/plain": [
       "{'TGT_ID': Column('UNIQUE_ID', Integer(), table=<ESG_MATCH_TGT1>, primary_key=True, nullable=False),\n",
       " 'ISIN': Column('ISIN', String(), table=<ESG_MATCH_TGT1>),\n",
       " 'LEI': Column('LEI', String(), table=<ESG_MATCH_TGT1>),\n",
       " 'TGT_COMPANY': Column('COMPANY', String(), table=<ESG_MATCH_TGT1>),\n",
       " 'TGT_COUNTRY': Column('COUNTRY', String(), table=<ESG_MATCH_TGT1>)}"
      ]
     },
     "execution_count": 26,
     "metadata": {},
     "output_type": "execute_result"
    }
   ],
   "source": [
    "db_tgt1.get_mapping_to_matching()"
   ]
  },
  {
   "cell_type": "code",
   "execution_count": 27,
   "id": "5590d258",
   "metadata": {},
   "outputs": [
    {
     "data": {
      "text/plain": [
       "{'TGT_ID': Column('UNIQUE_ID', Integer(), table=<ESG_MATCH_TGT2>, primary_key=True, nullable=False),\n",
       " 'ISIN': Column('ISIN', String(), table=<ESG_MATCH_TGT2>),\n",
       " 'LEI': Column('LEI', String(), table=<ESG_MATCH_TGT2>),\n",
       " 'SEDOL': Column('SEDOL', String(), table=<ESG_MATCH_TGT2>),\n",
       " 'TGT_COMPANY': Column('COMPANY', String(), table=<ESG_MATCH_TGT2>),\n",
       " 'TGT_COUNTRY': Column('COUNTRY', String(), table=<ESG_MATCH_TGT2>)}"
      ]
     },
     "execution_count": 27,
     "metadata": {},
     "output_type": "execute_result"
    }
   ],
   "source": [
    "db_tgt2.get_mapping_to_matching()"
   ]
  },
  {
   "cell_type": "markdown",
   "id": "f60ebc53",
   "metadata": {},
   "source": [
    "## 6. Create policies for matching each target data source with the referential"
   ]
  },
  {
   "cell_type": "code",
   "execution_count": 28,
   "id": "07be9e87",
   "metadata": {},
   "outputs": [],
   "source": [
    "# Import policy module\n",
    "from esgmatching.db_matcher.matching_policy import MatchingPolicy"
   ]
  },
  {
   "cell_type": "code",
   "execution_count": 29,
   "id": "4fb6fa14",
   "metadata": {},
   "outputs": [],
   "source": [
    "# Create macthing policy object for target1\n",
    "policy_match_tgt1 = MatchingPolicy(db_tgt1, 'matching_with_ref1')"
   ]
  },
  {
   "cell_type": "code",
   "execution_count": 30,
   "id": "08342a83",
   "metadata": {},
   "outputs": [],
   "source": [
    "# Set the referential and matching/no-matching sources\n",
    "policy_match_tgt1.set_referential_source(db_ref)\n",
    "policy_match_tgt1.set_matching_source(db_matching)\n",
    "policy_match_tgt1.set_no_matching_source(db_no_matching)"
   ]
  },
  {
   "cell_type": "code",
   "execution_count": 31,
   "id": "e621da45",
   "metadata": {},
   "outputs": [],
   "source": [
    "# Create macthing policy object for target2\n",
    "policy_match_tgt2 = MatchingPolicy(db_tgt2, 'matching_with_ref1')"
   ]
  },
  {
   "cell_type": "code",
   "execution_count": 32,
   "id": "aaf8274f",
   "metadata": {},
   "outputs": [],
   "source": [
    "# Set the referential and matching/no-matching sources\n",
    "policy_match_tgt2.set_referential_source(db_ref)\n",
    "policy_match_tgt2.set_matching_source(db_matching)\n",
    "policy_match_tgt2.set_no_matching_source(db_no_matching)"
   ]
  },
  {
   "cell_type": "markdown",
   "id": "6e62383f",
   "metadata": {},
   "source": [
    "## 7. Perform direct full matching (DFM) for each data source"
   ]
  },
  {
   "cell_type": "code",
   "execution_count": 33,
   "id": "e1aac282",
   "metadata": {},
   "outputs": [],
   "source": [
    "# Import DFM module\n",
    "from esgmatching.db_matcher.db_matcher_dfm import DbMatcherDfm"
   ]
  },
  {
   "cell_type": "code",
   "execution_count": 34,
   "id": "8df93fe4",
   "metadata": {},
   "outputs": [],
   "source": [
    "# Create a matcher object for DFM\n",
    "dfm_matcher_obj = DbMatcherDfm(db_conn)"
   ]
  },
  {
   "cell_type": "code",
   "execution_count": 35,
   "id": "14241c99",
   "metadata": {},
   "outputs": [],
   "source": [
    "# Perform DFM on target 1\n",
    "dfm_matcher_obj.set_policy(policy_match_tgt1)\n",
    "dfm_matcher_obj.execute_matching()"
   ]
  },
  {
   "cell_type": "code",
   "execution_count": 36,
   "id": "f7b77396",
   "metadata": {},
   "outputs": [],
   "source": [
    "# Perform DFM on target 2\n",
    "dfm_matcher_obj.set_policy(policy_match_tgt2)\n",
    "dfm_matcher_obj.execute_matching()"
   ]
  },
  {
   "cell_type": "markdown",
   "id": "13353981",
   "metadata": {},
   "source": [
    "## 8. Perform direct residual matching (DRM) for each data source"
   ]
  },
  {
   "cell_type": "code",
   "execution_count": 37,
   "id": "b3d5b866",
   "metadata": {},
   "outputs": [],
   "source": [
    "# Import DRM module\n",
    "from esgmatching.db_matcher.db_matcher_drm import DbMatcherDrm"
   ]
  },
  {
   "cell_type": "code",
   "execution_count": 38,
   "id": "6063d3f1",
   "metadata": {},
   "outputs": [],
   "source": [
    "# Create a matcher object for DRM\n",
    "drm_matcher_obj = DbMatcherDrm(db_conn)"
   ]
  },
  {
   "cell_type": "code",
   "execution_count": 39,
   "id": "bafb60ca",
   "metadata": {},
   "outputs": [],
   "source": [
    "# Perform DRM on target 1\n",
    "drm_matcher_obj.set_policy(policy_match_tgt1)\n",
    "drm_matcher_obj.execute_matching()"
   ]
  },
  {
   "cell_type": "code",
   "execution_count": 40,
   "id": "8326a958",
   "metadata": {},
   "outputs": [],
   "source": [
    "# Perform DRM on target 2\n",
    "drm_matcher_obj.set_policy(policy_match_tgt2)\n",
    "drm_matcher_obj.execute_matching()"
   ]
  },
  {
   "cell_type": "markdown",
   "id": "f1cbd7d9",
   "metadata": {},
   "source": [
    "## 10. Perform indirect full matching (IFM) for each data source"
   ]
  },
  {
   "cell_type": "code",
   "execution_count": 41,
   "id": "1587b012",
   "metadata": {},
   "outputs": [],
   "source": [
    "# Import IFM module\n",
    "from esgmatching.db_matcher.db_matcher_ifm import DbMatcherIfm"
   ]
  },
  {
   "cell_type": "code",
   "execution_count": 42,
   "id": "e28438be",
   "metadata": {},
   "outputs": [],
   "source": [
    "# Create a matcher object for IFM\n",
    "ifm_matcher_obj = DbMatcherIfm(db_conn)"
   ]
  },
  {
   "cell_type": "code",
   "execution_count": 43,
   "id": "a9263279",
   "metadata": {},
   "outputs": [
    {
     "ename": "OperationalError",
     "evalue": "(sqlite3.OperationalError) no such column: ESG_MATCHING.ISIN\n[SQL: INSERT INTO \"ESG_MATCHING\" (\"REF_NAME\", \"TGT_NAME\", \"MATCHING_TYPE\", \"MATCHING_SCOPE\", \"MATCHING_RULE\", \"TGT_ID\", \"ISIN\", \"LEI\", \"TGT_COMPANY\", \"TGT_COUNTRY\", \"REF_ID\", \"REF_COMPANY\", \"REF_COUNTRY\") SELECT 'DS_REF' AS \"REF_NAME\", 'DS_TGT1' AS \"TGT_NAME\", 'indirect' AS \"MATCHING_TYPE\", 'full' AS \"MATCHING_SCOPE\", 'isin' AS \"MATCHING_RULE\", \"ESG_NO_MATCHING\".\"TGT_ID\", \"ESG_NO_MATCHING\".\"ISIN\", \"ESG_NO_MATCHING\".\"LEI\", \"ESG_NO_MATCHING\".\"TGT_COMPANY\", \"ESG_NO_MATCHING\".\"TGT_COUNTRY\", \"ESG_MATCH_REF\".\"UNIQUE_ID\" AS \"REF_ID\", \"ESG_MATCH_REF\".\"COMPANY\" AS \"REF_COMPANY\", \"ESG_MATCH_REF\".\"COUNTRY\" AS \"REF_COUNTRY\" \nFROM \"ESG_NO_MATCHING\" JOIN \"ESG_MATCH_REF\" ON \"ESG_NO_MATCHING\".\"ISIN\" = \"ESG_MATCHING\".\"ISIN\" \nWHERE \"ESG_NO_MATCHING\".\"TGT_NAME\" = ?]\n[parameters: ('DS_TGT1',)]\n(Background on this error at: https://sqlalche.me/e/14/e3q8)",
     "output_type": "error",
     "traceback": [
      "\u001b[1;31m---------------------------------------------------------------------------\u001b[0m",
      "\u001b[1;31mOperationalError\u001b[0m                          Traceback (most recent call last)",
      "\u001b[1;32mC:\\ProgramData\\Anaconda3\\envs\\os_climate\\lib\\site-packages\\sqlalchemy\\engine\\base.py\u001b[0m in \u001b[0;36m_execute_context\u001b[1;34m(self, dialect, constructor, statement, parameters, execution_options, *args, **kw)\u001b[0m\n\u001b[0;32m   1770\u001b[0m                 \u001b[1;32mif\u001b[0m \u001b[1;32mnot\u001b[0m \u001b[0mevt_handled\u001b[0m\u001b[1;33m:\u001b[0m\u001b[1;33m\u001b[0m\u001b[1;33m\u001b[0m\u001b[0m\n\u001b[1;32m-> 1771\u001b[1;33m                     self.dialect.do_execute(\n\u001b[0m\u001b[0;32m   1772\u001b[0m                         \u001b[0mcursor\u001b[0m\u001b[1;33m,\u001b[0m \u001b[0mstatement\u001b[0m\u001b[1;33m,\u001b[0m \u001b[0mparameters\u001b[0m\u001b[1;33m,\u001b[0m \u001b[0mcontext\u001b[0m\u001b[1;33m\u001b[0m\u001b[1;33m\u001b[0m\u001b[0m\n",
      "\u001b[1;32mC:\\ProgramData\\Anaconda3\\envs\\os_climate\\lib\\site-packages\\sqlalchemy\\engine\\default.py\u001b[0m in \u001b[0;36mdo_execute\u001b[1;34m(self, cursor, statement, parameters, context)\u001b[0m\n\u001b[0;32m    716\u001b[0m     \u001b[1;32mdef\u001b[0m \u001b[0mdo_execute\u001b[0m\u001b[1;33m(\u001b[0m\u001b[0mself\u001b[0m\u001b[1;33m,\u001b[0m \u001b[0mcursor\u001b[0m\u001b[1;33m,\u001b[0m \u001b[0mstatement\u001b[0m\u001b[1;33m,\u001b[0m \u001b[0mparameters\u001b[0m\u001b[1;33m,\u001b[0m \u001b[0mcontext\u001b[0m\u001b[1;33m=\u001b[0m\u001b[1;32mNone\u001b[0m\u001b[1;33m)\u001b[0m\u001b[1;33m:\u001b[0m\u001b[1;33m\u001b[0m\u001b[1;33m\u001b[0m\u001b[0m\n\u001b[1;32m--> 717\u001b[1;33m         \u001b[0mcursor\u001b[0m\u001b[1;33m.\u001b[0m\u001b[0mexecute\u001b[0m\u001b[1;33m(\u001b[0m\u001b[0mstatement\u001b[0m\u001b[1;33m,\u001b[0m \u001b[0mparameters\u001b[0m\u001b[1;33m)\u001b[0m\u001b[1;33m\u001b[0m\u001b[1;33m\u001b[0m\u001b[0m\n\u001b[0m\u001b[0;32m    718\u001b[0m \u001b[1;33m\u001b[0m\u001b[0m\n",
      "\u001b[1;31mOperationalError\u001b[0m: no such column: ESG_MATCHING.ISIN",
      "\nThe above exception was the direct cause of the following exception:\n",
      "\u001b[1;31mOperationalError\u001b[0m                          Traceback (most recent call last)",
      "\u001b[1;32m<ipython-input-43-b62f59531718>\u001b[0m in \u001b[0;36m<module>\u001b[1;34m\u001b[0m\n\u001b[0;32m      1\u001b[0m \u001b[1;31m# Perform IFM on target 1\u001b[0m\u001b[1;33m\u001b[0m\u001b[1;33m\u001b[0m\u001b[1;33m\u001b[0m\u001b[0m\n\u001b[0;32m      2\u001b[0m \u001b[0mifm_matcher_obj\u001b[0m\u001b[1;33m.\u001b[0m\u001b[0mset_policy\u001b[0m\u001b[1;33m(\u001b[0m\u001b[0mpolicy_match_tgt1\u001b[0m\u001b[1;33m)\u001b[0m\u001b[1;33m\u001b[0m\u001b[1;33m\u001b[0m\u001b[0m\n\u001b[1;32m----> 3\u001b[1;33m \u001b[0mifm_matcher_obj\u001b[0m\u001b[1;33m.\u001b[0m\u001b[0mexecute_matching\u001b[0m\u001b[1;33m(\u001b[0m\u001b[1;33m)\u001b[0m\u001b[1;33m\u001b[0m\u001b[1;33m\u001b[0m\u001b[0m\n\u001b[0m",
      "\u001b[1;32m~\\OneDrive\\Projects\\GitHub\\os_climate\\esg-matching\\notebooks\\how-to\\Perform exact matching\\../../..\\esgmatching\\db_matcher\\db_matcher_ifm.py\u001b[0m in \u001b[0;36mexecute_matching\u001b[1;34m(self)\u001b[0m\n\u001b[0;32m    177\u001b[0m             \u001b[1;31m# select statement. Therefore, the column names of the select is sent by paramenter.\u001b[0m\u001b[1;33m\u001b[0m\u001b[1;33m\u001b[0m\u001b[1;33m\u001b[0m\u001b[0m\n\u001b[0;32m    178\u001b[0m             \u001b[0mmatching_db_cols\u001b[0m \u001b[1;33m=\u001b[0m \u001b[0mself\u001b[0m\u001b[1;33m.\u001b[0m\u001b[0m_matching_source\u001b[0m\u001b[1;33m.\u001b[0m\u001b[0mget_db_cols_with_same_name\u001b[0m\u001b[1;33m(\u001b[0m\u001b[0mselect_name_cols\u001b[0m\u001b[1;33m)\u001b[0m\u001b[1;33m\u001b[0m\u001b[1;33m\u001b[0m\u001b[0m\n\u001b[1;32m--> 179\u001b[1;33m             \u001b[0mself\u001b[0m\u001b[1;33m.\u001b[0m\u001b[0m_dml_manager\u001b[0m\u001b[1;33m.\u001b[0m\u001b[0minsert_into_from_select\u001b[0m\u001b[1;33m(\u001b[0m\u001b[0mself\u001b[0m\u001b[1;33m.\u001b[0m\u001b[0m_matching_table\u001b[0m\u001b[1;33m,\u001b[0m \u001b[0mmatching_db_cols\u001b[0m\u001b[1;33m,\u001b[0m \u001b[0mselect_stm\u001b[0m\u001b[1;33m)\u001b[0m\u001b[1;33m\u001b[0m\u001b[1;33m\u001b[0m\u001b[0m\n\u001b[0m\u001b[0;32m    180\u001b[0m \u001b[1;33m\u001b[0m\u001b[0m\n\u001b[0;32m    181\u001b[0m             \u001b[1;31m# ------ NO-MATCHING PROCESS ------\u001b[0m\u001b[1;33m\u001b[0m\u001b[1;33m\u001b[0m\u001b[1;33m\u001b[0m\u001b[0m\n",
      "\u001b[1;32m~\\OneDrive\\Projects\\GitHub\\os_climate\\esg-matching\\notebooks\\how-to\\Perform exact matching\\../../..\\esgmatching\\db_engine\\executor\\dml_manager.py\u001b[0m in \u001b[0;36minsert_into_from_select\u001b[1;34m(self, table_obj, columns_obj, select_obj)\u001b[0m\n\u001b[0;32m    102\u001b[0m             \u001b[0mself\u001b[0m\u001b[1;33m.\u001b[0m\u001b[0m_db_connector\u001b[0m\u001b[1;33m.\u001b[0m\u001b[0mengine\u001b[0m\u001b[1;33m.\u001b[0m\u001b[0mexecute\u001b[0m\u001b[1;33m(\u001b[0m\u001b[0minsert_stm\u001b[0m\u001b[1;33m)\u001b[0m\u001b[1;33m\u001b[0m\u001b[1;33m\u001b[0m\u001b[0m\n\u001b[0;32m    103\u001b[0m         \u001b[1;32melse\u001b[0m\u001b[1;33m:\u001b[0m\u001b[1;33m\u001b[0m\u001b[1;33m\u001b[0m\u001b[0m\n\u001b[1;32m--> 104\u001b[1;33m             \u001b[0mself\u001b[0m\u001b[1;33m.\u001b[0m\u001b[0m_db_connector\u001b[0m\u001b[1;33m.\u001b[0m\u001b[0msession\u001b[0m\u001b[1;33m.\u001b[0m\u001b[0mexecute\u001b[0m\u001b[1;33m(\u001b[0m\u001b[0minsert_stm\u001b[0m\u001b[1;33m)\u001b[0m\u001b[1;33m\u001b[0m\u001b[1;33m\u001b[0m\u001b[0m\n\u001b[0m\u001b[0;32m    105\u001b[0m \u001b[1;33m\u001b[0m\u001b[0m\n\u001b[0;32m    106\u001b[0m     \u001b[1;32mdef\u001b[0m \u001b[0mdelete_data\u001b[0m\u001b[1;33m(\u001b[0m\u001b[0mself\u001b[0m\u001b[1;33m,\u001b[0m \u001b[0mdelete_stm\u001b[0m\u001b[1;33m)\u001b[0m\u001b[1;33m:\u001b[0m\u001b[1;33m\u001b[0m\u001b[1;33m\u001b[0m\u001b[0m\n",
      "\u001b[1;32mC:\\ProgramData\\Anaconda3\\envs\\os_climate\\lib\\site-packages\\sqlalchemy\\orm\\session.py\u001b[0m in \u001b[0;36mexecute\u001b[1;34m(self, statement, params, execution_options, bind_arguments, _parent_execute_state, _add_event, **kw)\u001b[0m\n\u001b[0;32m   1687\u001b[0m         \u001b[1;32melse\u001b[0m\u001b[1;33m:\u001b[0m\u001b[1;33m\u001b[0m\u001b[1;33m\u001b[0m\u001b[0m\n\u001b[0;32m   1688\u001b[0m             \u001b[0mconn\u001b[0m \u001b[1;33m=\u001b[0m \u001b[0mself\u001b[0m\u001b[1;33m.\u001b[0m\u001b[0m_connection_for_bind\u001b[0m\u001b[1;33m(\u001b[0m\u001b[0mbind\u001b[0m\u001b[1;33m)\u001b[0m\u001b[1;33m\u001b[0m\u001b[1;33m\u001b[0m\u001b[0m\n\u001b[1;32m-> 1689\u001b[1;33m         \u001b[0mresult\u001b[0m \u001b[1;33m=\u001b[0m \u001b[0mconn\u001b[0m\u001b[1;33m.\u001b[0m\u001b[0m_execute_20\u001b[0m\u001b[1;33m(\u001b[0m\u001b[0mstatement\u001b[0m\u001b[1;33m,\u001b[0m \u001b[0mparams\u001b[0m \u001b[1;32mor\u001b[0m \u001b[1;33m{\u001b[0m\u001b[1;33m}\u001b[0m\u001b[1;33m,\u001b[0m \u001b[0mexecution_options\u001b[0m\u001b[1;33m)\u001b[0m\u001b[1;33m\u001b[0m\u001b[1;33m\u001b[0m\u001b[0m\n\u001b[0m\u001b[0;32m   1690\u001b[0m \u001b[1;33m\u001b[0m\u001b[0m\n\u001b[0;32m   1691\u001b[0m         \u001b[1;32mif\u001b[0m \u001b[0mcompile_state_cls\u001b[0m\u001b[1;33m:\u001b[0m\u001b[1;33m\u001b[0m\u001b[1;33m\u001b[0m\u001b[0m\n",
      "\u001b[1;32mC:\\ProgramData\\Anaconda3\\envs\\os_climate\\lib\\site-packages\\sqlalchemy\\engine\\base.py\u001b[0m in \u001b[0;36m_execute_20\u001b[1;34m(self, statement, parameters, execution_options)\u001b[0m\n\u001b[0;32m   1581\u001b[0m             )\n\u001b[0;32m   1582\u001b[0m         \u001b[1;32melse\u001b[0m\u001b[1;33m:\u001b[0m\u001b[1;33m\u001b[0m\u001b[1;33m\u001b[0m\u001b[0m\n\u001b[1;32m-> 1583\u001b[1;33m             \u001b[1;32mreturn\u001b[0m \u001b[0mmeth\u001b[0m\u001b[1;33m(\u001b[0m\u001b[0mself\u001b[0m\u001b[1;33m,\u001b[0m \u001b[0margs_10style\u001b[0m\u001b[1;33m,\u001b[0m \u001b[0mkwargs_10style\u001b[0m\u001b[1;33m,\u001b[0m \u001b[0mexecution_options\u001b[0m\u001b[1;33m)\u001b[0m\u001b[1;33m\u001b[0m\u001b[1;33m\u001b[0m\u001b[0m\n\u001b[0m\u001b[0;32m   1584\u001b[0m \u001b[1;33m\u001b[0m\u001b[0m\n\u001b[0;32m   1585\u001b[0m     def exec_driver_sql(\n",
      "\u001b[1;32mC:\\ProgramData\\Anaconda3\\envs\\os_climate\\lib\\site-packages\\sqlalchemy\\sql\\elements.py\u001b[0m in \u001b[0;36m_execute_on_connection\u001b[1;34m(self, connection, multiparams, params, execution_options, _force)\u001b[0m\n\u001b[0;32m    321\u001b[0m     ):\n\u001b[0;32m    322\u001b[0m         \u001b[1;32mif\u001b[0m \u001b[0m_force\u001b[0m \u001b[1;32mor\u001b[0m \u001b[0mself\u001b[0m\u001b[1;33m.\u001b[0m\u001b[0msupports_execution\u001b[0m\u001b[1;33m:\u001b[0m\u001b[1;33m\u001b[0m\u001b[1;33m\u001b[0m\u001b[0m\n\u001b[1;32m--> 323\u001b[1;33m             return connection._execute_clauseelement(\n\u001b[0m\u001b[0;32m    324\u001b[0m                 \u001b[0mself\u001b[0m\u001b[1;33m,\u001b[0m \u001b[0mmultiparams\u001b[0m\u001b[1;33m,\u001b[0m \u001b[0mparams\u001b[0m\u001b[1;33m,\u001b[0m \u001b[0mexecution_options\u001b[0m\u001b[1;33m\u001b[0m\u001b[1;33m\u001b[0m\u001b[0m\n\u001b[0;32m    325\u001b[0m             )\n",
      "\u001b[1;32mC:\\ProgramData\\Anaconda3\\envs\\os_climate\\lib\\site-packages\\sqlalchemy\\engine\\base.py\u001b[0m in \u001b[0;36m_execute_clauseelement\u001b[1;34m(self, elem, multiparams, params, execution_options)\u001b[0m\n\u001b[0;32m   1450\u001b[0m             \u001b[0mlinting\u001b[0m\u001b[1;33m=\u001b[0m\u001b[0mself\u001b[0m\u001b[1;33m.\u001b[0m\u001b[0mdialect\u001b[0m\u001b[1;33m.\u001b[0m\u001b[0mcompiler_linting\u001b[0m \u001b[1;33m|\u001b[0m \u001b[0mcompiler\u001b[0m\u001b[1;33m.\u001b[0m\u001b[0mWARN_LINTING\u001b[0m\u001b[1;33m,\u001b[0m\u001b[1;33m\u001b[0m\u001b[1;33m\u001b[0m\u001b[0m\n\u001b[0;32m   1451\u001b[0m         )\n\u001b[1;32m-> 1452\u001b[1;33m         ret = self._execute_context(\n\u001b[0m\u001b[0;32m   1453\u001b[0m             \u001b[0mdialect\u001b[0m\u001b[1;33m,\u001b[0m\u001b[1;33m\u001b[0m\u001b[1;33m\u001b[0m\u001b[0m\n\u001b[0;32m   1454\u001b[0m             \u001b[0mdialect\u001b[0m\u001b[1;33m.\u001b[0m\u001b[0mexecution_ctx_cls\u001b[0m\u001b[1;33m.\u001b[0m\u001b[0m_init_compiled\u001b[0m\u001b[1;33m,\u001b[0m\u001b[1;33m\u001b[0m\u001b[1;33m\u001b[0m\u001b[0m\n",
      "\u001b[1;32mC:\\ProgramData\\Anaconda3\\envs\\os_climate\\lib\\site-packages\\sqlalchemy\\engine\\base.py\u001b[0m in \u001b[0;36m_execute_context\u001b[1;34m(self, dialect, constructor, statement, parameters, execution_options, *args, **kw)\u001b[0m\n\u001b[0;32m   1812\u001b[0m \u001b[1;33m\u001b[0m\u001b[0m\n\u001b[0;32m   1813\u001b[0m         \u001b[1;32mexcept\u001b[0m \u001b[0mBaseException\u001b[0m \u001b[1;32mas\u001b[0m \u001b[0me\u001b[0m\u001b[1;33m:\u001b[0m\u001b[1;33m\u001b[0m\u001b[1;33m\u001b[0m\u001b[0m\n\u001b[1;32m-> 1814\u001b[1;33m             self._handle_dbapi_exception(\n\u001b[0m\u001b[0;32m   1815\u001b[0m                 \u001b[0me\u001b[0m\u001b[1;33m,\u001b[0m \u001b[0mstatement\u001b[0m\u001b[1;33m,\u001b[0m \u001b[0mparameters\u001b[0m\u001b[1;33m,\u001b[0m \u001b[0mcursor\u001b[0m\u001b[1;33m,\u001b[0m \u001b[0mcontext\u001b[0m\u001b[1;33m\u001b[0m\u001b[1;33m\u001b[0m\u001b[0m\n\u001b[0;32m   1816\u001b[0m             )\n",
      "\u001b[1;32mC:\\ProgramData\\Anaconda3\\envs\\os_climate\\lib\\site-packages\\sqlalchemy\\engine\\base.py\u001b[0m in \u001b[0;36m_handle_dbapi_exception\u001b[1;34m(self, e, statement, parameters, cursor, context)\u001b[0m\n\u001b[0;32m   1993\u001b[0m                 \u001b[0mutil\u001b[0m\u001b[1;33m.\u001b[0m\u001b[0mraise_\u001b[0m\u001b[1;33m(\u001b[0m\u001b[0mnewraise\u001b[0m\u001b[1;33m,\u001b[0m \u001b[0mwith_traceback\u001b[0m\u001b[1;33m=\u001b[0m\u001b[0mexc_info\u001b[0m\u001b[1;33m[\u001b[0m\u001b[1;36m2\u001b[0m\u001b[1;33m]\u001b[0m\u001b[1;33m,\u001b[0m \u001b[0mfrom_\u001b[0m\u001b[1;33m=\u001b[0m\u001b[0me\u001b[0m\u001b[1;33m)\u001b[0m\u001b[1;33m\u001b[0m\u001b[1;33m\u001b[0m\u001b[0m\n\u001b[0;32m   1994\u001b[0m             \u001b[1;32melif\u001b[0m \u001b[0mshould_wrap\u001b[0m\u001b[1;33m:\u001b[0m\u001b[1;33m\u001b[0m\u001b[1;33m\u001b[0m\u001b[0m\n\u001b[1;32m-> 1995\u001b[1;33m                 util.raise_(\n\u001b[0m\u001b[0;32m   1996\u001b[0m                     \u001b[0msqlalchemy_exception\u001b[0m\u001b[1;33m,\u001b[0m \u001b[0mwith_traceback\u001b[0m\u001b[1;33m=\u001b[0m\u001b[0mexc_info\u001b[0m\u001b[1;33m[\u001b[0m\u001b[1;36m2\u001b[0m\u001b[1;33m]\u001b[0m\u001b[1;33m,\u001b[0m \u001b[0mfrom_\u001b[0m\u001b[1;33m=\u001b[0m\u001b[0me\u001b[0m\u001b[1;33m\u001b[0m\u001b[1;33m\u001b[0m\u001b[0m\n\u001b[0;32m   1997\u001b[0m                 )\n",
      "\u001b[1;32mC:\\ProgramData\\Anaconda3\\envs\\os_climate\\lib\\site-packages\\sqlalchemy\\util\\compat.py\u001b[0m in \u001b[0;36mraise_\u001b[1;34m(***failed resolving arguments***)\u001b[0m\n\u001b[0;32m    205\u001b[0m \u001b[1;33m\u001b[0m\u001b[0m\n\u001b[0;32m    206\u001b[0m         \u001b[1;32mtry\u001b[0m\u001b[1;33m:\u001b[0m\u001b[1;33m\u001b[0m\u001b[1;33m\u001b[0m\u001b[0m\n\u001b[1;32m--> 207\u001b[1;33m             \u001b[1;32mraise\u001b[0m \u001b[0mexception\u001b[0m\u001b[1;33m\u001b[0m\u001b[1;33m\u001b[0m\u001b[0m\n\u001b[0m\u001b[0;32m    208\u001b[0m         \u001b[1;32mfinally\u001b[0m\u001b[1;33m:\u001b[0m\u001b[1;33m\u001b[0m\u001b[1;33m\u001b[0m\u001b[0m\n\u001b[0;32m    209\u001b[0m             \u001b[1;31m# credit to\u001b[0m\u001b[1;33m\u001b[0m\u001b[1;33m\u001b[0m\u001b[1;33m\u001b[0m\u001b[0m\n",
      "\u001b[1;32mC:\\ProgramData\\Anaconda3\\envs\\os_climate\\lib\\site-packages\\sqlalchemy\\engine\\base.py\u001b[0m in \u001b[0;36m_execute_context\u001b[1;34m(self, dialect, constructor, statement, parameters, execution_options, *args, **kw)\u001b[0m\n\u001b[0;32m   1769\u001b[0m                             \u001b[1;32mbreak\u001b[0m\u001b[1;33m\u001b[0m\u001b[1;33m\u001b[0m\u001b[0m\n\u001b[0;32m   1770\u001b[0m                 \u001b[1;32mif\u001b[0m \u001b[1;32mnot\u001b[0m \u001b[0mevt_handled\u001b[0m\u001b[1;33m:\u001b[0m\u001b[1;33m\u001b[0m\u001b[1;33m\u001b[0m\u001b[0m\n\u001b[1;32m-> 1771\u001b[1;33m                     self.dialect.do_execute(\n\u001b[0m\u001b[0;32m   1772\u001b[0m                         \u001b[0mcursor\u001b[0m\u001b[1;33m,\u001b[0m \u001b[0mstatement\u001b[0m\u001b[1;33m,\u001b[0m \u001b[0mparameters\u001b[0m\u001b[1;33m,\u001b[0m \u001b[0mcontext\u001b[0m\u001b[1;33m\u001b[0m\u001b[1;33m\u001b[0m\u001b[0m\n\u001b[0;32m   1773\u001b[0m                     )\n",
      "\u001b[1;32mC:\\ProgramData\\Anaconda3\\envs\\os_climate\\lib\\site-packages\\sqlalchemy\\engine\\default.py\u001b[0m in \u001b[0;36mdo_execute\u001b[1;34m(self, cursor, statement, parameters, context)\u001b[0m\n\u001b[0;32m    715\u001b[0m \u001b[1;33m\u001b[0m\u001b[0m\n\u001b[0;32m    716\u001b[0m     \u001b[1;32mdef\u001b[0m \u001b[0mdo_execute\u001b[0m\u001b[1;33m(\u001b[0m\u001b[0mself\u001b[0m\u001b[1;33m,\u001b[0m \u001b[0mcursor\u001b[0m\u001b[1;33m,\u001b[0m \u001b[0mstatement\u001b[0m\u001b[1;33m,\u001b[0m \u001b[0mparameters\u001b[0m\u001b[1;33m,\u001b[0m \u001b[0mcontext\u001b[0m\u001b[1;33m=\u001b[0m\u001b[1;32mNone\u001b[0m\u001b[1;33m)\u001b[0m\u001b[1;33m:\u001b[0m\u001b[1;33m\u001b[0m\u001b[1;33m\u001b[0m\u001b[0m\n\u001b[1;32m--> 717\u001b[1;33m         \u001b[0mcursor\u001b[0m\u001b[1;33m.\u001b[0m\u001b[0mexecute\u001b[0m\u001b[1;33m(\u001b[0m\u001b[0mstatement\u001b[0m\u001b[1;33m,\u001b[0m \u001b[0mparameters\u001b[0m\u001b[1;33m)\u001b[0m\u001b[1;33m\u001b[0m\u001b[1;33m\u001b[0m\u001b[0m\n\u001b[0m\u001b[0;32m    718\u001b[0m \u001b[1;33m\u001b[0m\u001b[0m\n\u001b[0;32m    719\u001b[0m     \u001b[1;32mdef\u001b[0m \u001b[0mdo_execute_no_params\u001b[0m\u001b[1;33m(\u001b[0m\u001b[0mself\u001b[0m\u001b[1;33m,\u001b[0m \u001b[0mcursor\u001b[0m\u001b[1;33m,\u001b[0m \u001b[0mstatement\u001b[0m\u001b[1;33m,\u001b[0m \u001b[0mcontext\u001b[0m\u001b[1;33m=\u001b[0m\u001b[1;32mNone\u001b[0m\u001b[1;33m)\u001b[0m\u001b[1;33m:\u001b[0m\u001b[1;33m\u001b[0m\u001b[1;33m\u001b[0m\u001b[0m\n",
      "\u001b[1;31mOperationalError\u001b[0m: (sqlite3.OperationalError) no such column: ESG_MATCHING.ISIN\n[SQL: INSERT INTO \"ESG_MATCHING\" (\"REF_NAME\", \"TGT_NAME\", \"MATCHING_TYPE\", \"MATCHING_SCOPE\", \"MATCHING_RULE\", \"TGT_ID\", \"ISIN\", \"LEI\", \"TGT_COMPANY\", \"TGT_COUNTRY\", \"REF_ID\", \"REF_COMPANY\", \"REF_COUNTRY\") SELECT 'DS_REF' AS \"REF_NAME\", 'DS_TGT1' AS \"TGT_NAME\", 'indirect' AS \"MATCHING_TYPE\", 'full' AS \"MATCHING_SCOPE\", 'isin' AS \"MATCHING_RULE\", \"ESG_NO_MATCHING\".\"TGT_ID\", \"ESG_NO_MATCHING\".\"ISIN\", \"ESG_NO_MATCHING\".\"LEI\", \"ESG_NO_MATCHING\".\"TGT_COMPANY\", \"ESG_NO_MATCHING\".\"TGT_COUNTRY\", \"ESG_MATCH_REF\".\"UNIQUE_ID\" AS \"REF_ID\", \"ESG_MATCH_REF\".\"COMPANY\" AS \"REF_COMPANY\", \"ESG_MATCH_REF\".\"COUNTRY\" AS \"REF_COUNTRY\" \nFROM \"ESG_NO_MATCHING\" JOIN \"ESG_MATCH_REF\" ON \"ESG_NO_MATCHING\".\"ISIN\" = \"ESG_MATCHING\".\"ISIN\" \nWHERE \"ESG_NO_MATCHING\".\"TGT_NAME\" = ?]\n[parameters: ('DS_TGT1',)]\n(Background on this error at: https://sqlalche.me/e/14/e3q8)"
     ]
    }
   ],
   "source": [
    "# Perform IFM on target 1\n",
    "ifm_matcher_obj.set_policy(policy_match_tgt1)\n",
    "ifm_matcher_obj.execute_matching()"
   ]
  },
  {
   "cell_type": "code",
   "execution_count": null,
   "id": "c9803270",
   "metadata": {},
   "outputs": [],
   "source": [
    "# Perform IFM on target 2\n",
    "ifm_matcher_obj.set_policy(policy_match_tgt2)\n",
    "ifm_matcher_obj.execute_matching()"
   ]
  },
  {
   "cell_type": "markdown",
   "id": "f79b6cfd",
   "metadata": {},
   "source": [
    "## 11. Close database connection"
   ]
  },
  {
   "cell_type": "code",
   "execution_count": null,
   "id": "54de4508",
   "metadata": {},
   "outputs": [],
   "source": [
    "db_conn.disconnect()"
   ]
  },
  {
   "cell_type": "code",
   "execution_count": null,
   "id": "b208b749",
   "metadata": {},
   "outputs": [],
   "source": [
    "db_conn.is_connected()"
   ]
  },
  {
   "cell_type": "code",
   "execution_count": null,
   "id": "e2084bb7",
   "metadata": {},
   "outputs": [],
   "source": [
    "a = [\"John\", \"Charles\", \"Mike\"]\n",
    "b = [\"Jenny\", \"Christy\", \"Monica\", \"Vicky\"]\n",
    "x = zip(a,b)"
   ]
  },
  {
   "cell_type": "code",
   "execution_count": null,
   "id": "7d485ede",
   "metadata": {},
   "outputs": [],
   "source": [
    "for i in zip(a,b):\n",
    "    print(i[0])"
   ]
  },
  {
   "cell_type": "code",
   "execution_count": null,
   "id": "4c06d776",
   "metadata": {},
   "outputs": [],
   "source": []
  }
 ],
 "metadata": {
  "kernelspec": {
   "display_name": "Python 3",
   "language": "python",
   "name": "python3"
  },
  "language_info": {
   "codemirror_mode": {
    "name": "ipython",
    "version": 3
   },
   "file_extension": ".py",
   "mimetype": "text/x-python",
   "name": "python",
   "nbconvert_exporter": "python",
   "pygments_lexer": "ipython3",
   "version": "3.9.5"
  }
 },
 "nbformat": 4,
 "nbformat_minor": 5
}
