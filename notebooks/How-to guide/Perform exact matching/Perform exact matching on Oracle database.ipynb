{
 "cells": [
  {
   "cell_type": "markdown",
   "id": "ea40f330",
   "metadata": {},
   "source": [
    "# How to...perform exact matching on Oracle database"
   ]
  },
  {
   "cell_type": "code",
   "execution_count": 1,
   "id": "941276f2",
   "metadata": {},
   "outputs": [],
   "source": [
    "# Sets up the location of the api relative to this notebook \n",
    "import sys\n",
    "sys.path.append('../../../')"
   ]
  },
  {
   "cell_type": "code",
   "execution_count": 2,
   "id": "1dd51d57",
   "metadata": {},
   "outputs": [],
   "source": [
    "# Import the module for connection to a sqllite database\n",
    "from esgmatching.db_engine.engines.connector_oracle import OracleConnector"
   ]
  },
  {
   "cell_type": "code",
   "execution_count": 3,
   "id": "20095573",
   "metadata": {},
   "outputs": [],
   "source": [
    "# Import the modules for file management\n",
    "from esgmatching.file_reader.file import File\n",
    "from esgmatching.file_reader.file_reader_csv import FileReaderCsv"
   ]
  },
  {
   "cell_type": "code",
   "execution_count": 4,
   "id": "8b5fc6a8",
   "metadata": {},
   "outputs": [],
   "source": [
    "# Import the modules for the etl processing: reading, transformation and loading data to a database\n",
    "from esgmatching.processing.etl_processing import EtlProcessing"
   ]
  },
  {
   "cell_type": "markdown",
   "id": "65b29fd7",
   "metadata": {},
   "source": [
    "## 1. Database setup"
   ]
  },
  {
   "cell_type": "code",
   "execution_count": 5,
   "id": "e7f40af8",
   "metadata": {},
   "outputs": [],
   "source": [
    "# The database connector is represented by the class OracleConnector \n",
    "db_conn = OracleConnector()"
   ]
  },
  {
   "cell_type": "code",
   "execution_count": 6,
   "id": "1321d6db",
   "metadata": {},
   "outputs": [],
   "source": [
    "# Setting upt the properties\n",
    "db_conn.client_driver_dir ='C:\\oracle\\instantclient_21_3'\n",
    "db_conn.username ='admin'\n",
    "db_conn.user_password ='oraclebnp'\n",
    "db_conn.host_url ='esgmatching.ctqjxnfdw57h.eu-central-1.rds.amazonaws.com'\n",
    "db_conn.port_number ='1521'\n",
    "db_conn.service_name ='DATABASE'\n",
    "db_conn.show_sql_statement = False"
   ]
  },
  {
   "cell_type": "code",
   "execution_count": 7,
   "id": "ba123508",
   "metadata": {},
   "outputs": [],
   "source": [
    "# The connect() method of the OracleConnector is used to stablish a connection with the database. \n",
    "db_conn.connect()"
   ]
  },
  {
   "cell_type": "code",
   "execution_count": 8,
   "id": "310dcfcc",
   "metadata": {},
   "outputs": [
    {
     "data": {
      "text/plain": [
       "True"
      ]
     },
     "execution_count": 8,
     "metadata": {},
     "output_type": "execute_result"
    }
   ],
   "source": [
    "# Check if the connection was stablished\n",
    "db_conn.is_connected()"
   ]
  },
  {
   "cell_type": "markdown",
   "id": "14a8efc4",
   "metadata": {},
   "source": [
    "## 2. Load the data into database from csv files"
   ]
  },
  {
   "cell_type": "code",
   "execution_count": 9,
   "id": "98717fd8",
   "metadata": {},
   "outputs": [],
   "source": [
    "# Create an ETL process object\n",
    "etl_proc_obj = EtlProcessing(db_conn)"
   ]
  },
  {
   "cell_type": "code",
   "execution_count": 10,
   "id": "9895e01d",
   "metadata": {},
   "outputs": [],
   "source": [
    "# Crete a file reader object for csv files\n",
    "csv_reader_obj = FileReaderCsv()  "
   ]
  },
  {
   "cell_type": "code",
   "execution_count": 11,
   "id": "3498ac67",
   "metadata": {},
   "outputs": [],
   "source": [
    "# Referential Data Source\n",
    "ref_settings = '../../../tests/data/oracle/test_referential1_oracle.json'\n",
    "ref_obj = File(ref_settings)"
   ]
  },
  {
   "cell_type": "code",
   "execution_count": 12,
   "id": "f609e1f1",
   "metadata": {},
   "outputs": [
    {
     "name": "stdout",
     "output_type": "stream",
     "text": [
      "../../../tests/data/test_referential1.csv\n",
      "{'UNIQUE_ID': '1', 'ISIN': 'SK1120005824', 'COMPANY': 'CENTRAL PERK', 'COUNTRY': 'SK'}\n",
      "{'UNIQUE_ID': '2', 'ISIN': <sqlalchemy.sql.elements.Null object at 0x000002307FE31CA0>, 'COMPANY': 'HONEYDUKES', 'COUNTRY': 'UNITED STATES OF AMERICA'}\n",
      "{'UNIQUE_ID': '3', 'ISIN': <sqlalchemy.sql.elements.Null object at 0x000002307FE31CA0>, 'COMPANY': 'STARCOURT MALL', 'COUNTRY': 'AUSTRIA'}\n",
      "{'UNIQUE_ID': '4', 'ISIN': 'GB00B1YW4409', 'COMPANY': 'STERLING COOPER', 'COUNTRY': 'GBR'}\n",
      "{'UNIQUE_ID': '5', 'ISIN': 'CH0012221716', 'COMPANY': 'Bluth company', 'COUNTRY': 'CHE'}\n",
      "{'UNIQUE_ID': '6', 'ISIN': 'US0200021014', 'COMPANY': 'InGen', 'COUNTRY': 'usa'}\n",
      "{'UNIQUE_ID': '7', 'ISIN': 'US0231351067', 'COMPANY': 'Stark Industries', 'COUNTRY': 'us'}\n",
      "{'UNIQUE_ID': '8', 'ISIN': 'US0126531013', 'COMPANY': 'SPECTRE', 'COUNTRY': 'USA'}\n",
      "{'UNIQUE_ID': '9', 'ISIN': 'US0126531013', 'COMPANY': 'SPECTRE 33 SUBSIDIARY', 'COUNTRY': 'USA'}\n"
     ]
    }
   ],
   "source": [
    "# Load data from REFERENCIAL\n",
    "db_ref = etl_proc_obj.load_file_to_db(ref_obj, csv_reader_obj)"
   ]
  },
  {
   "cell_type": "code",
   "execution_count": 13,
   "id": "0e011413",
   "metadata": {},
   "outputs": [],
   "source": [
    "# Target Data Sources\n",
    "tgt1_settings = '../../../tests/data/oracle/test_target1_oracle.json'\n",
    "tgt1_obj = File(tgt1_settings)"
   ]
  },
  {
   "cell_type": "code",
   "execution_count": 14,
   "id": "78aee636",
   "metadata": {},
   "outputs": [
    {
     "name": "stdout",
     "output_type": "stream",
     "text": [
      "../../../tests/data/test_target1.csv\n",
      "{'UNIQUE_ID': '1', 'ISIN': 'SK1120005824', 'LEI': '097900BHK10000084115', 'COMPANY': 'CENTRAL PERK AND SONS', 'COUNTRY': 'DE'}\n",
      "{'UNIQUE_ID': '2', 'ISIN': 'DE0005545503', 'LEI': '5299003VKVDCUPSS5X23', 'COMPANY': 'DUNDER MIFFLINS [12345]', 'COUNTRY': 'de'}\n",
      "{'UNIQUE_ID': '3', 'ISIN': <sqlalchemy.sql.elements.Null object at 0x000002307FE31CA0>, 'LEI': '254900B1P3S786KDAW57', 'COMPANY': 'HONEYDUKES (adm@honeydukes.com)', 'COUNTRY': 'UNITED STATES OF AMERICA'}\n",
      "{'UNIQUE_ID': '4', 'ISIN': <sqlalchemy.sql.elements.Null object at 0x000002307FE31CA0>, 'LEI': '529900MVZ2YHFZV3K546', 'COMPANY': 'STARCOURT MALL', 'COUNTRY': 'AUSTRIA'}\n",
      "{'UNIQUE_ID': '5', 'ISIN': 'GB00B1YW4409', 'LEI': <sqlalchemy.sql.elements.Null object at 0x000002307FE31CA0>, 'COMPANY': 'Krusty Krab', 'COUNTRY': 'GB'}\n",
      "{'UNIQUE_ID': '6', 'ISIN': <sqlalchemy.sql.elements.Null object at 0x000002307FE31CA0>, 'LEI': '3003007MR0P683GYR674', 'COMPANY': 'RR DINER', 'COUNTRY': 'CHINA'}\n",
      "{'UNIQUE_ID': '7', 'ISIN': 'US0231351067', 'LEI': 'ZXTILKJKG63JELOEG630', 'COMPANY': 'Starks Industries and Association', 'COUNTRY': 'usa'}\n",
      "{'UNIQUE_ID': '8', 'ISIN': 'US0126531013', 'LEI': 'HDBLS2Q6GV1LSKQPBS54', 'COMPANY': 'SPECTRE UNIVERSAL LIMITED', 'COUNTRY': 'USA'}\n"
     ]
    }
   ],
   "source": [
    "# Load data from TARGET 1\n",
    "db_tgt1 = etl_proc_obj.load_file_to_db(tgt1_obj, csv_reader_obj)"
   ]
  },
  {
   "cell_type": "code",
   "execution_count": 15,
   "id": "106fd97e",
   "metadata": {},
   "outputs": [],
   "source": [
    "# Target Data Sources\n",
    "tgt2_settings = '../../../tests/data/oracle/test_target2_oracle.json'\n",
    "tgt2_obj = File(tgt2_settings)"
   ]
  },
  {
   "cell_type": "code",
   "execution_count": 16,
   "id": "ff4f21d9",
   "metadata": {},
   "outputs": [
    {
     "name": "stdout",
     "output_type": "stream",
     "text": [
      "../../../tests/data/test_target2.csv\n",
      "{'UNIQUE_ID': '1', 'ISIN': <sqlalchemy.sql.elements.Null object at 0x000002307FE31CA0>, 'LEI': '097900BHK10000084115', 'SEDOL': '7108899', 'COMPANY': 'HONEYDUKES', 'COUNTRY': 'UNITED STATES'}\n",
      "{'UNIQUE_ID': '2', 'ISIN': <sqlalchemy.sql.elements.Null object at 0x000002307FE31CA0>, 'LEI': <sqlalchemy.sql.elements.Null object at 0x000002307FE31CA0>, 'SEDOL': <sqlalchemy.sql.elements.Null object at 0x000002307FE31CA0>, 'COMPANY': 'STARCOURT MALL', 'COUNTRY': 'AUSTRIA'}\n",
      "{'UNIQUE_ID': '3', 'ISIN': 'CH0012221716', 'LEI': <sqlalchemy.sql.elements.Null object at 0x000002307FE31CA0>, 'SEDOL': <sqlalchemy.sql.elements.Null object at 0x000002307FE31CA0>, 'COMPANY': 'Bluth company', 'COUNTRY': 'CHE'}\n",
      "{'UNIQUE_ID': '4', 'ISIN': 'US0200021014', 'LEI': <sqlalchemy.sql.elements.Null object at 0x000002307FE31CA0>, 'SEDOL': '2019952', 'COMPANY': 'InGen', 'COUNTRY': 'usa'}\n",
      "{'UNIQUE_ID': '5', 'ISIN': 'US0126531013', 'LEI': <sqlalchemy.sql.elements.Null object at 0x000002307FE31CA0>, 'SEDOL': '2046853', 'COMPANY': 'SPECTRE', 'COUNTRY': 'USA'}\n",
      "{'UNIQUE_ID': '6', 'ISIN': 'GB00B1YW4409', 'LEI': <sqlalchemy.sql.elements.Null object at 0x000002307FE31CA0>, 'SEDOL': 'B1YW440', 'COMPANY': 'STERLING COOPER', 'COUNTRY': 'GBR'}\n",
      "{'UNIQUE_ID': '7', 'ISIN': 'SK1120005824', 'LEI': <sqlalchemy.sql.elements.Null object at 0x000002307FE31CA0>, 'SEDOL': 'B1YW440', 'COMPANY': 'CENTRAL PERK', 'COUNTRY': 'SK'}\n",
      "{'UNIQUE_ID': '8', 'ISIN': 'DE0005545503', 'LEI': <sqlalchemy.sql.elements.Null object at 0x000002307FE31CA0>, 'SEDOL': '5299003VKVDCUPSS5X23', 'COMPANY': 'DUNDER MIFFLINS', 'COUNTRY': 'Germany'}\n",
      "{'UNIQUE_ID': '9', 'ISIN': 'GB00B1YW4409', 'LEI': <sqlalchemy.sql.elements.Null object at 0x000002307FE31CA0>, 'SEDOL': 'B1YW440', 'COMPANY': 'Krusty Kr~ab', 'COUNTRY': 'GBR'}\n"
     ]
    }
   ],
   "source": [
    "# Load data from TARGET 1\n",
    "db_tgt2 = etl_proc_obj.load_file_to_db(tgt2_obj, csv_reader_obj)"
   ]
  },
  {
   "cell_type": "markdown",
   "id": "40c4d8d8",
   "metadata": {},
   "source": [
    "## 3. Creating matching/no-matching tables"
   ]
  },
  {
   "cell_type": "code",
   "execution_count": 17,
   "id": "e1d62ca7",
   "metadata": {},
   "outputs": [],
   "source": [
    "match_settings = '../../../tests/data/oracle/test_matching_oracle.json'\n",
    "no_match_settings = '../../../tests/data/oracle/test_no_matching_oracle.json'"
   ]
  },
  {
   "cell_type": "code",
   "execution_count": 18,
   "id": "639e8fbf",
   "metadata": {},
   "outputs": [],
   "source": [
    "file_match = File(match_settings)\n",
    "file_no_match = File(no_match_settings)"
   ]
  },
  {
   "cell_type": "code",
   "execution_count": 19,
   "id": "53abe8ef",
   "metadata": {},
   "outputs": [],
   "source": [
    "# Call the create_data_source_from_settings() method by passing the File\n",
    "db_matching = etl_proc_obj.create_data_source(file_match)\n",
    "db_no_matching = etl_proc_obj.create_data_source(file_no_match)"
   ]
  },
  {
   "cell_type": "markdown",
   "id": "a6b5d717",
   "metadata": {},
   "source": [
    "## 4. Checking attribute mapping alias"
   ]
  },
  {
   "cell_type": "code",
   "execution_count": 20,
   "id": "ea604a93",
   "metadata": {},
   "outputs": [
    {
     "data": {
      "text/plain": [
       "{'ISIN': Column('ISIN', VARCHAR2(length=12), table=<ESG_MATCH_REF>),\n",
       " 'COMPANY': Column('COMPANY', VARCHAR2(length=255), table=<ESG_MATCH_REF>),\n",
       " 'COUNTRY': Column('COUNTRY', VARCHAR2(length=255), table=<ESG_MATCH_REF>)}"
      ]
     },
     "execution_count": 20,
     "metadata": {},
     "output_type": "execute_result"
    }
   ],
   "source": [
    "db_ref.get_mapping_to_alias()"
   ]
  },
  {
   "cell_type": "code",
   "execution_count": 21,
   "id": "9e1cc38c",
   "metadata": {},
   "outputs": [
    {
     "data": {
      "text/plain": [
       "{'ISIN': Column('ISIN', VARCHAR2(length=12), table=<ESG_MATCH_TGT1>),\n",
       " 'LEI': Column('LEI', VARCHAR2(length=20), table=<ESG_MATCH_TGT1>),\n",
       " 'COMPANY': Column('COMPANY', VARCHAR2(length=255), table=<ESG_MATCH_TGT1>),\n",
       " 'COUNTRY': Column('COUNTRY', VARCHAR2(length=255), table=<ESG_MATCH_TGT1>)}"
      ]
     },
     "execution_count": 21,
     "metadata": {},
     "output_type": "execute_result"
    }
   ],
   "source": [
    "db_tgt1.get_mapping_to_alias()"
   ]
  },
  {
   "cell_type": "code",
   "execution_count": 22,
   "id": "30cbfc51",
   "metadata": {},
   "outputs": [
    {
     "data": {
      "text/plain": [
       "{'ISIN': Column('ISIN', VARCHAR2(length=12), table=<ESG_MATCH_TGT2>),\n",
       " 'LEI': Column('LEI', VARCHAR2(length=20), table=<ESG_MATCH_TGT2>),\n",
       " 'SEDOL': Column('SEDOL', VARCHAR2(length=20), table=<ESG_MATCH_TGT2>),\n",
       " 'COMPANY': Column('COMPANY', VARCHAR2(length=255), table=<ESG_MATCH_TGT2>),\n",
       " 'COUNTRY': Column('COUNTRY', VARCHAR2(length=255), table=<ESG_MATCH_TGT2>)}"
      ]
     },
     "execution_count": 22,
     "metadata": {},
     "output_type": "execute_result"
    }
   ],
   "source": [
    "db_tgt2.get_mapping_to_alias()"
   ]
  },
  {
   "cell_type": "markdown",
   "id": "cffd9327",
   "metadata": {},
   "source": [
    "## 5. Checking attribute mapping between sources and matching tables"
   ]
  },
  {
   "cell_type": "code",
   "execution_count": 23,
   "id": "90ddc5f3",
   "metadata": {},
   "outputs": [
    {
     "data": {
      "text/plain": [
       "{'REF_ID': Column('UNIQUE_ID', NUMBER(asdecimal=False), table=<ESG_MATCH_REF>, primary_key=True, nullable=False),\n",
       " 'REF_COMPANY': Column('COMPANY', VARCHAR2(length=255), table=<ESG_MATCH_REF>),\n",
       " 'REF_COUNTRY': Column('COUNTRY', VARCHAR2(length=255), table=<ESG_MATCH_REF>)}"
      ]
     },
     "execution_count": 23,
     "metadata": {},
     "output_type": "execute_result"
    }
   ],
   "source": [
    "db_ref.get_mapping_to_matching()"
   ]
  },
  {
   "cell_type": "code",
   "execution_count": 24,
   "id": "70acbcd1",
   "metadata": {},
   "outputs": [
    {
     "data": {
      "text/plain": [
       "{'TGT_ID': Column('UNIQUE_ID', NUMBER(asdecimal=False), table=<ESG_MATCH_TGT1>, primary_key=True, nullable=False),\n",
       " 'ISIN': Column('ISIN', VARCHAR2(length=12), table=<ESG_MATCH_TGT1>),\n",
       " 'LEI': Column('LEI', VARCHAR2(length=20), table=<ESG_MATCH_TGT1>),\n",
       " 'TGT_COMPANY': Column('COMPANY', VARCHAR2(length=255), table=<ESG_MATCH_TGT1>),\n",
       " 'TGT_COUNTRY': Column('COUNTRY', VARCHAR2(length=255), table=<ESG_MATCH_TGT1>)}"
      ]
     },
     "execution_count": 24,
     "metadata": {},
     "output_type": "execute_result"
    }
   ],
   "source": [
    "db_tgt1.get_mapping_to_matching()"
   ]
  },
  {
   "cell_type": "code",
   "execution_count": 25,
   "id": "58328a82",
   "metadata": {},
   "outputs": [
    {
     "data": {
      "text/plain": [
       "{'TGT_ID': Column('UNIQUE_ID', NUMBER(asdecimal=False), table=<ESG_MATCH_TGT2>, primary_key=True, nullable=False),\n",
       " 'ISIN': Column('ISIN', VARCHAR2(length=12), table=<ESG_MATCH_TGT2>),\n",
       " 'LEI': Column('LEI', VARCHAR2(length=20), table=<ESG_MATCH_TGT2>),\n",
       " 'SEDOL': Column('SEDOL', VARCHAR2(length=20), table=<ESG_MATCH_TGT2>),\n",
       " 'TGT_COMPANY': Column('COMPANY', VARCHAR2(length=255), table=<ESG_MATCH_TGT2>),\n",
       " 'TGT_COUNTRY': Column('COUNTRY', VARCHAR2(length=255), table=<ESG_MATCH_TGT2>)}"
      ]
     },
     "execution_count": 25,
     "metadata": {},
     "output_type": "execute_result"
    }
   ],
   "source": [
    "db_tgt2.get_mapping_to_matching()"
   ]
  },
  {
   "cell_type": "markdown",
   "id": "52f55e9a",
   "metadata": {},
   "source": [
    "## 6. Create policies for matching each target data source with the referential"
   ]
  },
  {
   "cell_type": "code",
   "execution_count": 26,
   "id": "12281c23",
   "metadata": {},
   "outputs": [],
   "source": [
    "# Import policy module\n",
    "from esgmatching.db_matcher.matching_policy import MatchingPolicy"
   ]
  },
  {
   "cell_type": "code",
   "execution_count": 27,
   "id": "0c97527f",
   "metadata": {},
   "outputs": [],
   "source": [
    "# Create macthing policy object for target1\n",
    "policy_match_tgt1 = MatchingPolicy(db_tgt1, 'matching_with_ref1')"
   ]
  },
  {
   "cell_type": "code",
   "execution_count": 28,
   "id": "d70f9f54",
   "metadata": {},
   "outputs": [],
   "source": [
    "# Set the referential and matching/no-matching sources\n",
    "policy_match_tgt1.set_referential_source(db_ref)\n",
    "policy_match_tgt1.set_matching_source(db_matching)\n",
    "policy_match_tgt1.set_no_matching_source(db_no_matching)"
   ]
  },
  {
   "cell_type": "code",
   "execution_count": 29,
   "id": "dcae1dc7",
   "metadata": {},
   "outputs": [],
   "source": [
    "# Create macthing policy object for target2\n",
    "policy_match_tgt2 = MatchingPolicy(db_tgt2, 'matching_with_ref1')"
   ]
  },
  {
   "cell_type": "code",
   "execution_count": 30,
   "id": "065a4372",
   "metadata": {},
   "outputs": [],
   "source": [
    "# Set the referential and matching/no-matching sources\n",
    "policy_match_tgt2.set_referential_source(db_ref)\n",
    "policy_match_tgt2.set_matching_source(db_matching)\n",
    "policy_match_tgt2.set_no_matching_source(db_no_matching)"
   ]
  },
  {
   "cell_type": "markdown",
   "id": "19d86932",
   "metadata": {},
   "source": [
    "## 7. Perform direct full matching (DFM) for each data source"
   ]
  },
  {
   "cell_type": "code",
   "execution_count": 31,
   "id": "10be8999",
   "metadata": {},
   "outputs": [],
   "source": [
    "# Import DFM module\n",
    "from esgmatching.db_matcher.db_matcher_dfm import DbMatcherDfm"
   ]
  },
  {
   "cell_type": "code",
   "execution_count": 32,
   "id": "0bad0b15",
   "metadata": {},
   "outputs": [],
   "source": [
    "# Create a matcher object for DFM\n",
    "dfm_matcher_obj = DbMatcherDfm(db_conn)"
   ]
  },
  {
   "cell_type": "code",
   "execution_count": 33,
   "id": "f61c6680",
   "metadata": {},
   "outputs": [],
   "source": [
    "# Perform DFM on target 1\n",
    "dfm_matcher_obj.set_policy(policy_match_tgt1)\n",
    "dfm_matcher_obj.execute_matching()"
   ]
  },
  {
   "cell_type": "code",
   "execution_count": 34,
   "id": "f6e28d84",
   "metadata": {},
   "outputs": [],
   "source": [
    "# Perform DFM on target 2\n",
    "dfm_matcher_obj.set_policy(policy_match_tgt2)\n",
    "dfm_matcher_obj.execute_matching()"
   ]
  },
  {
   "cell_type": "markdown",
   "id": "d4864d3c",
   "metadata": {},
   "source": [
    "## 8. Close database connection"
   ]
  },
  {
   "cell_type": "code",
   "execution_count": 35,
   "id": "39264089",
   "metadata": {},
   "outputs": [],
   "source": [
    "db_conn.disconnect()"
   ]
  },
  {
   "cell_type": "code",
   "execution_count": 36,
   "id": "9b483c5f",
   "metadata": {},
   "outputs": [
    {
     "data": {
      "text/plain": [
       "False"
      ]
     },
     "execution_count": 36,
     "metadata": {},
     "output_type": "execute_result"
    }
   ],
   "source": [
    "db_conn.is_connected()"
   ]
  },
  {
   "cell_type": "code",
   "execution_count": null,
   "id": "58383193",
   "metadata": {},
   "outputs": [],
   "source": []
  }
 ],
 "metadata": {
  "kernelspec": {
   "display_name": "Python 3",
   "language": "python",
   "name": "python3"
  },
  "language_info": {
   "codemirror_mode": {
    "name": "ipython",
    "version": 3
   },
   "file_extension": ".py",
   "mimetype": "text/x-python",
   "name": "python",
   "nbconvert_exporter": "python",
   "pygments_lexer": "ipython3",
   "version": "3.9.5"
  }
 },
 "nbformat": 4,
 "nbformat_minor": 5
}
