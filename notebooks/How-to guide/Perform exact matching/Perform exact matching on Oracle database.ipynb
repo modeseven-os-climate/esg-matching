{
 "cells": [
  {
   "cell_type": "markdown",
   "id": "ea40f330",
   "metadata": {},
   "source": [
    "# How to...perform exact matching on Oracle database"
   ]
  },
  {
   "cell_type": "code",
   "execution_count": 1,
   "id": "941276f2",
   "metadata": {},
   "outputs": [],
   "source": [
    "# Sets up the location of the api relative to this notebook \n",
    "import sys\n",
    "sys.path.append('../../../')"
   ]
  },
  {
   "cell_type": "code",
   "execution_count": 2,
   "id": "1dd51d57",
   "metadata": {},
   "outputs": [],
   "source": [
    "# Import the module for connection to a sqllite database\n",
    "from esg_matching.engine.connectors.oracle import OracleConnector"
   ]
  },
  {
   "cell_type": "code",
   "execution_count": 3,
   "id": "20095573",
   "metadata": {},
   "outputs": [],
   "source": [
    "# Import the modules for file management\n",
    "from esg_matching.file_reader.file import File\n",
    "from esg_matching.file_reader.csv_reader import FileReaderCsv"
   ]
  },
  {
   "cell_type": "code",
   "execution_count": 4,
   "id": "8b5fc6a8",
   "metadata": {},
   "outputs": [],
   "source": [
    "# Import the modules for the etl processing: reading, transformation and loading data to a database\n",
    "from esg_matching.processing.etl import EtlProcessing"
   ]
  },
  {
   "cell_type": "markdown",
   "id": "65b29fd7",
   "metadata": {},
   "source": [
    "## 1. Database setup"
   ]
  },
  {
   "cell_type": "code",
   "execution_count": 5,
   "id": "e7f40af8",
   "metadata": {},
   "outputs": [],
   "source": [
    "# The database connector is represented by the class OracleConnector \n",
    "db_conn = OracleConnector()"
   ]
  },
  {
   "cell_type": "code",
   "execution_count": 6,
   "id": "1321d6db",
   "metadata": {},
   "outputs": [],
   "source": [
    "# Setting upt the properties\n",
    "db_conn.client_driver_dir ='C:\\oracle\\instantclient_21_3'\n",
    "db_conn.username ='admin'\n",
    "db_conn.user_password =''\n",
    "db_conn.host_url =''\n",
    "db_conn.port_number ='1521'\n",
    "db_conn.service_name ='DATABASE'\n",
    "db_conn.show_sql_statement = True"
   ]
  },
  {
   "cell_type": "code",
   "execution_count": 7,
   "id": "ba123508",
   "metadata": {},
   "outputs": [],
   "source": [
    "# The connect() method of the OracleConnector is used to stablish a connection with the database. \n",
    "db_conn.connect()"
   ]
  },
  {
   "cell_type": "code",
   "execution_count": 8,
   "id": "310dcfcc",
   "metadata": {},
   "outputs": [
    {
     "data": {
      "text/plain": [
       "True"
      ]
     },
     "execution_count": 8,
     "metadata": {},
     "output_type": "execute_result"
    }
   ],
   "source": [
    "# Check if the connection was stablished\n",
    "db_conn.is_connected()"
   ]
  },
  {
   "cell_type": "markdown",
   "id": "14a8efc4",
   "metadata": {},
   "source": [
    "## 2. Load the data into database from csv files"
   ]
  },
  {
   "cell_type": "code",
   "execution_count": 9,
   "id": "98717fd8",
   "metadata": {},
   "outputs": [],
   "source": [
    "# Create an ETL process object\n",
    "etl_proc_obj = EtlProcessing(db_conn)"
   ]
  },
  {
   "cell_type": "code",
   "execution_count": 10,
   "id": "9895e01d",
   "metadata": {},
   "outputs": [],
   "source": [
    "# Crete a file reader object for csv files\n",
    "csv_reader_obj = FileReaderCsv()  "
   ]
  },
  {
   "cell_type": "code",
   "execution_count": 11,
   "id": "3498ac67",
   "metadata": {},
   "outputs": [],
   "source": [
    "# Referential Data Source\n",
    "ref_settings = '../../../tests/data/howto/oracle/test_referential1_oracle.json'\n",
    "ref_obj = File(ref_settings)"
   ]
  },
  {
   "cell_type": "code",
   "execution_count": 12,
   "id": "f609e1f1",
   "metadata": {},
   "outputs": [
    {
     "name": "stdout",
     "output_type": "stream",
     "text": [
      "2022-01-28 09:29:01,473 INFO sqlalchemy.engine.Engine select sys_context( 'userenv', 'current_schema' ) from dual\n",
      "2022-01-28 09:29:01,480 INFO sqlalchemy.engine.Engine [raw sql] {}\n",
      "2022-01-28 09:29:01,602 INFO sqlalchemy.engine.Engine SELECT value FROM v$parameter WHERE name = 'compatible'\n",
      "2022-01-28 09:29:01,603 INFO sqlalchemy.engine.Engine [raw sql] {}\n",
      "2022-01-28 09:29:01,647 INFO sqlalchemy.engine.Engine select value from nls_session_parameters where parameter = 'NLS_NUMERIC_CHARACTERS'\n",
      "2022-01-28 09:29:01,649 INFO sqlalchemy.engine.Engine [raw sql] {}\n",
      "2022-01-28 09:29:01,773 INFO sqlalchemy.engine.Engine SELECT table_name FROM all_tables WHERE table_name = :name AND owner = :schema_name\n",
      "2022-01-28 09:29:01,775 INFO sqlalchemy.engine.Engine [generated in 0.00214s] {'name': 'ESG_MATCH_REF', 'schema_name': 'ADMIN'}\n",
      "2022-01-28 09:29:01,897 INFO sqlalchemy.engine.Engine SELECT table_name, compression, compress_for FROM ALL_TABLES WHERE table_name = :table_name AND owner = :owner \n",
      "2022-01-28 09:29:01,897 INFO sqlalchemy.engine.Engine [generated in 0.00083s] {'table_name': 'ESG_MATCH_REF', 'owner': 'ADMIN'}\n",
      "2022-01-28 09:29:01,937 INFO sqlalchemy.engine.Engine \n",
      "            SELECT\n",
      "                col.column_name,\n",
      "                col.data_type,\n",
      "                col.char_length,\n",
      "                col.data_precision,\n",
      "                col.data_scale,\n",
      "                col.nullable,\n",
      "                col.data_default,\n",
      "                com.comments,\n",
      "                col.virtual_column,\n",
      "                                col.default_on_null,\n",
      "                (\n",
      "                    SELECT id.generation_type || ',' || id.IDENTITY_OPTIONS\n",
      "                    FROM ALL_TAB_IDENTITY_COLS id\n",
      "                    WHERE col.table_name = id.table_name\n",
      "                    AND col.column_name = id.column_name\n",
      "                    AND col.owner = id.owner\n",
      "                ) AS identity_options\n",
      "            FROM all_tab_cols col\n",
      "            LEFT JOIN all_col_comments com\n",
      "            ON col.table_name = com.table_name\n",
      "            AND col.column_name = com.column_name\n",
      "            AND col.owner = com.owner\n",
      "            WHERE col.table_name = :table_name\n",
      "            AND col.hidden_column = 'NO'\n",
      "         AND col.owner = :owner  ORDER BY col.column_id\n",
      "2022-01-28 09:29:01,938 INFO sqlalchemy.engine.Engine [generated in 0.00068s] {'table_name': 'ESG_MATCH_REF', 'owner': 'ADMIN'}\n",
      "2022-01-28 09:29:02,020 INFO sqlalchemy.engine.Engine SELECT\n",
      "ac.constraint_name,\n",
      "ac.constraint_type,\n",
      "loc.column_name AS local_column,\n",
      "rem.table_name AS remote_table,\n",
      "rem.column_name AS remote_column,\n",
      "rem.owner AS remote_owner,\n",
      "loc.position as loc_pos,\n",
      "rem.position as rem_pos,\n",
      "ac.search_condition,\n",
      "ac.delete_rule\n",
      "FROM all_constraints ac,\n",
      "all_cons_columns loc,\n",
      "all_cons_columns rem\n",
      "WHERE ac.table_name = :table_name\n",
      "AND ac.constraint_type IN ('R','P', 'U', 'C')\n",
      "AND ac.owner = :owner\n",
      "AND ac.owner = loc.owner\n",
      "AND ac.constraint_name = loc.constraint_name\n",
      "AND ac.r_owner = rem.owner(+)\n",
      "AND ac.r_constraint_name = rem.constraint_name(+)\n",
      "AND (rem.position IS NULL or loc.position=rem.position)\n",
      "ORDER BY ac.constraint_name, loc.position\n",
      "2022-01-28 09:29:02,020 INFO sqlalchemy.engine.Engine [generated in 0.00080s] {'table_name': 'ESG_MATCH_REF', 'owner': 'ADMIN'}\n",
      "2022-01-28 09:29:02,101 INFO sqlalchemy.engine.Engine SELECT a.index_name, a.column_name, \n",
      "b.index_type, b.uniqueness, b.compression, b.prefix_length \n",
      "FROM ALL_IND_COLUMNS a, \n",
      "ALL_INDEXES b \n",
      "WHERE \n",
      "a.index_name = b.index_name \n",
      "AND a.table_owner = b.table_owner \n",
      "AND a.table_name = b.table_name \n",
      "AND a.table_name = :table_name AND a.table_owner = :schema ORDER BY a.index_name, a.column_position\n",
      "2022-01-28 09:29:02,101 INFO sqlalchemy.engine.Engine [generated in 0.00087s] {'table_name': 'ESG_MATCH_REF', 'schema': 'ADMIN'}\n",
      "2022-01-28 09:29:02,143 INFO sqlalchemy.engine.Engine SELECT a.index_name, a.column_name, \n",
      "b.index_type, b.uniqueness, b.compression, b.prefix_length \n",
      "FROM ALL_IND_COLUMNS a, \n",
      "ALL_INDEXES b \n",
      "WHERE \n",
      "a.index_name = b.index_name \n",
      "AND a.table_owner = b.table_owner \n",
      "AND a.table_name = b.table_name \n",
      "AND a.table_name = :table_name AND a.table_owner = :schema ORDER BY a.index_name, a.column_position\n",
      "2022-01-28 09:29:02,144 INFO sqlalchemy.engine.Engine [cached since 0.04311s ago] {'table_name': 'ESG_MATCH_REF', 'schema': 'ADMIN'}\n",
      "2022-01-28 09:29:02,183 INFO sqlalchemy.engine.Engine SELECT\n",
      "ac.constraint_name,\n",
      "ac.constraint_type,\n",
      "loc.column_name AS local_column,\n",
      "rem.table_name AS remote_table,\n",
      "rem.column_name AS remote_column,\n",
      "rem.owner AS remote_owner,\n",
      "loc.position as loc_pos,\n",
      "rem.position as rem_pos,\n",
      "ac.search_condition,\n",
      "ac.delete_rule\n",
      "FROM all_constraints ac,\n",
      "all_cons_columns loc,\n",
      "all_cons_columns rem\n",
      "WHERE ac.table_name = :table_name\n",
      "AND ac.constraint_type IN ('R','P', 'U', 'C')\n",
      "AND ac.owner = :owner\n",
      "AND ac.owner = loc.owner\n",
      "AND ac.constraint_name = loc.constraint_name\n",
      "AND ac.r_owner = rem.owner(+)\n",
      "AND ac.r_constraint_name = rem.constraint_name(+)\n",
      "AND (rem.position IS NULL or loc.position=rem.position)\n",
      "ORDER BY ac.constraint_name, loc.position\n",
      "2022-01-28 09:29:02,184 INFO sqlalchemy.engine.Engine [cached since 0.1647s ago] {'table_name': 'ESG_MATCH_REF', 'owner': 'ADMIN'}\n",
      "2022-01-28 09:29:02,264 INFO sqlalchemy.engine.Engine \n",
      "            SELECT comments\n",
      "            FROM all_tab_comments\n",
      "            WHERE table_name = :table_name AND owner = :schema_name\n",
      "        \n",
      "2022-01-28 09:29:02,266 INFO sqlalchemy.engine.Engine [generated in 0.00248s] {'table_name': 'ESG_MATCH_REF', 'schema_name': 'ADMIN'}\n",
      "2022-01-28 09:29:02,349 INFO sqlalchemy.engine.Engine BEGIN (implicit)\n",
      "2022-01-28 09:29:02,350 INFO sqlalchemy.engine.Engine \n",
      "DROP TABLE \"ESG_MATCH_REF\"\n",
      "2022-01-28 09:29:02,351 INFO sqlalchemy.engine.Engine [no key 0.00080s] {}\n",
      "2022-01-28 09:29:02,425 INFO sqlalchemy.engine.Engine COMMIT\n",
      "2022-01-28 09:29:02,504 INFO sqlalchemy.engine.Engine BEGIN (implicit)\n",
      "2022-01-28 09:29:02,505 INFO sqlalchemy.engine.Engine \n",
      "CREATE TABLE \"ESG_MATCH_REF\" (\n",
      "\t\"UNIQUE_ID\" NUMBER NOT NULL, \n",
      "\t\"ISIN\" VARCHAR2(12 CHAR), \n",
      "\t\"COMPANY\" VARCHAR2(255 CHAR), \n",
      "\t\"COUNTRY\" VARCHAR2(255 CHAR), \n",
      "\tPRIMARY KEY (\"UNIQUE_ID\")\n",
      ")\n",
      "\n",
      "\n",
      "2022-01-28 09:29:02,506 INFO sqlalchemy.engine.Engine [no key 0.00088s] {}\n",
      "2022-01-28 09:29:02,561 INFO sqlalchemy.engine.Engine COMMIT\n",
      "../../../tests/data/test_referential1.csv\n",
      "2022-01-28 09:29:02,646 INFO sqlalchemy.engine.Engine INSERT INTO \"ESG_MATCH_REF\" (\"UNIQUE_ID\", \"ISIN\", \"COMPANY\", \"COUNTRY\") VALUES (:UNIQUE_ID, :ISIN, :COMPANY, :COUNTRY)\n",
      "2022-01-28 09:29:02,648 INFO sqlalchemy.engine.Engine [generated in 0.00201s] {'UNIQUE_ID': 1.0, 'ISIN': 'SK1120005824', 'COMPANY': 'CENTRAL PERK', 'COUNTRY': 'SK'}\n",
      "2022-01-28 09:29:02,692 INFO sqlalchemy.engine.Engine COMMIT\n",
      "2022-01-28 09:29:02,773 INFO sqlalchemy.engine.Engine INSERT INTO \"ESG_MATCH_REF\" (\"UNIQUE_ID\", \"ISIN\", \"COMPANY\", \"COUNTRY\") VALUES (:UNIQUE_ID, NULL, :COMPANY, :COUNTRY)\n",
      "2022-01-28 09:29:02,774 INFO sqlalchemy.engine.Engine [generated in 0.00080s] {'UNIQUE_ID': 2.0, 'COMPANY': 'HONEYDUKES', 'COUNTRY': 'UNITED STATES OF AMERICA'}\n",
      "2022-01-28 09:29:02,814 INFO sqlalchemy.engine.Engine COMMIT\n",
      "2022-01-28 09:29:02,894 INFO sqlalchemy.engine.Engine INSERT INTO \"ESG_MATCH_REF\" (\"UNIQUE_ID\", \"ISIN\", \"COMPANY\", \"COUNTRY\") VALUES (:UNIQUE_ID, NULL, :COMPANY, :COUNTRY)\n",
      "2022-01-28 09:29:02,895 INFO sqlalchemy.engine.Engine [cached since 0.1217s ago] {'UNIQUE_ID': 3.0, 'COMPANY': 'STARCOURT MALL', 'COUNTRY': 'AUSTRIA'}\n",
      "2022-01-28 09:29:02,935 INFO sqlalchemy.engine.Engine COMMIT\n",
      "2022-01-28 09:29:03,013 INFO sqlalchemy.engine.Engine INSERT INTO \"ESG_MATCH_REF\" (\"UNIQUE_ID\", \"ISIN\", \"COMPANY\", \"COUNTRY\") VALUES (:UNIQUE_ID, :ISIN, :COMPANY, :COUNTRY)\n",
      "2022-01-28 09:29:03,014 INFO sqlalchemy.engine.Engine [cached since 0.3679s ago] {'UNIQUE_ID': 4.0, 'ISIN': 'GB00B1YW4409', 'COMPANY': 'STERLING COOPER', 'COUNTRY': 'GBR'}\n",
      "2022-01-28 09:29:03,057 INFO sqlalchemy.engine.Engine COMMIT\n",
      "2022-01-28 09:29:03,135 INFO sqlalchemy.engine.Engine INSERT INTO \"ESG_MATCH_REF\" (\"UNIQUE_ID\", \"ISIN\", \"COMPANY\", \"COUNTRY\") VALUES (:UNIQUE_ID, :ISIN, :COMPANY, :COUNTRY)\n",
      "2022-01-28 09:29:03,135 INFO sqlalchemy.engine.Engine [cached since 0.4896s ago] {'UNIQUE_ID': 5.0, 'ISIN': 'CH0012221716', 'COMPANY': 'Bluth company', 'COUNTRY': 'CHE'}\n",
      "2022-01-28 09:29:03,176 INFO sqlalchemy.engine.Engine COMMIT\n"
     ]
    },
    {
     "name": "stdout",
     "output_type": "stream",
     "text": [
      "2022-01-28 09:29:03,254 INFO sqlalchemy.engine.Engine INSERT INTO \"ESG_MATCH_REF\" (\"UNIQUE_ID\", \"ISIN\", \"COMPANY\", \"COUNTRY\") VALUES (:UNIQUE_ID, :ISIN, :COMPANY, :COUNTRY)\n",
      "2022-01-28 09:29:03,254 INFO sqlalchemy.engine.Engine [cached since 0.6083s ago] {'UNIQUE_ID': 6.0, 'ISIN': 'US0200021014', 'COMPANY': 'InGen', 'COUNTRY': 'usa'}\n",
      "2022-01-28 09:29:03,295 INFO sqlalchemy.engine.Engine COMMIT\n",
      "2022-01-28 09:29:03,374 INFO sqlalchemy.engine.Engine INSERT INTO \"ESG_MATCH_REF\" (\"UNIQUE_ID\", \"ISIN\", \"COMPANY\", \"COUNTRY\") VALUES (:UNIQUE_ID, :ISIN, :COMPANY, :COUNTRY)\n",
      "2022-01-28 09:29:03,376 INFO sqlalchemy.engine.Engine [cached since 0.7303s ago] {'UNIQUE_ID': 7.0, 'ISIN': 'US0231351067', 'COMPANY': 'Stark Industries', 'COUNTRY': 'us'}\n",
      "2022-01-28 09:29:03,418 INFO sqlalchemy.engine.Engine COMMIT\n",
      "2022-01-28 09:29:03,496 INFO sqlalchemy.engine.Engine INSERT INTO \"ESG_MATCH_REF\" (\"UNIQUE_ID\", \"ISIN\", \"COMPANY\", \"COUNTRY\") VALUES (:UNIQUE_ID, :ISIN, :COMPANY, :COUNTRY)\n",
      "2022-01-28 09:29:03,497 INFO sqlalchemy.engine.Engine [cached since 0.8507s ago] {'UNIQUE_ID': 8.0, 'ISIN': 'US0126531013', 'COMPANY': 'SPECTRE', 'COUNTRY': 'USA'}\n",
      "2022-01-28 09:29:03,539 INFO sqlalchemy.engine.Engine COMMIT\n",
      "2022-01-28 09:29:03,618 INFO sqlalchemy.engine.Engine INSERT INTO \"ESG_MATCH_REF\" (\"UNIQUE_ID\", \"ISIN\", \"COMPANY\", \"COUNTRY\") VALUES (:UNIQUE_ID, :ISIN, :COMPANY, :COUNTRY)\n",
      "2022-01-28 09:29:03,619 INFO sqlalchemy.engine.Engine [cached since 0.9736s ago] {'UNIQUE_ID': 9.0, 'ISIN': 'US0126531013', 'COMPANY': 'SPECTRE 33 SUBSIDIARY', 'COUNTRY': 'USA'}\n",
      "2022-01-28 09:29:03,662 INFO sqlalchemy.engine.Engine COMMIT\n"
     ]
    }
   ],
   "source": [
    "# Load data from REFERENCIAL\n",
    "db_ref = etl_proc_obj.load_file_to_db(ref_obj, csv_reader_obj)"
   ]
  },
  {
   "cell_type": "code",
   "execution_count": 13,
   "id": "0e011413",
   "metadata": {},
   "outputs": [],
   "source": [
    "# Target Data Sources\n",
    "tgt1_settings = '../../../tests/data/howto/oracle/test_target1_oracle.json'\n",
    "tgt1_obj = File(tgt1_settings)"
   ]
  },
  {
   "cell_type": "code",
   "execution_count": 14,
   "id": "78aee636",
   "metadata": {},
   "outputs": [
    {
     "name": "stdout",
     "output_type": "stream",
     "text": [
      "2022-01-28 09:29:03,841 INFO sqlalchemy.engine.Engine SELECT table_name FROM all_tables WHERE table_name = :name AND owner = :schema_name\n",
      "2022-01-28 09:29:03,842 INFO sqlalchemy.engine.Engine [cached since 2.07s ago] {'name': 'ESG_MATCH_TGT1', 'schema_name': 'ADMIN'}\n",
      "2022-01-28 09:29:03,962 INFO sqlalchemy.engine.Engine SELECT table_name, compression, compress_for FROM ALL_TABLES WHERE table_name = :table_name AND owner = :owner \n",
      "2022-01-28 09:29:03,964 INFO sqlalchemy.engine.Engine [cached since 2.068s ago] {'table_name': 'ESG_MATCH_TGT1', 'owner': 'ADMIN'}\n",
      "2022-01-28 09:29:04,007 INFO sqlalchemy.engine.Engine \n",
      "            SELECT\n",
      "                col.column_name,\n",
      "                col.data_type,\n",
      "                col.char_length,\n",
      "                col.data_precision,\n",
      "                col.data_scale,\n",
      "                col.nullable,\n",
      "                col.data_default,\n",
      "                com.comments,\n",
      "                col.virtual_column,\n",
      "                                col.default_on_null,\n",
      "                (\n",
      "                    SELECT id.generation_type || ',' || id.IDENTITY_OPTIONS\n",
      "                    FROM ALL_TAB_IDENTITY_COLS id\n",
      "                    WHERE col.table_name = id.table_name\n",
      "                    AND col.column_name = id.column_name\n",
      "                    AND col.owner = id.owner\n",
      "                ) AS identity_options\n",
      "            FROM all_tab_cols col\n",
      "            LEFT JOIN all_col_comments com\n",
      "            ON col.table_name = com.table_name\n",
      "            AND col.column_name = com.column_name\n",
      "            AND col.owner = com.owner\n",
      "            WHERE col.table_name = :table_name\n",
      "            AND col.hidden_column = 'NO'\n",
      "         AND col.owner = :owner  ORDER BY col.column_id\n",
      "2022-01-28 09:29:04,010 INFO sqlalchemy.engine.Engine [cached since 2.073s ago] {'table_name': 'ESG_MATCH_TGT1', 'owner': 'ADMIN'}\n",
      "2022-01-28 09:29:04,091 INFO sqlalchemy.engine.Engine SELECT\n",
      "ac.constraint_name,\n",
      "ac.constraint_type,\n",
      "loc.column_name AS local_column,\n",
      "rem.table_name AS remote_table,\n",
      "rem.column_name AS remote_column,\n",
      "rem.owner AS remote_owner,\n",
      "loc.position as loc_pos,\n",
      "rem.position as rem_pos,\n",
      "ac.search_condition,\n",
      "ac.delete_rule\n",
      "FROM all_constraints ac,\n",
      "all_cons_columns loc,\n",
      "all_cons_columns rem\n",
      "WHERE ac.table_name = :table_name\n",
      "AND ac.constraint_type IN ('R','P', 'U', 'C')\n",
      "AND ac.owner = :owner\n",
      "AND ac.owner = loc.owner\n",
      "AND ac.constraint_name = loc.constraint_name\n",
      "AND ac.r_owner = rem.owner(+)\n",
      "AND ac.r_constraint_name = rem.constraint_name(+)\n",
      "AND (rem.position IS NULL or loc.position=rem.position)\n",
      "ORDER BY ac.constraint_name, loc.position\n",
      "2022-01-28 09:29:04,093 INFO sqlalchemy.engine.Engine [cached since 2.073s ago] {'table_name': 'ESG_MATCH_TGT1', 'owner': 'ADMIN'}\n",
      "2022-01-28 09:29:04,172 INFO sqlalchemy.engine.Engine SELECT a.index_name, a.column_name, \n",
      "b.index_type, b.uniqueness, b.compression, b.prefix_length \n",
      "FROM ALL_IND_COLUMNS a, \n",
      "ALL_INDEXES b \n",
      "WHERE \n",
      "a.index_name = b.index_name \n",
      "AND a.table_owner = b.table_owner \n",
      "AND a.table_name = b.table_name \n",
      "AND a.table_name = :table_name AND a.table_owner = :schema ORDER BY a.index_name, a.column_position\n",
      "2022-01-28 09:29:04,174 INFO sqlalchemy.engine.Engine [cached since 2.073s ago] {'table_name': 'ESG_MATCH_TGT1', 'schema': 'ADMIN'}\n",
      "2022-01-28 09:29:04,219 INFO sqlalchemy.engine.Engine SELECT a.index_name, a.column_name, \n",
      "b.index_type, b.uniqueness, b.compression, b.prefix_length \n",
      "FROM ALL_IND_COLUMNS a, \n",
      "ALL_INDEXES b \n",
      "WHERE \n",
      "a.index_name = b.index_name \n",
      "AND a.table_owner = b.table_owner \n",
      "AND a.table_name = b.table_name \n",
      "AND a.table_name = :table_name AND a.table_owner = :schema ORDER BY a.index_name, a.column_position\n",
      "2022-01-28 09:29:04,222 INFO sqlalchemy.engine.Engine [cached since 2.121s ago] {'table_name': 'ESG_MATCH_TGT1', 'schema': 'ADMIN'}\n",
      "2022-01-28 09:29:04,264 INFO sqlalchemy.engine.Engine SELECT\n",
      "ac.constraint_name,\n",
      "ac.constraint_type,\n",
      "loc.column_name AS local_column,\n",
      "rem.table_name AS remote_table,\n",
      "rem.column_name AS remote_column,\n",
      "rem.owner AS remote_owner,\n",
      "loc.position as loc_pos,\n",
      "rem.position as rem_pos,\n",
      "ac.search_condition,\n",
      "ac.delete_rule\n",
      "FROM all_constraints ac,\n",
      "all_cons_columns loc,\n",
      "all_cons_columns rem\n",
      "WHERE ac.table_name = :table_name\n",
      "AND ac.constraint_type IN ('R','P', 'U', 'C')\n",
      "AND ac.owner = :owner\n",
      "AND ac.owner = loc.owner\n",
      "AND ac.constraint_name = loc.constraint_name\n",
      "AND ac.r_owner = rem.owner(+)\n",
      "AND ac.r_constraint_name = rem.constraint_name(+)\n",
      "AND (rem.position IS NULL or loc.position=rem.position)\n",
      "ORDER BY ac.constraint_name, loc.position\n",
      "2022-01-28 09:29:04,265 INFO sqlalchemy.engine.Engine [cached since 2.245s ago] {'table_name': 'ESG_MATCH_TGT1', 'owner': 'ADMIN'}\n",
      "2022-01-28 09:29:04,345 INFO sqlalchemy.engine.Engine \n",
      "            SELECT comments\n",
      "            FROM all_tab_comments\n",
      "            WHERE table_name = :table_name AND owner = :schema_name\n",
      "        \n",
      "2022-01-28 09:29:04,347 INFO sqlalchemy.engine.Engine [cached since 2.084s ago] {'table_name': 'ESG_MATCH_TGT1', 'schema_name': 'ADMIN'}\n",
      "2022-01-28 09:29:04,429 INFO sqlalchemy.engine.Engine BEGIN (implicit)\n",
      "2022-01-28 09:29:04,431 INFO sqlalchemy.engine.Engine \n",
      "DROP TABLE \"ESG_MATCH_TGT1\"\n",
      "2022-01-28 09:29:04,432 INFO sqlalchemy.engine.Engine [no key 0.00091s] {}\n",
      "2022-01-28 09:29:04,498 INFO sqlalchemy.engine.Engine COMMIT\n",
      "2022-01-28 09:29:04,576 INFO sqlalchemy.engine.Engine BEGIN (implicit)\n",
      "2022-01-28 09:29:04,577 INFO sqlalchemy.engine.Engine \n",
      "CREATE TABLE \"ESG_MATCH_TGT1\" (\n",
      "\t\"UNIQUE_ID\" NUMBER NOT NULL, \n",
      "\t\"ISIN\" VARCHAR2(12 CHAR), \n",
      "\t\"LEI\" VARCHAR2(20 CHAR), \n",
      "\t\"COMPANY\" VARCHAR2(255 CHAR), \n",
      "\t\"COUNTRY\" VARCHAR2(255 CHAR), \n",
      "\tPRIMARY KEY (\"UNIQUE_ID\")\n",
      ")\n",
      "\n",
      "\n",
      "2022-01-28 09:29:04,578 INFO sqlalchemy.engine.Engine [no key 0.00101s] {}\n",
      "2022-01-28 09:29:04,633 INFO sqlalchemy.engine.Engine COMMIT\n",
      "../../../tests/data/test_target1.csv\n",
      "2022-01-28 09:29:04,716 INFO sqlalchemy.engine.Engine INSERT INTO \"ESG_MATCH_TGT1\" (\"UNIQUE_ID\", \"ISIN\", \"LEI\", \"COMPANY\", \"COUNTRY\") VALUES (:UNIQUE_ID, :ISIN, :LEI, :COMPANY, :COUNTRY)\n",
      "2022-01-28 09:29:04,718 INFO sqlalchemy.engine.Engine [generated in 0.00238s] {'UNIQUE_ID': 1.0, 'ISIN': 'SK1120005824', 'LEI': '097900BHK10000084115', 'COMPANY': 'CENTRAL PERK AND SONS', 'COUNTRY': 'DE'}\n",
      "2022-01-28 09:29:04,763 INFO sqlalchemy.engine.Engine COMMIT\n",
      "2022-01-28 09:29:04,842 INFO sqlalchemy.engine.Engine INSERT INTO \"ESG_MATCH_TGT1\" (\"UNIQUE_ID\", \"ISIN\", \"LEI\", \"COMPANY\", \"COUNTRY\") VALUES (:UNIQUE_ID, :ISIN, :LEI, :COMPANY, :COUNTRY)\n",
      "2022-01-28 09:29:04,842 INFO sqlalchemy.engine.Engine [cached since 0.127s ago] {'UNIQUE_ID': 2.0, 'ISIN': 'DE0005545503', 'LEI': '5299003VKVDCUPSS5X23', 'COMPANY': 'DUNDER MIFFLINS [12345]', 'COUNTRY': 'de'}\n",
      "2022-01-28 09:29:04,886 INFO sqlalchemy.engine.Engine COMMIT\n",
      "2022-01-28 09:29:04,964 INFO sqlalchemy.engine.Engine INSERT INTO \"ESG_MATCH_TGT1\" (\"UNIQUE_ID\", \"ISIN\", \"LEI\", \"COMPANY\", \"COUNTRY\") VALUES (:UNIQUE_ID, NULL, :LEI, :COMPANY, :COUNTRY)\n",
      "2022-01-28 09:29:04,965 INFO sqlalchemy.engine.Engine [generated in 0.00088s] {'UNIQUE_ID': 3.0, 'LEI': '254900B1P3S786KDAW57', 'COMPANY': 'HONEYDUKES (adm@honeydukes.com)', 'COUNTRY': 'UNITED STATES OF AMERICA'}\n",
      "2022-01-28 09:29:05,005 INFO sqlalchemy.engine.Engine COMMIT\n",
      "2022-01-28 09:29:05,085 INFO sqlalchemy.engine.Engine INSERT INTO \"ESG_MATCH_TGT1\" (\"UNIQUE_ID\", \"ISIN\", \"LEI\", \"COMPANY\", \"COUNTRY\") VALUES (:UNIQUE_ID, NULL, :LEI, :COMPANY, :COUNTRY)\n",
      "2022-01-28 09:29:05,088 INFO sqlalchemy.engine.Engine [cached since 0.1233s ago] {'UNIQUE_ID': 4.0, 'LEI': '529900MVZ2YHFZV3K546', 'COMPANY': 'STARCOURT MALL', 'COUNTRY': 'AUSTRIA'}\n",
      "2022-01-28 09:29:05,131 INFO sqlalchemy.engine.Engine COMMIT\n",
      "2022-01-28 09:29:05,212 INFO sqlalchemy.engine.Engine INSERT INTO \"ESG_MATCH_TGT1\" (\"UNIQUE_ID\", \"ISIN\", \"LEI\", \"COMPANY\", \"COUNTRY\") VALUES (:UNIQUE_ID, :ISIN, NULL, :COMPANY, :COUNTRY)\n",
      "2022-01-28 09:29:05,214 INFO sqlalchemy.engine.Engine [generated in 0.00222s] {'UNIQUE_ID': 5.0, 'ISIN': 'GB00B1YW4409', 'COMPANY': 'Krusty Krab', 'COUNTRY': 'GB'}\n",
      "2022-01-28 09:29:05,257 INFO sqlalchemy.engine.Engine COMMIT\n",
      "2022-01-28 09:29:05,336 INFO sqlalchemy.engine.Engine INSERT INTO \"ESG_MATCH_TGT1\" (\"UNIQUE_ID\", \"ISIN\", \"LEI\", \"COMPANY\", \"COUNTRY\") VALUES (:UNIQUE_ID, NULL, :LEI, :COMPANY, :COUNTRY)\n",
      "2022-01-28 09:29:05,337 INFO sqlalchemy.engine.Engine [cached since 0.3739s ago] {'UNIQUE_ID': 6.0, 'LEI': '3003007MR0P683GYR674', 'COMPANY': 'RR DINER', 'COUNTRY': 'CHINA'}\n"
     ]
    },
    {
     "name": "stdout",
     "output_type": "stream",
     "text": [
      "2022-01-28 09:29:05,382 INFO sqlalchemy.engine.Engine COMMIT\n",
      "2022-01-28 09:29:05,462 INFO sqlalchemy.engine.Engine INSERT INTO \"ESG_MATCH_TGT1\" (\"UNIQUE_ID\", \"ISIN\", \"LEI\", \"COMPANY\", \"COUNTRY\") VALUES (:UNIQUE_ID, :ISIN, :LEI, :COMPANY, :COUNTRY)\n",
      "2022-01-28 09:29:05,464 INFO sqlalchemy.engine.Engine [cached since 0.7477s ago] {'UNIQUE_ID': 7.0, 'ISIN': 'US0231351067', 'LEI': 'ZXTILKJKG63JELOEG630', 'COMPANY': 'Starks Industries and Association', 'COUNTRY': 'usa'}\n",
      "2022-01-28 09:29:05,507 INFO sqlalchemy.engine.Engine COMMIT\n",
      "2022-01-28 09:29:05,586 INFO sqlalchemy.engine.Engine INSERT INTO \"ESG_MATCH_TGT1\" (\"UNIQUE_ID\", \"ISIN\", \"LEI\", \"COMPANY\", \"COUNTRY\") VALUES (:UNIQUE_ID, :ISIN, :LEI, :COMPANY, :COUNTRY)\n",
      "2022-01-28 09:29:05,587 INFO sqlalchemy.engine.Engine [cached since 0.8711s ago] {'UNIQUE_ID': 8.0, 'ISIN': 'US0126531013', 'LEI': 'HDBLS2Q6GV1LSKQPBS54', 'COMPANY': 'SPECTRE UNIVERSAL LIMITED', 'COUNTRY': 'USA'}\n",
      "2022-01-28 09:29:05,628 INFO sqlalchemy.engine.Engine COMMIT\n"
     ]
    }
   ],
   "source": [
    "# Load data from TARGET 1\n",
    "db_tgt1 = etl_proc_obj.load_file_to_db(tgt1_obj, csv_reader_obj)"
   ]
  },
  {
   "cell_type": "code",
   "execution_count": 15,
   "id": "106fd97e",
   "metadata": {},
   "outputs": [],
   "source": [
    "# Target Data Sources\n",
    "tgt2_settings = '../../../tests/data/howto/oracle/test_target2_oracle.json'\n",
    "tgt2_obj = File(tgt2_settings)"
   ]
  },
  {
   "cell_type": "code",
   "execution_count": 16,
   "id": "ff4f21d9",
   "metadata": {},
   "outputs": [
    {
     "name": "stdout",
     "output_type": "stream",
     "text": [
      "2022-01-28 09:29:05,800 INFO sqlalchemy.engine.Engine SELECT table_name FROM all_tables WHERE table_name = :name AND owner = :schema_name\n",
      "2022-01-28 09:29:05,801 INFO sqlalchemy.engine.Engine [cached since 4.028s ago] {'name': 'ESG_MATCH_TGT2', 'schema_name': 'ADMIN'}\n",
      "2022-01-28 09:29:05,916 INFO sqlalchemy.engine.Engine SELECT table_name, compression, compress_for FROM ALL_TABLES WHERE table_name = :table_name AND owner = :owner \n",
      "2022-01-28 09:29:05,917 INFO sqlalchemy.engine.Engine [cached since 4.021s ago] {'table_name': 'ESG_MATCH_TGT2', 'owner': 'ADMIN'}\n",
      "2022-01-28 09:29:05,957 INFO sqlalchemy.engine.Engine \n",
      "            SELECT\n",
      "                col.column_name,\n",
      "                col.data_type,\n",
      "                col.char_length,\n",
      "                col.data_precision,\n",
      "                col.data_scale,\n",
      "                col.nullable,\n",
      "                col.data_default,\n",
      "                com.comments,\n",
      "                col.virtual_column,\n",
      "                                col.default_on_null,\n",
      "                (\n",
      "                    SELECT id.generation_type || ',' || id.IDENTITY_OPTIONS\n",
      "                    FROM ALL_TAB_IDENTITY_COLS id\n",
      "                    WHERE col.table_name = id.table_name\n",
      "                    AND col.column_name = id.column_name\n",
      "                    AND col.owner = id.owner\n",
      "                ) AS identity_options\n",
      "            FROM all_tab_cols col\n",
      "            LEFT JOIN all_col_comments com\n",
      "            ON col.table_name = com.table_name\n",
      "            AND col.column_name = com.column_name\n",
      "            AND col.owner = com.owner\n",
      "            WHERE col.table_name = :table_name\n",
      "            AND col.hidden_column = 'NO'\n",
      "         AND col.owner = :owner  ORDER BY col.column_id\n",
      "2022-01-28 09:29:05,958 INFO sqlalchemy.engine.Engine [cached since 4.021s ago] {'table_name': 'ESG_MATCH_TGT2', 'owner': 'ADMIN'}\n",
      "2022-01-28 09:29:06,038 INFO sqlalchemy.engine.Engine SELECT\n",
      "ac.constraint_name,\n",
      "ac.constraint_type,\n",
      "loc.column_name AS local_column,\n",
      "rem.table_name AS remote_table,\n",
      "rem.column_name AS remote_column,\n",
      "rem.owner AS remote_owner,\n",
      "loc.position as loc_pos,\n",
      "rem.position as rem_pos,\n",
      "ac.search_condition,\n",
      "ac.delete_rule\n",
      "FROM all_constraints ac,\n",
      "all_cons_columns loc,\n",
      "all_cons_columns rem\n",
      "WHERE ac.table_name = :table_name\n",
      "AND ac.constraint_type IN ('R','P', 'U', 'C')\n",
      "AND ac.owner = :owner\n",
      "AND ac.owner = loc.owner\n",
      "AND ac.constraint_name = loc.constraint_name\n",
      "AND ac.r_owner = rem.owner(+)\n",
      "AND ac.r_constraint_name = rem.constraint_name(+)\n",
      "AND (rem.position IS NULL or loc.position=rem.position)\n",
      "ORDER BY ac.constraint_name, loc.position\n",
      "2022-01-28 09:29:06,039 INFO sqlalchemy.engine.Engine [cached since 4.019s ago] {'table_name': 'ESG_MATCH_TGT2', 'owner': 'ADMIN'}\n",
      "2022-01-28 09:29:06,117 INFO sqlalchemy.engine.Engine SELECT a.index_name, a.column_name, \n",
      "b.index_type, b.uniqueness, b.compression, b.prefix_length \n",
      "FROM ALL_IND_COLUMNS a, \n",
      "ALL_INDEXES b \n",
      "WHERE \n",
      "a.index_name = b.index_name \n",
      "AND a.table_owner = b.table_owner \n",
      "AND a.table_name = b.table_name \n",
      "AND a.table_name = :table_name AND a.table_owner = :schema ORDER BY a.index_name, a.column_position\n",
      "2022-01-28 09:29:06,117 INFO sqlalchemy.engine.Engine [cached since 4.017s ago] {'table_name': 'ESG_MATCH_TGT2', 'schema': 'ADMIN'}\n",
      "2022-01-28 09:29:06,158 INFO sqlalchemy.engine.Engine SELECT a.index_name, a.column_name, \n",
      "b.index_type, b.uniqueness, b.compression, b.prefix_length \n",
      "FROM ALL_IND_COLUMNS a, \n",
      "ALL_INDEXES b \n",
      "WHERE \n",
      "a.index_name = b.index_name \n",
      "AND a.table_owner = b.table_owner \n",
      "AND a.table_name = b.table_name \n",
      "AND a.table_name = :table_name AND a.table_owner = :schema ORDER BY a.index_name, a.column_position\n",
      "2022-01-28 09:29:06,159 INFO sqlalchemy.engine.Engine [cached since 4.058s ago] {'table_name': 'ESG_MATCH_TGT2', 'schema': 'ADMIN'}\n",
      "2022-01-28 09:29:06,200 INFO sqlalchemy.engine.Engine SELECT\n",
      "ac.constraint_name,\n",
      "ac.constraint_type,\n",
      "loc.column_name AS local_column,\n",
      "rem.table_name AS remote_table,\n",
      "rem.column_name AS remote_column,\n",
      "rem.owner AS remote_owner,\n",
      "loc.position as loc_pos,\n",
      "rem.position as rem_pos,\n",
      "ac.search_condition,\n",
      "ac.delete_rule\n",
      "FROM all_constraints ac,\n",
      "all_cons_columns loc,\n",
      "all_cons_columns rem\n",
      "WHERE ac.table_name = :table_name\n",
      "AND ac.constraint_type IN ('R','P', 'U', 'C')\n",
      "AND ac.owner = :owner\n",
      "AND ac.owner = loc.owner\n",
      "AND ac.constraint_name = loc.constraint_name\n",
      "AND ac.r_owner = rem.owner(+)\n",
      "AND ac.r_constraint_name = rem.constraint_name(+)\n",
      "AND (rem.position IS NULL or loc.position=rem.position)\n",
      "ORDER BY ac.constraint_name, loc.position\n",
      "2022-01-28 09:29:06,201 INFO sqlalchemy.engine.Engine [cached since 4.181s ago] {'table_name': 'ESG_MATCH_TGT2', 'owner': 'ADMIN'}\n",
      "2022-01-28 09:29:06,281 INFO sqlalchemy.engine.Engine \n",
      "            SELECT comments\n",
      "            FROM all_tab_comments\n",
      "            WHERE table_name = :table_name AND owner = :schema_name\n",
      "        \n",
      "2022-01-28 09:29:06,283 INFO sqlalchemy.engine.Engine [cached since 4.02s ago] {'table_name': 'ESG_MATCH_TGT2', 'schema_name': 'ADMIN'}\n",
      "2022-01-28 09:29:06,365 INFO sqlalchemy.engine.Engine BEGIN (implicit)\n",
      "2022-01-28 09:29:06,367 INFO sqlalchemy.engine.Engine \n",
      "DROP TABLE \"ESG_MATCH_TGT2\"\n",
      "2022-01-28 09:29:06,369 INFO sqlalchemy.engine.Engine [no key 0.00186s] {}\n",
      "2022-01-28 09:29:06,438 INFO sqlalchemy.engine.Engine COMMIT\n",
      "2022-01-28 09:29:06,516 INFO sqlalchemy.engine.Engine BEGIN (implicit)\n",
      "2022-01-28 09:29:06,516 INFO sqlalchemy.engine.Engine \n",
      "CREATE TABLE \"ESG_MATCH_TGT2\" (\n",
      "\t\"UNIQUE_ID\" NUMBER NOT NULL, \n",
      "\t\"ISIN\" VARCHAR2(12 CHAR), \n",
      "\t\"LEI\" VARCHAR2(20 CHAR), \n",
      "\t\"SEDOL\" VARCHAR2(20 CHAR), \n",
      "\t\"COMPANY\" VARCHAR2(255 CHAR), \n",
      "\t\"COUNTRY\" VARCHAR2(255 CHAR), \n",
      "\tPRIMARY KEY (\"UNIQUE_ID\")\n",
      ")\n",
      "\n",
      "\n",
      "2022-01-28 09:29:06,517 INFO sqlalchemy.engine.Engine [no key 0.00100s] {}\n",
      "2022-01-28 09:29:06,571 INFO sqlalchemy.engine.Engine COMMIT\n",
      "../../../tests/data/test_target2.csv\n",
      "2022-01-28 09:29:06,658 INFO sqlalchemy.engine.Engine INSERT INTO \"ESG_MATCH_TGT2\" (\"UNIQUE_ID\", \"ISIN\", \"LEI\", \"SEDOL\", \"COMPANY\", \"COUNTRY\") VALUES (:UNIQUE_ID, NULL, :LEI, :SEDOL, :COMPANY, :COUNTRY)\n",
      "2022-01-28 09:29:06,661 INFO sqlalchemy.engine.Engine [generated in 0.00384s] {'UNIQUE_ID': 1.0, 'LEI': '097900BHK10000084115', 'SEDOL': '7108899', 'COMPANY': 'HONEYDUKES', 'COUNTRY': 'UNITED STATES'}\n",
      "2022-01-28 09:29:06,707 INFO sqlalchemy.engine.Engine COMMIT\n",
      "2022-01-28 09:29:06,786 INFO sqlalchemy.engine.Engine INSERT INTO \"ESG_MATCH_TGT2\" (\"UNIQUE_ID\", \"ISIN\", \"LEI\", \"SEDOL\", \"COMPANY\", \"COUNTRY\") VALUES (:UNIQUE_ID, NULL, NULL, NULL, :COMPANY, :COUNTRY)\n",
      "2022-01-28 09:29:06,787 INFO sqlalchemy.engine.Engine [generated in 0.00113s] {'UNIQUE_ID': 2.0, 'COMPANY': 'STARCOURT MALL', 'COUNTRY': 'AUSTRIA'}\n",
      "2022-01-28 09:29:06,830 INFO sqlalchemy.engine.Engine COMMIT\n",
      "2022-01-28 09:29:06,910 INFO sqlalchemy.engine.Engine INSERT INTO \"ESG_MATCH_TGT2\" (\"UNIQUE_ID\", \"ISIN\", \"LEI\", \"SEDOL\", \"COMPANY\", \"COUNTRY\") VALUES (:UNIQUE_ID, :ISIN, NULL, NULL, :COMPANY, :COUNTRY)\n",
      "2022-01-28 09:29:06,912 INFO sqlalchemy.engine.Engine [generated in 0.00226s] {'UNIQUE_ID': 3.0, 'ISIN': 'CH0012221716', 'COMPANY': 'Bluth company', 'COUNTRY': 'CHE'}\n",
      "2022-01-28 09:29:06,955 INFO sqlalchemy.engine.Engine COMMIT\n",
      "2022-01-28 09:29:07,034 INFO sqlalchemy.engine.Engine INSERT INTO \"ESG_MATCH_TGT2\" (\"UNIQUE_ID\", \"ISIN\", \"LEI\", \"SEDOL\", \"COMPANY\", \"COUNTRY\") VALUES (:UNIQUE_ID, :ISIN, NULL, :SEDOL, :COMPANY, :COUNTRY)\n",
      "2022-01-28 09:29:07,035 INFO sqlalchemy.engine.Engine [generated in 0.00083s] {'UNIQUE_ID': 4.0, 'ISIN': 'US0200021014', 'SEDOL': '2019952', 'COMPANY': 'InGen', 'COUNTRY': 'usa'}\n",
      "2022-01-28 09:29:07,075 INFO sqlalchemy.engine.Engine COMMIT\n",
      "2022-01-28 09:29:07,154 INFO sqlalchemy.engine.Engine INSERT INTO \"ESG_MATCH_TGT2\" (\"UNIQUE_ID\", \"ISIN\", \"LEI\", \"SEDOL\", \"COMPANY\", \"COUNTRY\") VALUES (:UNIQUE_ID, :ISIN, NULL, :SEDOL, :COMPANY, :COUNTRY)\n",
      "2022-01-28 09:29:07,155 INFO sqlalchemy.engine.Engine [cached since 0.1209s ago] {'UNIQUE_ID': 5.0, 'ISIN': 'US0126531013', 'SEDOL': '2046853', 'COMPANY': 'SPECTRE', 'COUNTRY': 'USA'}\n",
      "2022-01-28 09:29:07,195 INFO sqlalchemy.engine.Engine COMMIT\n",
      "2022-01-28 09:29:07,273 INFO sqlalchemy.engine.Engine INSERT INTO \"ESG_MATCH_TGT2\" (\"UNIQUE_ID\", \"ISIN\", \"LEI\", \"SEDOL\", \"COMPANY\", \"COUNTRY\") VALUES (:UNIQUE_ID, :ISIN, NULL, :SEDOL, :COMPANY, :COUNTRY)\n",
      "2022-01-28 09:29:07,273 INFO sqlalchemy.engine.Engine [cached since 0.2402s ago] {'UNIQUE_ID': 6.0, 'ISIN': 'GB00B1YW4409', 'SEDOL': 'B1YW440', 'COMPANY': 'STERLING COOPER', 'COUNTRY': 'GBR'}\n"
     ]
    },
    {
     "name": "stdout",
     "output_type": "stream",
     "text": [
      "2022-01-28 09:29:07,316 INFO sqlalchemy.engine.Engine COMMIT\n",
      "2022-01-28 09:29:07,394 INFO sqlalchemy.engine.Engine INSERT INTO \"ESG_MATCH_TGT2\" (\"UNIQUE_ID\", \"ISIN\", \"LEI\", \"SEDOL\", \"COMPANY\", \"COUNTRY\") VALUES (:UNIQUE_ID, :ISIN, NULL, :SEDOL, :COMPANY, :COUNTRY)\n",
      "2022-01-28 09:29:07,395 INFO sqlalchemy.engine.Engine [cached since 0.3615s ago] {'UNIQUE_ID': 7.0, 'ISIN': 'SK1120005824', 'SEDOL': 'B1YW440', 'COMPANY': 'CENTRAL PERK', 'COUNTRY': 'SK'}\n",
      "2022-01-28 09:29:07,437 INFO sqlalchemy.engine.Engine COMMIT\n",
      "2022-01-28 09:29:07,516 INFO sqlalchemy.engine.Engine INSERT INTO \"ESG_MATCH_TGT2\" (\"UNIQUE_ID\", \"ISIN\", \"LEI\", \"SEDOL\", \"COMPANY\", \"COUNTRY\") VALUES (:UNIQUE_ID, :ISIN, NULL, :SEDOL, :COMPANY, :COUNTRY)\n",
      "2022-01-28 09:29:07,518 INFO sqlalchemy.engine.Engine [cached since 0.4852s ago] {'UNIQUE_ID': 8.0, 'ISIN': 'DE0005545503', 'SEDOL': '5299003VKVDCUPSS5X23', 'COMPANY': 'DUNDER MIFFLINS', 'COUNTRY': 'Germany'}\n",
      "2022-01-28 09:29:07,561 INFO sqlalchemy.engine.Engine COMMIT\n",
      "2022-01-28 09:29:07,642 INFO sqlalchemy.engine.Engine INSERT INTO \"ESG_MATCH_TGT2\" (\"UNIQUE_ID\", \"ISIN\", \"LEI\", \"SEDOL\", \"COMPANY\", \"COUNTRY\") VALUES (:UNIQUE_ID, :ISIN, NULL, :SEDOL, :COMPANY, :COUNTRY)\n",
      "2022-01-28 09:29:07,645 INFO sqlalchemy.engine.Engine [cached since 0.6112s ago] {'UNIQUE_ID': 9.0, 'ISIN': 'GB00B1YW4409', 'SEDOL': 'B1YW440', 'COMPANY': 'Krusty Kr~ab', 'COUNTRY': 'GBR'}\n",
      "2022-01-28 09:29:07,689 INFO sqlalchemy.engine.Engine COMMIT\n"
     ]
    }
   ],
   "source": [
    "# Load data from TARGET 1\n",
    "db_tgt2 = etl_proc_obj.load_file_to_db(tgt2_obj, csv_reader_obj)"
   ]
  },
  {
   "cell_type": "markdown",
   "id": "40c4d8d8",
   "metadata": {},
   "source": [
    "## 3. Creating matching/no-matching tables"
   ]
  },
  {
   "cell_type": "code",
   "execution_count": 17,
   "id": "e1d62ca7",
   "metadata": {},
   "outputs": [],
   "source": [
    "match_settings = '../../../tests/data/howto/oracle/test_matching_oracle.json'\n",
    "no_match_settings = '../../../tests/data/howto/oracle/test_no_matching_oracle.json'"
   ]
  },
  {
   "cell_type": "code",
   "execution_count": 18,
   "id": "639e8fbf",
   "metadata": {},
   "outputs": [],
   "source": [
    "file_match = File(match_settings)\n",
    "file_no_match = File(no_match_settings)"
   ]
  },
  {
   "cell_type": "code",
   "execution_count": 19,
   "id": "53abe8ef",
   "metadata": {},
   "outputs": [
    {
     "name": "stdout",
     "output_type": "stream",
     "text": [
      "2022-01-28 09:29:07,890 INFO sqlalchemy.engine.Engine SELECT table_name FROM all_tables WHERE table_name = :name AND owner = :schema_name\n",
      "2022-01-28 09:29:07,891 INFO sqlalchemy.engine.Engine [cached since 6.119s ago] {'name': 'ESG_MATCHING', 'schema_name': 'ADMIN'}\n",
      "2022-01-28 09:29:07,972 INFO sqlalchemy.engine.Engine BEGIN (implicit)\n",
      "2022-01-28 09:29:07,974 INFO sqlalchemy.engine.Engine \n",
      "CREATE TABLE \"ESG_MATCHING\" (\n",
      "\t\"TIMESTAMP\" TIMESTAMP DEFAULT CURRENT_TIMESTAMP, \n",
      "\t\"MATCHING_ID\" NUMBER GENERATED BY DEFAULT AS IDENTITY (START WITH 1), \n",
      "\t\"REF_NAME\" VARCHAR2(255 CHAR), \n",
      "\t\"TGT_NAME\" VARCHAR2(20 CHAR), \n",
      "\t\"MATCHING_TYPE\" VARCHAR2(20 CHAR), \n",
      "\t\"MATCHING_SCOPE\" VARCHAR2(20 CHAR), \n",
      "\t\"MATCHING_RULE\" VARCHAR2(20 CHAR), \n",
      "\t\"REF_ID\" VARCHAR2(255 CHAR), \n",
      "\t\"REF_COMPANY\" VARCHAR2(255 CHAR), \n",
      "\t\"REF_COUNTRY\" VARCHAR2(255 CHAR), \n",
      "\t\"TGT_ID\" VARCHAR2(255 CHAR), \n",
      "\t\"TGT_COMPANY\" VARCHAR2(255 CHAR), \n",
      "\t\"TGT_COUNTRY\" VARCHAR2(255 CHAR), \n",
      "\t\"ISIN\" VARCHAR2(12 CHAR), \n",
      "\t\"LEI\" VARCHAR2(20 CHAR), \n",
      "\t\"SEDOL\" VARCHAR2(20 CHAR), \n",
      "\tPRIMARY KEY (\"MATCHING_ID\")\n",
      ")\n",
      "\n",
      "\n",
      "2022-01-28 09:29:07,975 INFO sqlalchemy.engine.Engine [no key 0.00070s] {}\n",
      "2022-01-28 09:29:08,030 INFO sqlalchemy.engine.Engine COMMIT\n",
      "2022-01-28 09:29:08,148 INFO sqlalchemy.engine.Engine SELECT table_name FROM all_tables WHERE table_name = :name AND owner = :schema_name\n",
      "2022-01-28 09:29:08,149 INFO sqlalchemy.engine.Engine [cached since 6.377s ago] {'name': 'ESG_NO_MATCHING', 'schema_name': 'ADMIN'}\n",
      "2022-01-28 09:29:08,232 INFO sqlalchemy.engine.Engine BEGIN (implicit)\n",
      "2022-01-28 09:29:08,233 INFO sqlalchemy.engine.Engine \n",
      "CREATE TABLE \"ESG_NO_MATCHING\" (\n",
      "\t\"TIMESTAMP\" TIMESTAMP DEFAULT CURRENT_TIMESTAMP, \n",
      "\t\"MATCHING_ID\" NUMBER GENERATED BY DEFAULT AS IDENTITY (START WITH 1), \n",
      "\t\"TGT_NAME\" VARCHAR2(20 CHAR), \n",
      "\t\"TGT_ID\" VARCHAR2(255 CHAR), \n",
      "\t\"TGT_COMPANY\" VARCHAR2(255 CHAR), \n",
      "\t\"TGT_COUNTRY\" VARCHAR2(255 CHAR), \n",
      "\t\"ISIN\" VARCHAR2(12 CHAR), \n",
      "\t\"LEI\" VARCHAR2(20 CHAR), \n",
      "\t\"SEDOL\" VARCHAR2(20 CHAR), \n",
      "\tPRIMARY KEY (\"MATCHING_ID\")\n",
      ")\n",
      "\n",
      "\n",
      "2022-01-28 09:29:08,234 INFO sqlalchemy.engine.Engine [no key 0.00076s] {}\n",
      "2022-01-28 09:29:08,287 INFO sqlalchemy.engine.Engine COMMIT\n"
     ]
    }
   ],
   "source": [
    "# Call the create_data_source_from_settings() method by passing the File\n",
    "db_matching = etl_proc_obj.create_data_source(file_match)\n",
    "db_no_matching = etl_proc_obj.create_data_source(file_no_match)"
   ]
  },
  {
   "cell_type": "markdown",
   "id": "a6b5d717",
   "metadata": {},
   "source": [
    "## 4. Checking attribute mapping alias"
   ]
  },
  {
   "cell_type": "code",
   "execution_count": 20,
   "id": "ea604a93",
   "metadata": {},
   "outputs": [
    {
     "data": {
      "text/plain": [
       "{'ISIN': Column('ISIN', VARCHAR2(length=12), table=<ESG_MATCH_REF>),\n",
       " 'COMPANY': Column('COMPANY', VARCHAR2(length=255), table=<ESG_MATCH_REF>),\n",
       " 'COUNTRY': Column('COUNTRY', VARCHAR2(length=255), table=<ESG_MATCH_REF>)}"
      ]
     },
     "execution_count": 20,
     "metadata": {},
     "output_type": "execute_result"
    }
   ],
   "source": [
    "db_ref.get_mapping_to_alias()"
   ]
  },
  {
   "cell_type": "code",
   "execution_count": 21,
   "id": "9e1cc38c",
   "metadata": {},
   "outputs": [
    {
     "data": {
      "text/plain": [
       "{'ISIN': Column('ISIN', VARCHAR2(length=12), table=<ESG_MATCH_TGT1>),\n",
       " 'LEI': Column('LEI', VARCHAR2(length=20), table=<ESG_MATCH_TGT1>),\n",
       " 'COMPANY': Column('COMPANY', VARCHAR2(length=255), table=<ESG_MATCH_TGT1>),\n",
       " 'COUNTRY': Column('COUNTRY', VARCHAR2(length=255), table=<ESG_MATCH_TGT1>)}"
      ]
     },
     "execution_count": 21,
     "metadata": {},
     "output_type": "execute_result"
    }
   ],
   "source": [
    "db_tgt1.get_mapping_to_alias()"
   ]
  },
  {
   "cell_type": "code",
   "execution_count": 22,
   "id": "30cbfc51",
   "metadata": {},
   "outputs": [
    {
     "data": {
      "text/plain": [
       "{'ISIN': Column('ISIN', VARCHAR2(length=12), table=<ESG_MATCH_TGT2>),\n",
       " 'LEI': Column('LEI', VARCHAR2(length=20), table=<ESG_MATCH_TGT2>),\n",
       " 'SEDOL': Column('SEDOL', VARCHAR2(length=20), table=<ESG_MATCH_TGT2>),\n",
       " 'COMPANY': Column('COMPANY', VARCHAR2(length=255), table=<ESG_MATCH_TGT2>),\n",
       " 'COUNTRY': Column('COUNTRY', VARCHAR2(length=255), table=<ESG_MATCH_TGT2>)}"
      ]
     },
     "execution_count": 22,
     "metadata": {},
     "output_type": "execute_result"
    }
   ],
   "source": [
    "db_tgt2.get_mapping_to_alias()"
   ]
  },
  {
   "cell_type": "markdown",
   "id": "cffd9327",
   "metadata": {},
   "source": [
    "## 5. Checking attribute mapping between sources and matching tables"
   ]
  },
  {
   "cell_type": "code",
   "execution_count": 23,
   "id": "90ddc5f3",
   "metadata": {},
   "outputs": [
    {
     "data": {
      "text/plain": [
       "{'REF_ID': Column('UNIQUE_ID', NUMBER(asdecimal=False), table=<ESG_MATCH_REF>, primary_key=True, nullable=False),\n",
       " 'REF_COMPANY': Column('COMPANY', VARCHAR2(length=255), table=<ESG_MATCH_REF>),\n",
       " 'REF_COUNTRY': Column('COUNTRY', VARCHAR2(length=255), table=<ESG_MATCH_REF>)}"
      ]
     },
     "execution_count": 23,
     "metadata": {},
     "output_type": "execute_result"
    }
   ],
   "source": [
    "db_ref.get_mapping_to_matching()"
   ]
  },
  {
   "cell_type": "code",
   "execution_count": 24,
   "id": "70acbcd1",
   "metadata": {},
   "outputs": [
    {
     "data": {
      "text/plain": [
       "{'TGT_ID': Column('UNIQUE_ID', NUMBER(asdecimal=False), table=<ESG_MATCH_TGT1>, primary_key=True, nullable=False),\n",
       " 'ISIN': Column('ISIN', VARCHAR2(length=12), table=<ESG_MATCH_TGT1>),\n",
       " 'LEI': Column('LEI', VARCHAR2(length=20), table=<ESG_MATCH_TGT1>),\n",
       " 'TGT_COMPANY': Column('COMPANY', VARCHAR2(length=255), table=<ESG_MATCH_TGT1>),\n",
       " 'TGT_COUNTRY': Column('COUNTRY', VARCHAR2(length=255), table=<ESG_MATCH_TGT1>)}"
      ]
     },
     "execution_count": 24,
     "metadata": {},
     "output_type": "execute_result"
    }
   ],
   "source": [
    "db_tgt1.get_mapping_to_matching()"
   ]
  },
  {
   "cell_type": "code",
   "execution_count": 25,
   "id": "58328a82",
   "metadata": {},
   "outputs": [
    {
     "data": {
      "text/plain": [
       "{'TGT_ID': Column('UNIQUE_ID', NUMBER(asdecimal=False), table=<ESG_MATCH_TGT2>, primary_key=True, nullable=False),\n",
       " 'ISIN': Column('ISIN', VARCHAR2(length=12), table=<ESG_MATCH_TGT2>),\n",
       " 'LEI': Column('LEI', VARCHAR2(length=20), table=<ESG_MATCH_TGT2>),\n",
       " 'SEDOL': Column('SEDOL', VARCHAR2(length=20), table=<ESG_MATCH_TGT2>),\n",
       " 'TGT_COMPANY': Column('COMPANY', VARCHAR2(length=255), table=<ESG_MATCH_TGT2>),\n",
       " 'TGT_COUNTRY': Column('COUNTRY', VARCHAR2(length=255), table=<ESG_MATCH_TGT2>)}"
      ]
     },
     "execution_count": 25,
     "metadata": {},
     "output_type": "execute_result"
    }
   ],
   "source": [
    "db_tgt2.get_mapping_to_matching()"
   ]
  },
  {
   "cell_type": "markdown",
   "id": "52f55e9a",
   "metadata": {},
   "source": [
    "## 6. Create policies for matching each target data source with the referential"
   ]
  },
  {
   "cell_type": "code",
   "execution_count": 26,
   "id": "12281c23",
   "metadata": {},
   "outputs": [],
   "source": [
    "# Import policy module\n",
    "from esg_matching.matcher.policy import MatchingPolicy"
   ]
  },
  {
   "cell_type": "code",
   "execution_count": 27,
   "id": "0c97527f",
   "metadata": {},
   "outputs": [],
   "source": [
    "# Create macthing policy object for target1\n",
    "policy_match_tgt1 = MatchingPolicy(db_tgt1, 'matching_with_ref1')"
   ]
  },
  {
   "cell_type": "code",
   "execution_count": 28,
   "id": "d70f9f54",
   "metadata": {},
   "outputs": [],
   "source": [
    "# Set the referential and matching/no-matching sources\n",
    "policy_match_tgt1.set_referential_source(db_ref)\n",
    "policy_match_tgt1.set_matching_source(db_matching)\n",
    "policy_match_tgt1.set_no_matching_source(db_no_matching)"
   ]
  },
  {
   "cell_type": "code",
   "execution_count": 29,
   "id": "dcae1dc7",
   "metadata": {},
   "outputs": [],
   "source": [
    "# Create macthing policy object for target2\n",
    "policy_match_tgt2 = MatchingPolicy(db_tgt2, 'matching_with_ref1')"
   ]
  },
  {
   "cell_type": "code",
   "execution_count": 30,
   "id": "065a4372",
   "metadata": {},
   "outputs": [],
   "source": [
    "# Set the referential and matching/no-matching sources\n",
    "policy_match_tgt2.set_referential_source(db_ref)\n",
    "policy_match_tgt2.set_matching_source(db_matching)\n",
    "policy_match_tgt2.set_no_matching_source(db_no_matching)"
   ]
  },
  {
   "cell_type": "markdown",
   "id": "19d86932",
   "metadata": {},
   "source": [
    "## 7. Perform direct full matching (DFM) for each data source"
   ]
  },
  {
   "cell_type": "code",
   "execution_count": 31,
   "id": "10be8999",
   "metadata": {},
   "outputs": [],
   "source": [
    "# Import DFM module\n",
    "from esg_matching.matcher.dfm import DbMatcherDfm"
   ]
  },
  {
   "cell_type": "code",
   "execution_count": 32,
   "id": "0bad0b15",
   "metadata": {},
   "outputs": [],
   "source": [
    "# Create a matcher object for DFM\n",
    "dfm_matcher_obj = DbMatcherDfm(db_conn)"
   ]
  },
  {
   "cell_type": "code",
   "execution_count": 33,
   "id": "f61c6680",
   "metadata": {},
   "outputs": [
    {
     "name": "stdout",
     "output_type": "stream",
     "text": [
      "2022-01-28 09:29:08,692 INFO sqlalchemy.engine.Engine BEGIN (implicit)\n",
      "2022-01-28 09:29:08,699 INFO sqlalchemy.engine.Engine INSERT INTO \"ESG_MATCHING\" (\"REF_NAME\", \"TGT_NAME\", \"MATCHING_TYPE\", \"MATCHING_SCOPE\", \"MATCHING_RULE\", \"TGT_ID\", \"ISIN\", \"LEI\", \"TGT_COMPANY\", \"TGT_COUNTRY\", \"REF_ID\", \"REF_COMPANY\", \"REF_COUNTRY\") SELECT 'DS_REF' AS \"REF_NAME\", 'DS_TGT1' AS \"TGT_NAME\", 'direct' AS \"MATCHING_TYPE\", 'full' AS \"MATCHING_SCOPE\", 'isin' AS \"MATCHING_RULE\", \"ESG_MATCH_TGT1\".\"UNIQUE_ID\" AS \"TGT_ID\", \"ESG_MATCH_TGT1\".\"ISIN\" AS \"ISIN\", \"ESG_MATCH_TGT1\".\"LEI\" AS \"LEI\", \"ESG_MATCH_TGT1\".\"COMPANY\" AS \"TGT_COMPANY\", \"ESG_MATCH_TGT1\".\"COUNTRY\" AS \"TGT_COUNTRY\", \"ESG_MATCH_REF\".\"UNIQUE_ID\" AS \"REF_ID\", \"ESG_MATCH_REF\".\"COMPANY\" AS \"REF_COMPANY\", \"ESG_MATCH_REF\".\"COUNTRY\" AS \"REF_COUNTRY\" \n",
      "FROM \"ESG_MATCH_TGT1\" JOIN \"ESG_MATCH_REF\" ON \"ESG_MATCH_TGT1\".\"ISIN\" = \"ESG_MATCH_REF\".\"ISIN\"\n",
      "2022-01-28 09:29:08,701 INFO sqlalchemy.engine.Engine [generated in 0.00206s] {}\n",
      "2022-01-28 09:29:08,759 INFO sqlalchemy.engine.Engine INSERT INTO \"ESG_NO_MATCHING\" (\"TGT_NAME\", \"TGT_ID\", \"ISIN\", \"LEI\", \"TGT_COMPANY\", \"TGT_COUNTRY\") SELECT 'DS_TGT1' AS \"TGT_NAME\", \"ESG_MATCH_TGT1\".\"UNIQUE_ID\" AS \"TGT_ID\", \"ESG_MATCH_TGT1\".\"ISIN\" AS \"ISIN\", \"ESG_MATCH_TGT1\".\"LEI\" AS \"LEI\", \"ESG_MATCH_TGT1\".\"COMPANY\" AS \"TGT_COMPANY\", \"ESG_MATCH_TGT1\".\"COUNTRY\" AS \"TGT_COUNTRY\" \n",
      "FROM \"ESG_MATCH_TGT1\" LEFT OUTER JOIN \"ESG_MATCH_REF\" ON \"ESG_MATCH_TGT1\".\"ISIN\" = \"ESG_MATCH_REF\".\"ISIN\" \n",
      "WHERE \"ESG_MATCH_REF\".\"ISIN\" IS NULL\n",
      "2022-01-28 09:29:08,760 INFO sqlalchemy.engine.Engine [generated in 0.00150s] {}\n",
      "2022-01-28 09:29:08,806 INFO sqlalchemy.engine.Engine COMMIT\n"
     ]
    }
   ],
   "source": [
    "# Perform DFM on target 1\n",
    "dfm_matcher_obj.set_policy(policy_match_tgt1)\n",
    "dfm_matcher_obj.execute_matching()"
   ]
  },
  {
   "cell_type": "code",
   "execution_count": 34,
   "id": "f6e28d84",
   "metadata": {},
   "outputs": [
    {
     "name": "stdout",
     "output_type": "stream",
     "text": [
      "2022-01-28 09:29:08,895 INFO sqlalchemy.engine.Engine BEGIN (implicit)\n",
      "2022-01-28 09:29:08,899 INFO sqlalchemy.engine.Engine INSERT INTO \"ESG_MATCHING\" (\"REF_NAME\", \"TGT_NAME\", \"MATCHING_TYPE\", \"MATCHING_SCOPE\", \"MATCHING_RULE\", \"TGT_ID\", \"ISIN\", \"LEI\", \"SEDOL\", \"TGT_COMPANY\", \"TGT_COUNTRY\", \"REF_ID\", \"REF_COMPANY\", \"REF_COUNTRY\") SELECT 'DS_REF' AS \"REF_NAME\", 'DS_TGT2' AS \"TGT_NAME\", 'direct' AS \"MATCHING_TYPE\", 'full' AS \"MATCHING_SCOPE\", 'isin' AS \"MATCHING_RULE\", \"ESG_MATCH_TGT2\".\"UNIQUE_ID\" AS \"TGT_ID\", \"ESG_MATCH_TGT2\".\"ISIN\" AS \"ISIN\", \"ESG_MATCH_TGT2\".\"LEI\" AS \"LEI\", \"ESG_MATCH_TGT2\".\"SEDOL\" AS \"SEDOL\", \"ESG_MATCH_TGT2\".\"COMPANY\" AS \"TGT_COMPANY\", \"ESG_MATCH_TGT2\".\"COUNTRY\" AS \"TGT_COUNTRY\", \"ESG_MATCH_REF\".\"UNIQUE_ID\" AS \"REF_ID\", \"ESG_MATCH_REF\".\"COMPANY\" AS \"REF_COMPANY\", \"ESG_MATCH_REF\".\"COUNTRY\" AS \"REF_COUNTRY\" \n",
      "FROM \"ESG_MATCH_TGT2\" JOIN \"ESG_MATCH_REF\" ON \"ESG_MATCH_TGT2\".\"ISIN\" = \"ESG_MATCH_REF\".\"ISIN\"\n",
      "2022-01-28 09:29:08,901 INFO sqlalchemy.engine.Engine [generated in 0.00166s] {}\n",
      "2022-01-28 09:29:08,953 INFO sqlalchemy.engine.Engine INSERT INTO \"ESG_NO_MATCHING\" (\"TGT_NAME\", \"TGT_ID\", \"ISIN\", \"LEI\", \"SEDOL\", \"TGT_COMPANY\", \"TGT_COUNTRY\") SELECT 'DS_TGT2' AS \"TGT_NAME\", \"ESG_MATCH_TGT2\".\"UNIQUE_ID\" AS \"TGT_ID\", \"ESG_MATCH_TGT2\".\"ISIN\" AS \"ISIN\", \"ESG_MATCH_TGT2\".\"LEI\" AS \"LEI\", \"ESG_MATCH_TGT2\".\"SEDOL\" AS \"SEDOL\", \"ESG_MATCH_TGT2\".\"COMPANY\" AS \"TGT_COMPANY\", \"ESG_MATCH_TGT2\".\"COUNTRY\" AS \"TGT_COUNTRY\" \n",
      "FROM \"ESG_MATCH_TGT2\" LEFT OUTER JOIN \"ESG_MATCH_REF\" ON \"ESG_MATCH_TGT2\".\"ISIN\" = \"ESG_MATCH_REF\".\"ISIN\" \n",
      "WHERE \"ESG_MATCH_REF\".\"ISIN\" IS NULL\n",
      "2022-01-28 09:29:08,954 INFO sqlalchemy.engine.Engine [generated in 0.00079s] {}\n",
      "2022-01-28 09:29:08,997 INFO sqlalchemy.engine.Engine COMMIT\n"
     ]
    }
   ],
   "source": [
    "# Perform DFM on target 2\n",
    "dfm_matcher_obj.set_policy(policy_match_tgt2)\n",
    "dfm_matcher_obj.execute_matching()"
   ]
  },
  {
   "cell_type": "markdown",
   "id": "74be69d2",
   "metadata": {},
   "source": [
    "## 8. Perform direct residual matching (DRM) for each data source"
   ]
  },
  {
   "cell_type": "code",
   "execution_count": 35,
   "id": "2904f1ef",
   "metadata": {},
   "outputs": [],
   "source": [
    "# Import DRM module\n",
    "from esg_matching.matcher.drm import DbMatcherDrm"
   ]
  },
  {
   "cell_type": "code",
   "execution_count": 36,
   "id": "a6aba734",
   "metadata": {},
   "outputs": [],
   "source": [
    "# Create a matcher object for DRM\n",
    "drm_matcher_obj = DbMatcherDrm(db_conn)"
   ]
  },
  {
   "cell_type": "code",
   "execution_count": 37,
   "id": "813ec92c",
   "metadata": {},
   "outputs": [
    {
     "name": "stdout",
     "output_type": "stream",
     "text": [
      "2022-01-28 09:29:09,133 INFO sqlalchemy.engine.Engine BEGIN (implicit)\n",
      "2022-01-28 09:29:09,139 INFO sqlalchemy.engine.Engine INSERT INTO \"ESG_MATCHING\" (\"REF_NAME\", \"TGT_NAME\", \"MATCHING_TYPE\", \"MATCHING_SCOPE\", \"MATCHING_RULE\", \"TGT_ID\", \"ISIN\", \"LEI\", \"TGT_COMPANY\", \"TGT_COUNTRY\", \"REF_ID\", \"REF_COMPANY\", \"REF_COUNTRY\") SELECT 'DS_REF' AS \"REF_NAME\", 'DS_TGT1' AS \"TGT_NAME\", 'direct' AS \"MATCHING_TYPE\", 'residual' AS \"MATCHING_SCOPE\", 'name+country' AS \"MATCHING_RULE\", \"ESG_NO_MATCHING\".\"TGT_ID\", \"ESG_NO_MATCHING\".\"ISIN\", \"ESG_NO_MATCHING\".\"LEI\", \"ESG_NO_MATCHING\".\"TGT_COMPANY\", \"ESG_NO_MATCHING\".\"TGT_COUNTRY\", \"ESG_MATCH_REF\".\"UNIQUE_ID\" AS \"REF_ID\", \"ESG_MATCH_REF\".\"COMPANY\" AS \"REF_COMPANY\", \"ESG_MATCH_REF\".\"COUNTRY\" AS \"REF_COUNTRY\" \n",
      "FROM \"ESG_NO_MATCHING\" JOIN \"ESG_MATCH_REF\" ON \"ESG_NO_MATCHING\".\"TGT_COMPANY\" = \"ESG_MATCH_REF\".\"COMPANY\" AND \"ESG_NO_MATCHING\".\"TGT_COUNTRY\" = \"ESG_MATCH_REF\".\"COUNTRY\" \n",
      "WHERE \"ESG_NO_MATCHING\".\"TGT_NAME\" = :TGT_NAME_1\n",
      "2022-01-28 09:29:09,141 INFO sqlalchemy.engine.Engine [generated in 0.00164s] {'TGT_NAME_1': 'DS_TGT1'}\n",
      "2022-01-28 09:29:09,194 INFO sqlalchemy.engine.Engine DELETE FROM \"ESG_NO_MATCHING\" WHERE \"ESG_NO_MATCHING\".\"MATCHING_ID\" IN (SELECT \"ESG_NO_MATCHING\".\"MATCHING_ID\" \n",
      "FROM \"ESG_NO_MATCHING\" JOIN \"ESG_MATCH_REF\" ON \"ESG_NO_MATCHING\".\"TGT_COMPANY\" = \"ESG_MATCH_REF\".\"COMPANY\" AND \"ESG_NO_MATCHING\".\"TGT_COUNTRY\" = \"ESG_MATCH_REF\".\"COUNTRY\" \n",
      "WHERE \"ESG_NO_MATCHING\".\"TGT_NAME\" = :TGT_NAME_1)\n",
      "2022-01-28 09:29:09,195 INFO sqlalchemy.engine.Engine [generated in 0.00095s] {'TGT_NAME_1': 'DS_TGT1'}\n",
      "2022-01-28 09:29:09,255 INFO sqlalchemy.engine.Engine COMMIT\n"
     ]
    }
   ],
   "source": [
    "# Perform DRM on target 1\n",
    "drm_matcher_obj.set_policy(policy_match_tgt1)\n",
    "drm_matcher_obj.execute_matching()"
   ]
  },
  {
   "cell_type": "code",
   "execution_count": 38,
   "id": "03a6cb80",
   "metadata": {},
   "outputs": [
    {
     "name": "stdout",
     "output_type": "stream",
     "text": [
      "2022-01-28 09:29:09,353 INFO sqlalchemy.engine.Engine BEGIN (implicit)\n",
      "2022-01-28 09:29:09,357 INFO sqlalchemy.engine.Engine INSERT INTO \"ESG_MATCHING\" (\"REF_NAME\", \"TGT_NAME\", \"MATCHING_TYPE\", \"MATCHING_SCOPE\", \"MATCHING_RULE\", \"TGT_ID\", \"ISIN\", \"LEI\", \"SEDOL\", \"TGT_COMPANY\", \"TGT_COUNTRY\", \"REF_ID\", \"REF_COMPANY\", \"REF_COUNTRY\") SELECT 'DS_REF' AS \"REF_NAME\", 'DS_TGT2' AS \"TGT_NAME\", 'direct' AS \"MATCHING_TYPE\", 'residual' AS \"MATCHING_SCOPE\", 'name+country' AS \"MATCHING_RULE\", \"ESG_NO_MATCHING\".\"TGT_ID\", \"ESG_NO_MATCHING\".\"ISIN\", \"ESG_NO_MATCHING\".\"LEI\", \"ESG_NO_MATCHING\".\"SEDOL\", \"ESG_NO_MATCHING\".\"TGT_COMPANY\", \"ESG_NO_MATCHING\".\"TGT_COUNTRY\", \"ESG_MATCH_REF\".\"UNIQUE_ID\" AS \"REF_ID\", \"ESG_MATCH_REF\".\"COMPANY\" AS \"REF_COMPANY\", \"ESG_MATCH_REF\".\"COUNTRY\" AS \"REF_COUNTRY\" \n",
      "FROM \"ESG_NO_MATCHING\" JOIN \"ESG_MATCH_REF\" ON \"ESG_NO_MATCHING\".\"TGT_COMPANY\" = \"ESG_MATCH_REF\".\"COMPANY\" AND \"ESG_NO_MATCHING\".\"TGT_COUNTRY\" = \"ESG_MATCH_REF\".\"COUNTRY\" \n",
      "WHERE \"ESG_NO_MATCHING\".\"TGT_NAME\" = :TGT_NAME_1\n",
      "2022-01-28 09:29:09,358 INFO sqlalchemy.engine.Engine [generated in 0.00138s] {'TGT_NAME_1': 'DS_TGT2'}\n",
      "2022-01-28 09:29:09,404 INFO sqlalchemy.engine.Engine DELETE FROM \"ESG_NO_MATCHING\" WHERE \"ESG_NO_MATCHING\".\"MATCHING_ID\" IN (SELECT \"ESG_NO_MATCHING\".\"MATCHING_ID\" \n",
      "FROM \"ESG_NO_MATCHING\" JOIN \"ESG_MATCH_REF\" ON \"ESG_NO_MATCHING\".\"TGT_COMPANY\" = \"ESG_MATCH_REF\".\"COMPANY\" AND \"ESG_NO_MATCHING\".\"TGT_COUNTRY\" = \"ESG_MATCH_REF\".\"COUNTRY\" \n",
      "WHERE \"ESG_NO_MATCHING\".\"TGT_NAME\" = :TGT_NAME_1)\n",
      "2022-01-28 09:29:09,405 INFO sqlalchemy.engine.Engine [cached since 0.2111s ago] {'TGT_NAME_1': 'DS_TGT2'}\n",
      "2022-01-28 09:29:09,445 INFO sqlalchemy.engine.Engine COMMIT\n"
     ]
    }
   ],
   "source": [
    "# Perform DRM on target 2\n",
    "drm_matcher_obj.set_policy(policy_match_tgt2)\n",
    "drm_matcher_obj.execute_matching()"
   ]
  },
  {
   "cell_type": "markdown",
   "id": "24822244",
   "metadata": {},
   "source": [
    "## 9. Perform indirect residual matching (IRM) for each data source"
   ]
  },
  {
   "cell_type": "code",
   "execution_count": 39,
   "id": "90dd990e",
   "metadata": {},
   "outputs": [],
   "source": [
    "# Import IFM module\n",
    "from esg_matching.matcher.irm import DbMatcherIrm"
   ]
  },
  {
   "cell_type": "code",
   "execution_count": 40,
   "id": "44b88550",
   "metadata": {},
   "outputs": [],
   "source": [
    "# Create a matcher object for IFM\n",
    "ifm_matcher_obj = DbMatcherIrm(db_conn)"
   ]
  },
  {
   "cell_type": "code",
   "execution_count": 41,
   "id": "6910dadc",
   "metadata": {},
   "outputs": [
    {
     "name": "stdout",
     "output_type": "stream",
     "text": [
      "2022-01-28 09:29:09,580 INFO sqlalchemy.engine.Engine BEGIN (implicit)\n",
      "2022-01-28 09:29:09,584 INFO sqlalchemy.engine.Engine INSERT INTO \"ESG_MATCHING\" (\"MATCHING_TYPE\", \"MATCHING_SCOPE\", \"MATCHING_RULE\", \"TGT_NAME\", \"TGT_ID\", \"TGT_COMPANY\", \"TGT_COUNTRY\", \"ISIN\", \"LEI\", \"SEDOL\", \"REF_NAME\", \"REF_ID\", \"REF_COMPANY\", \"REF_COUNTRY\") SELECT 'indirect' AS \"MATCHING_TYPE\", 'full' AS \"MATCHING_SCOPE\", 'isin' AS \"MATCHING_RULE\", \"ESG_NO_MATCHING\".\"TGT_NAME\", \"ESG_NO_MATCHING\".\"TGT_ID\", \"ESG_NO_MATCHING\".\"TGT_COMPANY\", \"ESG_NO_MATCHING\".\"TGT_COUNTRY\", \"ESG_NO_MATCHING\".\"ISIN\", \"ESG_NO_MATCHING\".\"LEI\", \"ESG_NO_MATCHING\".\"SEDOL\", \"ESG_MATCHING\".\"TGT_NAME\" AS \"REF_NAME\", \"ESG_MATCHING\".\"TGT_ID\" AS \"REF_ID\", \"ESG_MATCHING\".\"TGT_COMPANY\" AS \"REF_COMPANY\", \"ESG_MATCHING\".\"TGT_COUNTRY\" AS \"REF_COUNTRY\" \n",
      "FROM \"ESG_NO_MATCHING\" JOIN \"ESG_MATCHING\" ON \"ESG_NO_MATCHING\".\"ISIN\" = \"ESG_MATCHING\".\"ISIN\" \n",
      "WHERE \"ESG_NO_MATCHING\".\"TGT_NAME\" = :TGT_NAME_1 AND \"ESG_MATCHING\".\"TGT_NAME\" != :TGT_NAME_2\n",
      "2022-01-28 09:29:09,585 INFO sqlalchemy.engine.Engine [generated in 0.00132s] {'TGT_NAME_1': 'DS_TGT1', 'TGT_NAME_2': 'DS_TGT1'}\n",
      "2022-01-28 09:29:09,638 INFO sqlalchemy.engine.Engine DELETE FROM \"ESG_NO_MATCHING\" WHERE \"ESG_NO_MATCHING\".\"MATCHING_ID\" IN (SELECT \"ESG_NO_MATCHING\".\"MATCHING_ID\" \n",
      "FROM \"ESG_NO_MATCHING\" JOIN \"ESG_MATCHING\" ON \"ESG_NO_MATCHING\".\"ISIN\" = \"ESG_MATCHING\".\"ISIN\" \n",
      "WHERE \"ESG_NO_MATCHING\".\"TGT_NAME\" = :TGT_NAME_1 AND \"ESG_MATCHING\".\"TGT_NAME\" != :TGT_NAME_2)\n",
      "2022-01-28 09:29:09,638 INFO sqlalchemy.engine.Engine [generated in 0.00084s] {'TGT_NAME_1': 'DS_TGT1', 'TGT_NAME_2': 'DS_TGT1'}\n",
      "2022-01-28 09:29:09,696 INFO sqlalchemy.engine.Engine COMMIT\n",
      "2022-01-28 09:29:09,785 INFO sqlalchemy.engine.Engine BEGIN (implicit)\n",
      "2022-01-28 09:29:09,789 INFO sqlalchemy.engine.Engine INSERT INTO \"ESG_MATCHING\" (\"MATCHING_TYPE\", \"MATCHING_SCOPE\", \"MATCHING_RULE\", \"TGT_NAME\", \"TGT_ID\", \"TGT_COMPANY\", \"TGT_COUNTRY\", \"ISIN\", \"LEI\", \"SEDOL\", \"REF_NAME\", \"REF_ID\", \"REF_COMPANY\", \"REF_COUNTRY\") SELECT 'indirect' AS \"MATCHING_TYPE\", 'full' AS \"MATCHING_SCOPE\", 'lei' AS \"MATCHING_RULE\", \"ESG_NO_MATCHING\".\"TGT_NAME\", \"ESG_NO_MATCHING\".\"TGT_ID\", \"ESG_NO_MATCHING\".\"TGT_COMPANY\", \"ESG_NO_MATCHING\".\"TGT_COUNTRY\", \"ESG_NO_MATCHING\".\"ISIN\", \"ESG_NO_MATCHING\".\"LEI\", \"ESG_NO_MATCHING\".\"SEDOL\", \"ESG_MATCHING\".\"TGT_NAME\" AS \"REF_NAME\", \"ESG_MATCHING\".\"TGT_ID\" AS \"REF_ID\", \"ESG_MATCHING\".\"TGT_COMPANY\" AS \"REF_COMPANY\", \"ESG_MATCHING\".\"TGT_COUNTRY\" AS \"REF_COUNTRY\" \n",
      "FROM \"ESG_NO_MATCHING\" JOIN \"ESG_MATCHING\" ON \"ESG_NO_MATCHING\".\"LEI\" = \"ESG_MATCHING\".\"LEI\" \n",
      "WHERE \"ESG_NO_MATCHING\".\"TGT_NAME\" = :TGT_NAME_1 AND \"ESG_MATCHING\".\"TGT_NAME\" != :TGT_NAME_2\n",
      "2022-01-28 09:29:09,790 INFO sqlalchemy.engine.Engine [generated in 0.00179s] {'TGT_NAME_1': 'DS_TGT1', 'TGT_NAME_2': 'DS_TGT1'}\n",
      "2022-01-28 09:29:09,840 INFO sqlalchemy.engine.Engine DELETE FROM \"ESG_NO_MATCHING\" WHERE \"ESG_NO_MATCHING\".\"MATCHING_ID\" IN (SELECT \"ESG_NO_MATCHING\".\"MATCHING_ID\" \n",
      "FROM \"ESG_NO_MATCHING\" JOIN \"ESG_MATCHING\" ON \"ESG_NO_MATCHING\".\"LEI\" = \"ESG_MATCHING\".\"LEI\" \n",
      "WHERE \"ESG_NO_MATCHING\".\"TGT_NAME\" = :TGT_NAME_1 AND \"ESG_MATCHING\".\"TGT_NAME\" != :TGT_NAME_2)\n",
      "2022-01-28 09:29:09,841 INFO sqlalchemy.engine.Engine [generated in 0.00121s] {'TGT_NAME_1': 'DS_TGT1', 'TGT_NAME_2': 'DS_TGT1'}\n",
      "2022-01-28 09:29:09,898 INFO sqlalchemy.engine.Engine COMMIT\n",
      "2022-01-28 09:29:09,976 INFO sqlalchemy.engine.Engine BEGIN (implicit)\n",
      "2022-01-28 09:29:09,977 INFO sqlalchemy.engine.Engine INSERT INTO \"ESG_MATCHING\" (\"MATCHING_TYPE\", \"MATCHING_SCOPE\", \"MATCHING_RULE\", \"TGT_NAME\", \"TGT_ID\", \"TGT_COMPANY\", \"TGT_COUNTRY\", \"ISIN\", \"LEI\", \"SEDOL\", \"REF_NAME\", \"REF_ID\", \"REF_COMPANY\", \"REF_COUNTRY\") SELECT 'indirect' AS \"MATCHING_TYPE\", 'full' AS \"MATCHING_SCOPE\", 'name+country' AS \"MATCHING_RULE\", \"ESG_NO_MATCHING\".\"TGT_NAME\", \"ESG_NO_MATCHING\".\"TGT_ID\", \"ESG_NO_MATCHING\".\"TGT_COMPANY\", \"ESG_NO_MATCHING\".\"TGT_COUNTRY\", \"ESG_NO_MATCHING\".\"ISIN\", \"ESG_NO_MATCHING\".\"LEI\", \"ESG_NO_MATCHING\".\"SEDOL\", \"ESG_MATCHING\".\"TGT_NAME\" AS \"REF_NAME\", \"ESG_MATCHING\".\"TGT_ID\" AS \"REF_ID\", \"ESG_MATCHING\".\"TGT_COMPANY\" AS \"REF_COMPANY\", \"ESG_MATCHING\".\"TGT_COUNTRY\" AS \"REF_COUNTRY\" \n",
      "FROM \"ESG_NO_MATCHING\" JOIN \"ESG_MATCHING\" ON \"ESG_NO_MATCHING\".\"TGT_COMPANY\" = \"ESG_MATCHING\".\"TGT_COMPANY\" AND \"ESG_NO_MATCHING\".\"TGT_COUNTRY\" = \"ESG_MATCHING\".\"TGT_COUNTRY\" \n",
      "WHERE \"ESG_NO_MATCHING\".\"TGT_NAME\" = :TGT_NAME_1 AND \"ESG_MATCHING\".\"TGT_NAME\" != :TGT_NAME_2\n",
      "2022-01-28 09:29:09,978 INFO sqlalchemy.engine.Engine [generated in 0.00100s] {'TGT_NAME_1': 'DS_TGT1', 'TGT_NAME_2': 'DS_TGT1'}\n",
      "2022-01-28 09:29:10,027 INFO sqlalchemy.engine.Engine DELETE FROM \"ESG_NO_MATCHING\" WHERE \"ESG_NO_MATCHING\".\"MATCHING_ID\" IN (SELECT \"ESG_NO_MATCHING\".\"MATCHING_ID\" \n",
      "FROM \"ESG_NO_MATCHING\" JOIN \"ESG_MATCHING\" ON \"ESG_NO_MATCHING\".\"TGT_COMPANY\" = \"ESG_MATCHING\".\"TGT_COMPANY\" AND \"ESG_NO_MATCHING\".\"TGT_COUNTRY\" = \"ESG_MATCHING\".\"TGT_COUNTRY\" \n",
      "WHERE \"ESG_NO_MATCHING\".\"TGT_NAME\" = :TGT_NAME_1 AND \"ESG_MATCHING\".\"TGT_NAME\" != :TGT_NAME_2)\n",
      "2022-01-28 09:29:10,027 INFO sqlalchemy.engine.Engine [generated in 0.00075s] {'TGT_NAME_1': 'DS_TGT1', 'TGT_NAME_2': 'DS_TGT1'}\n",
      "2022-01-28 09:29:10,082 INFO sqlalchemy.engine.Engine COMMIT\n"
     ]
    }
   ],
   "source": [
    "# Perform IFM on target 1\n",
    "ifm_matcher_obj.set_policy(policy_match_tgt1)\n",
    "ifm_matcher_obj.execute_matching()"
   ]
  },
  {
   "cell_type": "code",
   "execution_count": 42,
   "id": "36fa811b",
   "metadata": {},
   "outputs": [
    {
     "name": "stdout",
     "output_type": "stream",
     "text": [
      "2022-01-28 09:29:10,172 INFO sqlalchemy.engine.Engine BEGIN (implicit)\n",
      "2022-01-28 09:29:10,175 INFO sqlalchemy.engine.Engine INSERT INTO \"ESG_MATCHING\" (\"MATCHING_TYPE\", \"MATCHING_SCOPE\", \"MATCHING_RULE\", \"TGT_NAME\", \"TGT_ID\", \"TGT_COMPANY\", \"TGT_COUNTRY\", \"ISIN\", \"LEI\", \"SEDOL\", \"REF_NAME\", \"REF_ID\", \"REF_COMPANY\", \"REF_COUNTRY\") SELECT 'indirect' AS \"MATCHING_TYPE\", 'full' AS \"MATCHING_SCOPE\", 'isin' AS \"MATCHING_RULE\", \"ESG_NO_MATCHING\".\"TGT_NAME\", \"ESG_NO_MATCHING\".\"TGT_ID\", \"ESG_NO_MATCHING\".\"TGT_COMPANY\", \"ESG_NO_MATCHING\".\"TGT_COUNTRY\", \"ESG_NO_MATCHING\".\"ISIN\", \"ESG_NO_MATCHING\".\"LEI\", \"ESG_NO_MATCHING\".\"SEDOL\", \"ESG_MATCHING\".\"TGT_NAME\" AS \"REF_NAME\", \"ESG_MATCHING\".\"TGT_ID\" AS \"REF_ID\", \"ESG_MATCHING\".\"TGT_COMPANY\" AS \"REF_COMPANY\", \"ESG_MATCHING\".\"TGT_COUNTRY\" AS \"REF_COUNTRY\" \n",
      "FROM \"ESG_NO_MATCHING\" JOIN \"ESG_MATCHING\" ON \"ESG_NO_MATCHING\".\"ISIN\" = \"ESG_MATCHING\".\"ISIN\" \n",
      "WHERE \"ESG_NO_MATCHING\".\"TGT_NAME\" = :TGT_NAME_1 AND \"ESG_MATCHING\".\"TGT_NAME\" != :TGT_NAME_2\n",
      "2022-01-28 09:29:10,176 INFO sqlalchemy.engine.Engine [cached since 0.5919s ago] {'TGT_NAME_1': 'DS_TGT2', 'TGT_NAME_2': 'DS_TGT2'}\n",
      "2022-01-28 09:29:10,218 INFO sqlalchemy.engine.Engine DELETE FROM \"ESG_NO_MATCHING\" WHERE \"ESG_NO_MATCHING\".\"MATCHING_ID\" IN (SELECT \"ESG_NO_MATCHING\".\"MATCHING_ID\" \n",
      "FROM \"ESG_NO_MATCHING\" JOIN \"ESG_MATCHING\" ON \"ESG_NO_MATCHING\".\"ISIN\" = \"ESG_MATCHING\".\"ISIN\" \n",
      "WHERE \"ESG_NO_MATCHING\".\"TGT_NAME\" = :TGT_NAME_1 AND \"ESG_MATCHING\".\"TGT_NAME\" != :TGT_NAME_2)\n",
      "2022-01-28 09:29:10,219 INFO sqlalchemy.engine.Engine [cached since 0.5814s ago] {'TGT_NAME_1': 'DS_TGT2', 'TGT_NAME_2': 'DS_TGT2'}\n",
      "2022-01-28 09:29:10,259 INFO sqlalchemy.engine.Engine COMMIT\n",
      "2022-01-28 09:29:10,337 INFO sqlalchemy.engine.Engine BEGIN (implicit)\n",
      "2022-01-28 09:29:10,338 INFO sqlalchemy.engine.Engine INSERT INTO \"ESG_MATCHING\" (\"MATCHING_TYPE\", \"MATCHING_SCOPE\", \"MATCHING_RULE\", \"TGT_NAME\", \"TGT_ID\", \"TGT_COMPANY\", \"TGT_COUNTRY\", \"ISIN\", \"LEI\", \"SEDOL\", \"REF_NAME\", \"REF_ID\", \"REF_COMPANY\", \"REF_COUNTRY\") SELECT 'indirect' AS \"MATCHING_TYPE\", 'full' AS \"MATCHING_SCOPE\", 'lei' AS \"MATCHING_RULE\", \"ESG_NO_MATCHING\".\"TGT_NAME\", \"ESG_NO_MATCHING\".\"TGT_ID\", \"ESG_NO_MATCHING\".\"TGT_COMPANY\", \"ESG_NO_MATCHING\".\"TGT_COUNTRY\", \"ESG_NO_MATCHING\".\"ISIN\", \"ESG_NO_MATCHING\".\"LEI\", \"ESG_NO_MATCHING\".\"SEDOL\", \"ESG_MATCHING\".\"TGT_NAME\" AS \"REF_NAME\", \"ESG_MATCHING\".\"TGT_ID\" AS \"REF_ID\", \"ESG_MATCHING\".\"TGT_COMPANY\" AS \"REF_COMPANY\", \"ESG_MATCHING\".\"TGT_COUNTRY\" AS \"REF_COUNTRY\" \n",
      "FROM \"ESG_NO_MATCHING\" JOIN \"ESG_MATCHING\" ON \"ESG_NO_MATCHING\".\"LEI\" = \"ESG_MATCHING\".\"LEI\" \n",
      "WHERE \"ESG_NO_MATCHING\".\"TGT_NAME\" = :TGT_NAME_1 AND \"ESG_MATCHING\".\"TGT_NAME\" != :TGT_NAME_2\n",
      "2022-01-28 09:29:10,339 INFO sqlalchemy.engine.Engine [cached since 0.5504s ago] {'TGT_NAME_1': 'DS_TGT2', 'TGT_NAME_2': 'DS_TGT2'}\n",
      "2022-01-28 09:29:10,380 INFO sqlalchemy.engine.Engine DELETE FROM \"ESG_NO_MATCHING\" WHERE \"ESG_NO_MATCHING\".\"MATCHING_ID\" IN (SELECT \"ESG_NO_MATCHING\".\"MATCHING_ID\" \n",
      "FROM \"ESG_NO_MATCHING\" JOIN \"ESG_MATCHING\" ON \"ESG_NO_MATCHING\".\"LEI\" = \"ESG_MATCHING\".\"LEI\" \n",
      "WHERE \"ESG_NO_MATCHING\".\"TGT_NAME\" = :TGT_NAME_1 AND \"ESG_MATCHING\".\"TGT_NAME\" != :TGT_NAME_2)\n",
      "2022-01-28 09:29:10,382 INFO sqlalchemy.engine.Engine [cached since 0.542s ago] {'TGT_NAME_1': 'DS_TGT2', 'TGT_NAME_2': 'DS_TGT2'}\n",
      "2022-01-28 09:29:10,424 INFO sqlalchemy.engine.Engine COMMIT\n",
      "2022-01-28 09:29:10,503 INFO sqlalchemy.engine.Engine BEGIN (implicit)\n",
      "2022-01-28 09:29:10,505 INFO sqlalchemy.engine.Engine INSERT INTO \"ESG_MATCHING\" (\"MATCHING_TYPE\", \"MATCHING_SCOPE\", \"MATCHING_RULE\", \"TGT_NAME\", \"TGT_ID\", \"TGT_COMPANY\", \"TGT_COUNTRY\", \"ISIN\", \"LEI\", \"SEDOL\", \"REF_NAME\", \"REF_ID\", \"REF_COMPANY\", \"REF_COUNTRY\") SELECT 'indirect' AS \"MATCHING_TYPE\", 'full' AS \"MATCHING_SCOPE\", 'sedol' AS \"MATCHING_RULE\", \"ESG_NO_MATCHING\".\"TGT_NAME\", \"ESG_NO_MATCHING\".\"TGT_ID\", \"ESG_NO_MATCHING\".\"TGT_COMPANY\", \"ESG_NO_MATCHING\".\"TGT_COUNTRY\", \"ESG_NO_MATCHING\".\"ISIN\", \"ESG_NO_MATCHING\".\"LEI\", \"ESG_NO_MATCHING\".\"SEDOL\", \"ESG_MATCHING\".\"TGT_NAME\" AS \"REF_NAME\", \"ESG_MATCHING\".\"TGT_ID\" AS \"REF_ID\", \"ESG_MATCHING\".\"TGT_COMPANY\" AS \"REF_COMPANY\", \"ESG_MATCHING\".\"TGT_COUNTRY\" AS \"REF_COUNTRY\" \n",
      "FROM \"ESG_NO_MATCHING\" JOIN \"ESG_MATCHING\" ON \"ESG_NO_MATCHING\".\"SEDOL\" = \"ESG_MATCHING\".\"SEDOL\" \n",
      "WHERE \"ESG_NO_MATCHING\".\"TGT_NAME\" = :TGT_NAME_1 AND \"ESG_MATCHING\".\"TGT_NAME\" != :TGT_NAME_2\n",
      "2022-01-28 09:29:10,506 INFO sqlalchemy.engine.Engine [generated in 0.00098s] {'TGT_NAME_1': 'DS_TGT2', 'TGT_NAME_2': 'DS_TGT2'}\n",
      "2022-01-28 09:29:10,565 INFO sqlalchemy.engine.Engine DELETE FROM \"ESG_NO_MATCHING\" WHERE \"ESG_NO_MATCHING\".\"MATCHING_ID\" IN (SELECT \"ESG_NO_MATCHING\".\"MATCHING_ID\" \n",
      "FROM \"ESG_NO_MATCHING\" JOIN \"ESG_MATCHING\" ON \"ESG_NO_MATCHING\".\"SEDOL\" = \"ESG_MATCHING\".\"SEDOL\" \n",
      "WHERE \"ESG_NO_MATCHING\".\"TGT_NAME\" = :TGT_NAME_1 AND \"ESG_MATCHING\".\"TGT_NAME\" != :TGT_NAME_2)\n",
      "2022-01-28 09:29:10,566 INFO sqlalchemy.engine.Engine [generated in 0.00126s] {'TGT_NAME_1': 'DS_TGT2', 'TGT_NAME_2': 'DS_TGT2'}\n",
      "2022-01-28 09:29:10,622 INFO sqlalchemy.engine.Engine COMMIT\n",
      "2022-01-28 09:29:10,701 INFO sqlalchemy.engine.Engine BEGIN (implicit)\n",
      "2022-01-28 09:29:10,702 INFO sqlalchemy.engine.Engine INSERT INTO \"ESG_MATCHING\" (\"MATCHING_TYPE\", \"MATCHING_SCOPE\", \"MATCHING_RULE\", \"TGT_NAME\", \"TGT_ID\", \"TGT_COMPANY\", \"TGT_COUNTRY\", \"ISIN\", \"LEI\", \"SEDOL\", \"REF_NAME\", \"REF_ID\", \"REF_COMPANY\", \"REF_COUNTRY\") SELECT 'indirect' AS \"MATCHING_TYPE\", 'full' AS \"MATCHING_SCOPE\", 'name+country' AS \"MATCHING_RULE\", \"ESG_NO_MATCHING\".\"TGT_NAME\", \"ESG_NO_MATCHING\".\"TGT_ID\", \"ESG_NO_MATCHING\".\"TGT_COMPANY\", \"ESG_NO_MATCHING\".\"TGT_COUNTRY\", \"ESG_NO_MATCHING\".\"ISIN\", \"ESG_NO_MATCHING\".\"LEI\", \"ESG_NO_MATCHING\".\"SEDOL\", \"ESG_MATCHING\".\"TGT_NAME\" AS \"REF_NAME\", \"ESG_MATCHING\".\"TGT_ID\" AS \"REF_ID\", \"ESG_MATCHING\".\"TGT_COMPANY\" AS \"REF_COMPANY\", \"ESG_MATCHING\".\"TGT_COUNTRY\" AS \"REF_COUNTRY\" \n",
      "FROM \"ESG_NO_MATCHING\" JOIN \"ESG_MATCHING\" ON \"ESG_NO_MATCHING\".\"TGT_COMPANY\" = \"ESG_MATCHING\".\"TGT_COMPANY\" AND \"ESG_NO_MATCHING\".\"TGT_COUNTRY\" = \"ESG_MATCHING\".\"TGT_COUNTRY\" \n",
      "WHERE \"ESG_NO_MATCHING\".\"TGT_NAME\" = :TGT_NAME_1 AND \"ESG_MATCHING\".\"TGT_NAME\" != :TGT_NAME_2\n",
      "2022-01-28 09:29:10,709 INFO sqlalchemy.engine.Engine [cached since 0.7309s ago] {'TGT_NAME_1': 'DS_TGT2', 'TGT_NAME_2': 'DS_TGT2'}\n",
      "2022-01-28 09:29:10,751 INFO sqlalchemy.engine.Engine DELETE FROM \"ESG_NO_MATCHING\" WHERE \"ESG_NO_MATCHING\".\"MATCHING_ID\" IN (SELECT \"ESG_NO_MATCHING\".\"MATCHING_ID\" \n",
      "FROM \"ESG_NO_MATCHING\" JOIN \"ESG_MATCHING\" ON \"ESG_NO_MATCHING\".\"TGT_COMPANY\" = \"ESG_MATCHING\".\"TGT_COMPANY\" AND \"ESG_NO_MATCHING\".\"TGT_COUNTRY\" = \"ESG_MATCHING\".\"TGT_COUNTRY\" \n",
      "WHERE \"ESG_NO_MATCHING\".\"TGT_NAME\" = :TGT_NAME_1 AND \"ESG_MATCHING\".\"TGT_NAME\" != :TGT_NAME_2)\n",
      "2022-01-28 09:29:10,752 INFO sqlalchemy.engine.Engine [cached since 0.7246s ago] {'TGT_NAME_1': 'DS_TGT2', 'TGT_NAME_2': 'DS_TGT2'}\n",
      "2022-01-28 09:29:10,792 INFO sqlalchemy.engine.Engine COMMIT\n"
     ]
    }
   ],
   "source": [
    "# Perform IFM on target 2\n",
    "ifm_matcher_obj.set_policy(policy_match_tgt2)\n",
    "ifm_matcher_obj.execute_matching()"
   ]
  },
  {
   "cell_type": "markdown",
   "id": "9fbc9983",
   "metadata": {},
   "source": [
    "## 10. Retrieving the matching and no-matching tables"
   ]
  },
  {
   "cell_type": "code",
   "execution_count": null,
   "id": "dea738bd",
   "metadata": {},
   "outputs": [],
   "source": [
    "# Query the matching table\n",
    "df_matching = db_matching.get_data_as_df()\n",
    "df_matching"
   ]
  },
  {
   "cell_type": "code",
   "execution_count": null,
   "id": "6dd7f9fb",
   "metadata": {},
   "outputs": [],
   "source": [
    "# Query the no-matching table\n",
    "df_no_matching = db_no_matching.get_data_as_df()\n",
    "df_no_matching"
   ]
  },
  {
   "cell_type": "markdown",
   "id": "d4864d3c",
   "metadata": {},
   "source": [
    "## 11. Close database connection"
   ]
  },
  {
   "cell_type": "code",
   "execution_count": 43,
   "id": "39264089",
   "metadata": {},
   "outputs": [],
   "source": [
    "db_conn.disconnect()"
   ]
  },
  {
   "cell_type": "code",
   "execution_count": 44,
   "id": "9b483c5f",
   "metadata": {},
   "outputs": [
    {
     "data": {
      "text/plain": [
       "False"
      ]
     },
     "execution_count": 44,
     "metadata": {},
     "output_type": "execute_result"
    }
   ],
   "source": [
    "db_conn.is_connected()"
   ]
  },
  {
   "cell_type": "code",
   "execution_count": null,
   "id": "58383193",
   "metadata": {},
   "outputs": [],
   "source": []
  }
 ],
 "metadata": {
  "kernelspec": {
   "display_name": "Python 3",
   "language": "python",
   "name": "python3"
  },
  "language_info": {
   "codemirror_mode": {
    "name": "ipython",
    "version": 3
   },
   "file_extension": ".py",
   "mimetype": "text/x-python",
   "name": "python",
   "nbconvert_exporter": "python",
   "pygments_lexer": "ipython3",
   "version": "3.9.5"
  }
 },
 "nbformat": 4,
 "nbformat_minor": 5
}
