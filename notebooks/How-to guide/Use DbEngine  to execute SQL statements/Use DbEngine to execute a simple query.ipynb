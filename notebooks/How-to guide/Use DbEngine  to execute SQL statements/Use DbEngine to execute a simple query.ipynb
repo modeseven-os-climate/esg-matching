{
 "cells": [
  {
   "cell_type": "markdown",
   "id": "de2f0f6b",
   "metadata": {},
   "source": [
    "# How to...use DbEngine to execute a simple query"
   ]
  },
  {
   "cell_type": "code",
   "execution_count": 1,
   "id": "cbe3533f",
   "metadata": {},
   "outputs": [],
   "source": [
    "# Sets up the location of the api relative to this notebook \n",
    "import sys\n",
    "sys.path.append('../../../')"
   ]
  },
  {
   "cell_type": "code",
   "execution_count": 2,
   "id": "61ad8857",
   "metadata": {},
   "outputs": [],
   "source": [
    "# Import the module for connection to a sqllite database\n",
    "from esg_matching.db_engine.engines.connector_sql_lite import SqlLiteConnector"
   ]
  },
  {
   "cell_type": "code",
   "execution_count": 3,
   "id": "b08c8b26",
   "metadata": {},
   "outputs": [],
   "source": [
    "# Import the module for datasource reflection\n",
    "from esg_matching.db_data_source.db_data_source import DbDataSource"
   ]
  },
  {
   "cell_type": "markdown",
   "id": "76261748",
   "metadata": {},
   "source": [
    "## 1. Database setup"
   ]
  },
  {
   "cell_type": "code",
   "execution_count": 4,
   "id": "4a74ea0d",
   "metadata": {},
   "outputs": [],
   "source": [
    "# Localization of the database to be created in relation to this jupyter notebook\n",
    "# The database will be created in the /data/dabase folder, under the project main folder\n",
    "path_db = '../../../tests/data/notebook/sqlite/test_esg_matching.db'"
   ]
  },
  {
   "cell_type": "code",
   "execution_count": 5,
   "id": "78aa8e7a",
   "metadata": {},
   "outputs": [],
   "source": [
    "# The database connector is represented by the class SqlLiteConnector \n",
    "db_conn = SqlLiteConnector()"
   ]
  },
  {
   "cell_type": "code",
   "execution_count": 6,
   "id": "5454520a",
   "metadata": {},
   "outputs": [],
   "source": [
    "# The connect() method of the SqlLiteConnector is used to stablish a connection with the database if it exists, \n",
    "# or to create a new one. The property path_db defines the location and name of the database.\n",
    "# The  property show_sql_statement indicates if the SQL statements are echoed (or printed) in the default output channel.\n",
    "db_conn.path_db = path_db\n",
    "db_conn.show_sql_statement = False\n",
    "db_conn.connect()"
   ]
  },
  {
   "cell_type": "code",
   "execution_count": 7,
   "id": "7240880a",
   "metadata": {},
   "outputs": [
    {
     "data": {
      "text/plain": [
       "True"
      ]
     },
     "execution_count": 7,
     "metadata": {},
     "output_type": "execute_result"
    }
   ],
   "source": [
    "# Check if the connection was stablished\n",
    "db_conn.is_connected()"
   ]
  },
  {
   "cell_type": "markdown",
   "id": "1e3e4da7",
   "metadata": {},
   "source": [
    "## 2. Using DbDataSource to reflect an existent table "
   ]
  },
  {
   "cell_type": "code",
   "execution_count": 8,
   "id": "776350e0",
   "metadata": {},
   "outputs": [],
   "source": [
    "# Create a datasource object\n",
    "my_table = DbDataSource(db_conn, 'DS_MATCHING')"
   ]
  },
  {
   "cell_type": "code",
   "execution_count": 9,
   "id": "1b28056b",
   "metadata": {},
   "outputs": [],
   "source": [
    "# Set up important properties before syncronizing the database table\n",
    "my_table.table_name = 'ESG_MATCHING'"
   ]
  },
  {
   "cell_type": "code",
   "execution_count": 10,
   "id": "5cc50594",
   "metadata": {},
   "outputs": [],
   "source": [
    "# Sync with database table and bring the attribute names and pks\n",
    "my_table.sync_with_db_table(set_original_fields=True, set_pks=True)"
   ]
  },
  {
   "cell_type": "code",
   "execution_count": 11,
   "id": "3d348e87",
   "metadata": {},
   "outputs": [
    {
     "data": {
      "text/plain": [
       "[Column('TIMESTAMP', DATETIME(), table=<ESG_MATCHING>, server_default=DefaultClause(<sqlalchemy.sql.elements.TextClause object at 0x0000024F9DAE26A0>, for_update=False)),\n",
       " Column('MATCHING_ID', INTEGER(), table=<ESG_MATCHING>, primary_key=True, nullable=False),\n",
       " Column('REF_NAME', VARCHAR(), table=<ESG_MATCHING>),\n",
       " Column('TGT_NAME', VARCHAR(), table=<ESG_MATCHING>),\n",
       " Column('MATCHING_TYPE', VARCHAR(), table=<ESG_MATCHING>),\n",
       " Column('MATCHING_SCOPE', VARCHAR(), table=<ESG_MATCHING>),\n",
       " Column('MATCHING_RULE', VARCHAR(), table=<ESG_MATCHING>),\n",
       " Column('REF_ID', INTEGER(), table=<ESG_MATCHING>),\n",
       " Column('REF_COMPANY', VARCHAR(), table=<ESG_MATCHING>),\n",
       " Column('REF_COUNTRY', VARCHAR(), table=<ESG_MATCHING>),\n",
       " Column('TGT_ID', INTEGER(), table=<ESG_MATCHING>),\n",
       " Column('TGT_COMPANY', VARCHAR(), table=<ESG_MATCHING>),\n",
       " Column('TGT_COUNTRY', VARCHAR(), table=<ESG_MATCHING>),\n",
       " Column('ISIN', VARCHAR(), table=<ESG_MATCHING>),\n",
       " Column('LEI', VARCHAR(), table=<ESG_MATCHING>),\n",
       " Column('SEDOL', VARCHAR(), table=<ESG_MATCHING>)]"
      ]
     },
     "execution_count": 11,
     "metadata": {},
     "output_type": "execute_result"
    }
   ],
   "source": [
    "# Checking the attributes\n",
    "my_table.get_attribute_names()"
   ]
  },
  {
   "cell_type": "markdown",
   "id": "6e686945",
   "metadata": {},
   "source": [
    "## 3. Build a query"
   ]
  },
  {
   "cell_type": "code",
   "execution_count": 12,
   "id": "4d6ed0ac",
   "metadata": {},
   "outputs": [],
   "source": [
    "# Import the query builder module \n",
    "from esg_matching.db_engine.builders.select_builder import SelectBuilder\n",
    "from esg_matching.db_engine.builders.sql_condition_builder import SqlConditionBuilder\n",
    "from esg_matching.db_engine.executor.dql_manager import DqlManager"
   ]
  },
  {
   "cell_type": "code",
   "execution_count": 13,
   "id": "3a257ddb",
   "metadata": {},
   "outputs": [],
   "source": [
    "# Instantiate the condition builder as to construct where clauses for your select statement\n",
    "condition_builder = SqlConditionBuilder()"
   ]
  },
  {
   "cell_type": "code",
   "execution_count": 14,
   "id": "11b9b281",
   "metadata": {},
   "outputs": [
    {
     "data": {
      "text/plain": [
       "Column('TGT_NAME', VARCHAR(), table=<ESG_MATCHING>)"
      ]
     },
     "execution_count": 14,
     "metadata": {},
     "output_type": "execute_result"
    }
   ],
   "source": [
    "# Get the reference to the column in the datasource to be used in the where clause\n",
    "col_tgt = my_table.get_table_column('TGT_NAME')\n",
    "col_tgt"
   ]
  },
  {
   "cell_type": "code",
   "execution_count": 24,
   "id": "23306dad",
   "metadata": {},
   "outputs": [
    {
     "name": "stdout",
     "output_type": "stream",
     "text": [
      "\"ESG_MATCHING\".\"TGT_NAME\" = :TGT_NAME_1\n"
     ]
    }
   ],
   "source": [
    "# Build the where condition clause\n",
    "where_condition = condition_builder.create_condition().equal_value(col_tgt, 'DS-TGT1').get_condition()\n",
    "print(str(where_condition))"
   ]
  },
  {
   "cell_type": "code",
   "execution_count": 25,
   "id": "975070a3",
   "metadata": {},
   "outputs": [],
   "source": [
    "# Instantiate the select builder as to construct select statements\n",
    "sql_builder = SelectBuilder()"
   ]
  },
  {
   "cell_type": "code",
   "execution_count": 26,
   "id": "e5b91802",
   "metadata": {},
   "outputs": [],
   "source": [
    "# Define the names of the column for your select and get the table reference to them \n",
    "col_names = ['REF_ID', 'REF_COMPANY', 'REF_COUNTRY', 'TGT_ID', 'TGT_COMPANY', 'TGT_COUNTRY', 'ISIN', 'LEI', 'SEDOL']\n",
    "col_alias = ['REF_ID', 'REF_ENTITY', 'REF_COUNTRY', 'TGT_ID', 'TGT_ENTITY', 'TGT_COUNTRY', 'ISIN_ID', 'LEI_ID', 'SEDOL_ID']\n",
    "cols_db = my_table.get_table_columns(col_names, col_alias)"
   ]
  },
  {
   "cell_type": "code",
   "execution_count": 27,
   "id": "2f543382",
   "metadata": {},
   "outputs": [],
   "source": [
    "# Uncomment the next line to select the columns without an alias\n",
    "# cols_db = my_table.get_table_columns(col_names)"
   ]
  },
  {
   "cell_type": "code",
   "execution_count": 28,
   "id": "897a5c4f",
   "metadata": {},
   "outputs": [
    {
     "name": "stdout",
     "output_type": "stream",
     "text": [
      "SELECT \"ESG_MATCHING\".\"REF_ID\" AS \"REF_ID\", \"ESG_MATCHING\".\"REF_COMPANY\" AS \"REF_ENTITY\", \"ESG_MATCHING\".\"REF_COUNTRY\" AS \"REF_COUNTRY\", \"ESG_MATCHING\".\"TGT_ID\" AS \"TGT_ID\", \"ESG_MATCHING\".\"TGT_COMPANY\" AS \"TGT_ENTITY\", \"ESG_MATCHING\".\"TGT_COUNTRY\" AS \"TGT_COUNTRY\", \"ESG_MATCHING\".\"ISIN\" AS \"ISIN_ID\", \"ESG_MATCHING\".\"LEI\" AS \"LEI_ID\", \"ESG_MATCHING\".\"SEDOL\" AS \"SEDOL_ID\" \n",
      "FROM \"ESG_MATCHING\" \n",
      "WHERE \"ESG_MATCHING\".\"TGT_NAME\" = ?\n"
     ]
    }
   ],
   "source": [
    "# Build the sql statement\n",
    "sql_stm = sql_builder.create_select(cols_db).from_table(my_table.table_obj).where_condition(where_condition).build_statement()\n",
    "print(str(sql_stm))"
   ]
  },
  {
   "cell_type": "code",
   "execution_count": 29,
   "id": "f0b35fcd",
   "metadata": {},
   "outputs": [],
   "source": [
    "# Create the Data Query Language (DQL) manager object that allows to execute queries in the database\n",
    "sql_executor = DqlManager(db_conn)"
   ]
  },
  {
   "cell_type": "code",
   "execution_count": 30,
   "id": "0f8a8b8c",
   "metadata": {},
   "outputs": [
    {
     "data": {
      "text/plain": [
       "[]"
      ]
     },
     "execution_count": 30,
     "metadata": {},
     "output_type": "execute_result"
    }
   ],
   "source": [
    "# Execute the query and receive data as a list of tuples\n",
    "result_data = sql_executor.query_by_sql_statement(sql_stm)\n",
    "result_data"
   ]
  },
  {
   "cell_type": "code",
   "execution_count": 31,
   "id": "cfd99ac9",
   "metadata": {
    "scrolled": true
   },
   "outputs": [
    {
     "data": {
      "text/html": [
       "<div>\n",
       "<style scoped>\n",
       "    .dataframe tbody tr th:only-of-type {\n",
       "        vertical-align: middle;\n",
       "    }\n",
       "\n",
       "    .dataframe tbody tr th {\n",
       "        vertical-align: top;\n",
       "    }\n",
       "\n",
       "    .dataframe thead th {\n",
       "        text-align: right;\n",
       "    }\n",
       "</style>\n",
       "<table border=\"1\" class=\"dataframe\">\n",
       "  <thead>\n",
       "    <tr style=\"text-align: right;\">\n",
       "      <th></th>\n",
       "      <th>REF_ID</th>\n",
       "      <th>REF_ENTITY</th>\n",
       "      <th>REF_COUNTRY</th>\n",
       "      <th>TGT_ID</th>\n",
       "      <th>TGT_ENTITY</th>\n",
       "      <th>TGT_COUNTRY</th>\n",
       "      <th>ISIN_ID</th>\n",
       "      <th>LEI_ID</th>\n",
       "      <th>SEDOL_ID</th>\n",
       "    </tr>\n",
       "  </thead>\n",
       "  <tbody>\n",
       "  </tbody>\n",
       "</table>\n",
       "</div>"
      ],
      "text/plain": [
       "Empty DataFrame\n",
       "Columns: [REF_ID, REF_ENTITY, REF_COUNTRY, TGT_ID, TGT_ENTITY, TGT_COUNTRY, ISIN_ID, LEI_ID, SEDOL_ID]\n",
       "Index: []"
      ]
     },
     "execution_count": 31,
     "metadata": {},
     "output_type": "execute_result"
    }
   ],
   "source": [
    "# Execute the query and receive data as a pandas dataframe\n",
    "result_data = sql_executor.query_by_sql_statement(sql_stm, as_pandas_df=True)\n",
    "result_data"
   ]
  },
  {
   "cell_type": "code",
   "execution_count": null,
   "id": "fb11f326",
   "metadata": {},
   "outputs": [],
   "source": []
  }
 ],
 "metadata": {
  "kernelspec": {
   "display_name": "Python 3",
   "language": "python",
   "name": "python3"
  },
  "language_info": {
   "codemirror_mode": {
    "name": "ipython",
    "version": 3
   },
   "file_extension": ".py",
   "mimetype": "text/x-python",
   "name": "python",
   "nbconvert_exporter": "python",
   "pygments_lexer": "ipython3",
   "version": "3.9.5"
  }
 },
 "nbformat": 4,
 "nbformat_minor": 5
}
