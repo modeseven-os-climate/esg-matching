{
 "cells": [
  {
   "cell_type": "markdown",
   "id": "de2f0f6b",
   "metadata": {},
   "source": [
    "# How to...use DbEngine to execute a simple query"
   ]
  },
  {
   "cell_type": "code",
   "execution_count": 1,
   "id": "cbe3533f",
   "metadata": {},
   "outputs": [],
   "source": [
    "# Sets up the location of the api relative to this notebook \n",
    "import sys\n",
    "sys.path.append('../../../')"
   ]
  },
  {
   "cell_type": "code",
   "execution_count": 4,
   "id": "61ad8857",
   "metadata": {},
   "outputs": [],
   "source": [
    "# Import the module for connection to a sqllite database\n",
    "from esg_matching.engine.connectors.sql_lite import SqlLiteConnector"
   ]
  },
  {
   "cell_type": "code",
   "execution_count": 5,
   "id": "b08c8b26",
   "metadata": {},
   "outputs": [],
   "source": [
    "# Import the module for datasource reflection\n",
    "from esg_matching.data_source.db_source import DbDataSource"
   ]
  },
  {
   "cell_type": "markdown",
   "id": "76261748",
   "metadata": {},
   "source": [
    "## 1. Database setup"
   ]
  },
  {
   "cell_type": "code",
   "execution_count": 6,
   "id": "4a74ea0d",
   "metadata": {},
   "outputs": [],
   "source": [
    "# Localization of the database to be created in relation to this jupyter notebook\n",
    "# The database will be created in the /data/dabase folder, under the project main folder\n",
    "path_db = '../../../tests/data/howto/sqlite/test_esg_matching.db'"
   ]
  },
  {
   "cell_type": "code",
   "execution_count": 7,
   "id": "78aa8e7a",
   "metadata": {},
   "outputs": [],
   "source": [
    "# The database connector is represented by the class SqlLiteConnector \n",
    "db_conn = SqlLiteConnector()"
   ]
  },
  {
   "cell_type": "code",
   "execution_count": 8,
   "id": "5454520a",
   "metadata": {},
   "outputs": [],
   "source": [
    "# The connect() method of the SqlLiteConnector is used to stablish a connection with the database if it exists, \n",
    "# or to create a new one. The property path_db defines the location and name of the database.\n",
    "# The  property show_sql_statement indicates if the SQL statements are echoed (or printed) in the default output channel.\n",
    "db_conn.path_db = path_db\n",
    "db_conn.show_sql_statement = False\n",
    "db_conn.connect()"
   ]
  },
  {
   "cell_type": "code",
   "execution_count": 9,
   "id": "7240880a",
   "metadata": {},
   "outputs": [
    {
     "data": {
      "text/plain": [
       "True"
      ]
     },
     "execution_count": 9,
     "metadata": {},
     "output_type": "execute_result"
    }
   ],
   "source": [
    "# Check if the connection was stablished\n",
    "db_conn.is_connected()"
   ]
  },
  {
   "cell_type": "markdown",
   "id": "1e3e4da7",
   "metadata": {},
   "source": [
    "## 2. Using DbDataSource to reflect an existent table "
   ]
  },
  {
   "cell_type": "code",
   "execution_count": 10,
   "id": "776350e0",
   "metadata": {},
   "outputs": [],
   "source": [
    "# Create a datasource object\n",
    "my_table = DbDataSource(db_conn, 'ds_matching')"
   ]
  },
  {
   "cell_type": "code",
   "execution_count": 11,
   "id": "1b28056b",
   "metadata": {},
   "outputs": [],
   "source": [
    "# Set up important properties before syncronizing the database table\n",
    "my_table.table_name = 'esg_matching'"
   ]
  },
  {
   "cell_type": "code",
   "execution_count": 12,
   "id": "5cc50594",
   "metadata": {},
   "outputs": [],
   "source": [
    "# Sync with database table and bring the attribute names and pks\n",
    "my_table.sync_with_db_table(set_original_fields=True, set_pks=True)"
   ]
  },
  {
   "cell_type": "code",
   "execution_count": 13,
   "id": "3d348e87",
   "metadata": {},
   "outputs": [
    {
     "data": {
      "text/plain": [
       "[Column('timestamp', DATETIME(), table=<esg_matching>, server_default=DefaultClause(<sqlalchemy.sql.elements.TextClause object at 0x000001E14EFA3580>, for_update=False)),\n",
       " Column('matching_id', INTEGER(), table=<esg_matching>, primary_key=True, nullable=False),\n",
       " Column('ref_name', VARCHAR(), table=<esg_matching>),\n",
       " Column('tgt_name', VARCHAR(), table=<esg_matching>),\n",
       " Column('matching_type', VARCHAR(), table=<esg_matching>),\n",
       " Column('matching_scope', VARCHAR(), table=<esg_matching>),\n",
       " Column('matching_rule', VARCHAR(), table=<esg_matching>),\n",
       " Column('ref_id', INTEGER(), table=<esg_matching>),\n",
       " Column('ref_company', VARCHAR(), table=<esg_matching>),\n",
       " Column('ref_country', VARCHAR(), table=<esg_matching>),\n",
       " Column('tgt_id', INTEGER(), table=<esg_matching>),\n",
       " Column('tgt_company', VARCHAR(), table=<esg_matching>),\n",
       " Column('tgt_country', VARCHAR(), table=<esg_matching>),\n",
       " Column('isin', VARCHAR(), table=<esg_matching>),\n",
       " Column('lei', VARCHAR(), table=<esg_matching>),\n",
       " Column('sedol', VARCHAR(), table=<esg_matching>)]"
      ]
     },
     "execution_count": 13,
     "metadata": {},
     "output_type": "execute_result"
    }
   ],
   "source": [
    "# Checking the attributes\n",
    "my_table.get_attribute_names()"
   ]
  },
  {
   "cell_type": "markdown",
   "id": "6e686945",
   "metadata": {},
   "source": [
    "## 3. Build a query"
   ]
  },
  {
   "cell_type": "code",
   "execution_count": 14,
   "id": "4d6ed0ac",
   "metadata": {},
   "outputs": [],
   "source": [
    "# Import the query builder module \n",
    "from esg_matching.engine.builders.sql_builder import SelectBuilder, SqlConditionBuilder\n",
    "from esg_matching.engine.sql.dql import DqlManager"
   ]
  },
  {
   "cell_type": "code",
   "execution_count": 15,
   "id": "3a257ddb",
   "metadata": {},
   "outputs": [],
   "source": [
    "# Instantiate the condition builder as to construct where clauses for your select statement\n",
    "condition_builder = SqlConditionBuilder()"
   ]
  },
  {
   "cell_type": "code",
   "execution_count": 16,
   "id": "11b9b281",
   "metadata": {},
   "outputs": [
    {
     "data": {
      "text/plain": [
       "Column('tgt_name', VARCHAR(), table=<esg_matching>)"
      ]
     },
     "execution_count": 16,
     "metadata": {},
     "output_type": "execute_result"
    }
   ],
   "source": [
    "# Get the reference to the column in the datasource to be used in the where clause\n",
    "col_tgt = my_table.get_table_column('tgt_name')\n",
    "col_tgt"
   ]
  },
  {
   "cell_type": "code",
   "execution_count": 17,
   "id": "23306dad",
   "metadata": {},
   "outputs": [
    {
     "name": "stdout",
     "output_type": "stream",
     "text": [
      "esg_matching.tgt_name = :tgt_name_1\n"
     ]
    }
   ],
   "source": [
    "# Build the where condition clause\n",
    "where_condition = condition_builder.create_condition().equal_value(col_tgt, 'DS-TGT1').get_condition()\n",
    "print(str(where_condition))"
   ]
  },
  {
   "cell_type": "code",
   "execution_count": 18,
   "id": "975070a3",
   "metadata": {},
   "outputs": [],
   "source": [
    "# Instantiate the select builder as to construct select statements\n",
    "sql_builder = SelectBuilder()"
   ]
  },
  {
   "cell_type": "code",
   "execution_count": 19,
   "id": "e5b91802",
   "metadata": {},
   "outputs": [],
   "source": [
    "# Define the names of the column for your select and get the table reference to them \n",
    "col_names = ['ref_id', 'ref_company', 'ref_country', 'tgt_id', 'tgt_company', 'tgt_country', 'isin', 'lei', 'sedol']\n",
    "col_alias = ['ref_id', 'ref_entity', 'ref_country', 'tgt_id', 'tgt_entity', 'tgt_country', 'isin_id', 'lei_id', 'sedol_id']\n",
    "cols_db = my_table.get_table_columns(col_names, col_alias)"
   ]
  },
  {
   "cell_type": "code",
   "execution_count": null,
   "id": "2f543382",
   "metadata": {},
   "outputs": [],
   "source": [
    "# Uncomment the next line to select the columns without an alias\n",
    "# cols_db = my_table.get_table_columns(col_names)"
   ]
  },
  {
   "cell_type": "code",
   "execution_count": 20,
   "id": "897a5c4f",
   "metadata": {},
   "outputs": [
    {
     "name": "stdout",
     "output_type": "stream",
     "text": [
      "SELECT esg_matching.ref_id AS ref_id, esg_matching.ref_company AS ref_entity, esg_matching.ref_country AS ref_country, esg_matching.tgt_id AS tgt_id, esg_matching.tgt_company AS tgt_entity, esg_matching.tgt_country AS tgt_country, esg_matching.isin AS isin_id, esg_matching.lei AS lei_id, esg_matching.sedol AS sedol_id \n",
      "FROM esg_matching \n",
      "WHERE esg_matching.tgt_name = ?\n"
     ]
    }
   ],
   "source": [
    "# Build the sql statement\n",
    "sql_stm = sql_builder.create_select(cols_db).from_table(my_table.table_obj).where_condition(where_condition).build_statement()\n",
    "print(str(sql_stm))"
   ]
  },
  {
   "cell_type": "code",
   "execution_count": 21,
   "id": "f0b35fcd",
   "metadata": {},
   "outputs": [],
   "source": [
    "# Create the Data Query Language (DQL) manager object that allows to execute queries in the database\n",
    "sql_executor = DqlManager(db_conn)"
   ]
  },
  {
   "cell_type": "code",
   "execution_count": 22,
   "id": "0f8a8b8c",
   "metadata": {},
   "outputs": [
    {
     "data": {
      "text/plain": [
       "[]"
      ]
     },
     "execution_count": 22,
     "metadata": {},
     "output_type": "execute_result"
    }
   ],
   "source": [
    "# Execute the query and receive data as a list of tuples\n",
    "result_data = sql_executor.query_by_sql_statement(sql_stm)\n",
    "result_data"
   ]
  },
  {
   "cell_type": "code",
   "execution_count": 23,
   "id": "cfd99ac9",
   "metadata": {
    "scrolled": true
   },
   "outputs": [
    {
     "data": {
      "text/html": [
       "<div>\n",
       "<style scoped>\n",
       "    .dataframe tbody tr th:only-of-type {\n",
       "        vertical-align: middle;\n",
       "    }\n",
       "\n",
       "    .dataframe tbody tr th {\n",
       "        vertical-align: top;\n",
       "    }\n",
       "\n",
       "    .dataframe thead th {\n",
       "        text-align: right;\n",
       "    }\n",
       "</style>\n",
       "<table border=\"1\" class=\"dataframe\">\n",
       "  <thead>\n",
       "    <tr style=\"text-align: right;\">\n",
       "      <th></th>\n",
       "      <th>ref_id</th>\n",
       "      <th>ref_entity</th>\n",
       "      <th>ref_country</th>\n",
       "      <th>tgt_id</th>\n",
       "      <th>tgt_entity</th>\n",
       "      <th>tgt_country</th>\n",
       "      <th>isin_id</th>\n",
       "      <th>lei_id</th>\n",
       "      <th>sedol_id</th>\n",
       "    </tr>\n",
       "  </thead>\n",
       "  <tbody>\n",
       "  </tbody>\n",
       "</table>\n",
       "</div>"
      ],
      "text/plain": [
       "Empty DataFrame\n",
       "Columns: [ref_id, ref_entity, ref_country, tgt_id, tgt_entity, tgt_country, isin_id, lei_id, sedol_id]\n",
       "Index: []"
      ]
     },
     "execution_count": 23,
     "metadata": {},
     "output_type": "execute_result"
    }
   ],
   "source": [
    "# Execute the query and receive data as a pandas dataframe\n",
    "result_data = sql_executor.query_by_sql_statement(sql_stm, as_pandas_df=True)\n",
    "result_data"
   ]
  },
  {
   "cell_type": "code",
   "execution_count": null,
   "id": "fb11f326",
   "metadata": {},
   "outputs": [],
   "source": []
  }
 ],
 "metadata": {
  "kernelspec": {
   "display_name": "Python 3",
   "language": "python",
   "name": "python3"
  },
  "language_info": {
   "codemirror_mode": {
    "name": "ipython",
    "version": 3
   },
   "file_extension": ".py",
   "mimetype": "text/x-python",
   "name": "python",
   "nbconvert_exporter": "python",
   "pygments_lexer": "ipython3",
   "version": "3.9.5"
  }
 },
 "nbformat": 4,
 "nbformat_minor": 5
}
