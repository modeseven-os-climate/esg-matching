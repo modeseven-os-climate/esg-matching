{
 "cells": [
  {
   "cell_type": "markdown",
   "id": "e170c7ce",
   "metadata": {},
   "source": [
    "# How to...create Matching and No-Matching Tables on SqlLite database"
   ]
  },
  {
   "cell_type": "code",
   "execution_count": 1,
   "id": "3ecdce6d",
   "metadata": {},
   "outputs": [],
   "source": [
    "# Sets up the location of the api relative to this notebook \n",
    "import sys\n",
    "sys.path.append('../../../')"
   ]
  },
  {
   "cell_type": "code",
   "execution_count": 2,
   "id": "689dc67d",
   "metadata": {},
   "outputs": [],
   "source": [
    "# Import the module for connection to a sqllite database\n",
    "from esg_matching.db_engine.engines.connector_sql_lite import SqlLiteConnector"
   ]
  },
  {
   "cell_type": "code",
   "execution_count": 3,
   "id": "0684c1bc",
   "metadata": {},
   "outputs": [],
   "source": [
    "# Import the modules for file management\n",
    "from esg_matching.file_reader.file import File\n",
    "from esg_matching.file_reader.file_reader_csv import FileReaderCsv"
   ]
  },
  {
   "cell_type": "code",
   "execution_count": 4,
   "id": "691ed0b7",
   "metadata": {},
   "outputs": [],
   "source": [
    "# Import the modules for the etl processing: reading, transformation and loading data to a database\n",
    "from esg_matching.processing.etl_processing import EtlProcessing"
   ]
  },
  {
   "cell_type": "markdown",
   "id": "cec1178b",
   "metadata": {},
   "source": [
    "## 1. Database setup"
   ]
  },
  {
   "cell_type": "code",
   "execution_count": 5,
   "id": "3d83cd84",
   "metadata": {},
   "outputs": [],
   "source": [
    "# Localization of the database to be created in relation to this jupyter notebook\n",
    "# The database will be created in the /data/dabase folder, under the project main folder\n",
    "path_db = '../../../tests/data/notebook/sqlite/test_esg_matching.db'"
   ]
  },
  {
   "cell_type": "code",
   "execution_count": 6,
   "id": "342a1823",
   "metadata": {},
   "outputs": [],
   "source": [
    "# The database connector is represented by the class SqlLiteConnector \n",
    "db_conn = SqlLiteConnector()"
   ]
  },
  {
   "cell_type": "code",
   "execution_count": 7,
   "id": "1f032161",
   "metadata": {},
   "outputs": [],
   "source": [
    "# The connect() method of the SqlLiteConnector is used to stablish a connection with the database if it exists, \n",
    "# or to create a new one. The property path_db defines the location and name of the database.\n",
    "# The  property show_sql_statement indicates if the SQL statements are echoed (or printed) in the default output channel.\n",
    "db_conn.path_db = path_db\n",
    "db_conn.show_sql_statement = True\n",
    "db_conn.connect()"
   ]
  },
  {
   "cell_type": "code",
   "execution_count": 8,
   "id": "30e529b6",
   "metadata": {},
   "outputs": [
    {
     "data": {
      "text/plain": [
       "True"
      ]
     },
     "execution_count": 8,
     "metadata": {},
     "output_type": "execute_result"
    }
   ],
   "source": [
    "# Check if the connection was stablished\n",
    "db_conn.is_connected()"
   ]
  },
  {
   "cell_type": "markdown",
   "id": "12d9f068",
   "metadata": {},
   "source": [
    "## 2. File setup"
   ]
  },
  {
   "cell_type": "code",
   "execution_count": 9,
   "id": "1a9b98c4",
   "metadata": {},
   "outputs": [
    {
     "data": {
      "text/plain": [
       "'../../../tests/data/notebook/sqlite/test_matching_sqlite.json'"
      ]
     },
     "execution_count": 9,
     "metadata": {},
     "output_type": "execute_result"
    }
   ],
   "source": [
    "# Settings for Macthing Table\n",
    "match_settings = '../../../tests/data/notebook/sqlite/test_matching_sqlite.json'\n",
    "match_settings"
   ]
  },
  {
   "cell_type": "code",
   "execution_count": 10,
   "id": "1cc2d732",
   "metadata": {},
   "outputs": [
    {
     "data": {
      "text/plain": [
       "'../../../tests/data/notebook/sqlite/test_no_matching_sqlite.json'"
      ]
     },
     "execution_count": 10,
     "metadata": {},
     "output_type": "execute_result"
    }
   ],
   "source": [
    "# Settings for No-Macthing Table\n",
    "no_match_settings = '../../../tests/data/notebook/sqlite/test_no_matching_sqlite.json'\n",
    "no_match_settings"
   ]
  },
  {
   "cell_type": "code",
   "execution_count": 11,
   "id": "8548506e",
   "metadata": {},
   "outputs": [],
   "source": [
    "# Create a file object\n",
    "file_match = File(match_settings)\n",
    "file_no_match = File(no_match_settings)"
   ]
  },
  {
   "cell_type": "code",
   "execution_count": 12,
   "id": "e21e0d15",
   "metadata": {},
   "outputs": [],
   "source": [
    "# Create an ETL process object\n",
    "etl_proc_obj = EtlProcessing(db_conn)"
   ]
  },
  {
   "cell_type": "markdown",
   "id": "75360852",
   "metadata": {},
   "source": [
    "## 3. Create Matching from file settings"
   ]
  },
  {
   "cell_type": "code",
   "execution_count": 13,
   "id": "42daa832",
   "metadata": {},
   "outputs": [
    {
     "name": "stdout",
     "output_type": "stream",
     "text": [
      "2022-01-28 09:41:08,308 INFO sqlalchemy.engine.Engine PRAGMA main.table_info(\"ESG_MATCHING\")\n",
      "2022-01-28 09:41:08,312 INFO sqlalchemy.engine.Engine [raw sql] ()\n",
      "2022-01-28 09:41:08,321 INFO sqlalchemy.engine.Engine PRAGMA main.table_xinfo(\"ESG_MATCHING\")\n",
      "2022-01-28 09:41:08,322 INFO sqlalchemy.engine.Engine [raw sql] ()\n",
      "2022-01-28 09:41:08,327 INFO sqlalchemy.engine.Engine SELECT sql FROM  (SELECT * FROM sqlite_master UNION ALL   SELECT * FROM sqlite_temp_master) WHERE name = ? AND type = 'table'\n",
      "2022-01-28 09:41:08,328 INFO sqlalchemy.engine.Engine [raw sql] ('ESG_MATCHING',)\n",
      "2022-01-28 09:41:08,331 INFO sqlalchemy.engine.Engine PRAGMA main.foreign_key_list(\"ESG_MATCHING\")\n",
      "2022-01-28 09:41:08,332 INFO sqlalchemy.engine.Engine [raw sql] ()\n",
      "2022-01-28 09:41:08,335 INFO sqlalchemy.engine.Engine PRAGMA temp.foreign_key_list(\"ESG_MATCHING\")\n",
      "2022-01-28 09:41:08,339 INFO sqlalchemy.engine.Engine [raw sql] ()\n",
      "2022-01-28 09:41:08,342 INFO sqlalchemy.engine.Engine SELECT sql FROM  (SELECT * FROM sqlite_master UNION ALL   SELECT * FROM sqlite_temp_master) WHERE name = ? AND type = 'table'\n",
      "2022-01-28 09:41:08,344 INFO sqlalchemy.engine.Engine [raw sql] ('ESG_MATCHING',)\n",
      "2022-01-28 09:41:08,348 INFO sqlalchemy.engine.Engine PRAGMA main.index_list(\"ESG_MATCHING\")\n",
      "2022-01-28 09:41:08,349 INFO sqlalchemy.engine.Engine [raw sql] ()\n",
      "2022-01-28 09:41:08,352 INFO sqlalchemy.engine.Engine PRAGMA temp.index_list(\"ESG_MATCHING\")\n",
      "2022-01-28 09:41:08,353 INFO sqlalchemy.engine.Engine [raw sql] ()\n",
      "2022-01-28 09:41:08,355 INFO sqlalchemy.engine.Engine PRAGMA main.index_list(\"ESG_MATCHING\")\n",
      "2022-01-28 09:41:08,356 INFO sqlalchemy.engine.Engine [raw sql] ()\n",
      "2022-01-28 09:41:08,359 INFO sqlalchemy.engine.Engine PRAGMA temp.index_list(\"ESG_MATCHING\")\n",
      "2022-01-28 09:41:08,361 INFO sqlalchemy.engine.Engine [raw sql] ()\n",
      "2022-01-28 09:41:08,364 INFO sqlalchemy.engine.Engine SELECT sql FROM  (SELECT * FROM sqlite_master UNION ALL   SELECT * FROM sqlite_temp_master) WHERE name = ? AND type = 'table'\n",
      "2022-01-28 09:41:08,365 INFO sqlalchemy.engine.Engine [raw sql] ('ESG_MATCHING',)\n",
      "2022-01-28 09:41:08,372 INFO sqlalchemy.engine.Engine BEGIN (implicit)\n",
      "2022-01-28 09:41:08,373 INFO sqlalchemy.engine.Engine \n",
      "DROP TABLE \"ESG_MATCHING\"\n",
      "2022-01-28 09:41:08,374 INFO sqlalchemy.engine.Engine [no key 0.00099s] ()\n",
      "2022-01-28 09:41:08,404 INFO sqlalchemy.engine.Engine COMMIT\n",
      "2022-01-28 09:41:08,417 INFO sqlalchemy.engine.Engine BEGIN (implicit)\n",
      "2022-01-28 09:41:08,420 INFO sqlalchemy.engine.Engine \n",
      "CREATE TABLE \"ESG_MATCHING\" (\n",
      "\t\"TIMESTAMP\" DATETIME DEFAULT (CURRENT_TIMESTAMP), \n",
      "\t\"MATCHING_ID\" INTEGER NOT NULL, \n",
      "\t\"REF_NAME\" VARCHAR, \n",
      "\t\"TGT_NAME\" VARCHAR, \n",
      "\t\"MATCHING_TYPE\" VARCHAR, \n",
      "\t\"MATCHING_SCOPE\" VARCHAR, \n",
      "\t\"MATCHING_RULE\" VARCHAR, \n",
      "\t\"REF_ID\" INTEGER, \n",
      "\t\"REF_COMPANY\" VARCHAR, \n",
      "\t\"REF_COUNTRY\" VARCHAR, \n",
      "\t\"TGT_ID\" INTEGER, \n",
      "\t\"TGT_COMPANY\" VARCHAR, \n",
      "\t\"TGT_COUNTRY\" VARCHAR, \n",
      "\t\"ISIN\" VARCHAR, \n",
      "\t\"LEI\" VARCHAR, \n",
      "\t\"SEDOL\" VARCHAR, \n",
      "\tPRIMARY KEY (\"MATCHING_ID\")\n",
      ")\n",
      "\n",
      "\n",
      "2022-01-28 09:41:08,421 INFO sqlalchemy.engine.Engine [no key 0.00140s] ()\n",
      "2022-01-28 09:41:08,447 INFO sqlalchemy.engine.Engine COMMIT\n"
     ]
    }
   ],
   "source": [
    "# Call the create_data_source_from_settings() method by passing the File\n",
    "db_matching = etl_proc_obj.create_data_source(file_match)"
   ]
  },
  {
   "cell_type": "code",
   "execution_count": 14,
   "id": "e98439ef",
   "metadata": {},
   "outputs": [
    {
     "data": {
      "text/plain": [
       "['TIMESTAMP',\n",
       " 'MATCHING_ID',\n",
       " 'REF_NAME',\n",
       " 'TGT_NAME',\n",
       " 'MATCHING_TYPE',\n",
       " 'MATCHING_SCOPE',\n",
       " 'MATCHING_RULE',\n",
       " 'REF_ID',\n",
       " 'REF_COMPANY',\n",
       " 'REF_COUNTRY',\n",
       " 'TGT_ID',\n",
       " 'TGT_COMPANY',\n",
       " 'TGT_COUNTRY',\n",
       " 'ISIN',\n",
       " 'LEI',\n",
       " 'SEDOL']"
      ]
     },
     "execution_count": 14,
     "metadata": {},
     "output_type": "execute_result"
    }
   ],
   "source": [
    "# Retrieve the attribute names of the database table\n",
    "db_matching.get_attribute_names()"
   ]
  },
  {
   "cell_type": "markdown",
   "id": "73d8b46c",
   "metadata": {},
   "source": [
    "## 4. Create No-Matching from file settings"
   ]
  },
  {
   "cell_type": "code",
   "execution_count": 15,
   "id": "65dca9ff",
   "metadata": {},
   "outputs": [
    {
     "name": "stdout",
     "output_type": "stream",
     "text": [
      "2022-01-28 09:41:08,512 INFO sqlalchemy.engine.Engine PRAGMA main.table_info(\"ESG_NO_MATCHING\")\n",
      "2022-01-28 09:41:08,513 INFO sqlalchemy.engine.Engine [raw sql] ()\n",
      "2022-01-28 09:41:08,518 INFO sqlalchemy.engine.Engine PRAGMA main.table_xinfo(\"ESG_NO_MATCHING\")\n",
      "2022-01-28 09:41:08,519 INFO sqlalchemy.engine.Engine [raw sql] ()\n",
      "2022-01-28 09:41:08,523 INFO sqlalchemy.engine.Engine SELECT sql FROM  (SELECT * FROM sqlite_master UNION ALL   SELECT * FROM sqlite_temp_master) WHERE name = ? AND type = 'table'\n",
      "2022-01-28 09:41:08,524 INFO sqlalchemy.engine.Engine [raw sql] ('ESG_NO_MATCHING',)\n",
      "2022-01-28 09:41:08,529 INFO sqlalchemy.engine.Engine PRAGMA main.foreign_key_list(\"ESG_NO_MATCHING\")\n",
      "2022-01-28 09:41:08,530 INFO sqlalchemy.engine.Engine [raw sql] ()\n",
      "2022-01-28 09:41:08,532 INFO sqlalchemy.engine.Engine PRAGMA temp.foreign_key_list(\"ESG_NO_MATCHING\")\n",
      "2022-01-28 09:41:08,534 INFO sqlalchemy.engine.Engine [raw sql] ()\n",
      "2022-01-28 09:41:08,539 INFO sqlalchemy.engine.Engine SELECT sql FROM  (SELECT * FROM sqlite_master UNION ALL   SELECT * FROM sqlite_temp_master) WHERE name = ? AND type = 'table'\n",
      "2022-01-28 09:41:08,541 INFO sqlalchemy.engine.Engine [raw sql] ('ESG_NO_MATCHING',)\n",
      "2022-01-28 09:41:08,546 INFO sqlalchemy.engine.Engine PRAGMA main.index_list(\"ESG_NO_MATCHING\")\n",
      "2022-01-28 09:41:08,546 INFO sqlalchemy.engine.Engine [raw sql] ()\n",
      "2022-01-28 09:41:08,549 INFO sqlalchemy.engine.Engine PRAGMA temp.index_list(\"ESG_NO_MATCHING\")\n",
      "2022-01-28 09:41:08,550 INFO sqlalchemy.engine.Engine [raw sql] ()\n",
      "2022-01-28 09:41:08,553 INFO sqlalchemy.engine.Engine PRAGMA main.index_list(\"ESG_NO_MATCHING\")\n",
      "2022-01-28 09:41:08,554 INFO sqlalchemy.engine.Engine [raw sql] ()\n",
      "2022-01-28 09:41:08,557 INFO sqlalchemy.engine.Engine PRAGMA temp.index_list(\"ESG_NO_MATCHING\")\n",
      "2022-01-28 09:41:08,561 INFO sqlalchemy.engine.Engine [raw sql] ()\n",
      "2022-01-28 09:41:08,562 INFO sqlalchemy.engine.Engine SELECT sql FROM  (SELECT * FROM sqlite_master UNION ALL   SELECT * FROM sqlite_temp_master) WHERE name = ? AND type = 'table'\n",
      "2022-01-28 09:41:08,563 INFO sqlalchemy.engine.Engine [raw sql] ('ESG_NO_MATCHING',)\n",
      "2022-01-28 09:41:08,566 INFO sqlalchemy.engine.Engine BEGIN (implicit)\n",
      "2022-01-28 09:41:08,568 INFO sqlalchemy.engine.Engine \n",
      "DROP TABLE \"ESG_NO_MATCHING\"\n",
      "2022-01-28 09:41:08,569 INFO sqlalchemy.engine.Engine [no key 0.00120s] ()\n",
      "2022-01-28 09:41:08,598 INFO sqlalchemy.engine.Engine COMMIT\n",
      "2022-01-28 09:41:08,614 INFO sqlalchemy.engine.Engine BEGIN (implicit)\n",
      "2022-01-28 09:41:08,616 INFO sqlalchemy.engine.Engine \n",
      "CREATE TABLE \"ESG_NO_MATCHING\" (\n",
      "\t\"TIMESTAMP\" DATETIME DEFAULT (CURRENT_TIMESTAMP), \n",
      "\t\"MATCHING_ID\" INTEGER NOT NULL, \n",
      "\t\"TGT_NAME\" VARCHAR, \n",
      "\t\"TGT_ID\" INTEGER, \n",
      "\t\"TGT_COMPANY\" VARCHAR, \n",
      "\t\"TGT_COUNTRY\" VARCHAR, \n",
      "\t\"ISIN\" VARCHAR, \n",
      "\t\"LEI\" VARCHAR, \n",
      "\t\"SEDOL\" VARCHAR, \n",
      "\tPRIMARY KEY (\"MATCHING_ID\")\n",
      ")\n",
      "\n",
      "\n",
      "2022-01-28 09:41:08,618 INFO sqlalchemy.engine.Engine [no key 0.00184s] ()\n",
      "2022-01-28 09:41:08,635 INFO sqlalchemy.engine.Engine COMMIT\n"
     ]
    }
   ],
   "source": [
    "# Call the create_data_source_from_settings() method by passing the File\n",
    "db_no_matching = etl_proc_obj.create_data_source(file_no_match)"
   ]
  },
  {
   "cell_type": "code",
   "execution_count": null,
   "id": "881eb8b4",
   "metadata": {},
   "outputs": [],
   "source": []
  }
 ],
 "metadata": {
  "kernelspec": {
   "display_name": "Python 3",
   "language": "python",
   "name": "python3"
  },
  "language_info": {
   "codemirror_mode": {
    "name": "ipython",
    "version": 3
   },
   "file_extension": ".py",
   "mimetype": "text/x-python",
   "name": "python",
   "nbconvert_exporter": "python",
   "pygments_lexer": "ipython3",
   "version": "3.9.5"
  }
 },
 "nbformat": 4,
 "nbformat_minor": 5
}
