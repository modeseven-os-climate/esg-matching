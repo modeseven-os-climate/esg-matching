{
 "cells": [
  {
   "cell_type": "markdown",
   "id": "e170c7ce",
   "metadata": {},
   "source": [
    "# How to...create Matching and No-Matching Tables in SqlLite database"
   ]
  },
  {
   "cell_type": "code",
   "execution_count": 1,
   "id": "3ecdce6d",
   "metadata": {},
   "outputs": [],
   "source": [
    "# Sets up the location of the api relative to this notebook \n",
    "import sys\n",
    "sys.path.append('../../../')"
   ]
  },
  {
   "cell_type": "code",
   "execution_count": 2,
   "id": "689dc67d",
   "metadata": {},
   "outputs": [],
   "source": [
    "# Import the module for connection to a sqllite database\n",
    "from esg_matching.engine.connectors.sql_lite import SqlLiteConnector"
   ]
  },
  {
   "cell_type": "code",
   "execution_count": 3,
   "id": "0684c1bc",
   "metadata": {},
   "outputs": [],
   "source": [
    "# Import the modules for file management\n",
    "from esg_matching.file_reader.file import File\n",
    "from esg_matching.file_reader.csv_reader import FileReaderCsv"
   ]
  },
  {
   "cell_type": "code",
   "execution_count": 4,
   "id": "691ed0b7",
   "metadata": {},
   "outputs": [],
   "source": [
    "# Import the modules for the etl processing: reading, transformation and loading data to a database\n",
    "from esg_matching.processing.etl import EtlProcessing"
   ]
  },
  {
   "cell_type": "markdown",
   "id": "cec1178b",
   "metadata": {},
   "source": [
    "## 1. Database setup"
   ]
  },
  {
   "cell_type": "code",
   "execution_count": 5,
   "id": "3d83cd84",
   "metadata": {},
   "outputs": [],
   "source": [
    "# Localization of the database to be created in relation to this jupyter notebook\n",
    "# The database will be created in the /data/dabase folder, under the project main folder\n",
    "path_db = '../../../tests/data/howto/sqlite/test_esg_matching.db'"
   ]
  },
  {
   "cell_type": "code",
   "execution_count": 6,
   "id": "342a1823",
   "metadata": {},
   "outputs": [],
   "source": [
    "# The database connector is represented by the class SqlLiteConnector \n",
    "db_conn = SqlLiteConnector()"
   ]
  },
  {
   "cell_type": "code",
   "execution_count": 7,
   "id": "1f032161",
   "metadata": {},
   "outputs": [],
   "source": [
    "# The connect() method of the SqlLiteConnector is used to stablish a connection with the database if it exists, \n",
    "# or to create a new one. The property path_db defines the location and name of the database.\n",
    "# The  property show_sql_statement indicates if the SQL statements are echoed (or printed) in the default output channel.\n",
    "db_conn.path_db = path_db\n",
    "db_conn.show_sql_statement = True\n",
    "db_conn.connect()"
   ]
  },
  {
   "cell_type": "code",
   "execution_count": 8,
   "id": "30e529b6",
   "metadata": {},
   "outputs": [
    {
     "data": {
      "text/plain": [
       "True"
      ]
     },
     "execution_count": 8,
     "metadata": {},
     "output_type": "execute_result"
    }
   ],
   "source": [
    "# Check if the connection was stablished\n",
    "db_conn.is_connected()"
   ]
  },
  {
   "cell_type": "markdown",
   "id": "12d9f068",
   "metadata": {},
   "source": [
    "## 2. Create ETL object"
   ]
  },
  {
   "cell_type": "code",
   "execution_count": 9,
   "id": "e21e0d15",
   "metadata": {},
   "outputs": [],
   "source": [
    "# Create an ETL process object\n",
    "etl_proc_obj = EtlProcessing(db_conn)"
   ]
  },
  {
   "cell_type": "markdown",
   "id": "75360852",
   "metadata": {},
   "source": [
    "## 3. Create Matching from file settings"
   ]
  },
  {
   "cell_type": "code",
   "execution_count": 10,
   "id": "45b2b677",
   "metadata": {},
   "outputs": [
    {
     "data": {
      "text/plain": [
       "'../../../tests/data/howto/sqlite/test_matching_sqlite.json'"
      ]
     },
     "execution_count": 10,
     "metadata": {},
     "output_type": "execute_result"
    }
   ],
   "source": [
    "# Settings for Macthing Table\n",
    "match_settings = '../../../tests/data/howto/sqlite/test_matching_sqlite.json'\n",
    "match_settings"
   ]
  },
  {
   "cell_type": "code",
   "execution_count": 11,
   "id": "48159b77",
   "metadata": {},
   "outputs": [],
   "source": [
    "# Create a file object\n",
    "file_match = File(match_settings)"
   ]
  },
  {
   "cell_type": "code",
   "execution_count": 12,
   "id": "42daa832",
   "metadata": {},
   "outputs": [
    {
     "name": "stdout",
     "output_type": "stream",
     "text": [
      "2022-07-17 16:24:22,215 INFO sqlalchemy.engine.Engine PRAGMA main.table_info(\"esg_matching\")\n",
      "2022-07-17 16:24:22,219 INFO sqlalchemy.engine.Engine [raw sql] ()\n",
      "2022-07-17 16:24:22,228 INFO sqlalchemy.engine.Engine PRAGMA main.table_xinfo(\"esg_matching\")\n",
      "2022-07-17 16:24:22,229 INFO sqlalchemy.engine.Engine [raw sql] ()\n",
      "2022-07-17 16:24:22,238 INFO sqlalchemy.engine.Engine SELECT sql FROM  (SELECT * FROM sqlite_master UNION ALL   SELECT * FROM sqlite_temp_master) WHERE name = ? AND type = 'table'\n",
      "2022-07-17 16:24:22,239 INFO sqlalchemy.engine.Engine [raw sql] ('esg_matching',)\n",
      "2022-07-17 16:24:22,243 INFO sqlalchemy.engine.Engine PRAGMA main.foreign_key_list(\"esg_matching\")\n",
      "2022-07-17 16:24:22,244 INFO sqlalchemy.engine.Engine [raw sql] ()\n",
      "2022-07-17 16:24:22,246 INFO sqlalchemy.engine.Engine PRAGMA temp.foreign_key_list(\"esg_matching\")\n",
      "2022-07-17 16:24:22,248 INFO sqlalchemy.engine.Engine [raw sql] ()\n",
      "2022-07-17 16:24:22,254 INFO sqlalchemy.engine.Engine SELECT sql FROM  (SELECT * FROM sqlite_master UNION ALL   SELECT * FROM sqlite_temp_master) WHERE name = ? AND type = 'table'\n",
      "2022-07-17 16:24:22,256 INFO sqlalchemy.engine.Engine [raw sql] ('esg_matching',)\n",
      "2022-07-17 16:24:22,264 INFO sqlalchemy.engine.Engine PRAGMA main.index_list(\"esg_matching\")\n",
      "2022-07-17 16:24:22,265 INFO sqlalchemy.engine.Engine [raw sql] ()\n",
      "2022-07-17 16:24:22,268 INFO sqlalchemy.engine.Engine PRAGMA temp.index_list(\"esg_matching\")\n",
      "2022-07-17 16:24:22,276 INFO sqlalchemy.engine.Engine [raw sql] ()\n",
      "2022-07-17 16:24:22,277 INFO sqlalchemy.engine.Engine PRAGMA main.index_list(\"esg_matching\")\n",
      "2022-07-17 16:24:22,279 INFO sqlalchemy.engine.Engine [raw sql] ()\n",
      "2022-07-17 16:24:22,281 INFO sqlalchemy.engine.Engine PRAGMA temp.index_list(\"esg_matching\")\n",
      "2022-07-17 16:24:22,282 INFO sqlalchemy.engine.Engine [raw sql] ()\n",
      "2022-07-17 16:24:22,284 INFO sqlalchemy.engine.Engine SELECT sql FROM  (SELECT * FROM sqlite_master UNION ALL   SELECT * FROM sqlite_temp_master) WHERE name = ? AND type = 'table'\n",
      "2022-07-17 16:24:22,285 INFO sqlalchemy.engine.Engine [raw sql] ('esg_matching',)\n",
      "2022-07-17 16:24:22,293 INFO sqlalchemy.engine.Engine BEGIN (implicit)\n",
      "2022-07-17 16:24:22,294 INFO sqlalchemy.engine.Engine \n",
      "DROP TABLE esg_matching\n",
      "2022-07-17 16:24:22,296 INFO sqlalchemy.engine.Engine [no key 0.00169s] ()\n",
      "2022-07-17 16:24:22,325 INFO sqlalchemy.engine.Engine COMMIT\n",
      "[Column('timestamp', DateTime(), table=None, server_default=DefaultClause(<sqlalchemy.sql.functions.now at 0x147da9c46d0; now>, for_update=False)), Column('matching_id', Integer(), table=None, primary_key=True, nullable=False), Column('ref_name', String(), table=None), Column('tgt_name', String(), table=None), Column('matching_type', String(), table=None), Column('matching_scope', String(), table=None), Column('matching_rule', String(), table=None), Column('ref_id', Integer(), table=None), Column('ref_company', String(), table=None), Column('ref_country', String(), table=None), Column('tgt_id', Integer(), table=None), Column('tgt_company', String(), table=None), Column('tgt_country', String(), table=None), Column('isin', String(), table=None), Column('lei', String(), table=None), Column('sedol', String(), table=None)]\n",
      "schema=None\n",
      "2022-07-17 16:24:22,332 INFO sqlalchemy.engine.Engine BEGIN (implicit)\n",
      "2022-07-17 16:24:22,337 INFO sqlalchemy.engine.Engine \n",
      "CREATE TABLE esg_matching (\n",
      "\ttimestamp DATETIME DEFAULT (CURRENT_TIMESTAMP), \n",
      "\tmatching_id INTEGER NOT NULL, \n",
      "\tref_name VARCHAR, \n",
      "\ttgt_name VARCHAR, \n",
      "\tmatching_type VARCHAR, \n",
      "\tmatching_scope VARCHAR, \n",
      "\tmatching_rule VARCHAR, \n",
      "\tref_id INTEGER, \n",
      "\tref_company VARCHAR, \n",
      "\tref_country VARCHAR, \n",
      "\ttgt_id INTEGER, \n",
      "\ttgt_company VARCHAR, \n",
      "\ttgt_country VARCHAR, \n",
      "\tisin VARCHAR, \n",
      "\tlei VARCHAR, \n",
      "\tsedol VARCHAR, \n",
      "\tPRIMARY KEY (matching_id)\n",
      ")\n",
      "\n",
      "\n",
      "2022-07-17 16:24:22,339 INFO sqlalchemy.engine.Engine [no key 0.00203s] ()\n",
      "2022-07-17 16:24:22,361 INFO sqlalchemy.engine.Engine COMMIT\n"
     ]
    }
   ],
   "source": [
    "# Call the create_data_source_from_settings() method by passing the File\n",
    "db_matching = etl_proc_obj.create_data_source(file_match)"
   ]
  },
  {
   "cell_type": "code",
   "execution_count": 13,
   "id": "e98439ef",
   "metadata": {},
   "outputs": [
    {
     "data": {
      "text/plain": [
       "['timestamp',\n",
       " 'matching_id',\n",
       " 'ref_name',\n",
       " 'tgt_name',\n",
       " 'matching_type',\n",
       " 'matching_scope',\n",
       " 'matching_rule',\n",
       " 'ref_id',\n",
       " 'ref_company',\n",
       " 'ref_country',\n",
       " 'tgt_id',\n",
       " 'tgt_company',\n",
       " 'tgt_country',\n",
       " 'isin',\n",
       " 'lei',\n",
       " 'sedol']"
      ]
     },
     "execution_count": 13,
     "metadata": {},
     "output_type": "execute_result"
    }
   ],
   "source": [
    "# Retrieve the attribute names of the database table\n",
    "db_matching.get_attribute_names()"
   ]
  },
  {
   "cell_type": "markdown",
   "id": "73d8b46c",
   "metadata": {},
   "source": [
    "## 4. Create No-Matching from file settings"
   ]
  },
  {
   "cell_type": "code",
   "execution_count": 14,
   "id": "547f2a3d",
   "metadata": {},
   "outputs": [
    {
     "data": {
      "text/plain": [
       "'../../../tests/data/howto/sqlite/test_no_matching_sqlite.json'"
      ]
     },
     "execution_count": 14,
     "metadata": {},
     "output_type": "execute_result"
    }
   ],
   "source": [
    "# Settings for No-Macthing Table\n",
    "no_match_settings = '../../../tests/data/howto/sqlite/test_no_matching_sqlite.json'\n",
    "no_match_settings"
   ]
  },
  {
   "cell_type": "code",
   "execution_count": 15,
   "id": "acce4166",
   "metadata": {},
   "outputs": [],
   "source": [
    "# Create a file object\n",
    "file_no_match = File(no_match_settings)"
   ]
  },
  {
   "cell_type": "code",
   "execution_count": 16,
   "id": "65dca9ff",
   "metadata": {},
   "outputs": [
    {
     "name": "stdout",
     "output_type": "stream",
     "text": [
      "2022-07-17 16:24:22,472 INFO sqlalchemy.engine.Engine PRAGMA main.table_info(\"esg_no_matching\")\n",
      "2022-07-17 16:24:22,473 INFO sqlalchemy.engine.Engine [raw sql] ()\n",
      "2022-07-17 16:24:22,484 INFO sqlalchemy.engine.Engine PRAGMA main.table_xinfo(\"esg_no_matching\")\n",
      "2022-07-17 16:24:22,485 INFO sqlalchemy.engine.Engine [raw sql] ()\n",
      "2022-07-17 16:24:22,489 INFO sqlalchemy.engine.Engine SELECT sql FROM  (SELECT * FROM sqlite_master UNION ALL   SELECT * FROM sqlite_temp_master) WHERE name = ? AND type = 'table'\n",
      "2022-07-17 16:24:22,493 INFO sqlalchemy.engine.Engine [raw sql] ('esg_no_matching',)\n",
      "2022-07-17 16:24:22,495 INFO sqlalchemy.engine.Engine PRAGMA main.foreign_key_list(\"esg_no_matching\")\n",
      "2022-07-17 16:24:22,496 INFO sqlalchemy.engine.Engine [raw sql] ()\n",
      "2022-07-17 16:24:22,500 INFO sqlalchemy.engine.Engine PRAGMA temp.foreign_key_list(\"esg_no_matching\")\n",
      "2022-07-17 16:24:22,502 INFO sqlalchemy.engine.Engine [raw sql] ()\n",
      "2022-07-17 16:24:22,505 INFO sqlalchemy.engine.Engine SELECT sql FROM  (SELECT * FROM sqlite_master UNION ALL   SELECT * FROM sqlite_temp_master) WHERE name = ? AND type = 'table'\n",
      "2022-07-17 16:24:22,506 INFO sqlalchemy.engine.Engine [raw sql] ('esg_no_matching',)\n",
      "2022-07-17 16:24:22,512 INFO sqlalchemy.engine.Engine PRAGMA main.index_list(\"esg_no_matching\")\n",
      "2022-07-17 16:24:22,513 INFO sqlalchemy.engine.Engine [raw sql] ()\n",
      "2022-07-17 16:24:22,515 INFO sqlalchemy.engine.Engine PRAGMA temp.index_list(\"esg_no_matching\")\n",
      "2022-07-17 16:24:22,516 INFO sqlalchemy.engine.Engine [raw sql] ()\n",
      "2022-07-17 16:24:22,518 INFO sqlalchemy.engine.Engine PRAGMA main.index_list(\"esg_no_matching\")\n",
      "2022-07-17 16:24:22,521 INFO sqlalchemy.engine.Engine [raw sql] ()\n",
      "2022-07-17 16:24:22,523 INFO sqlalchemy.engine.Engine PRAGMA temp.index_list(\"esg_no_matching\")\n",
      "2022-07-17 16:24:22,527 INFO sqlalchemy.engine.Engine [raw sql] ()\n",
      "2022-07-17 16:24:22,529 INFO sqlalchemy.engine.Engine SELECT sql FROM  (SELECT * FROM sqlite_master UNION ALL   SELECT * FROM sqlite_temp_master) WHERE name = ? AND type = 'table'\n",
      "2022-07-17 16:24:22,531 INFO sqlalchemy.engine.Engine [raw sql] ('esg_no_matching',)\n",
      "2022-07-17 16:24:22,534 INFO sqlalchemy.engine.Engine BEGIN (implicit)\n",
      "2022-07-17 16:24:22,535 INFO sqlalchemy.engine.Engine \n",
      "DROP TABLE esg_no_matching\n",
      "2022-07-17 16:24:22,536 INFO sqlalchemy.engine.Engine [no key 0.00093s] ()\n",
      "2022-07-17 16:24:22,567 INFO sqlalchemy.engine.Engine COMMIT\n",
      "[Column('timestamp', DateTime(), table=None, server_default=DefaultClause(<sqlalchemy.sql.functions.now at 0x147daa60580; now>, for_update=False)), Column('matching_id', Integer(), table=None, primary_key=True, nullable=False), Column('tgt_name', String(), table=None), Column('tgt_id', Integer(), table=None), Column('tgt_company', String(), table=None), Column('tgt_country', String(), table=None), Column('isin', String(), table=None), Column('lei', String(), table=None), Column('sedol', String(), table=None)]\n",
      "schema=None\n",
      "2022-07-17 16:24:22,573 INFO sqlalchemy.engine.Engine BEGIN (implicit)\n",
      "2022-07-17 16:24:22,576 INFO sqlalchemy.engine.Engine \n",
      "CREATE TABLE esg_no_matching (\n",
      "\ttimestamp DATETIME DEFAULT (CURRENT_TIMESTAMP), \n",
      "\tmatching_id INTEGER NOT NULL, \n",
      "\ttgt_name VARCHAR, \n",
      "\ttgt_id INTEGER, \n",
      "\ttgt_company VARCHAR, \n",
      "\ttgt_country VARCHAR, \n",
      "\tisin VARCHAR, \n",
      "\tlei VARCHAR, \n",
      "\tsedol VARCHAR, \n",
      "\tPRIMARY KEY (matching_id)\n",
      ")\n",
      "\n",
      "\n",
      "2022-07-17 16:24:22,578 INFO sqlalchemy.engine.Engine [no key 0.00134s] ()\n",
      "2022-07-17 16:24:22,601 INFO sqlalchemy.engine.Engine COMMIT\n"
     ]
    }
   ],
   "source": [
    "# Call the create_data_source_from_settings() method by passing the File\n",
    "db_no_matching = etl_proc_obj.create_data_source(file_no_match)"
   ]
  },
  {
   "cell_type": "code",
   "execution_count": 17,
   "id": "881eb8b4",
   "metadata": {},
   "outputs": [
    {
     "data": {
      "text/plain": [
       "['timestamp',\n",
       " 'matching_id',\n",
       " 'tgt_name',\n",
       " 'tgt_id',\n",
       " 'tgt_company',\n",
       " 'tgt_country',\n",
       " 'isin',\n",
       " 'lei',\n",
       " 'sedol']"
      ]
     },
     "execution_count": 17,
     "metadata": {},
     "output_type": "execute_result"
    }
   ],
   "source": [
    "# Retrieve the attribute names of the database table\n",
    "db_no_matching.get_attribute_names()"
   ]
  },
  {
   "cell_type": "markdown",
   "id": "8c332806",
   "metadata": {},
   "source": [
    "## 5. Disconnect"
   ]
  },
  {
   "cell_type": "code",
   "execution_count": 18,
   "id": "f834a442",
   "metadata": {},
   "outputs": [],
   "source": [
    "db_conn.disconnect()"
   ]
  },
  {
   "cell_type": "code",
   "execution_count": 19,
   "id": "11884c08",
   "metadata": {},
   "outputs": [
    {
     "data": {
      "text/plain": [
       "False"
      ]
     },
     "execution_count": 19,
     "metadata": {},
     "output_type": "execute_result"
    }
   ],
   "source": [
    "db_conn.is_connected()"
   ]
  },
  {
   "cell_type": "code",
   "execution_count": null,
   "id": "c0acca0b",
   "metadata": {},
   "outputs": [],
   "source": []
  }
 ],
 "metadata": {
  "kernelspec": {
   "display_name": "Python 3",
   "language": "python",
   "name": "python3"
  },
  "language_info": {
   "codemirror_mode": {
    "name": "ipython",
    "version": 3
   },
   "file_extension": ".py",
   "mimetype": "text/x-python",
   "name": "python",
   "nbconvert_exporter": "python",
   "pygments_lexer": "ipython3",
   "version": "3.9.5"
  }
 },
 "nbformat": 4,
 "nbformat_minor": 5
}
