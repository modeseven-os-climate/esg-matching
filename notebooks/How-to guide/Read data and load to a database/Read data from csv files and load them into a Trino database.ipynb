{
 "cells": [
  {
   "cell_type": "markdown",
   "id": "70a7e2f0",
   "metadata": {},
   "source": [
    "# How to...read data from csv files and store them on Trino database"
   ]
  },
  {
   "cell_type": "code",
   "execution_count": 1,
   "id": "f4095a55",
   "metadata": {},
   "outputs": [],
   "source": [
    "# Sets up the location of the api relative to this notebook \n",
    "import sys\n",
    "sys.path.append('../../../')"
   ]
  },
  {
   "cell_type": "code",
   "execution_count": 2,
   "id": "d8c45f24",
   "metadata": {},
   "outputs": [],
   "source": [
    "# Import the module for connection to a trino database\n",
    "from esg_matching.engine.connectors.trino import TrinoConnector"
   ]
  },
  {
   "cell_type": "code",
   "execution_count": 3,
   "id": "d25887a4",
   "metadata": {},
   "outputs": [],
   "source": [
    "# Import the modules for file management\n",
    "from esg_matching.file_reader.file import File\n",
    "from esg_matching.file_reader.csv_reader import FileReaderCsv"
   ]
  },
  {
   "cell_type": "code",
   "execution_count": 4,
   "id": "a0c96d6d",
   "metadata": {},
   "outputs": [],
   "source": [
    "# Import the modules for the etl processing: reading, transformation and loading data to a database\n",
    "from esg_matching.processing.etl import EtlProcessing"
   ]
  },
  {
   "cell_type": "markdown",
   "id": "e462c872",
   "metadata": {},
   "source": [
    "## 1. Database setup"
   ]
  },
  {
   "cell_type": "code",
   "execution_count": 6,
   "id": "431436bc",
   "metadata": {},
   "outputs": [],
   "source": [
    "import os\n",
    "user_trino = os.environ['TRINO_USER']\n",
    "pwd_trino = os.environ['TRINO_PASSWD']\n",
    "host_trino = os.environ['TRINO_HOST']\n",
    "port_trino = int(os.environ['TRINO_PORT'])"
   ]
  },
  {
   "cell_type": "code",
   "execution_count": 7,
   "id": "39e00bc9",
   "metadata": {},
   "outputs": [],
   "source": [
    "# The database connector is represented by the class TrinoConnector \n",
    "db_conn = TrinoConnector()"
   ]
  },
  {
   "cell_type": "code",
   "execution_count": 8,
   "id": "2405fab6",
   "metadata": {},
   "outputs": [
    {
     "name": "stdout",
     "output_type": "stream",
     "text": [
      "2022-07-17 17:30:43,144 INFO sqlalchemy.engine.Engine SELECT version()\n",
      "2022-07-17 17:30:43,147 INFO sqlalchemy.engine.Engine [dialect trino+rest does not support caching 0.00305s] ()\n"
     ]
    }
   ],
   "source": [
    "# The connect() method of the TrinoConnector is used to stablish a connection with the database if it exists, \n",
    "# or to create a new one. The property path_db defines the location and name of the database.\n",
    "# The  property show_sql_statement indicates if the SQL statements are echoed (or printed) in the default output channel.\n",
    "db_conn.username = user_trino\n",
    "db_conn.user_password = pwd_trino\n",
    "db_conn.host_url = host_trino\n",
    "db_conn.port_number = port_trino\n",
    "db_conn.catalog = 'osc_datacommons_iceberg_dev'\n",
    "db_conn.show_sql_statement = True\n",
    "db_conn.connect()"
   ]
  },
  {
   "cell_type": "code",
   "execution_count": 9,
   "id": "aeee0eda",
   "metadata": {},
   "outputs": [
    {
     "data": {
      "text/plain": [
       "True"
      ]
     },
     "execution_count": 9,
     "metadata": {},
     "output_type": "execute_result"
    }
   ],
   "source": [
    "# Check if the connection was stablished\n",
    "db_conn.is_connected()"
   ]
  },
  {
   "cell_type": "markdown",
   "id": "311fc6eb",
   "metadata": {},
   "source": [
    "## 2. File setup"
   ]
  },
  {
   "cell_type": "code",
   "execution_count": 10,
   "id": "5035b76d",
   "metadata": {},
   "outputs": [
    {
     "data": {
      "text/plain": [
       "'../../../tests/data/howto/trino/test_referential1_trino.json'"
      ]
     },
     "execution_count": 10,
     "metadata": {},
     "output_type": "execute_result"
    }
   ],
   "source": [
    "# Settings for Referential 1\n",
    "file1_settings = '../../../tests/data/howto/trino/test_referential1_trino.json'\n",
    "file1_settings"
   ]
  },
  {
   "cell_type": "code",
   "execution_count": 11,
   "id": "3b552b79",
   "metadata": {},
   "outputs": [],
   "source": [
    "# Create a file object\n",
    "file_obj = File(file1_settings)"
   ]
  },
  {
   "cell_type": "code",
   "execution_count": 12,
   "id": "f093b391",
   "metadata": {},
   "outputs": [
    {
     "name": "stdout",
     "output_type": "stream",
     "text": [
      "Filename:../../../tests/data/test_referential1.csv\n",
      "Json Settings:../../../tests/data/howto/trino/test_referential1_trino.json\n"
     ]
    }
   ],
   "source": [
    "# Checking some properties of the File object\n",
    "print('Filename:{}'.format(file_obj.filename))\n",
    "print('Json Settings:{}'.format(file_obj.filename_settings))"
   ]
  },
  {
   "cell_type": "markdown",
   "id": "40f4fe14",
   "metadata": {},
   "source": [
    "## 3. Read a csv file and load its content to the database"
   ]
  },
  {
   "cell_type": "markdown",
   "id": "fe6ba5e6",
   "metadata": {},
   "source": [
    "The Esg-Entity-Matching library provides a FileReaderCsv that understands the content of csv files. \n",
    "It also provides an EtlProcessing object that combines file, connector and reader in order to perform the complete pipeline of reading, transforming and loading data into a database."
   ]
  },
  {
   "cell_type": "code",
   "execution_count": 13,
   "id": "394726eb",
   "metadata": {},
   "outputs": [],
   "source": [
    "# Crete a file reader object for csv files\n",
    "csv_reader_obj = FileReaderCsv()  "
   ]
  },
  {
   "cell_type": "code",
   "execution_count": 14,
   "id": "7e15705a",
   "metadata": {},
   "outputs": [],
   "source": [
    "# Create an ETL process object\n",
    "etl_proc_obj = EtlProcessing(db_conn)"
   ]
  },
  {
   "cell_type": "code",
   "execution_count": 15,
   "id": "650927cf",
   "metadata": {},
   "outputs": [
    {
     "name": "stdout",
     "output_type": "stream",
     "text": [
      "2022-07-17 17:30:44,027 INFO sqlalchemy.engine.Engine SELECT \"table_name\"\n",
      "FROM \"information_schema\".\"tables\"\n",
      "WHERE \"table_schema\" = ?\n",
      "2022-07-17 17:30:44,033 INFO sqlalchemy.engine.Engine [dialect trino+rest does not support caching 0.00604s] ('esg_matching',)\n",
      "2022-07-17 17:30:45,400 INFO sqlalchemy.engine.Engine BEGIN (implicit)\n",
      "2022-07-17 17:30:45,401 INFO sqlalchemy.engine.Engine \n",
      "CREATE TABLE esg_matching.esg_match_ref (\n",
      "\tunique_id VARCHAR, \n",
      "\tisin VARCHAR(12), \n",
      "\tcompany VARCHAR(100), \n",
      "\tcountry VARCHAR(100)\n",
      ")\n",
      "\n",
      "\n",
      "2022-07-17 17:30:45,402 INFO sqlalchemy.engine.Engine [no key 0.00109s] ()\n",
      "2022-07-17 17:30:46,546 INFO sqlalchemy.engine.Engine COMMIT\n",
      "{'unique_id': '1', 'isin': 'SK1120005824', 'company': 'CENTRAL PERK', 'country': 'SK'}\n",
      "2022-07-17 17:30:46,549 INFO sqlalchemy.engine.Engine INSERT INTO esg_matching.esg_match_ref (unique_id, isin, company, country) VALUES (?, ?, ?, ?)\n",
      "2022-07-17 17:30:46,550 INFO sqlalchemy.engine.Engine [dialect trino+rest does not support caching 0.00106s] ('1', 'SK1120005824', 'CENTRAL PERK', 'SK')\n",
      "2022-07-17 17:30:48,223 INFO sqlalchemy.engine.Engine COMMIT\n",
      "{'unique_id': '2', 'isin': <sqlalchemy.sql.elements.Null object at 0x0000014B6102DB50>, 'company': 'HONEYDUKES', 'country': 'UNITED STATES OF AMERICA'}\n",
      "2022-07-17 17:30:48,225 INFO sqlalchemy.engine.Engine INSERT INTO esg_matching.esg_match_ref (unique_id, isin, company, country) VALUES (?, NULL, ?, ?)\n",
      "2022-07-17 17:30:48,226 INFO sqlalchemy.engine.Engine [dialect trino+rest does not support caching 0.00102s] ('2', 'HONEYDUKES', 'UNITED STATES OF AMERICA')\n",
      "2022-07-17 17:30:49,969 INFO sqlalchemy.engine.Engine COMMIT\n",
      "{'unique_id': '3', 'isin': <sqlalchemy.sql.elements.Null object at 0x0000014B6102DB50>, 'company': 'STARCOURT MALL', 'country': 'AUSTRIA'}\n",
      "2022-07-17 17:30:49,970 INFO sqlalchemy.engine.Engine INSERT INTO esg_matching.esg_match_ref (unique_id, isin, company, country) VALUES (?, NULL, ?, ?)\n",
      "2022-07-17 17:30:49,971 INFO sqlalchemy.engine.Engine [dialect trino+rest does not support caching 0.00096s] ('3', 'STARCOURT MALL', 'AUSTRIA')\n",
      "2022-07-17 17:30:51,722 INFO sqlalchemy.engine.Engine COMMIT\n",
      "{'unique_id': '4', 'isin': 'GB00B1YW4409', 'company': 'STERLING COOPER', 'country': 'GBR'}\n",
      "2022-07-17 17:30:51,723 INFO sqlalchemy.engine.Engine INSERT INTO esg_matching.esg_match_ref (unique_id, isin, company, country) VALUES (?, ?, ?, ?)\n",
      "2022-07-17 17:30:51,724 INFO sqlalchemy.engine.Engine [dialect trino+rest does not support caching 0.00088s] ('4', 'GB00B1YW4409', 'STERLING COOPER', 'GBR')\n",
      "2022-07-17 17:30:53,475 INFO sqlalchemy.engine.Engine COMMIT\n",
      "{'unique_id': '5', 'isin': 'CH0012221716', 'company': 'Bluth company', 'country': 'CHE'}\n",
      "2022-07-17 17:30:53,477 INFO sqlalchemy.engine.Engine INSERT INTO esg_matching.esg_match_ref (unique_id, isin, company, country) VALUES (?, ?, ?, ?)\n",
      "2022-07-17 17:30:53,477 INFO sqlalchemy.engine.Engine [dialect trino+rest does not support caching 0.00075s] ('5', 'CH0012221716', 'Bluth company', 'CHE')\n",
      "2022-07-17 17:30:55,180 INFO sqlalchemy.engine.Engine COMMIT\n",
      "{'unique_id': '6', 'isin': 'US0200021014', 'company': 'InGen', 'country': 'usa'}\n",
      "2022-07-17 17:30:55,182 INFO sqlalchemy.engine.Engine INSERT INTO esg_matching.esg_match_ref (unique_id, isin, company, country) VALUES (?, ?, ?, ?)\n",
      "2022-07-17 17:30:55,182 INFO sqlalchemy.engine.Engine [dialect trino+rest does not support caching 0.00074s] ('6', 'US0200021014', 'InGen', 'usa')\n",
      "2022-07-17 17:30:56,890 INFO sqlalchemy.engine.Engine COMMIT\n",
      "{'unique_id': '7', 'isin': 'US0231351067', 'company': 'Stark Industries', 'country': 'us'}\n",
      "2022-07-17 17:30:56,892 INFO sqlalchemy.engine.Engine INSERT INTO esg_matching.esg_match_ref (unique_id, isin, company, country) VALUES (?, ?, ?, ?)\n",
      "2022-07-17 17:30:56,893 INFO sqlalchemy.engine.Engine [dialect trino+rest does not support caching 0.00089s] ('7', 'US0231351067', 'Stark Industries', 'us')\n",
      "2022-07-17 17:30:58,599 INFO sqlalchemy.engine.Engine COMMIT\n",
      "{'unique_id': '8', 'isin': 'US0126531013', 'company': 'SPECTRE', 'country': 'USA'}\n",
      "2022-07-17 17:30:58,600 INFO sqlalchemy.engine.Engine INSERT INTO esg_matching.esg_match_ref (unique_id, isin, company, country) VALUES (?, ?, ?, ?)\n",
      "2022-07-17 17:30:58,601 INFO sqlalchemy.engine.Engine [dialect trino+rest does not support caching 0.00078s] ('8', 'US0126531013', 'SPECTRE', 'USA')\n",
      "2022-07-17 17:31:00,290 INFO sqlalchemy.engine.Engine COMMIT\n",
      "{'unique_id': '9', 'isin': 'US0126531013', 'company': 'SPECTRE 33 SUBSIDIARY', 'country': 'USA'}\n",
      "2022-07-17 17:31:00,291 INFO sqlalchemy.engine.Engine INSERT INTO esg_matching.esg_match_ref (unique_id, isin, company, country) VALUES (?, ?, ?, ?)\n",
      "2022-07-17 17:31:00,292 INFO sqlalchemy.engine.Engine [dialect trino+rest does not support caching 0.00083s] ('9', 'US0126531013', 'SPECTRE 33 SUBSIDIARY', 'USA')\n",
      "2022-07-17 17:31:02,047 INFO sqlalchemy.engine.Engine COMMIT\n"
     ]
    }
   ],
   "source": [
    "# Call the load_file_to_db() method by passing the File, FileReader and SqlLiteConnector\n",
    "# The ETL process returns a database source object\n",
    "db_source = etl_proc_obj.load_file_to_db(file_obj, csv_reader_obj)"
   ]
  },
  {
   "cell_type": "markdown",
   "id": "9bb69e66",
   "metadata": {},
   "source": [
    "## 4. Report on Etl Process"
   ]
  },
  {
   "cell_type": "code",
   "execution_count": 16,
   "id": "8aa77906",
   "metadata": {},
   "outputs": [
    {
     "name": "stdout",
     "output_type": "stream",
     "text": [
      "-------------------------------------- ETL PROCESSING REPORT ---------------------------------------\n",
      "Description: Details of the ETL process performed on [ds_ref] data source.\n",
      "Datetime:2022-07-17 17:31:02\n",
      "----------------------------------------------------------------------------------------------------\n",
      "File Name: ../../../tests/data/test_referential1.csv\n",
      "Columns in the File: 4\n",
      "Columns read from File: 4\n",
      "Lines Extracted from File: 9\n"
     ]
    }
   ],
   "source": [
    "# Printing the ELT Processing Report \n",
    "etl_proc_obj.print_report()"
   ]
  },
  {
   "cell_type": "markdown",
   "id": "1764caee",
   "metadata": {},
   "source": [
    "## 5. Checking the attribute names of DbDataSource"
   ]
  },
  {
   "cell_type": "markdown",
   "id": "43e1a8e8",
   "metadata": {},
   "source": [
    "There are three methods to check the column or attribute names of the DbDataSource object:\n",
    "1. Use get_original_field_names(): to retrieve the original attribute names of the columns in the csv file\n",
    "2. Use get_field_names(): to retrieve the attribute names of the database table\n",
    "3. Use get_primary_keys(): to retrieve the attribute names of the primary keys in the database table"
   ]
  },
  {
   "cell_type": "code",
   "execution_count": 17,
   "id": "04315e20",
   "metadata": {},
   "outputs": [
    {
     "data": {
      "text/plain": [
       "['unique_id', 'isin', 'company', 'country']"
      ]
     },
     "execution_count": 17,
     "metadata": {},
     "output_type": "execute_result"
    }
   ],
   "source": [
    "# Retrieve the original attribute names (read from the csv file)\n",
    "db_source.get_original_attribute_names()"
   ]
  },
  {
   "cell_type": "code",
   "execution_count": 18,
   "id": "d36ef079",
   "metadata": {},
   "outputs": [
    {
     "data": {
      "text/plain": [
       "['unique_id', 'isin', 'company', 'country']"
      ]
     },
     "execution_count": 18,
     "metadata": {},
     "output_type": "execute_result"
    }
   ],
   "source": [
    "# Retrieve the attribute names of the database table\n",
    "db_source.get_attribute_names()"
   ]
  },
  {
   "cell_type": "markdown",
   "id": "00b55fb5",
   "metadata": {},
   "source": [
    "## 6. Checking the Data Source"
   ]
  },
  {
   "cell_type": "code",
   "execution_count": 19,
   "id": "428f5fd0",
   "metadata": {},
   "outputs": [
    {
     "name": "stdout",
     "output_type": "stream",
     "text": [
      "Data Source Name: ds_ref, Table name: esg_match_ref\n"
     ]
    }
   ],
   "source": [
    "print('Data Source Name: {}, Table name: {}'.format(db_source.name, db_source.table_name))"
   ]
  },
  {
   "cell_type": "code",
   "execution_count": 20,
   "id": "c1c8ae07",
   "metadata": {},
   "outputs": [
    {
     "name": "stdout",
     "output_type": "stream",
     "text": [
      "2022-07-17 17:31:02,156 INFO sqlalchemy.engine.Engine SELECT count(*) AS count_1 \n",
      "FROM esg_matching.esg_match_ref\n",
      "2022-07-17 17:31:02,157 INFO sqlalchemy.engine.Engine [dialect trino+rest does not support caching 0.00167s] ()\n",
      "Total entries in table esg_match_ref = 9\n"
     ]
    }
   ],
   "source": [
    "# Total entries of the table\n",
    "result = db_source.get_total_entries()\n",
    "print('Total entries in table {} = {}'.format(db_source.table_name, result))"
   ]
  },
  {
   "cell_type": "code",
   "execution_count": 21,
   "id": "bc0f90d6",
   "metadata": {},
   "outputs": [
    {
     "name": "stdout",
     "output_type": "stream",
     "text": [
      "2022-07-17 17:31:03,055 INFO sqlalchemy.engine.Engine BEGIN (implicit)\n",
      "2022-07-17 17:31:03,058 INFO sqlalchemy.engine.Engine SELECT count(esg_matching.esg_match_ref.isin) AS count_1 \n",
      "FROM esg_matching.esg_match_ref\n",
      " LIMIT ?\n",
      "2022-07-17 17:31:03,059 INFO sqlalchemy.engine.Engine [dialect trino+rest does not support caching 0.00118s] (1,)\n",
      "2022-07-17 17:31:04,758 INFO sqlalchemy.engine.Engine ROLLBACK\n",
      "Total entries by ISIN = 7\n"
     ]
    }
   ],
   "source": [
    "# Total entries of the table by a column name\n",
    "result = db_source.get_total_entries_by_column('isin')\n",
    "print('Total entries by ISIN = {}'.format(result))"
   ]
  },
  {
   "cell_type": "code",
   "execution_count": 22,
   "id": "cee92228",
   "metadata": {},
   "outputs": [
    {
     "name": "stdout",
     "output_type": "stream",
     "text": [
      "2022-07-17 17:31:04,770 INFO sqlalchemy.engine.Engine BEGIN (implicit)\n",
      "2022-07-17 17:31:04,772 INFO sqlalchemy.engine.Engine SELECT count(DISTINCT esg_matching.esg_match_ref.isin) AS count_1 \n",
      "FROM esg_matching.esg_match_ref\n",
      " LIMIT ?\n",
      "2022-07-17 17:31:04,773 INFO sqlalchemy.engine.Engine [dialect trino+rest does not support caching 0.00121s] (1,)\n",
      "2022-07-17 17:31:06,485 INFO sqlalchemy.engine.Engine ROLLBACK\n",
      "Total entries by ISIN with distinct values = 6\n"
     ]
    }
   ],
   "source": [
    "# Total entries of the table by a column name with distinct values\n",
    "result = db_source.get_total_entries_by_column('isin', distinct_values=True)\n",
    "print('Total entries by ISIN with distinct values = {}'.format(result))"
   ]
  },
  {
   "cell_type": "markdown",
   "id": "5fddcf52",
   "metadata": {},
   "source": [
    "## 7. Checking the content of the DbDataSource"
   ]
  },
  {
   "cell_type": "markdown",
   "id": "d869453d",
   "metadata": {},
   "source": [
    "The get_data() method of the DbDataSource object performs a full select in the table, returning a list of tupples. Each item of the list is a row in the table and each element is the value per column."
   ]
  },
  {
   "cell_type": "code",
   "execution_count": 23,
   "id": "71d7f99b",
   "metadata": {},
   "outputs": [
    {
     "name": "stdout",
     "output_type": "stream",
     "text": [
      "2022-07-17 17:31:06,515 INFO sqlalchemy.engine.Engine SELECT esg_matching.esg_match_ref.unique_id, esg_matching.esg_match_ref.isin, esg_matching.esg_match_ref.company, esg_matching.esg_match_ref.country \n",
      "FROM esg_matching.esg_match_ref\n",
      "2022-07-17 17:31:06,517 INFO sqlalchemy.engine.Engine [dialect trino+rest does not support caching 0.00194s] ()\n"
     ]
    },
    {
     "data": {
      "text/plain": [
       "[('2', None, 'HONEYDUKES', 'UNITED STATES OF AMERICA'),\n",
       " ('3', None, 'STARCOURT MALL', 'AUSTRIA'),\n",
       " ('5', 'CH0012221716', 'Bluth company', 'CHE'),\n",
       " ('9', 'US0126531013', 'SPECTRE 33 SUBSIDIARY', 'USA'),\n",
       " ('1', 'SK1120005824', 'CENTRAL PERK', 'SK'),\n",
       " ('4', 'GB00B1YW4409', 'STERLING COOPER', 'GBR'),\n",
       " ('8', 'US0126531013', 'SPECTRE', 'USA'),\n",
       " ('7', 'US0231351067', 'Stark Industries', 'us'),\n",
       " ('6', 'US0200021014', 'InGen', 'usa')]"
      ]
     },
     "execution_count": 23,
     "metadata": {},
     "output_type": "execute_result"
    }
   ],
   "source": [
    "# Query all the values of the table\n",
    "# Equivalent to SELECT * FROM TABLE_NAME\n",
    "lst_result = db_source.get_data()\n",
    "lst_result"
   ]
  },
  {
   "cell_type": "markdown",
   "id": "c6197535",
   "metadata": {},
   "source": [
    "The get_data_as_df() method of the DbDataSource also performs a select in the table, but returns a pandas dataframe as result."
   ]
  },
  {
   "cell_type": "code",
   "execution_count": 24,
   "id": "a3e81c7f",
   "metadata": {},
   "outputs": [
    {
     "name": "stdout",
     "output_type": "stream",
     "text": [
      "2022-07-17 17:31:07,545 INFO sqlalchemy.engine.Engine SELECT esg_matching.esg_match_ref.unique_id, esg_matching.esg_match_ref.isin, esg_matching.esg_match_ref.company, esg_matching.esg_match_ref.country \n",
      "FROM esg_matching.esg_match_ref\n",
      "2022-07-17 17:31:07,546 INFO sqlalchemy.engine.Engine [dialect trino+rest does not support caching 0.00149s] ()\n"
     ]
    },
    {
     "data": {
      "text/html": [
       "<div>\n",
       "<style scoped>\n",
       "    .dataframe tbody tr th:only-of-type {\n",
       "        vertical-align: middle;\n",
       "    }\n",
       "\n",
       "    .dataframe tbody tr th {\n",
       "        vertical-align: top;\n",
       "    }\n",
       "\n",
       "    .dataframe thead th {\n",
       "        text-align: right;\n",
       "    }\n",
       "</style>\n",
       "<table border=\"1\" class=\"dataframe\">\n",
       "  <thead>\n",
       "    <tr style=\"text-align: right;\">\n",
       "      <th></th>\n",
       "      <th>unique_id</th>\n",
       "      <th>isin</th>\n",
       "      <th>company</th>\n",
       "      <th>country</th>\n",
       "    </tr>\n",
       "  </thead>\n",
       "  <tbody>\n",
       "    <tr>\n",
       "      <th>0</th>\n",
       "      <td>9</td>\n",
       "      <td>US0126531013</td>\n",
       "      <td>SPECTRE 33 SUBSIDIARY</td>\n",
       "      <td>USA</td>\n",
       "    </tr>\n",
       "    <tr>\n",
       "      <th>1</th>\n",
       "      <td>5</td>\n",
       "      <td>CH0012221716</td>\n",
       "      <td>Bluth company</td>\n",
       "      <td>CHE</td>\n",
       "    </tr>\n",
       "    <tr>\n",
       "      <th>2</th>\n",
       "      <td>3</td>\n",
       "      <td>None</td>\n",
       "      <td>STARCOURT MALL</td>\n",
       "      <td>AUSTRIA</td>\n",
       "    </tr>\n",
       "    <tr>\n",
       "      <th>3</th>\n",
       "      <td>6</td>\n",
       "      <td>US0200021014</td>\n",
       "      <td>InGen</td>\n",
       "      <td>usa</td>\n",
       "    </tr>\n",
       "    <tr>\n",
       "      <th>4</th>\n",
       "      <td>4</td>\n",
       "      <td>GB00B1YW4409</td>\n",
       "      <td>STERLING COOPER</td>\n",
       "      <td>GBR</td>\n",
       "    </tr>\n",
       "    <tr>\n",
       "      <th>5</th>\n",
       "      <td>2</td>\n",
       "      <td>None</td>\n",
       "      <td>HONEYDUKES</td>\n",
       "      <td>UNITED STATES OF AMERICA</td>\n",
       "    </tr>\n",
       "    <tr>\n",
       "      <th>6</th>\n",
       "      <td>7</td>\n",
       "      <td>US0231351067</td>\n",
       "      <td>Stark Industries</td>\n",
       "      <td>us</td>\n",
       "    </tr>\n",
       "    <tr>\n",
       "      <th>7</th>\n",
       "      <td>8</td>\n",
       "      <td>US0126531013</td>\n",
       "      <td>SPECTRE</td>\n",
       "      <td>USA</td>\n",
       "    </tr>\n",
       "    <tr>\n",
       "      <th>8</th>\n",
       "      <td>1</td>\n",
       "      <td>SK1120005824</td>\n",
       "      <td>CENTRAL PERK</td>\n",
       "      <td>SK</td>\n",
       "    </tr>\n",
       "  </tbody>\n",
       "</table>\n",
       "</div>"
      ],
      "text/plain": [
       "  unique_id          isin                company                   country\n",
       "0         9  US0126531013  SPECTRE 33 SUBSIDIARY                       USA\n",
       "1         5  CH0012221716          Bluth company                       CHE\n",
       "2         3          None         STARCOURT MALL                   AUSTRIA\n",
       "3         6  US0200021014                  InGen                       usa\n",
       "4         4  GB00B1YW4409        STERLING COOPER                       GBR\n",
       "5         2          None             HONEYDUKES  UNITED STATES OF AMERICA\n",
       "6         7  US0231351067       Stark Industries                        us\n",
       "7         8  US0126531013                SPECTRE                       USA\n",
       "8         1  SK1120005824           CENTRAL PERK                        SK"
      ]
     },
     "execution_count": 24,
     "metadata": {},
     "output_type": "execute_result"
    }
   ],
   "source": [
    "# Query the table\n",
    "df_result = db_source.get_data_as_df()\n",
    "df_result"
   ]
  },
  {
   "cell_type": "markdown",
   "id": "86eb1a59",
   "metadata": {},
   "source": [
    "## 8. Drop the table using DbDataSource object"
   ]
  },
  {
   "cell_type": "code",
   "execution_count": 25,
   "id": "94175912",
   "metadata": {},
   "outputs": [
    {
     "name": "stdout",
     "output_type": "stream",
     "text": [
      "2022-07-17 17:31:08,560 INFO sqlalchemy.engine.Engine BEGIN (implicit)\n",
      "2022-07-17 17:31:08,561 INFO sqlalchemy.engine.Engine \n",
      "DROP TABLE esg_matching.esg_match_ref\n",
      "2022-07-17 17:31:08,562 INFO sqlalchemy.engine.Engine [no key 0.00123s] ()\n",
      "2022-07-17 17:31:11,146 INFO sqlalchemy.engine.Engine COMMIT\n"
     ]
    }
   ],
   "source": [
    "db_source.drop_table()"
   ]
  },
  {
   "cell_type": "markdown",
   "id": "4e3479ca",
   "metadata": {},
   "source": [
    "## 9. Close database connection"
   ]
  },
  {
   "cell_type": "code",
   "execution_count": 26,
   "id": "65fd6d82",
   "metadata": {},
   "outputs": [],
   "source": [
    "db_conn.disconnect()"
   ]
  },
  {
   "cell_type": "code",
   "execution_count": 27,
   "id": "9dde2038",
   "metadata": {},
   "outputs": [
    {
     "data": {
      "text/plain": [
       "False"
      ]
     },
     "execution_count": 27,
     "metadata": {},
     "output_type": "execute_result"
    }
   ],
   "source": [
    "db_conn.is_connected()"
   ]
  },
  {
   "cell_type": "code",
   "execution_count": null,
   "id": "da099ff4",
   "metadata": {},
   "outputs": [],
   "source": []
  }
 ],
 "metadata": {
  "kernelspec": {
   "display_name": "Python 3",
   "language": "python",
   "name": "python3"
  },
  "language_info": {
   "codemirror_mode": {
    "name": "ipython",
    "version": 3
   },
   "file_extension": ".py",
   "mimetype": "text/x-python",
   "name": "python",
   "nbconvert_exporter": "python",
   "pygments_lexer": "ipython3",
   "version": "3.9.5"
  }
 },
 "nbformat": 4,
 "nbformat_minor": 5
}
