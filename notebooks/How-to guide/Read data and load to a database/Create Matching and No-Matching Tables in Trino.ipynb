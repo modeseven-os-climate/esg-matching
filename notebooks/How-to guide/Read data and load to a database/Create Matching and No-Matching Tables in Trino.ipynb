{
 "cells": [
  {
   "cell_type": "markdown",
   "id": "e170c7ce",
   "metadata": {},
   "source": [
    "# How to...create Matching and No-Matching Tables in Trino"
   ]
  },
  {
   "cell_type": "code",
   "execution_count": 1,
   "id": "3ecdce6d",
   "metadata": {},
   "outputs": [],
   "source": [
    "# Sets up the location of the api relative to this notebook \n",
    "import sys\n",
    "sys.path.append('../../../')"
   ]
  },
  {
   "cell_type": "code",
   "execution_count": 2,
   "id": "689dc67d",
   "metadata": {},
   "outputs": [],
   "source": [
    "# Import the module for connection to a sqllite database\n",
    "from esg_matching.engine.connectors.trino import TrinoConnector"
   ]
  },
  {
   "cell_type": "code",
   "execution_count": 3,
   "id": "0684c1bc",
   "metadata": {},
   "outputs": [],
   "source": [
    "# Import the modules for file management\n",
    "from esg_matching.file_reader.file import File\n",
    "from esg_matching.file_reader.csv_reader import FileReaderCsv"
   ]
  },
  {
   "cell_type": "code",
   "execution_count": 4,
   "id": "691ed0b7",
   "metadata": {},
   "outputs": [],
   "source": [
    "# Import the modules for the etl processing: reading, transformation and loading data to a database\n",
    "from esg_matching.processing.etl import EtlProcessing"
   ]
  },
  {
   "cell_type": "markdown",
   "id": "cec1178b",
   "metadata": {},
   "source": [
    "## 1. Database setup"
   ]
  },
  {
   "cell_type": "code",
   "execution_count": 5,
   "id": "3d83cd84",
   "metadata": {},
   "outputs": [],
   "source": [
    "# Import the module for connection to a sqllite database\n",
    "from esg_matching.engine.connectors.trino import TrinoConnector"
   ]
  },
  {
   "cell_type": "code",
   "execution_count": 6,
   "id": "3d3ad253",
   "metadata": {},
   "outputs": [],
   "source": [
    "import os\n",
    "user_trino = os.environ['TRINO_USER']\n",
    "pwd_trino = os.environ['TRINO_PASSWD']\n",
    "host_trino = os.environ['TRINO_HOST']\n",
    "port_trino = int(os.environ['TRINO_PORT'])"
   ]
  },
  {
   "cell_type": "code",
   "execution_count": 7,
   "id": "342a1823",
   "metadata": {},
   "outputs": [],
   "source": [
    "# The database connector is represented by the class SqlLiteConnector \n",
    "db_conn = TrinoConnector()"
   ]
  },
  {
   "cell_type": "code",
   "execution_count": 8,
   "id": "1f032161",
   "metadata": {},
   "outputs": [
    {
     "name": "stdout",
     "output_type": "stream",
     "text": [
      "2022-07-17 18:45:33,665 INFO sqlalchemy.engine.Engine SELECT version()\n",
      "2022-07-17 18:45:33,668 INFO sqlalchemy.engine.Engine [dialect trino+rest does not support caching 0.00320s] ()\n"
     ]
    }
   ],
   "source": [
    "# The connect() method of the SqlLiteConnector is used to stablish a connection with the database if it exists, \n",
    "# or to create a new one. The property path_db defines the location and name of the database.\n",
    "# The  property show_sql_statement indicates if the SQL statements are echoed (or printed) in the default output channel.\n",
    "db_conn.username = user_trino\n",
    "db_conn.user_password = pwd_trino\n",
    "db_conn.host_url = host_trino\n",
    "db_conn.port_number = port_trino\n",
    "db_conn.catalog = 'osc_datacommons_iceberg_dev'\n",
    "db_conn.show_sql_statement = True\n",
    "db_conn.connect()"
   ]
  },
  {
   "cell_type": "code",
   "execution_count": 9,
   "id": "30e529b6",
   "metadata": {},
   "outputs": [
    {
     "data": {
      "text/plain": [
       "True"
      ]
     },
     "execution_count": 9,
     "metadata": {},
     "output_type": "execute_result"
    }
   ],
   "source": [
    "# Check if the connection was stablished\n",
    "db_conn.is_connected()"
   ]
  },
  {
   "cell_type": "markdown",
   "id": "12d9f068",
   "metadata": {},
   "source": [
    "## 2. Create ETL object"
   ]
  },
  {
   "cell_type": "code",
   "execution_count": 10,
   "id": "e21e0d15",
   "metadata": {},
   "outputs": [],
   "source": [
    "# Create an ETL process object\n",
    "etl_proc_obj = EtlProcessing(db_conn)"
   ]
  },
  {
   "cell_type": "markdown",
   "id": "75360852",
   "metadata": {},
   "source": [
    "## 3. Create Matching from file settings"
   ]
  },
  {
   "cell_type": "code",
   "execution_count": 11,
   "id": "45b2b677",
   "metadata": {},
   "outputs": [
    {
     "data": {
      "text/plain": [
       "'../../../tests/data/howto/trino/test_matching_trino.json'"
      ]
     },
     "execution_count": 11,
     "metadata": {},
     "output_type": "execute_result"
    }
   ],
   "source": [
    "# Settings for Macthing Table\n",
    "match_settings = '../../../tests/data/howto/trino/test_matching_trino.json'\n",
    "match_settings"
   ]
  },
  {
   "cell_type": "code",
   "execution_count": 12,
   "id": "48159b77",
   "metadata": {},
   "outputs": [],
   "source": [
    "# Create a file object\n",
    "file_match = File(match_settings)"
   ]
  },
  {
   "cell_type": "code",
   "execution_count": 13,
   "id": "42daa832",
   "metadata": {},
   "outputs": [
    {
     "name": "stdout",
     "output_type": "stream",
     "text": [
      "2022-07-17 18:45:40,786 INFO sqlalchemy.engine.Engine SELECT \"table_name\"\n",
      "FROM \"information_schema\".\"tables\"\n",
      "WHERE \"table_schema\" = ?\n",
      "2022-07-17 18:45:40,787 INFO sqlalchemy.engine.Engine [dialect trino+rest does not support caching 0.00132s] ('esg_matching',)\n",
      "2022-07-17 18:45:42,150 INFO sqlalchemy.engine.Engine BEGIN (implicit)\n",
      "2022-07-17 18:45:42,151 INFO sqlalchemy.engine.Engine \n",
      "CREATE TABLE esg_matching.esg_matching (\n",
      "\tmatching_id INTEGER, \n",
      "\tref_name VARCHAR, \n",
      "\ttgt_name VARCHAR, \n",
      "\tmatching_type VARCHAR, \n",
      "\tmatching_scope VARCHAR, \n",
      "\tmatching_rule VARCHAR, \n",
      "\tref_id VARCHAR, \n",
      "\tref_company VARCHAR, \n",
      "\tref_country VARCHAR, \n",
      "\ttgt_id VARCHAR, \n",
      "\ttgt_company VARCHAR, \n",
      "\ttgt_country VARCHAR, \n",
      "\tisin VARCHAR, \n",
      "\tlei VARCHAR, \n",
      "\tsedol VARCHAR\n",
      ")\n",
      "\n",
      "\n",
      "2022-07-17 18:45:42,152 INFO sqlalchemy.engine.Engine [no key 0.00068s] ()\n",
      "2022-07-17 18:45:43,122 INFO sqlalchemy.engine.Engine COMMIT\n"
     ]
    }
   ],
   "source": [
    "# Call the create_data_source_from_settings() method by passing the File\n",
    "db_matching = etl_proc_obj.create_data_source(file_match)"
   ]
  },
  {
   "cell_type": "code",
   "execution_count": 14,
   "id": "e98439ef",
   "metadata": {},
   "outputs": [
    {
     "data": {
      "text/plain": [
       "['matching_id',\n",
       " 'ref_name',\n",
       " 'tgt_name',\n",
       " 'matching_type',\n",
       " 'matching_scope',\n",
       " 'matching_rule',\n",
       " 'ref_id',\n",
       " 'ref_company',\n",
       " 'ref_country',\n",
       " 'tgt_id',\n",
       " 'tgt_company',\n",
       " 'tgt_country',\n",
       " 'isin',\n",
       " 'lei',\n",
       " 'sedol']"
      ]
     },
     "execution_count": 14,
     "metadata": {},
     "output_type": "execute_result"
    }
   ],
   "source": [
    "# Retrieve the attribute names of the database table\n",
    "db_matching.get_attribute_names()"
   ]
  },
  {
   "cell_type": "markdown",
   "id": "73d8b46c",
   "metadata": {},
   "source": [
    "## 4. Create No-Matching from file settings"
   ]
  },
  {
   "cell_type": "code",
   "execution_count": null,
   "id": "547f2a3d",
   "metadata": {},
   "outputs": [],
   "source": [
    "# Settings for No-Macthing Table\n",
    "no_match_settings = '../../../tests/data/howto/trino/test_no_matching_trino.json'\n",
    "no_match_settings"
   ]
  },
  {
   "cell_type": "code",
   "execution_count": null,
   "id": "acce4166",
   "metadata": {},
   "outputs": [],
   "source": [
    "# Create a file object\n",
    "file_no_match = File(no_match_settings)"
   ]
  },
  {
   "cell_type": "code",
   "execution_count": null,
   "id": "65dca9ff",
   "metadata": {},
   "outputs": [],
   "source": [
    "# Call the create_data_source_from_settings() method by passing the File\n",
    "db_no_matching = etl_proc_obj.create_data_source(file_no_match)"
   ]
  },
  {
   "cell_type": "code",
   "execution_count": null,
   "id": "881eb8b4",
   "metadata": {},
   "outputs": [],
   "source": [
    "# Retrieve the attribute names of the database table\n",
    "db_no_matching.get_attribute_names()"
   ]
  },
  {
   "cell_type": "markdown",
   "id": "8c332806",
   "metadata": {},
   "source": [
    "## 5. Disconnect"
   ]
  },
  {
   "cell_type": "code",
   "execution_count": null,
   "id": "f834a442",
   "metadata": {},
   "outputs": [],
   "source": [
    "db_conn.disconnect()"
   ]
  },
  {
   "cell_type": "code",
   "execution_count": null,
   "id": "11884c08",
   "metadata": {},
   "outputs": [],
   "source": [
    "db_conn.is_connected()"
   ]
  },
  {
   "cell_type": "code",
   "execution_count": null,
   "id": "c0acca0b",
   "metadata": {},
   "outputs": [],
   "source": []
  }
 ],
 "metadata": {
  "kernelspec": {
   "display_name": "Python 3",
   "language": "python",
   "name": "python3"
  },
  "language_info": {
   "codemirror_mode": {
    "name": "ipython",
    "version": 3
   },
   "file_extension": ".py",
   "mimetype": "text/x-python",
   "name": "python",
   "nbconvert_exporter": "python",
   "pygments_lexer": "ipython3",
   "version": "3.9.5"
  }
 },
 "nbformat": 4,
 "nbformat_minor": 5
}
