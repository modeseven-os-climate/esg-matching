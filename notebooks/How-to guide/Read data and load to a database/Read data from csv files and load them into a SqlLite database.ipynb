{
 "cells": [
  {
   "cell_type": "markdown",
   "id": "70a7e2f0",
   "metadata": {},
   "source": [
    "# How to...read data from csv files and store them on SqlLite database"
   ]
  },
  {
   "cell_type": "code",
   "execution_count": 1,
   "id": "f4095a55",
   "metadata": {},
   "outputs": [],
   "source": [
    "# Sets up the location of the api relative to this notebook \n",
    "import sys\n",
    "sys.path.append('../../../')"
   ]
  },
  {
   "cell_type": "code",
   "execution_count": 2,
   "id": "d8c45f24",
   "metadata": {},
   "outputs": [],
   "source": [
    "# Import the module for connection to a sqllite database\n",
    "from esg_matching.db_engine.engines.connector_sql_lite import SqlLiteConnector"
   ]
  },
  {
   "cell_type": "code",
   "execution_count": 3,
   "id": "d25887a4",
   "metadata": {},
   "outputs": [],
   "source": [
    "# Import the modules for file management\n",
    "from esg_matching.file_reader.file import File\n",
    "from esg_matching.file_reader.file_reader_csv import FileReaderCsv"
   ]
  },
  {
   "cell_type": "code",
   "execution_count": 4,
   "id": "a0c96d6d",
   "metadata": {},
   "outputs": [],
   "source": [
    "# Import the modules for the etl processing: reading, transformation and loading data to a database\n",
    "from esg_matching.processing.etl_processing import EtlProcessing"
   ]
  },
  {
   "cell_type": "markdown",
   "id": "e462c872",
   "metadata": {},
   "source": [
    "## 1. Database setup"
   ]
  },
  {
   "cell_type": "code",
   "execution_count": 5,
   "id": "c5cef12f",
   "metadata": {},
   "outputs": [],
   "source": [
    "# Localization of the database to be created in relation to this jupyter notebook\n",
    "# The database will be created in the /data/dabase folder, under the project main folder\n",
    "path_db = '../../../tests/data/notebook/sqlite/test_esg_matching.db'"
   ]
  },
  {
   "cell_type": "code",
   "execution_count": 6,
   "id": "39e00bc9",
   "metadata": {},
   "outputs": [],
   "source": [
    "# The database connector is represented by the class SqlLiteConnector \n",
    "db_conn = SqlLiteConnector()"
   ]
  },
  {
   "cell_type": "code",
   "execution_count": 7,
   "id": "2405fab6",
   "metadata": {},
   "outputs": [],
   "source": [
    "# The connect() method of the SqlLiteConnector is used to stablish a connection with the database if it exists, \n",
    "# or to create a new one. The property path_db defines the location and name of the database.\n",
    "# The  property show_sql_statement indicates if the SQL statements are echoed (or printed) in the default output channel.\n",
    "db_conn.path_db = path_db\n",
    "db_conn.show_sql_statement = True\n",
    "db_conn.connect()"
   ]
  },
  {
   "cell_type": "code",
   "execution_count": 8,
   "id": "aeee0eda",
   "metadata": {},
   "outputs": [
    {
     "data": {
      "text/plain": [
       "True"
      ]
     },
     "execution_count": 8,
     "metadata": {},
     "output_type": "execute_result"
    }
   ],
   "source": [
    "# Check if the connection was stablished\n",
    "db_conn.is_connected()"
   ]
  },
  {
   "cell_type": "markdown",
   "id": "311fc6eb",
   "metadata": {},
   "source": [
    "## 2. File setup"
   ]
  },
  {
   "cell_type": "code",
   "execution_count": 9,
   "id": "5035b76d",
   "metadata": {},
   "outputs": [
    {
     "data": {
      "text/plain": [
       "'../../../tests/data/notebook/sqlite/test_referential1_sqlite.json'"
      ]
     },
     "execution_count": 9,
     "metadata": {},
     "output_type": "execute_result"
    }
   ],
   "source": [
    "# Settings for Referential 1\n",
    "file1_settings = '../../../tests/data/notebook/sqlite/test_referential1_sqlite.json'\n",
    "file1_settings"
   ]
  },
  {
   "cell_type": "code",
   "execution_count": 10,
   "id": "3b552b79",
   "metadata": {},
   "outputs": [],
   "source": [
    "# Create a file object\n",
    "file_obj = File(file1_settings)"
   ]
  },
  {
   "cell_type": "code",
   "execution_count": 11,
   "id": "f093b391",
   "metadata": {},
   "outputs": [
    {
     "name": "stdout",
     "output_type": "stream",
     "text": [
      "Filename:../../../tests/data/test_referential1.csv, Json Settings:../../../tests/data/notebook/sqlite/test_referential1_sqlite.json\n"
     ]
    }
   ],
   "source": [
    "# Checking some properties of the File object\n",
    "print('Filename:{}, Json Settings:{}'.format(file_obj.filename, file_obj.filename_settings))"
   ]
  },
  {
   "cell_type": "markdown",
   "id": "40f4fe14",
   "metadata": {},
   "source": [
    "## 3. Read a csv file and load its content to the database"
   ]
  },
  {
   "cell_type": "markdown",
   "id": "fe6ba5e6",
   "metadata": {},
   "source": [
    "The Esg-Entity-Matching library provides a FileReaderCsv that understands the content of csv files. \n",
    "It also provides an EtlProcessing object that combines file, connector and reader in order to perform the complete pipeline of reading, transforming and loading data into a database."
   ]
  },
  {
   "cell_type": "code",
   "execution_count": 12,
   "id": "394726eb",
   "metadata": {},
   "outputs": [],
   "source": [
    "# Crete a file reader object for csv files\n",
    "csv_reader_obj = FileReaderCsv()  "
   ]
  },
  {
   "cell_type": "code",
   "execution_count": 13,
   "id": "7e15705a",
   "metadata": {},
   "outputs": [],
   "source": [
    "# Create an ETL process object\n",
    "etl_proc_obj = EtlProcessing(db_conn)"
   ]
  },
  {
   "cell_type": "code",
   "execution_count": 14,
   "id": "650927cf",
   "metadata": {},
   "outputs": [
    {
     "name": "stdout",
     "output_type": "stream",
     "text": [
      "2022-01-28 09:59:22,993 INFO sqlalchemy.engine.Engine PRAGMA main.table_info(\"ESG_MATCH_REF\")\n",
      "2022-01-28 09:59:22,994 INFO sqlalchemy.engine.Engine [raw sql] ()\n",
      "2022-01-28 09:59:23,002 INFO sqlalchemy.engine.Engine PRAGMA main.table_xinfo(\"ESG_MATCH_REF\")\n",
      "2022-01-28 09:59:23,003 INFO sqlalchemy.engine.Engine [raw sql] ()\n",
      "2022-01-28 09:59:23,009 INFO sqlalchemy.engine.Engine SELECT sql FROM  (SELECT * FROM sqlite_master UNION ALL   SELECT * FROM sqlite_temp_master) WHERE name = ? AND type = 'table'\n",
      "2022-01-28 09:59:23,010 INFO sqlalchemy.engine.Engine [raw sql] ('ESG_MATCH_REF',)\n",
      "2022-01-28 09:59:23,013 INFO sqlalchemy.engine.Engine PRAGMA main.foreign_key_list(\"ESG_MATCH_REF\")\n",
      "2022-01-28 09:59:23,014 INFO sqlalchemy.engine.Engine [raw sql] ()\n",
      "2022-01-28 09:59:23,016 INFO sqlalchemy.engine.Engine PRAGMA temp.foreign_key_list(\"ESG_MATCH_REF\")\n",
      "2022-01-28 09:59:23,017 INFO sqlalchemy.engine.Engine [raw sql] ()\n",
      "2022-01-28 09:59:23,019 INFO sqlalchemy.engine.Engine SELECT sql FROM  (SELECT * FROM sqlite_master UNION ALL   SELECT * FROM sqlite_temp_master) WHERE name = ? AND type = 'table'\n",
      "2022-01-28 09:59:23,020 INFO sqlalchemy.engine.Engine [raw sql] ('ESG_MATCH_REF',)\n",
      "2022-01-28 09:59:23,025 INFO sqlalchemy.engine.Engine PRAGMA main.index_list(\"ESG_MATCH_REF\")\n",
      "2022-01-28 09:59:23,026 INFO sqlalchemy.engine.Engine [raw sql] ()\n",
      "2022-01-28 09:59:23,029 INFO sqlalchemy.engine.Engine PRAGMA temp.index_list(\"ESG_MATCH_REF\")\n",
      "2022-01-28 09:59:23,030 INFO sqlalchemy.engine.Engine [raw sql] ()\n",
      "2022-01-28 09:59:23,031 INFO sqlalchemy.engine.Engine PRAGMA main.index_list(\"ESG_MATCH_REF\")\n",
      "2022-01-28 09:59:23,032 INFO sqlalchemy.engine.Engine [raw sql] ()\n",
      "2022-01-28 09:59:23,034 INFO sqlalchemy.engine.Engine PRAGMA temp.index_list(\"ESG_MATCH_REF\")\n",
      "2022-01-28 09:59:23,035 INFO sqlalchemy.engine.Engine [raw sql] ()\n",
      "2022-01-28 09:59:23,036 INFO sqlalchemy.engine.Engine SELECT sql FROM  (SELECT * FROM sqlite_master UNION ALL   SELECT * FROM sqlite_temp_master) WHERE name = ? AND type = 'table'\n",
      "2022-01-28 09:59:23,037 INFO sqlalchemy.engine.Engine [raw sql] ('ESG_MATCH_REF',)\n",
      "2022-01-28 09:59:23,044 INFO sqlalchemy.engine.Engine BEGIN (implicit)\n",
      "2022-01-28 09:59:23,047 INFO sqlalchemy.engine.Engine \n",
      "DROP TABLE \"ESG_MATCH_REF\"\n",
      "2022-01-28 09:59:23,048 INFO sqlalchemy.engine.Engine [no key 0.00117s] ()\n",
      "2022-01-28 09:59:23,065 INFO sqlalchemy.engine.Engine COMMIT\n",
      "2022-01-28 09:59:23,078 INFO sqlalchemy.engine.Engine BEGIN (implicit)\n",
      "2022-01-28 09:59:23,080 INFO sqlalchemy.engine.Engine \n",
      "CREATE TABLE \"ESG_MATCH_REF\" (\n",
      "\t\"UNIQUE_ID\" INTEGER NOT NULL, \n",
      "\t\"ISIN\" VARCHAR, \n",
      "\t\"COMPANY\" VARCHAR, \n",
      "\t\"COUNTRY\" VARCHAR, \n",
      "\tPRIMARY KEY (\"UNIQUE_ID\")\n",
      ")\n",
      "\n",
      "\n",
      "2022-01-28 09:59:23,081 INFO sqlalchemy.engine.Engine [no key 0.00185s] ()\n",
      "2022-01-28 09:59:23,101 INFO sqlalchemy.engine.Engine COMMIT\n",
      "../../../tests/data/test_referential1.csv\n",
      "2022-01-28 09:59:23,116 INFO sqlalchemy.engine.Engine INSERT INTO \"ESG_MATCH_REF\" (\"UNIQUE_ID\", \"ISIN\", \"COMPANY\", \"COUNTRY\") VALUES (?, ?, ?, ?)\n",
      "2022-01-28 09:59:23,117 INFO sqlalchemy.engine.Engine [generated in 0.00129s] ('1', 'SK1120005824', 'CENTRAL PERK', 'SK')\n",
      "2022-01-28 09:59:23,121 INFO sqlalchemy.engine.Engine COMMIT\n",
      "2022-01-28 09:59:23,148 INFO sqlalchemy.engine.Engine INSERT INTO \"ESG_MATCH_REF\" (\"UNIQUE_ID\", \"ISIN\", \"COMPANY\", \"COUNTRY\") VALUES (?, NULL, ?, ?)\n",
      "2022-01-28 09:59:23,149 INFO sqlalchemy.engine.Engine [generated in 0.00135s] ('2', 'HONEYDUKES', 'UNITED STATES OF AMERICA')\n",
      "2022-01-28 09:59:23,158 INFO sqlalchemy.engine.Engine COMMIT\n",
      "2022-01-28 09:59:23,181 INFO sqlalchemy.engine.Engine INSERT INTO \"ESG_MATCH_REF\" (\"UNIQUE_ID\", \"ISIN\", \"COMPANY\", \"COUNTRY\") VALUES (?, NULL, ?, ?)\n",
      "2022-01-28 09:59:23,184 INFO sqlalchemy.engine.Engine [cached since 0.0357s ago] ('3', 'STARCOURT MALL', 'AUSTRIA')\n",
      "2022-01-28 09:59:23,188 INFO sqlalchemy.engine.Engine COMMIT\n",
      "2022-01-28 09:59:23,219 INFO sqlalchemy.engine.Engine INSERT INTO \"ESG_MATCH_REF\" (\"UNIQUE_ID\", \"ISIN\", \"COMPANY\", \"COUNTRY\") VALUES (?, ?, ?, ?)\n",
      "2022-01-28 09:59:23,220 INFO sqlalchemy.engine.Engine [cached since 0.1035s ago] ('4', 'GB00B1YW4409', 'STERLING COOPER', 'GBR')\n",
      "2022-01-28 09:59:23,225 INFO sqlalchemy.engine.Engine COMMIT\n",
      "2022-01-28 09:59:23,252 INFO sqlalchemy.engine.Engine INSERT INTO \"ESG_MATCH_REF\" (\"UNIQUE_ID\", \"ISIN\", \"COMPANY\", \"COUNTRY\") VALUES (?, ?, ?, ?)\n",
      "2022-01-28 09:59:23,253 INFO sqlalchemy.engine.Engine [cached since 0.1369s ago] ('5', 'CH0012221716', 'Bluth company', 'CHE')\n",
      "2022-01-28 09:59:23,261 INFO sqlalchemy.engine.Engine COMMIT\n",
      "2022-01-28 09:59:23,295 INFO sqlalchemy.engine.Engine INSERT INTO \"ESG_MATCH_REF\" (\"UNIQUE_ID\", \"ISIN\", \"COMPANY\", \"COUNTRY\") VALUES (?, ?, ?, ?)\n",
      "2022-01-28 09:59:23,296 INFO sqlalchemy.engine.Engine [cached since 0.1801s ago] ('6', 'US0200021014', 'InGen', 'usa')\n",
      "2022-01-28 09:59:23,302 INFO sqlalchemy.engine.Engine COMMIT\n",
      "2022-01-28 09:59:23,329 INFO sqlalchemy.engine.Engine INSERT INTO \"ESG_MATCH_REF\" (\"UNIQUE_ID\", \"ISIN\", \"COMPANY\", \"COUNTRY\") VALUES (?, ?, ?, ?)\n",
      "2022-01-28 09:59:23,330 INFO sqlalchemy.engine.Engine [cached since 0.2136s ago] ('7', 'US0231351067', 'Stark Industries', 'us')\n",
      "2022-01-28 09:59:23,333 INFO sqlalchemy.engine.Engine COMMIT\n",
      "2022-01-28 09:59:23,374 INFO sqlalchemy.engine.Engine INSERT INTO \"ESG_MATCH_REF\" (\"UNIQUE_ID\", \"ISIN\", \"COMPANY\", \"COUNTRY\") VALUES (?, ?, ?, ?)\n",
      "2022-01-28 09:59:23,375 INFO sqlalchemy.engine.Engine [cached since 0.2591s ago] ('8', 'US0126531013', 'SPECTRE', 'USA')\n",
      "2022-01-28 09:59:23,378 INFO sqlalchemy.engine.Engine COMMIT\n",
      "2022-01-28 09:59:23,404 INFO sqlalchemy.engine.Engine INSERT INTO \"ESG_MATCH_REF\" (\"UNIQUE_ID\", \"ISIN\", \"COMPANY\", \"COUNTRY\") VALUES (?, ?, ?, ?)\n",
      "2022-01-28 09:59:23,405 INFO sqlalchemy.engine.Engine [cached since 0.2884s ago] ('9', 'US0126531013', 'SPECTRE 33 SUBSIDIARY', 'USA')\n",
      "2022-01-28 09:59:23,410 INFO sqlalchemy.engine.Engine COMMIT\n"
     ]
    }
   ],
   "source": [
    "# Call the load_file_to_db() method by passing the File, FileReader and SqlLiteConnector\n",
    "# The ETL process returns a database source object\n",
    "db_source = etl_proc_obj.load_file_to_db(file_obj, csv_reader_obj)"
   ]
  },
  {
   "cell_type": "markdown",
   "id": "9bb69e66",
   "metadata": {},
   "source": [
    "## 4. Report on Etl Process"
   ]
  },
  {
   "cell_type": "code",
   "execution_count": 15,
   "id": "8aa77906",
   "metadata": {},
   "outputs": [
    {
     "name": "stdout",
     "output_type": "stream",
     "text": [
      "-------------------------------------- ETL PROCESSING REPORT ---------------------------------------\n",
      "Description: Details of the ETL process performed on [DS_REF] data source.\n",
      "Datetime:2022-01-28 09:59:23\n",
      "----------------------------------------------------------------------------------------------------\n",
      "File Name: ../../../tests/data/test_referential1.csv\n",
      "Columns in the File: 4\n",
      "Columns read from File: 4\n",
      "Lines Extracted from File: 9\n"
     ]
    }
   ],
   "source": [
    "# Printing the ELT Processing Report \n",
    "etl_proc_obj.print_report()"
   ]
  },
  {
   "cell_type": "markdown",
   "id": "1764caee",
   "metadata": {},
   "source": [
    "## 5. Checking the attribute names of DbDataSource"
   ]
  },
  {
   "cell_type": "markdown",
   "id": "43e1a8e8",
   "metadata": {},
   "source": [
    "There are three methods to check the column or attribute names of the DbDataSource object:\n",
    "1. Use get_original_field_names(): to retrieve the original attribute names of the columns in the csv file\n",
    "2. Use get_field_names(): to retrieve the attribute names of the database table\n",
    "3. Use get_primary_keys(): to retrieve the attribute names of the primary keys in the database table"
   ]
  },
  {
   "cell_type": "code",
   "execution_count": 16,
   "id": "04315e20",
   "metadata": {},
   "outputs": [
    {
     "data": {
      "text/plain": [
       "['UNIQUE_ID', 'ISIN', 'COMPANY', 'COUNTRY']"
      ]
     },
     "execution_count": 16,
     "metadata": {},
     "output_type": "execute_result"
    }
   ],
   "source": [
    "# Retrieve the original attribute names (read from the csv file)\n",
    "db_source.get_original_attribute_names()"
   ]
  },
  {
   "cell_type": "code",
   "execution_count": 17,
   "id": "d36ef079",
   "metadata": {},
   "outputs": [
    {
     "data": {
      "text/plain": [
       "['UNIQUE_ID', 'ISIN', 'COMPANY', 'COUNTRY']"
      ]
     },
     "execution_count": 17,
     "metadata": {},
     "output_type": "execute_result"
    }
   ],
   "source": [
    "# Retrieve the attribute names of the database table\n",
    "db_source.get_attribute_names()"
   ]
  },
  {
   "cell_type": "code",
   "execution_count": 18,
   "id": "dfe0e0de",
   "metadata": {},
   "outputs": [
    {
     "data": {
      "text/plain": [
       "['UNIQUE_ID']"
      ]
     },
     "execution_count": 18,
     "metadata": {},
     "output_type": "execute_result"
    }
   ],
   "source": [
    "# Retrieve the attribute names of the primary keys in the database table\n",
    "db_source.get_primary_keys()"
   ]
  },
  {
   "cell_type": "markdown",
   "id": "00b55fb5",
   "metadata": {},
   "source": [
    "## 6. Checking the Data Source"
   ]
  },
  {
   "cell_type": "code",
   "execution_count": 19,
   "id": "428f5fd0",
   "metadata": {},
   "outputs": [
    {
     "name": "stdout",
     "output_type": "stream",
     "text": [
      "Data Source Name: DS_REF, Table name: ESG_MATCH_REF\n"
     ]
    }
   ],
   "source": [
    "print('Data Source Name: {}, Table name: {}'.format(db_source.name, db_source.table_name))"
   ]
  },
  {
   "cell_type": "code",
   "execution_count": 20,
   "id": "c1c8ae07",
   "metadata": {},
   "outputs": [
    {
     "name": "stdout",
     "output_type": "stream",
     "text": [
      "2022-01-28 09:59:23,568 INFO sqlalchemy.engine.Engine SELECT count(*) AS count_1 \n",
      "FROM \"ESG_MATCH_REF\"\n",
      "2022-01-28 09:59:23,570 INFO sqlalchemy.engine.Engine [generated in 0.00233s] ()\n",
      "Total entries in table ESG_MATCH_REF = 9\n"
     ]
    }
   ],
   "source": [
    "# Total entries of the table\n",
    "result = db_source.get_total_entries()\n",
    "print('Total entries in table {} = {}'.format(db_source.table_name, result))"
   ]
  },
  {
   "cell_type": "code",
   "execution_count": 21,
   "id": "bc0f90d6",
   "metadata": {},
   "outputs": [
    {
     "name": "stdout",
     "output_type": "stream",
     "text": [
      "2022-01-28 09:59:23,597 INFO sqlalchemy.engine.Engine BEGIN (implicit)\n",
      "2022-01-28 09:59:23,601 INFO sqlalchemy.engine.Engine SELECT count(\"ESG_MATCH_REF\".\"ISIN\") AS count_1 \n",
      "FROM \"ESG_MATCH_REF\"\n",
      " LIMIT ? OFFSET ?\n",
      "2022-01-28 09:59:23,604 INFO sqlalchemy.engine.Engine [generated in 0.00342s] (1, 0)\n",
      "2022-01-28 09:59:23,611 INFO sqlalchemy.engine.Engine ROLLBACK\n",
      "Total entries by ISIN = 7\n"
     ]
    }
   ],
   "source": [
    "# Total entries of the table by a column name\n",
    "result = db_source.get_total_entries_by_column('ISIN')\n",
    "print('Total entries by ISIN = {}'.format(result))"
   ]
  },
  {
   "cell_type": "code",
   "execution_count": 22,
   "id": "cee92228",
   "metadata": {},
   "outputs": [
    {
     "name": "stdout",
     "output_type": "stream",
     "text": [
      "2022-01-28 09:59:23,636 INFO sqlalchemy.engine.Engine BEGIN (implicit)\n",
      "2022-01-28 09:59:23,639 INFO sqlalchemy.engine.Engine SELECT count(DISTINCT \"ESG_MATCH_REF\".\"ISIN\") AS count_1 \n",
      "FROM \"ESG_MATCH_REF\"\n",
      " LIMIT ? OFFSET ?\n",
      "2022-01-28 09:59:23,645 INFO sqlalchemy.engine.Engine [generated in 0.00546s] (1, 0)\n",
      "2022-01-28 09:59:23,648 INFO sqlalchemy.engine.Engine ROLLBACK\n",
      "Total entries by ISIN with distinct values = 6\n"
     ]
    }
   ],
   "source": [
    "# Total entries of the table by a column name with distinct values\n",
    "result = db_source.get_total_entries_by_column('ISIN', distinct_values=True)\n",
    "print('Total entries by ISIN with distinct values = {}'.format(result))"
   ]
  },
  {
   "cell_type": "markdown",
   "id": "5fddcf52",
   "metadata": {},
   "source": [
    "## 7. Checking the content of the DbDataSource"
   ]
  },
  {
   "cell_type": "markdown",
   "id": "d869453d",
   "metadata": {},
   "source": [
    "The get_data() method of the DbDataSource object performs a full select in the table, returning a list of tupples. Each item of the list is a row in the table and each element is the value per column."
   ]
  },
  {
   "cell_type": "code",
   "execution_count": 23,
   "id": "71d7f99b",
   "metadata": {},
   "outputs": [
    {
     "name": "stdout",
     "output_type": "stream",
     "text": [
      "2022-01-28 09:59:23,680 INFO sqlalchemy.engine.Engine SELECT \"ESG_MATCH_REF\".\"UNIQUE_ID\", \"ESG_MATCH_REF\".\"ISIN\", \"ESG_MATCH_REF\".\"COMPANY\", \"ESG_MATCH_REF\".\"COUNTRY\" \n",
      "FROM \"ESG_MATCH_REF\"\n",
      "2022-01-28 09:59:23,681 INFO sqlalchemy.engine.Engine [generated in 0.00094s] ()\n"
     ]
    },
    {
     "data": {
      "text/plain": [
       "[(1, 'SK1120005824', 'CENTRAL PERK', 'SK'),\n",
       " (2, None, 'HONEYDUKES', 'UNITED STATES OF AMERICA'),\n",
       " (3, None, 'STARCOURT MALL', 'AUSTRIA'),\n",
       " (4, 'GB00B1YW4409', 'STERLING COOPER', 'GBR'),\n",
       " (5, 'CH0012221716', 'Bluth company', 'CHE'),\n",
       " (6, 'US0200021014', 'InGen', 'usa'),\n",
       " (7, 'US0231351067', 'Stark Industries', 'us'),\n",
       " (8, 'US0126531013', 'SPECTRE', 'USA'),\n",
       " (9, 'US0126531013', 'SPECTRE 33 SUBSIDIARY', 'USA')]"
      ]
     },
     "execution_count": 23,
     "metadata": {},
     "output_type": "execute_result"
    }
   ],
   "source": [
    "# Query all the values of the table\n",
    "# Equivalent to SELECT * FROM TABLE_NAME\n",
    "lst_result = db_source.get_data()\n",
    "lst_result"
   ]
  },
  {
   "cell_type": "markdown",
   "id": "c6197535",
   "metadata": {},
   "source": [
    "The get_data_as_df() method of the DbDataSource also performs a select in the table, but returns a pandas dataframe as result."
   ]
  },
  {
   "cell_type": "code",
   "execution_count": 24,
   "id": "a3e81c7f",
   "metadata": {},
   "outputs": [
    {
     "name": "stdout",
     "output_type": "stream",
     "text": [
      "2022-01-28 09:59:23,701 INFO sqlalchemy.engine.Engine SELECT \"ESG_MATCH_REF\".\"UNIQUE_ID\", \"ESG_MATCH_REF\".\"ISIN\", \"ESG_MATCH_REF\".\"COMPANY\", \"ESG_MATCH_REF\".\"COUNTRY\" \n",
      "FROM \"ESG_MATCH_REF\"\n",
      "2022-01-28 09:59:23,702 INFO sqlalchemy.engine.Engine [cached since 0.02201s ago] ()\n"
     ]
    },
    {
     "data": {
      "text/html": [
       "<div>\n",
       "<style scoped>\n",
       "    .dataframe tbody tr th:only-of-type {\n",
       "        vertical-align: middle;\n",
       "    }\n",
       "\n",
       "    .dataframe tbody tr th {\n",
       "        vertical-align: top;\n",
       "    }\n",
       "\n",
       "    .dataframe thead th {\n",
       "        text-align: right;\n",
       "    }\n",
       "</style>\n",
       "<table border=\"1\" class=\"dataframe\">\n",
       "  <thead>\n",
       "    <tr style=\"text-align: right;\">\n",
       "      <th></th>\n",
       "      <th>UNIQUE_ID</th>\n",
       "      <th>ISIN</th>\n",
       "      <th>COMPANY</th>\n",
       "      <th>COUNTRY</th>\n",
       "    </tr>\n",
       "  </thead>\n",
       "  <tbody>\n",
       "    <tr>\n",
       "      <th>0</th>\n",
       "      <td>1</td>\n",
       "      <td>SK1120005824</td>\n",
       "      <td>CENTRAL PERK</td>\n",
       "      <td>SK</td>\n",
       "    </tr>\n",
       "    <tr>\n",
       "      <th>1</th>\n",
       "      <td>2</td>\n",
       "      <td>None</td>\n",
       "      <td>HONEYDUKES</td>\n",
       "      <td>UNITED STATES OF AMERICA</td>\n",
       "    </tr>\n",
       "    <tr>\n",
       "      <th>2</th>\n",
       "      <td>3</td>\n",
       "      <td>None</td>\n",
       "      <td>STARCOURT MALL</td>\n",
       "      <td>AUSTRIA</td>\n",
       "    </tr>\n",
       "    <tr>\n",
       "      <th>3</th>\n",
       "      <td>4</td>\n",
       "      <td>GB00B1YW4409</td>\n",
       "      <td>STERLING COOPER</td>\n",
       "      <td>GBR</td>\n",
       "    </tr>\n",
       "    <tr>\n",
       "      <th>4</th>\n",
       "      <td>5</td>\n",
       "      <td>CH0012221716</td>\n",
       "      <td>Bluth company</td>\n",
       "      <td>CHE</td>\n",
       "    </tr>\n",
       "    <tr>\n",
       "      <th>5</th>\n",
       "      <td>6</td>\n",
       "      <td>US0200021014</td>\n",
       "      <td>InGen</td>\n",
       "      <td>usa</td>\n",
       "    </tr>\n",
       "    <tr>\n",
       "      <th>6</th>\n",
       "      <td>7</td>\n",
       "      <td>US0231351067</td>\n",
       "      <td>Stark Industries</td>\n",
       "      <td>us</td>\n",
       "    </tr>\n",
       "    <tr>\n",
       "      <th>7</th>\n",
       "      <td>8</td>\n",
       "      <td>US0126531013</td>\n",
       "      <td>SPECTRE</td>\n",
       "      <td>USA</td>\n",
       "    </tr>\n",
       "    <tr>\n",
       "      <th>8</th>\n",
       "      <td>9</td>\n",
       "      <td>US0126531013</td>\n",
       "      <td>SPECTRE 33 SUBSIDIARY</td>\n",
       "      <td>USA</td>\n",
       "    </tr>\n",
       "  </tbody>\n",
       "</table>\n",
       "</div>"
      ],
      "text/plain": [
       "   UNIQUE_ID          ISIN                COMPANY                   COUNTRY\n",
       "0          1  SK1120005824           CENTRAL PERK                        SK\n",
       "1          2          None             HONEYDUKES  UNITED STATES OF AMERICA\n",
       "2          3          None         STARCOURT MALL                   AUSTRIA\n",
       "3          4  GB00B1YW4409        STERLING COOPER                       GBR\n",
       "4          5  CH0012221716          Bluth company                       CHE\n",
       "5          6  US0200021014                  InGen                       usa\n",
       "6          7  US0231351067       Stark Industries                        us\n",
       "7          8  US0126531013                SPECTRE                       USA\n",
       "8          9  US0126531013  SPECTRE 33 SUBSIDIARY                       USA"
      ]
     },
     "execution_count": 24,
     "metadata": {},
     "output_type": "execute_result"
    }
   ],
   "source": [
    "# Query the table\n",
    "df_result = db_source.get_data_as_df()\n",
    "df_result"
   ]
  },
  {
   "cell_type": "markdown",
   "id": "86eb1a59",
   "metadata": {},
   "source": [
    "## 8. Drop the table using DbDataSource object"
   ]
  },
  {
   "cell_type": "code",
   "execution_count": 25,
   "id": "94175912",
   "metadata": {},
   "outputs": [
    {
     "name": "stdout",
     "output_type": "stream",
     "text": [
      "2022-01-28 09:59:23,747 INFO sqlalchemy.engine.Engine BEGIN (implicit)\n",
      "2022-01-28 09:59:23,750 INFO sqlalchemy.engine.Engine \n",
      "DROP TABLE \"ESG_MATCH_REF\"\n",
      "2022-01-28 09:59:23,752 INFO sqlalchemy.engine.Engine [no key 0.00193s] ()\n",
      "2022-01-28 09:59:23,776 INFO sqlalchemy.engine.Engine COMMIT\n"
     ]
    }
   ],
   "source": [
    "db_source.drop_table()"
   ]
  },
  {
   "cell_type": "markdown",
   "id": "4e3479ca",
   "metadata": {},
   "source": [
    "## 9. Close database connection"
   ]
  },
  {
   "cell_type": "code",
   "execution_count": 26,
   "id": "65fd6d82",
   "metadata": {},
   "outputs": [],
   "source": [
    "db_conn.disconnect()"
   ]
  },
  {
   "cell_type": "code",
   "execution_count": 27,
   "id": "9dde2038",
   "metadata": {},
   "outputs": [
    {
     "data": {
      "text/plain": [
       "False"
      ]
     },
     "execution_count": 27,
     "metadata": {},
     "output_type": "execute_result"
    }
   ],
   "source": [
    "db_conn.is_connected()"
   ]
  },
  {
   "cell_type": "code",
   "execution_count": null,
   "id": "da099ff4",
   "metadata": {},
   "outputs": [],
   "source": []
  }
 ],
 "metadata": {
  "kernelspec": {
   "display_name": "Python 3",
   "language": "python",
   "name": "python3"
  },
  "language_info": {
   "codemirror_mode": {
    "name": "ipython",
    "version": 3
   },
   "file_extension": ".py",
   "mimetype": "text/x-python",
   "name": "python",
   "nbconvert_exporter": "python",
   "pygments_lexer": "ipython3",
   "version": "3.9.5"
  }
 },
 "nbformat": 4,
 "nbformat_minor": 5
}
