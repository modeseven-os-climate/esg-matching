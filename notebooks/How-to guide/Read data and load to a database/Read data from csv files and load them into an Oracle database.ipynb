{
 "cells": [
  {
   "cell_type": "markdown",
   "id": "70a7e2f0",
   "metadata": {},
   "source": [
    "# How to...read data from csv files and store them on Oracle database"
   ]
  },
  {
   "cell_type": "code",
   "execution_count": 1,
   "id": "f4095a55",
   "metadata": {},
   "outputs": [],
   "source": [
    "# Sets up the location of the api relative to this notebook \n",
    "import sys\n",
    "sys.path.append('../../../')"
   ]
  },
  {
   "cell_type": "code",
   "execution_count": 2,
   "id": "d8c45f24",
   "metadata": {},
   "outputs": [],
   "source": [
    "# Import the module for connection to a sqllite database\n",
    "from esg_matching.engine.connectors.oracle import OracleConnector"
   ]
  },
  {
   "cell_type": "code",
   "execution_count": 3,
   "id": "d25887a4",
   "metadata": {},
   "outputs": [],
   "source": [
    "# Import the modules for file management\n",
    "from esg_matching.file_reader.file import File\n",
    "from esg_matching.file_reader.csv_reader import FileReaderCsv"
   ]
  },
  {
   "cell_type": "code",
   "execution_count": 4,
   "id": "a0c96d6d",
   "metadata": {},
   "outputs": [],
   "source": [
    "# Import the modules for the etl processing: reading, transformation and loading data to a database\n",
    "from esg_matching.processing.etl import EtlProcessing"
   ]
  },
  {
   "cell_type": "markdown",
   "id": "e462c872",
   "metadata": {},
   "source": [
    "## 1. Database setup"
   ]
  },
  {
   "cell_type": "markdown",
   "id": "1f00985e",
   "metadata": {},
   "source": [
    "The database connector is represented by the class OracleConnector. The following properties need to be provided:\n",
    "- client_driver_dir: Directory of the oracle client library\n",
    "- username: Username with permission to acess the database\n",
    "- user_password: Password with permission to acess the database\n",
    "- host_url: URL of the oracle database server\n",
    "- port_number: Port number to acess the database server\n",
    "- service_name: Database name"
   ]
  },
  {
   "cell_type": "code",
   "execution_count": 5,
   "id": "39e00bc9",
   "metadata": {},
   "outputs": [],
   "source": [
    "# The database connector is represented by the class OracleConnector \n",
    "db_conn = OracleConnector()"
   ]
  },
  {
   "cell_type": "code",
   "execution_count": 6,
   "id": "44b0b81b",
   "metadata": {},
   "outputs": [],
   "source": [
    "# Setting upt the properties\n",
    "db_conn.client_driver_dir ='C:\\oracle\\instantclient_21_3'\n",
    "db_conn.username ='admin'\n",
    "db_conn.user_password =''\n",
    "db_conn.host_url =''\n",
    "db_conn.port_number ='1521'\n",
    "db_conn.service_name ='DATABASE'\n",
    "db_conn.show_sql_statement = True"
   ]
  },
  {
   "cell_type": "code",
   "execution_count": 7,
   "id": "2405fab6",
   "metadata": {},
   "outputs": [],
   "source": [
    "# The connect() method of the OracleConnector is used to stablish a connection with the database. \n",
    "db_conn.connect()"
   ]
  },
  {
   "cell_type": "code",
   "execution_count": 8,
   "id": "aeee0eda",
   "metadata": {},
   "outputs": [
    {
     "data": {
      "text/plain": [
       "True"
      ]
     },
     "execution_count": 8,
     "metadata": {},
     "output_type": "execute_result"
    }
   ],
   "source": [
    "# Check if the connection was stablished\n",
    "db_conn.is_connected()"
   ]
  },
  {
   "cell_type": "markdown",
   "id": "311fc6eb",
   "metadata": {},
   "source": [
    "## 2. File setup"
   ]
  },
  {
   "cell_type": "code",
   "execution_count": 9,
   "id": "95d68d55",
   "metadata": {},
   "outputs": [
    {
     "data": {
      "text/plain": [
       "'../../../tests/data/notebook/oracle/test_referential1_oracle.json'"
      ]
     },
     "execution_count": 9,
     "metadata": {},
     "output_type": "execute_result"
    }
   ],
   "source": [
    "# Settings for Referential 1\n",
    "file1_settings = '../../../tests/data/howto/oracle/test_referential1_oracle.json'\n",
    "file1_settings"
   ]
  },
  {
   "cell_type": "code",
   "execution_count": 10,
   "id": "3b552b79",
   "metadata": {},
   "outputs": [],
   "source": [
    "# Create a file object\n",
    "file_obj = File(file1_settings)"
   ]
  },
  {
   "cell_type": "code",
   "execution_count": 11,
   "id": "f093b391",
   "metadata": {},
   "outputs": [
    {
     "name": "stdout",
     "output_type": "stream",
     "text": [
      "Filename:../../../tests/data/test_referential1.csv, Json Settings:../../../tests/data/notebook/oracle/test_referential1_oracle.json\n"
     ]
    }
   ],
   "source": [
    "# Checking some properties of the File object\n",
    "print('Filename:{}, Json Settings:{}'.format(file_obj.filename, file_obj.filename_settings))"
   ]
  },
  {
   "cell_type": "markdown",
   "id": "40f4fe14",
   "metadata": {},
   "source": [
    "## 3. Read a csv file and load its content to the database"
   ]
  },
  {
   "cell_type": "markdown",
   "id": "fe6ba5e6",
   "metadata": {},
   "source": [
    "The Esg-Entity-Matching library provides a FileReaderCsv that understands the content of csv files. \n",
    "It also provides an EtlProcessing object that combines file, connector and reader in order to perform the complete pipeline of reading, transforming and loading data into a database."
   ]
  },
  {
   "cell_type": "code",
   "execution_count": 12,
   "id": "394726eb",
   "metadata": {},
   "outputs": [],
   "source": [
    "# Crete a file reader object for csv files\n",
    "csv_reader_obj = FileReaderCsv()  "
   ]
  },
  {
   "cell_type": "code",
   "execution_count": 13,
   "id": "7e15705a",
   "metadata": {},
   "outputs": [],
   "source": [
    "# Create an ETL process object\n",
    "etl_proc_obj = EtlProcessing(db_conn)"
   ]
  },
  {
   "cell_type": "code",
   "execution_count": 14,
   "id": "650927cf",
   "metadata": {},
   "outputs": [
    {
     "name": "stdout",
     "output_type": "stream",
     "text": [
      "2022-01-28 09:44:37,234 INFO sqlalchemy.engine.Engine select sys_context( 'userenv', 'current_schema' ) from dual\n",
      "2022-01-28 09:44:37,235 INFO sqlalchemy.engine.Engine [raw sql] {}\n",
      "2022-01-28 09:44:37,358 INFO sqlalchemy.engine.Engine SELECT value FROM v$parameter WHERE name = 'compatible'\n",
      "2022-01-28 09:44:37,359 INFO sqlalchemy.engine.Engine [raw sql] {}\n",
      "2022-01-28 09:44:37,402 INFO sqlalchemy.engine.Engine select value from nls_session_parameters where parameter = 'NLS_NUMERIC_CHARACTERS'\n",
      "2022-01-28 09:44:37,403 INFO sqlalchemy.engine.Engine [raw sql] {}\n",
      "2022-01-28 09:44:37,520 INFO sqlalchemy.engine.Engine SELECT table_name FROM all_tables WHERE table_name = :name AND owner = :schema_name\n",
      "2022-01-28 09:44:37,521 INFO sqlalchemy.engine.Engine [generated in 0.00126s] {'name': 'ESG_MATCH_REF', 'schema_name': 'ADMIN'}\n",
      "2022-01-28 09:44:37,639 INFO sqlalchemy.engine.Engine SELECT table_name, compression, compress_for FROM ALL_TABLES WHERE table_name = :table_name AND owner = :owner \n",
      "2022-01-28 09:44:37,640 INFO sqlalchemy.engine.Engine [generated in 0.00128s] {'table_name': 'ESG_MATCH_REF', 'owner': 'ADMIN'}\n",
      "2022-01-28 09:44:37,683 INFO sqlalchemy.engine.Engine \n",
      "            SELECT\n",
      "                col.column_name,\n",
      "                col.data_type,\n",
      "                col.char_length,\n",
      "                col.data_precision,\n",
      "                col.data_scale,\n",
      "                col.nullable,\n",
      "                col.data_default,\n",
      "                com.comments,\n",
      "                col.virtual_column,\n",
      "                                col.default_on_null,\n",
      "                (\n",
      "                    SELECT id.generation_type || ',' || id.IDENTITY_OPTIONS\n",
      "                    FROM ALL_TAB_IDENTITY_COLS id\n",
      "                    WHERE col.table_name = id.table_name\n",
      "                    AND col.column_name = id.column_name\n",
      "                    AND col.owner = id.owner\n",
      "                ) AS identity_options\n",
      "            FROM all_tab_cols col\n",
      "            LEFT JOIN all_col_comments com\n",
      "            ON col.table_name = com.table_name\n",
      "            AND col.column_name = com.column_name\n",
      "            AND col.owner = com.owner\n",
      "            WHERE col.table_name = :table_name\n",
      "            AND col.hidden_column = 'NO'\n",
      "         AND col.owner = :owner  ORDER BY col.column_id\n",
      "2022-01-28 09:44:37,684 INFO sqlalchemy.engine.Engine [generated in 0.00125s] {'table_name': 'ESG_MATCH_REF', 'owner': 'ADMIN'}\n",
      "2022-01-28 09:44:37,769 INFO sqlalchemy.engine.Engine SELECT\n",
      "ac.constraint_name,\n",
      "ac.constraint_type,\n",
      "loc.column_name AS local_column,\n",
      "rem.table_name AS remote_table,\n",
      "rem.column_name AS remote_column,\n",
      "rem.owner AS remote_owner,\n",
      "loc.position as loc_pos,\n",
      "rem.position as rem_pos,\n",
      "ac.search_condition,\n",
      "ac.delete_rule\n",
      "FROM all_constraints ac,\n",
      "all_cons_columns loc,\n",
      "all_cons_columns rem\n",
      "WHERE ac.table_name = :table_name\n",
      "AND ac.constraint_type IN ('R','P', 'U', 'C')\n",
      "AND ac.owner = :owner\n",
      "AND ac.owner = loc.owner\n",
      "AND ac.constraint_name = loc.constraint_name\n",
      "AND ac.r_owner = rem.owner(+)\n",
      "AND ac.r_constraint_name = rem.constraint_name(+)\n",
      "AND (rem.position IS NULL or loc.position=rem.position)\n",
      "ORDER BY ac.constraint_name, loc.position\n",
      "2022-01-28 09:44:37,770 INFO sqlalchemy.engine.Engine [generated in 0.00140s] {'table_name': 'ESG_MATCH_REF', 'owner': 'ADMIN'}\n",
      "2022-01-28 09:44:37,851 INFO sqlalchemy.engine.Engine SELECT a.index_name, a.column_name, \n",
      "b.index_type, b.uniqueness, b.compression, b.prefix_length \n",
      "FROM ALL_IND_COLUMNS a, \n",
      "ALL_INDEXES b \n",
      "WHERE \n",
      "a.index_name = b.index_name \n",
      "AND a.table_owner = b.table_owner \n",
      "AND a.table_name = b.table_name \n",
      "AND a.table_name = :table_name AND a.table_owner = :schema ORDER BY a.index_name, a.column_position\n",
      "2022-01-28 09:44:37,852 INFO sqlalchemy.engine.Engine [generated in 0.00103s] {'table_name': 'ESG_MATCH_REF', 'schema': 'ADMIN'}\n",
      "2022-01-28 09:44:37,894 INFO sqlalchemy.engine.Engine SELECT a.index_name, a.column_name, \n",
      "b.index_type, b.uniqueness, b.compression, b.prefix_length \n",
      "FROM ALL_IND_COLUMNS a, \n",
      "ALL_INDEXES b \n",
      "WHERE \n",
      "a.index_name = b.index_name \n",
      "AND a.table_owner = b.table_owner \n",
      "AND a.table_name = b.table_name \n",
      "AND a.table_name = :table_name AND a.table_owner = :schema ORDER BY a.index_name, a.column_position\n",
      "2022-01-28 09:44:37,895 INFO sqlalchemy.engine.Engine [cached since 0.0438s ago] {'table_name': 'ESG_MATCH_REF', 'schema': 'ADMIN'}\n",
      "2022-01-28 09:44:37,936 INFO sqlalchemy.engine.Engine SELECT\n",
      "ac.constraint_name,\n",
      "ac.constraint_type,\n",
      "loc.column_name AS local_column,\n",
      "rem.table_name AS remote_table,\n",
      "rem.column_name AS remote_column,\n",
      "rem.owner AS remote_owner,\n",
      "loc.position as loc_pos,\n",
      "rem.position as rem_pos,\n",
      "ac.search_condition,\n",
      "ac.delete_rule\n",
      "FROM all_constraints ac,\n",
      "all_cons_columns loc,\n",
      "all_cons_columns rem\n",
      "WHERE ac.table_name = :table_name\n",
      "AND ac.constraint_type IN ('R','P', 'U', 'C')\n",
      "AND ac.owner = :owner\n",
      "AND ac.owner = loc.owner\n",
      "AND ac.constraint_name = loc.constraint_name\n",
      "AND ac.r_owner = rem.owner(+)\n",
      "AND ac.r_constraint_name = rem.constraint_name(+)\n",
      "AND (rem.position IS NULL or loc.position=rem.position)\n",
      "ORDER BY ac.constraint_name, loc.position\n",
      "2022-01-28 09:44:37,937 INFO sqlalchemy.engine.Engine [cached since 0.1684s ago] {'table_name': 'ESG_MATCH_REF', 'owner': 'ADMIN'}\n",
      "2022-01-28 09:44:38,017 INFO sqlalchemy.engine.Engine \n",
      "            SELECT comments\n",
      "            FROM all_tab_comments\n",
      "            WHERE table_name = :table_name AND owner = :schema_name\n",
      "        \n",
      "2022-01-28 09:44:38,018 INFO sqlalchemy.engine.Engine [generated in 0.00141s] {'table_name': 'ESG_MATCH_REF', 'schema_name': 'ADMIN'}\n",
      "2022-01-28 09:44:38,099 INFO sqlalchemy.engine.Engine BEGIN (implicit)\n",
      "2022-01-28 09:44:38,100 INFO sqlalchemy.engine.Engine \n",
      "DROP TABLE \"ESG_MATCH_REF\"\n",
      "2022-01-28 09:44:38,101 INFO sqlalchemy.engine.Engine [no key 0.00142s] {}\n",
      "2022-01-28 09:44:38,168 INFO sqlalchemy.engine.Engine COMMIT\n",
      "2022-01-28 09:44:38,245 INFO sqlalchemy.engine.Engine BEGIN (implicit)\n",
      "2022-01-28 09:44:38,247 INFO sqlalchemy.engine.Engine \n",
      "CREATE TABLE \"ESG_MATCH_REF\" (\n",
      "\t\"UNIQUE_ID\" NUMBER NOT NULL, \n",
      "\t\"ISIN\" VARCHAR2(12 CHAR), \n",
      "\t\"COMPANY\" VARCHAR2(255 CHAR), \n",
      "\t\"COUNTRY\" VARCHAR2(255 CHAR), \n",
      "\tPRIMARY KEY (\"UNIQUE_ID\")\n",
      ")\n",
      "\n",
      "\n",
      "2022-01-28 09:44:38,248 INFO sqlalchemy.engine.Engine [no key 0.00096s] {}\n",
      "2022-01-28 09:44:38,300 INFO sqlalchemy.engine.Engine COMMIT\n",
      "../../../tests/data/test_referential1.csv\n",
      "2022-01-28 09:44:38,381 INFO sqlalchemy.engine.Engine INSERT INTO \"ESG_MATCH_REF\" (\"UNIQUE_ID\", \"ISIN\", \"COMPANY\", \"COUNTRY\") VALUES (:UNIQUE_ID, :ISIN, :COMPANY, :COUNTRY)\n",
      "2022-01-28 09:44:38,382 INFO sqlalchemy.engine.Engine [generated in 0.00158s] {'UNIQUE_ID': 1.0, 'ISIN': 'SK1120005824', 'COMPANY': 'CENTRAL PERK', 'COUNTRY': 'SK'}\n",
      "2022-01-28 09:44:38,426 INFO sqlalchemy.engine.Engine COMMIT\n",
      "2022-01-28 09:44:38,504 INFO sqlalchemy.engine.Engine INSERT INTO \"ESG_MATCH_REF\" (\"UNIQUE_ID\", \"ISIN\", \"COMPANY\", \"COUNTRY\") VALUES (:UNIQUE_ID, NULL, :COMPANY, :COUNTRY)\n",
      "2022-01-28 09:44:38,505 INFO sqlalchemy.engine.Engine [generated in 0.00108s] {'UNIQUE_ID': 2.0, 'COMPANY': 'HONEYDUKES', 'COUNTRY': 'UNITED STATES OF AMERICA'}\n",
      "2022-01-28 09:44:38,547 INFO sqlalchemy.engine.Engine COMMIT\n",
      "2022-01-28 09:44:38,626 INFO sqlalchemy.engine.Engine INSERT INTO \"ESG_MATCH_REF\" (\"UNIQUE_ID\", \"ISIN\", \"COMPANY\", \"COUNTRY\") VALUES (:UNIQUE_ID, NULL, :COMPANY, :COUNTRY)\n",
      "2022-01-28 09:44:38,628 INFO sqlalchemy.engine.Engine [cached since 0.1233s ago] {'UNIQUE_ID': 3.0, 'COMPANY': 'STARCOURT MALL', 'COUNTRY': 'AUSTRIA'}\n",
      "2022-01-28 09:44:38,669 INFO sqlalchemy.engine.Engine COMMIT\n",
      "2022-01-28 09:44:38,749 INFO sqlalchemy.engine.Engine INSERT INTO \"ESG_MATCH_REF\" (\"UNIQUE_ID\", \"ISIN\", \"COMPANY\", \"COUNTRY\") VALUES (:UNIQUE_ID, :ISIN, :COMPANY, :COUNTRY)\n",
      "2022-01-28 09:44:38,749 INFO sqlalchemy.engine.Engine [cached since 0.3689s ago] {'UNIQUE_ID': 4.0, 'ISIN': 'GB00B1YW4409', 'COMPANY': 'STERLING COOPER', 'COUNTRY': 'GBR'}\n",
      "2022-01-28 09:44:38,791 INFO sqlalchemy.engine.Engine COMMIT\n",
      "2022-01-28 09:44:38,870 INFO sqlalchemy.engine.Engine INSERT INTO \"ESG_MATCH_REF\" (\"UNIQUE_ID\", \"ISIN\", \"COMPANY\", \"COUNTRY\") VALUES (:UNIQUE_ID, :ISIN, :COMPANY, :COUNTRY)\n",
      "2022-01-28 09:44:38,871 INFO sqlalchemy.engine.Engine [cached since 0.4906s ago] {'UNIQUE_ID': 5.0, 'ISIN': 'CH0012221716', 'COMPANY': 'Bluth company', 'COUNTRY': 'CHE'}\n",
      "2022-01-28 09:44:38,912 INFO sqlalchemy.engine.Engine COMMIT\n"
     ]
    },
    {
     "name": "stdout",
     "output_type": "stream",
     "text": [
      "2022-01-28 09:44:38,991 INFO sqlalchemy.engine.Engine INSERT INTO \"ESG_MATCH_REF\" (\"UNIQUE_ID\", \"ISIN\", \"COMPANY\", \"COUNTRY\") VALUES (:UNIQUE_ID, :ISIN, :COMPANY, :COUNTRY)\n",
      "2022-01-28 09:44:38,992 INFO sqlalchemy.engine.Engine [cached since 0.6112s ago] {'UNIQUE_ID': 6.0, 'ISIN': 'US0200021014', 'COMPANY': 'InGen', 'COUNTRY': 'usa'}\n",
      "2022-01-28 09:44:39,032 INFO sqlalchemy.engine.Engine COMMIT\n",
      "2022-01-28 09:44:39,110 INFO sqlalchemy.engine.Engine INSERT INTO \"ESG_MATCH_REF\" (\"UNIQUE_ID\", \"ISIN\", \"COMPANY\", \"COUNTRY\") VALUES (:UNIQUE_ID, :ISIN, :COMPANY, :COUNTRY)\n",
      "2022-01-28 09:44:39,111 INFO sqlalchemy.engine.Engine [cached since 0.73s ago] {'UNIQUE_ID': 7.0, 'ISIN': 'US0231351067', 'COMPANY': 'Stark Industries', 'COUNTRY': 'us'}\n",
      "2022-01-28 09:44:39,150 INFO sqlalchemy.engine.Engine COMMIT\n",
      "2022-01-28 09:44:39,228 INFO sqlalchemy.engine.Engine INSERT INTO \"ESG_MATCH_REF\" (\"UNIQUE_ID\", \"ISIN\", \"COMPANY\", \"COUNTRY\") VALUES (:UNIQUE_ID, :ISIN, :COMPANY, :COUNTRY)\n",
      "2022-01-28 09:44:39,229 INFO sqlalchemy.engine.Engine [cached since 0.8485s ago] {'UNIQUE_ID': 8.0, 'ISIN': 'US0126531013', 'COMPANY': 'SPECTRE', 'COUNTRY': 'USA'}\n",
      "2022-01-28 09:44:39,268 INFO sqlalchemy.engine.Engine COMMIT\n",
      "2022-01-28 09:44:39,346 INFO sqlalchemy.engine.Engine INSERT INTO \"ESG_MATCH_REF\" (\"UNIQUE_ID\", \"ISIN\", \"COMPANY\", \"COUNTRY\") VALUES (:UNIQUE_ID, :ISIN, :COMPANY, :COUNTRY)\n",
      "2022-01-28 09:44:39,347 INFO sqlalchemy.engine.Engine [cached since 0.9663s ago] {'UNIQUE_ID': 9.0, 'ISIN': 'US0126531013', 'COMPANY': 'SPECTRE 33 SUBSIDIARY', 'COUNTRY': 'USA'}\n",
      "2022-01-28 09:44:39,389 INFO sqlalchemy.engine.Engine COMMIT\n"
     ]
    }
   ],
   "source": [
    "# Call the load_file_to_db() method by passing the File, FileReader and SqlLiteConnector\n",
    "# The ETL process returns a database source object\n",
    "db_source = etl_proc_obj.load_file_to_db(file_obj, csv_reader_obj)"
   ]
  },
  {
   "cell_type": "markdown",
   "id": "9bb69e66",
   "metadata": {},
   "source": [
    "## 4. Report on Etl Process"
   ]
  },
  {
   "cell_type": "code",
   "execution_count": 15,
   "id": "8aa77906",
   "metadata": {},
   "outputs": [
    {
     "name": "stdout",
     "output_type": "stream",
     "text": [
      "-------------------------------------- ETL PROCESSING REPORT ---------------------------------------\n",
      "Description: Details of the ETL process performed on [DS_REF] data source.\n",
      "Datetime:2022-01-28 09:44:39\n",
      "----------------------------------------------------------------------------------------------------\n",
      "File Name: ../../../tests/data/test_referential1.csv\n",
      "Columns in the File: 4\n",
      "Columns read from File: 4\n",
      "Lines Extracted from File: 9\n"
     ]
    }
   ],
   "source": [
    "# Printing the ELT Processing Report \n",
    "etl_proc_obj.print_report()"
   ]
  },
  {
   "cell_type": "markdown",
   "id": "1764caee",
   "metadata": {},
   "source": [
    "## 5. Checking the attribute names of DbDataSource"
   ]
  },
  {
   "cell_type": "markdown",
   "id": "43e1a8e8",
   "metadata": {},
   "source": [
    "There are three methods to check the column or attribute names of the DbDataSource object:\n",
    "1. Use get_original_field_names(): to retrieve the original attribute names of the columns in the csv file\n",
    "2. Use get_field_names(): to retrieve the attribute names of the database table\n",
    "3. Use get_primary_keys(): to retrieve the attribute names of the primary keys in the database table"
   ]
  },
  {
   "cell_type": "code",
   "execution_count": 16,
   "id": "04315e20",
   "metadata": {},
   "outputs": [
    {
     "data": {
      "text/plain": [
       "['UNIQUE_ID', 'ISIN', 'COMPANY', 'COUNTRY']"
      ]
     },
     "execution_count": 16,
     "metadata": {},
     "output_type": "execute_result"
    }
   ],
   "source": [
    "# Retrieve the original attribute names (read from the csv file)\n",
    "db_source.get_original_attribute_names()"
   ]
  },
  {
   "cell_type": "code",
   "execution_count": 17,
   "id": "d36ef079",
   "metadata": {},
   "outputs": [
    {
     "data": {
      "text/plain": [
       "['UNIQUE_ID', 'ISIN', 'COMPANY', 'COUNTRY']"
      ]
     },
     "execution_count": 17,
     "metadata": {},
     "output_type": "execute_result"
    }
   ],
   "source": [
    "# Retrieve the attribute names of the database table\n",
    "db_source.get_attribute_names()"
   ]
  },
  {
   "cell_type": "code",
   "execution_count": 18,
   "id": "dfe0e0de",
   "metadata": {},
   "outputs": [
    {
     "data": {
      "text/plain": [
       "['UNIQUE_ID']"
      ]
     },
     "execution_count": 18,
     "metadata": {},
     "output_type": "execute_result"
    }
   ],
   "source": [
    "# Retrieve the attribute names of the primary keys in the database table\n",
    "db_source.get_primary_keys()"
   ]
  },
  {
   "cell_type": "markdown",
   "id": "00b55fb5",
   "metadata": {},
   "source": [
    "## 6. Checking the Data Source"
   ]
  },
  {
   "cell_type": "code",
   "execution_count": 19,
   "id": "428f5fd0",
   "metadata": {},
   "outputs": [
    {
     "name": "stdout",
     "output_type": "stream",
     "text": [
      "Data Source Name: DS_REF, Table name: ESG_MATCH_REF\n"
     ]
    }
   ],
   "source": [
    "print('Data Source Name: {}, Table name: {}'.format(db_source.name, db_source.table_name))"
   ]
  },
  {
   "cell_type": "code",
   "execution_count": 20,
   "id": "c1c8ae07",
   "metadata": {},
   "outputs": [
    {
     "name": "stdout",
     "output_type": "stream",
     "text": [
      "2022-01-28 09:44:39,595 INFO sqlalchemy.engine.Engine SELECT count(*) AS count_1 \n",
      "FROM \"ESG_MATCH_REF\"\n",
      "2022-01-28 09:44:39,596 INFO sqlalchemy.engine.Engine [generated in 0.00164s] {}\n",
      "Total entries in table ESG_MATCH_REF = 9\n"
     ]
    }
   ],
   "source": [
    "# Total entries of the table\n",
    "result = db_source.get_total_entries()\n",
    "print('Total entries in table {} = {}'.format(db_source.table_name, result))"
   ]
  },
  {
   "cell_type": "code",
   "execution_count": 21,
   "id": "bc0f90d6",
   "metadata": {},
   "outputs": [
    {
     "name": "stdout",
     "output_type": "stream",
     "text": [
      "2022-01-28 09:44:39,696 INFO sqlalchemy.engine.Engine BEGIN (implicit)\n",
      "2022-01-28 09:44:39,704 INFO sqlalchemy.engine.Engine SELECT anon_1.count_1 \n",
      "FROM (SELECT count(\"ESG_MATCH_REF\".\"ISIN\") AS count_1 \n",
      "FROM \"ESG_MATCH_REF\") anon_1 \n",
      "WHERE ROWNUM <= 1\n",
      "2022-01-28 09:44:39,706 INFO sqlalchemy.engine.Engine [generated in 0.00269s] {}\n",
      "2022-01-28 09:44:39,750 INFO sqlalchemy.engine.Engine ROLLBACK\n",
      "Total entries by ISIN = 7\n"
     ]
    }
   ],
   "source": [
    "# Total entries of the table by a column name\n",
    "result = db_source.get_total_entries_by_column('ISIN')\n",
    "print('Total entries by ISIN = {}'.format(result))"
   ]
  },
  {
   "cell_type": "code",
   "execution_count": 22,
   "id": "cee92228",
   "metadata": {},
   "outputs": [
    {
     "name": "stdout",
     "output_type": "stream",
     "text": [
      "2022-01-28 09:44:39,837 INFO sqlalchemy.engine.Engine BEGIN (implicit)\n",
      "2022-01-28 09:44:39,842 INFO sqlalchemy.engine.Engine SELECT anon_1.count_1 \n",
      "FROM (SELECT count(DISTINCT \"ESG_MATCH_REF\".\"ISIN\") AS count_1 \n",
      "FROM \"ESG_MATCH_REF\") anon_1 \n",
      "WHERE ROWNUM <= 1\n",
      "2022-01-28 09:44:39,843 INFO sqlalchemy.engine.Engine [generated in 0.00135s] {}\n",
      "2022-01-28 09:44:39,886 INFO sqlalchemy.engine.Engine ROLLBACK\n",
      "Total entries by ISIN with distinct values = 6\n"
     ]
    }
   ],
   "source": [
    "# Total entries of the table by a column name with distinct values\n",
    "result = db_source.get_total_entries_by_column('ISIN', distinct_values=True)\n",
    "print('Total entries by ISIN with distinct values = {}'.format(result))"
   ]
  },
  {
   "cell_type": "markdown",
   "id": "5fddcf52",
   "metadata": {},
   "source": [
    "## 7. Checking the content of the DbDataSource"
   ]
  },
  {
   "cell_type": "markdown",
   "id": "d869453d",
   "metadata": {},
   "source": [
    "The get_data() method of the DbDataSource object performs a full select in the table, returning a list of tupples. Each item of the list is a row in the table and each element is the value per column."
   ]
  },
  {
   "cell_type": "code",
   "execution_count": 23,
   "id": "71d7f99b",
   "metadata": {},
   "outputs": [
    {
     "name": "stdout",
     "output_type": "stream",
     "text": [
      "2022-01-28 09:44:39,981 INFO sqlalchemy.engine.Engine SELECT \"ESG_MATCH_REF\".\"UNIQUE_ID\", \"ESG_MATCH_REF\".\"ISIN\", \"ESG_MATCH_REF\".\"COMPANY\", \"ESG_MATCH_REF\".\"COUNTRY\" \n",
      "FROM \"ESG_MATCH_REF\"\n",
      "2022-01-28 09:44:39,982 INFO sqlalchemy.engine.Engine [generated in 0.00183s] {}\n"
     ]
    },
    {
     "data": {
      "text/plain": [
       "[(1.0, 'SK1120005824', 'CENTRAL PERK', 'SK'),\n",
       " (2.0, None, 'HONEYDUKES', 'UNITED STATES OF AMERICA'),\n",
       " (3.0, None, 'STARCOURT MALL', 'AUSTRIA'),\n",
       " (4.0, 'GB00B1YW4409', 'STERLING COOPER', 'GBR'),\n",
       " (5.0, 'CH0012221716', 'Bluth company', 'CHE'),\n",
       " (6.0, 'US0200021014', 'InGen', 'usa'),\n",
       " (7.0, 'US0231351067', 'Stark Industries', 'us'),\n",
       " (8.0, 'US0126531013', 'SPECTRE', 'USA'),\n",
       " (9.0, 'US0126531013', 'SPECTRE 33 SUBSIDIARY', 'USA')]"
      ]
     },
     "execution_count": 23,
     "metadata": {},
     "output_type": "execute_result"
    }
   ],
   "source": [
    "# Query all the values of the table\n",
    "# Equivalent to SELECT * FROM TABLE_NAME\n",
    "lst_result = db_source.get_data()\n",
    "lst_result"
   ]
  },
  {
   "cell_type": "markdown",
   "id": "c6197535",
   "metadata": {},
   "source": [
    "The get_data_as_df() method of the DbDataSource also performs a select in the table, but returns a pandas dataframe as result."
   ]
  },
  {
   "cell_type": "code",
   "execution_count": 24,
   "id": "a3e81c7f",
   "metadata": {},
   "outputs": [
    {
     "name": "stdout",
     "output_type": "stream",
     "text": [
      "2022-01-28 09:44:40,215 INFO sqlalchemy.engine.Engine SELECT \"ESG_MATCH_REF\".\"UNIQUE_ID\", \"ESG_MATCH_REF\".\"ISIN\", \"ESG_MATCH_REF\".\"COMPANY\", \"ESG_MATCH_REF\".\"COUNTRY\" \n",
      "FROM \"ESG_MATCH_REF\"\n",
      "2022-01-28 09:44:40,217 INFO sqlalchemy.engine.Engine [cached since 0.2366s ago] {}\n"
     ]
    },
    {
     "data": {
      "text/html": [
       "<div>\n",
       "<style scoped>\n",
       "    .dataframe tbody tr th:only-of-type {\n",
       "        vertical-align: middle;\n",
       "    }\n",
       "\n",
       "    .dataframe tbody tr th {\n",
       "        vertical-align: top;\n",
       "    }\n",
       "\n",
       "    .dataframe thead th {\n",
       "        text-align: right;\n",
       "    }\n",
       "</style>\n",
       "<table border=\"1\" class=\"dataframe\">\n",
       "  <thead>\n",
       "    <tr style=\"text-align: right;\">\n",
       "      <th></th>\n",
       "      <th>UNIQUE_ID</th>\n",
       "      <th>ISIN</th>\n",
       "      <th>COMPANY</th>\n",
       "      <th>COUNTRY</th>\n",
       "    </tr>\n",
       "  </thead>\n",
       "  <tbody>\n",
       "    <tr>\n",
       "      <th>0</th>\n",
       "      <td>1.0</td>\n",
       "      <td>SK1120005824</td>\n",
       "      <td>CENTRAL PERK</td>\n",
       "      <td>SK</td>\n",
       "    </tr>\n",
       "    <tr>\n",
       "      <th>1</th>\n",
       "      <td>2.0</td>\n",
       "      <td>None</td>\n",
       "      <td>HONEYDUKES</td>\n",
       "      <td>UNITED STATES OF AMERICA</td>\n",
       "    </tr>\n",
       "    <tr>\n",
       "      <th>2</th>\n",
       "      <td>3.0</td>\n",
       "      <td>None</td>\n",
       "      <td>STARCOURT MALL</td>\n",
       "      <td>AUSTRIA</td>\n",
       "    </tr>\n",
       "    <tr>\n",
       "      <th>3</th>\n",
       "      <td>4.0</td>\n",
       "      <td>GB00B1YW4409</td>\n",
       "      <td>STERLING COOPER</td>\n",
       "      <td>GBR</td>\n",
       "    </tr>\n",
       "    <tr>\n",
       "      <th>4</th>\n",
       "      <td>5.0</td>\n",
       "      <td>CH0012221716</td>\n",
       "      <td>Bluth company</td>\n",
       "      <td>CHE</td>\n",
       "    </tr>\n",
       "    <tr>\n",
       "      <th>5</th>\n",
       "      <td>6.0</td>\n",
       "      <td>US0200021014</td>\n",
       "      <td>InGen</td>\n",
       "      <td>usa</td>\n",
       "    </tr>\n",
       "    <tr>\n",
       "      <th>6</th>\n",
       "      <td>7.0</td>\n",
       "      <td>US0231351067</td>\n",
       "      <td>Stark Industries</td>\n",
       "      <td>us</td>\n",
       "    </tr>\n",
       "    <tr>\n",
       "      <th>7</th>\n",
       "      <td>8.0</td>\n",
       "      <td>US0126531013</td>\n",
       "      <td>SPECTRE</td>\n",
       "      <td>USA</td>\n",
       "    </tr>\n",
       "    <tr>\n",
       "      <th>8</th>\n",
       "      <td>9.0</td>\n",
       "      <td>US0126531013</td>\n",
       "      <td>SPECTRE 33 SUBSIDIARY</td>\n",
       "      <td>USA</td>\n",
       "    </tr>\n",
       "  </tbody>\n",
       "</table>\n",
       "</div>"
      ],
      "text/plain": [
       "   UNIQUE_ID          ISIN                COMPANY                   COUNTRY\n",
       "0        1.0  SK1120005824           CENTRAL PERK                        SK\n",
       "1        2.0          None             HONEYDUKES  UNITED STATES OF AMERICA\n",
       "2        3.0          None         STARCOURT MALL                   AUSTRIA\n",
       "3        4.0  GB00B1YW4409        STERLING COOPER                       GBR\n",
       "4        5.0  CH0012221716          Bluth company                       CHE\n",
       "5        6.0  US0200021014                  InGen                       usa\n",
       "6        7.0  US0231351067       Stark Industries                        us\n",
       "7        8.0  US0126531013                SPECTRE                       USA\n",
       "8        9.0  US0126531013  SPECTRE 33 SUBSIDIARY                       USA"
      ]
     },
     "execution_count": 24,
     "metadata": {},
     "output_type": "execute_result"
    }
   ],
   "source": [
    "# Query the table\n",
    "df_result = db_source.get_data_as_df()\n",
    "df_result"
   ]
  },
  {
   "cell_type": "markdown",
   "id": "86eb1a59",
   "metadata": {},
   "source": [
    "## 8. Drop the table using DbDataSource object"
   ]
  },
  {
   "cell_type": "code",
   "execution_count": 25,
   "id": "94175912",
   "metadata": {},
   "outputs": [
    {
     "name": "stdout",
     "output_type": "stream",
     "text": [
      "2022-01-28 09:44:40,402 INFO sqlalchemy.engine.Engine BEGIN (implicit)\n",
      "2022-01-28 09:44:40,404 INFO sqlalchemy.engine.Engine \n",
      "DROP TABLE \"ESG_MATCH_REF\"\n",
      "2022-01-28 09:44:40,405 INFO sqlalchemy.engine.Engine [no key 0.00094s] {}\n",
      "2022-01-28 09:44:40,465 INFO sqlalchemy.engine.Engine COMMIT\n"
     ]
    }
   ],
   "source": [
    "db_source.drop_table()"
   ]
  },
  {
   "cell_type": "markdown",
   "id": "4e3479ca",
   "metadata": {},
   "source": [
    "## 9. Close database connection"
   ]
  },
  {
   "cell_type": "code",
   "execution_count": 26,
   "id": "65fd6d82",
   "metadata": {},
   "outputs": [],
   "source": [
    "db_conn.disconnect()"
   ]
  },
  {
   "cell_type": "code",
   "execution_count": 27,
   "id": "9dde2038",
   "metadata": {},
   "outputs": [
    {
     "data": {
      "text/plain": [
       "False"
      ]
     },
     "execution_count": 27,
     "metadata": {},
     "output_type": "execute_result"
    }
   ],
   "source": [
    "db_conn.is_connected()"
   ]
  },
  {
   "cell_type": "code",
   "execution_count": null,
   "id": "81a7eda0",
   "metadata": {},
   "outputs": [],
   "source": []
  }
 ],
 "metadata": {
  "kernelspec": {
   "display_name": "Python 3",
   "language": "python",
   "name": "python3"
  },
  "language_info": {
   "codemirror_mode": {
    "name": "ipython",
    "version": 3
   },
   "file_extension": ".py",
   "mimetype": "text/x-python",
   "name": "python",
   "nbconvert_exporter": "python",
   "pygments_lexer": "ipython3",
   "version": "3.9.5"
  }
 },
 "nbformat": 4,
 "nbformat_minor": 5
}
