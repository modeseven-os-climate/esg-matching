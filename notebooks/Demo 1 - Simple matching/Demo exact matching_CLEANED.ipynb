{
 "cells": [
  {
   "cell_type": "markdown",
   "id": "5874e187",
   "metadata": {},
   "source": [
    "# Demo - Exact Matching"
   ]
  },
  {
   "cell_type": "code",
   "execution_count": 1,
   "id": "cce6ec58",
   "metadata": {},
   "outputs": [],
   "source": [
    "# Sets up the location of the api relative to this notebook \n",
    "import sys\n",
    "sys.path.append('../../')"
   ]
  },
  {
   "cell_type": "code",
   "execution_count": 2,
   "id": "b7e4afad",
   "metadata": {},
   "outputs": [],
   "source": [
    "# Import the module for connection to a sqllite database\n",
    "from esg_matching.engine.connectors.sql_lite import SqlLiteConnector"
   ]
  },
  {
   "cell_type": "code",
   "execution_count": 3,
   "id": "147febf3",
   "metadata": {},
   "outputs": [],
   "source": [
    "# Import the modules for file management\n",
    "from esg_matching.file_reader.file import File\n",
    "from esg_matching.file_reader.csv_reader import FileReaderCsv"
   ]
  },
  {
   "cell_type": "code",
   "execution_count": 4,
   "id": "3510ba98",
   "metadata": {},
   "outputs": [],
   "source": [
    "# Import the modules for the etl processing: reading, transformation and loading data to a database\n",
    "from esg_matching.processing.etl import EtlProcessing"
   ]
  },
  {
   "cell_type": "markdown",
   "id": "cd980ffa",
   "metadata": {},
   "source": [
    "## 1. Database setup"
   ]
  },
  {
   "cell_type": "code",
   "execution_count": 5,
   "id": "8cab963e",
   "metadata": {},
   "outputs": [],
   "source": [
    "# Localization of the database to be created in relation to this jupyter notebook\n",
    "# The database will be created in the /data/dabase folder, under the project main folder\n",
    "path_db = '../../tests/data/demo/test_esg_matching_CLEAN.db'"
   ]
  },
  {
   "cell_type": "code",
   "execution_count": 6,
   "id": "1d521c01",
   "metadata": {},
   "outputs": [],
   "source": [
    "# The database connector is represented by the class SqlLiteConnector \n",
    "db_conn = SqlLiteConnector()"
   ]
  },
  {
   "cell_type": "code",
   "execution_count": 7,
   "id": "dfbb576f",
   "metadata": {},
   "outputs": [],
   "source": [
    "# The connect() method of the SqlLiteConnector is used to stablish a connection with the database if it exists, \n",
    "# or to create a new one. The property path_db defines the location and name of the database.\n",
    "# The  property show_sql_statement indicates if the SQL statements are echoed (or printed) in the default output channel.\n",
    "db_conn.path_db = path_db\n",
    "db_conn.show_sql_statement = True\n",
    "db_conn.connect()"
   ]
  },
  {
   "cell_type": "code",
   "execution_count": 8,
   "id": "ee2ddb08",
   "metadata": {},
   "outputs": [
    {
     "data": {
      "text/plain": [
       "True"
      ]
     },
     "execution_count": 8,
     "metadata": {},
     "output_type": "execute_result"
    }
   ],
   "source": [
    "# Check if the connection was stablished\n",
    "db_conn.is_connected()"
   ]
  },
  {
   "cell_type": "markdown",
   "id": "3d2f76ce",
   "metadata": {},
   "source": [
    "## 2. Load the data into database from csv files"
   ]
  },
  {
   "cell_type": "code",
   "execution_count": 9,
   "id": "276f781c",
   "metadata": {},
   "outputs": [],
   "source": [
    "# Create an ETL process object\n",
    "etl_proc_obj = EtlProcessing(db_conn)"
   ]
  },
  {
   "cell_type": "code",
   "execution_count": 10,
   "id": "3226f31f",
   "metadata": {},
   "outputs": [],
   "source": [
    "# Crete a file reader object for csv files\n",
    "csv_reader_obj = FileReaderCsv()  "
   ]
  },
  {
   "cell_type": "code",
   "execution_count": 11,
   "id": "43c8d0a3",
   "metadata": {},
   "outputs": [],
   "source": [
    "# Referential Data Source\n",
    "ref_settings = '../../tests/data/demo/test_ref_sqlite_CLEANED.json'\n",
    "ref_obj = File(ref_settings)"
   ]
  },
  {
   "cell_type": "code",
   "execution_count": 12,
   "id": "ef7fbd4d",
   "metadata": {
    "scrolled": true
   },
   "outputs": [
    {
     "name": "stdout",
     "output_type": "stream",
     "text": [
      "2022-07-14 10:39:29,169 INFO sqlalchemy.engine.Engine PRAGMA main.table_info(\"esg_match_ref\")\n",
      "2022-07-14 10:39:29,172 INFO sqlalchemy.engine.Engine [raw sql] ()\n",
      "2022-07-14 10:39:29,247 INFO sqlalchemy.engine.Engine PRAGMA main.table_xinfo(\"esg_match_ref\")\n",
      "2022-07-14 10:39:29,248 INFO sqlalchemy.engine.Engine [raw sql] ()\n",
      "2022-07-14 10:39:29,253 INFO sqlalchemy.engine.Engine SELECT sql FROM  (SELECT * FROM sqlite_master UNION ALL   SELECT * FROM sqlite_temp_master) WHERE name = ? AND type = 'table'\n",
      "2022-07-14 10:39:29,255 INFO sqlalchemy.engine.Engine [raw sql] ('esg_match_ref',)\n",
      "2022-07-14 10:39:29,257 INFO sqlalchemy.engine.Engine PRAGMA main.foreign_key_list(\"esg_match_ref\")\n",
      "2022-07-14 10:39:29,258 INFO sqlalchemy.engine.Engine [raw sql] ()\n",
      "2022-07-14 10:39:29,260 INFO sqlalchemy.engine.Engine PRAGMA temp.foreign_key_list(\"esg_match_ref\")\n",
      "2022-07-14 10:39:29,261 INFO sqlalchemy.engine.Engine [raw sql] ()\n",
      "2022-07-14 10:39:29,263 INFO sqlalchemy.engine.Engine SELECT sql FROM  (SELECT * FROM sqlite_master UNION ALL   SELECT * FROM sqlite_temp_master) WHERE name = ? AND type = 'table'\n",
      "2022-07-14 10:39:29,264 INFO sqlalchemy.engine.Engine [raw sql] ('esg_match_ref',)\n",
      "2022-07-14 10:39:29,270 INFO sqlalchemy.engine.Engine PRAGMA main.index_list(\"esg_match_ref\")\n",
      "2022-07-14 10:39:29,271 INFO sqlalchemy.engine.Engine [raw sql] ()\n",
      "2022-07-14 10:39:29,273 INFO sqlalchemy.engine.Engine PRAGMA temp.index_list(\"esg_match_ref\")\n",
      "2022-07-14 10:39:29,274 INFO sqlalchemy.engine.Engine [raw sql] ()\n",
      "2022-07-14 10:39:29,276 INFO sqlalchemy.engine.Engine PRAGMA main.index_list(\"esg_match_ref\")\n",
      "2022-07-14 10:39:29,277 INFO sqlalchemy.engine.Engine [raw sql] ()\n",
      "2022-07-14 10:39:29,278 INFO sqlalchemy.engine.Engine PRAGMA temp.index_list(\"esg_match_ref\")\n",
      "2022-07-14 10:39:29,279 INFO sqlalchemy.engine.Engine [raw sql] ()\n",
      "2022-07-14 10:39:29,281 INFO sqlalchemy.engine.Engine SELECT sql FROM  (SELECT * FROM sqlite_master UNION ALL   SELECT * FROM sqlite_temp_master) WHERE name = ? AND type = 'table'\n",
      "2022-07-14 10:39:29,283 INFO sqlalchemy.engine.Engine [raw sql] ('esg_match_ref',)\n",
      "2022-07-14 10:39:29,290 INFO sqlalchemy.engine.Engine BEGIN (implicit)\n",
      "2022-07-14 10:39:29,291 INFO sqlalchemy.engine.Engine \n",
      "DROP TABLE esg_match_ref\n",
      "2022-07-14 10:39:29,292 INFO sqlalchemy.engine.Engine [no key 0.00107s] ()\n",
      "2022-07-14 10:39:29,442 INFO sqlalchemy.engine.Engine COMMIT\n",
      "2022-07-14 10:39:29,446 INFO sqlalchemy.engine.Engine BEGIN (implicit)\n",
      "2022-07-14 10:39:29,449 INFO sqlalchemy.engine.Engine \n",
      "CREATE TABLE esg_match_ref (\n",
      "\tid_ref INTEGER NOT NULL, \n",
      "\tlei_ref VARCHAR, \n",
      "\tname_ref VARCHAR, \n",
      "\tcountry_ref VARCHAR, \n",
      "\tPRIMARY KEY (id_ref)\n",
      ")\n",
      "\n",
      "\n",
      "2022-07-14 10:39:29,451 INFO sqlalchemy.engine.Engine [no key 0.00182s] ()\n",
      "2022-07-14 10:39:29,563 INFO sqlalchemy.engine.Engine COMMIT\n",
      "2022-07-14 10:39:29,628 INFO sqlalchemy.engine.Engine PRAGMA main.table_info(\"esg_match_ref\")\n",
      "2022-07-14 10:39:29,629 INFO sqlalchemy.engine.Engine [raw sql] ()\n",
      "2022-07-14 10:39:29,634 INFO sqlalchemy.engine.Engine BEGIN (implicit)\n",
      "2022-07-14 10:39:29,646 INFO sqlalchemy.engine.Engine INSERT INTO esg_match_ref (id_ref, lei_ref, name_ref, country_ref) VALUES (?, ?, ?, ?)\n",
      "2022-07-14 10:39:29,647 INFO sqlalchemy.engine.Engine [generated in 0.00147s] (('1', 'SK1120005824', 'SALLMOOR AGRUPACION DE INTERES ECONOMICO', 'es'), ('2', None, 'HONEYDUKES LIMITED', 'us'), ('3', '8156006CE62347C74658', 'STARCOURT MALL SRLS.', 'it'), ('4', '213800KY4C9WU7WBW518', 'STERLING COOPER', 'gb'), ('5', '5299008DQNJ4RILKA985', 'THE BLUTH COMPANY GEMEINNÜTZIGE GESELLSCHAFT MIT BESCHRÄNKTER HAFTUNG', 'de'), ('6', '9695001UE8RNVNTE9L89', 'INGEN SOCIÉTÉ COOPÉRATIVE DE PRODUCTION', 'fr'), ('7', 'US0231351067', 'STARK INDUSTRIES', 'us'), ('8', '635400V276LMQ5UZ6C26', 'SPECTRE EMPRESA INDIVIDUAL DE RESPONSABILIDADE LIMITADA', 'br'), ('9', 'US0126531013', 'SPECTRE 33 SUBSIDIARY', 'us'))\n",
      "2022-07-14 10:39:29,654 INFO sqlalchemy.engine.Engine COMMIT\n"
     ]
    }
   ],
   "source": [
    "# Load data from REFERENCIAL\n",
    "db_ref = etl_proc_obj.load_file_to_db(ref_obj, csv_reader_obj)"
   ]
  },
  {
   "cell_type": "code",
   "execution_count": 13,
   "id": "e564888f",
   "metadata": {},
   "outputs": [],
   "source": [
    "# Target Data Sources\n",
    "tgt1_settings = '../../tests/data/demo/test_ds1_sqlite_CLEANED.json'\n",
    "tgt1_obj = File(tgt1_settings)"
   ]
  },
  {
   "cell_type": "code",
   "execution_count": 14,
   "id": "ca7f666a",
   "metadata": {},
   "outputs": [
    {
     "name": "stdout",
     "output_type": "stream",
     "text": [
      "2022-07-14 10:39:34,524 INFO sqlalchemy.engine.Engine PRAGMA main.table_info(\"esg_match_tgt1\")\n",
      "2022-07-14 10:39:34,525 INFO sqlalchemy.engine.Engine [raw sql] ()\n",
      "2022-07-14 10:39:34,529 INFO sqlalchemy.engine.Engine PRAGMA main.table_xinfo(\"esg_match_tgt1\")\n",
      "2022-07-14 10:39:34,530 INFO sqlalchemy.engine.Engine [raw sql] ()\n",
      "2022-07-14 10:39:34,533 INFO sqlalchemy.engine.Engine SELECT sql FROM  (SELECT * FROM sqlite_master UNION ALL   SELECT * FROM sqlite_temp_master) WHERE name = ? AND type = 'table'\n",
      "2022-07-14 10:39:34,534 INFO sqlalchemy.engine.Engine [raw sql] ('esg_match_tgt1',)\n",
      "2022-07-14 10:39:34,537 INFO sqlalchemy.engine.Engine PRAGMA main.foreign_key_list(\"esg_match_tgt1\")\n",
      "2022-07-14 10:39:34,538 INFO sqlalchemy.engine.Engine [raw sql] ()\n",
      "2022-07-14 10:39:34,540 INFO sqlalchemy.engine.Engine PRAGMA temp.foreign_key_list(\"esg_match_tgt1\")\n",
      "2022-07-14 10:39:34,541 INFO sqlalchemy.engine.Engine [raw sql] ()\n",
      "2022-07-14 10:39:34,543 INFO sqlalchemy.engine.Engine SELECT sql FROM  (SELECT * FROM sqlite_master UNION ALL   SELECT * FROM sqlite_temp_master) WHERE name = ? AND type = 'table'\n",
      "2022-07-14 10:39:34,544 INFO sqlalchemy.engine.Engine [raw sql] ('esg_match_tgt1',)\n",
      "2022-07-14 10:39:34,546 INFO sqlalchemy.engine.Engine PRAGMA main.index_list(\"esg_match_tgt1\")\n",
      "2022-07-14 10:39:34,547 INFO sqlalchemy.engine.Engine [raw sql] ()\n",
      "2022-07-14 10:39:34,549 INFO sqlalchemy.engine.Engine PRAGMA temp.index_list(\"esg_match_tgt1\")\n",
      "2022-07-14 10:39:34,550 INFO sqlalchemy.engine.Engine [raw sql] ()\n",
      "2022-07-14 10:39:34,552 INFO sqlalchemy.engine.Engine PRAGMA main.index_list(\"esg_match_tgt1\")\n",
      "2022-07-14 10:39:34,553 INFO sqlalchemy.engine.Engine [raw sql] ()\n",
      "2022-07-14 10:39:34,555 INFO sqlalchemy.engine.Engine PRAGMA temp.index_list(\"esg_match_tgt1\")\n",
      "2022-07-14 10:39:34,556 INFO sqlalchemy.engine.Engine [raw sql] ()\n",
      "2022-07-14 10:39:34,557 INFO sqlalchemy.engine.Engine SELECT sql FROM  (SELECT * FROM sqlite_master UNION ALL   SELECT * FROM sqlite_temp_master) WHERE name = ? AND type = 'table'\n",
      "2022-07-14 10:39:34,558 INFO sqlalchemy.engine.Engine [raw sql] ('esg_match_tgt1',)\n",
      "2022-07-14 10:39:34,562 INFO sqlalchemy.engine.Engine BEGIN (implicit)\n",
      "2022-07-14 10:39:34,563 INFO sqlalchemy.engine.Engine \n",
      "DROP TABLE esg_match_tgt1\n",
      "2022-07-14 10:39:34,564 INFO sqlalchemy.engine.Engine [no key 0.00100s] ()\n",
      "2022-07-14 10:39:34,724 INFO sqlalchemy.engine.Engine COMMIT\n",
      "2022-07-14 10:39:34,729 INFO sqlalchemy.engine.Engine BEGIN (implicit)\n",
      "2022-07-14 10:39:34,732 INFO sqlalchemy.engine.Engine \n",
      "CREATE TABLE esg_match_tgt1 (\n",
      "\tid_ds1 INTEGER NOT NULL, \n",
      "\tisin_ds1 VARCHAR, \n",
      "\tlei_ds1 VARCHAR, \n",
      "\tname_ds1 VARCHAR, \n",
      "\tcountry_ds1 VARCHAR, \n",
      "\tPRIMARY KEY (id_ds1)\n",
      ")\n",
      "\n",
      "\n",
      "2022-07-14 10:39:34,735 INFO sqlalchemy.engine.Engine [no key 0.00232s] ()\n",
      "2022-07-14 10:39:34,984 INFO sqlalchemy.engine.Engine COMMIT\n",
      "2022-07-14 10:39:35,022 INFO sqlalchemy.engine.Engine PRAGMA main.table_info(\"esg_match_tgt1\")\n",
      "2022-07-14 10:39:35,023 INFO sqlalchemy.engine.Engine [raw sql] ()\n",
      "2022-07-14 10:39:35,028 INFO sqlalchemy.engine.Engine BEGIN (implicit)\n",
      "2022-07-14 10:39:35,031 INFO sqlalchemy.engine.Engine INSERT INTO esg_match_tgt1 (id_ds1, isin_ds1, lei_ds1, name_ds1, country_ds1) VALUES (?, ?, ?, ?, ?)\n",
      "2022-07-14 10:39:35,034 INFO sqlalchemy.engine.Engine [generated in 0.00251s] (('1', 'SK1120005824', '097900BHK10000084115', 'SALLMOOR AGRUPACION DE INTERES ECONOMICO', 'es'), ('2', 'DE0005545503', '5299003VKVDCUPSS5X23', 'DUNDER MIFFLINS', 'de'), ('3', None, '254900B1P3S786KDAW57', 'HONEYDUKES LIMITED', 'us'), ('4', None, '8156006CE62347C74658', 'STARCOURT MALL SOCIETÀ A RESPONSABILITÀ LIMITATA SEMPLIFICATA', 'it'), ('5', None, '3003007MR0P683GYR674', 'RR DINER', 'cn'), ('6', 'US0231351067', 'ZXTILKJKG63JELOEG630', 'STARKS INDUSTRIES AND ASSOCIATION', 'us'), ('7', 'US0126531013', 'HDBLS2Q6GV1LSKQPBS54', 'SPECTRE UNIVERSAL LIMITED', 'us'), ('8', None, '549300O482B6CBF38D50', 'ANALYTICS CONSULTING LIMITADA', 'pt'), ('9', 'FR0000131104', None, 'ANALYTICS CONSULTING SOCIÉTÉ EN NOM COLLECTIF', 'fr'), ('10', None, None, 'VAHLPAHL VIV COMPAGNIE KOMMANDITGESELLSCHAFT', 'de'))\n",
      "2022-07-14 10:39:35,041 INFO sqlalchemy.engine.Engine COMMIT\n"
     ]
    }
   ],
   "source": [
    "# Load data from TARGET 1\n",
    "db_tgt1 = etl_proc_obj.load_file_to_db(tgt1_obj, csv_reader_obj)"
   ]
  },
  {
   "cell_type": "code",
   "execution_count": 15,
   "id": "82e4a9c2",
   "metadata": {},
   "outputs": [],
   "source": [
    "# Target Data Sources\n",
    "tgt2_settings = '../../tests/data/demo/test_ds2_sqlite_CLEANED.json'\n",
    "tgt2_obj = File(tgt2_settings)"
   ]
  },
  {
   "cell_type": "code",
   "execution_count": 16,
   "id": "1c9ee10a",
   "metadata": {},
   "outputs": [
    {
     "name": "stdout",
     "output_type": "stream",
     "text": [
      "2022-07-14 10:39:38,366 INFO sqlalchemy.engine.Engine PRAGMA main.table_info(\"esg_match_tgt2\")\n",
      "2022-07-14 10:39:38,367 INFO sqlalchemy.engine.Engine [raw sql] ()\n",
      "2022-07-14 10:39:38,373 INFO sqlalchemy.engine.Engine PRAGMA main.table_xinfo(\"esg_match_tgt2\")\n",
      "2022-07-14 10:39:38,374 INFO sqlalchemy.engine.Engine [raw sql] ()\n",
      "2022-07-14 10:39:38,377 INFO sqlalchemy.engine.Engine SELECT sql FROM  (SELECT * FROM sqlite_master UNION ALL   SELECT * FROM sqlite_temp_master) WHERE name = ? AND type = 'table'\n",
      "2022-07-14 10:39:38,378 INFO sqlalchemy.engine.Engine [raw sql] ('esg_match_tgt2',)\n",
      "2022-07-14 10:39:38,380 INFO sqlalchemy.engine.Engine PRAGMA main.foreign_key_list(\"esg_match_tgt2\")\n",
      "2022-07-14 10:39:38,381 INFO sqlalchemy.engine.Engine [raw sql] ()\n",
      "2022-07-14 10:39:38,383 INFO sqlalchemy.engine.Engine PRAGMA temp.foreign_key_list(\"esg_match_tgt2\")\n",
      "2022-07-14 10:39:38,384 INFO sqlalchemy.engine.Engine [raw sql] ()\n",
      "2022-07-14 10:39:38,386 INFO sqlalchemy.engine.Engine SELECT sql FROM  (SELECT * FROM sqlite_master UNION ALL   SELECT * FROM sqlite_temp_master) WHERE name = ? AND type = 'table'\n",
      "2022-07-14 10:39:38,387 INFO sqlalchemy.engine.Engine [raw sql] ('esg_match_tgt2',)\n",
      "2022-07-14 10:39:38,390 INFO sqlalchemy.engine.Engine PRAGMA main.index_list(\"esg_match_tgt2\")\n",
      "2022-07-14 10:39:38,391 INFO sqlalchemy.engine.Engine [raw sql] ()\n",
      "2022-07-14 10:39:38,393 INFO sqlalchemy.engine.Engine PRAGMA temp.index_list(\"esg_match_tgt2\")\n",
      "2022-07-14 10:39:38,394 INFO sqlalchemy.engine.Engine [raw sql] ()\n",
      "2022-07-14 10:39:38,396 INFO sqlalchemy.engine.Engine PRAGMA main.index_list(\"esg_match_tgt2\")\n",
      "2022-07-14 10:39:38,397 INFO sqlalchemy.engine.Engine [raw sql] ()\n",
      "2022-07-14 10:39:38,399 INFO sqlalchemy.engine.Engine PRAGMA temp.index_list(\"esg_match_tgt2\")\n",
      "2022-07-14 10:39:38,400 INFO sqlalchemy.engine.Engine [raw sql] ()\n",
      "2022-07-14 10:39:38,401 INFO sqlalchemy.engine.Engine SELECT sql FROM  (SELECT * FROM sqlite_master UNION ALL   SELECT * FROM sqlite_temp_master) WHERE name = ? AND type = 'table'\n",
      "2022-07-14 10:39:38,402 INFO sqlalchemy.engine.Engine [raw sql] ('esg_match_tgt2',)\n",
      "2022-07-14 10:39:38,405 INFO sqlalchemy.engine.Engine BEGIN (implicit)\n",
      "2022-07-14 10:39:38,407 INFO sqlalchemy.engine.Engine \n",
      "DROP TABLE esg_match_tgt2\n",
      "2022-07-14 10:39:38,408 INFO sqlalchemy.engine.Engine [no key 0.00110s] ()\n",
      "2022-07-14 10:39:38,539 INFO sqlalchemy.engine.Engine COMMIT\n",
      "2022-07-14 10:39:38,545 INFO sqlalchemy.engine.Engine BEGIN (implicit)\n",
      "2022-07-14 10:39:38,549 INFO sqlalchemy.engine.Engine \n",
      "CREATE TABLE esg_match_tgt2 (\n",
      "\tid_ds2 INTEGER NOT NULL, \n",
      "\tisin_ds2 VARCHAR, \n",
      "\tlei_ds2 VARCHAR, \n",
      "\tsedol_ds2 VARCHAR, \n",
      "\tname_ds2 VARCHAR, \n",
      "\tcountry_ds2 VARCHAR, \n",
      "\tPRIMARY KEY (id_ds2)\n",
      ")\n",
      "\n",
      "\n",
      "2022-07-14 10:39:38,550 INFO sqlalchemy.engine.Engine [no key 0.00125s] ()\n",
      "2022-07-14 10:39:38,704 INFO sqlalchemy.engine.Engine COMMIT\n",
      "2022-07-14 10:39:38,751 INFO sqlalchemy.engine.Engine PRAGMA main.table_info(\"esg_match_tgt2\")\n",
      "2022-07-14 10:39:38,752 INFO sqlalchemy.engine.Engine [raw sql] ()\n",
      "2022-07-14 10:39:38,758 INFO sqlalchemy.engine.Engine BEGIN (implicit)\n",
      "2022-07-14 10:39:38,761 INFO sqlalchemy.engine.Engine INSERT INTO esg_match_tgt2 (id_ds2, isin_ds2, lei_ds2, sedol_ds2, name_ds2, country_ds2) VALUES (?, ?, ?, ?, ?, ?)\n",
      "2022-07-14 10:39:38,763 INFO sqlalchemy.engine.Engine [generated in 0.00198s] (('1', None, '097900BHK10000084115', '7108899', 'HONEYDUKES LIMITED', None), ('2', 'NO0003058109', '8156006CE62347C74658', '10009110965', 'STARCOURT MALL', 'it'), ('3', '5299008DQNJ4RILKA985', 'DE000A2N4H07', None, 'BLUTH COMPANYTHE GEMEINNÜTZIGE GESELLSCHAFT MIT BESCHRÄNKTER HAFTUNG', 'de'), ('4', 'FR0000072910', '9695001UE8RNVNTE9L89', '2019952', 'INGEN', 'fr'), ('5', 'BRCIELACNOR3', None, '2046853', 'SPECTRE EMPRESA INDIVIDUAL DE RESPONSABILIDADE LIMITADA', 'br'), ('6', 'GB00B1YW4409', '213800KY4C9WU7WBW518', 'B1YW440', 'STERLING COOPER', 'gb'), ('7', 'SK1120005824', None, 'B1YW440', 'CENTRAL PERK', 'sk'), ('8', 'JE0005545503', None, '6299003VKVDCUPSS5X23', 'DUNDER MIFFLING', 'de'), ('9', 'GB00B1YW4409', None, 'B1YW440', 'KRUSTY KR~AB', 'gb'), ('10', None, None, None, 'VAHLPAHL VIV COMPAGNIE KOMMANDITGESELLSCHAFT', 'de'))\n",
      "2022-07-14 10:39:38,768 INFO sqlalchemy.engine.Engine COMMIT\n"
     ]
    }
   ],
   "source": [
    "# Load data from TARGET 1\n",
    "db_tgt2 = etl_proc_obj.load_file_to_db(tgt2_obj, csv_reader_obj)"
   ]
  },
  {
   "cell_type": "markdown",
   "id": "f8bb55e3",
   "metadata": {},
   "source": [
    "## 3. Creating matching/no-matching tables"
   ]
  },
  {
   "cell_type": "code",
   "execution_count": 17,
   "id": "02c7bb72",
   "metadata": {},
   "outputs": [],
   "source": [
    "match_settings = '../../tests/data/demo/test_matching_sqlite.json'\n",
    "no_match_settings = '../../tests/data/demo/test_no_matching_sqlite.json'"
   ]
  },
  {
   "cell_type": "code",
   "execution_count": 18,
   "id": "70c52c8c",
   "metadata": {},
   "outputs": [],
   "source": [
    "file_match = File(match_settings)\n",
    "file_no_match = File(no_match_settings)"
   ]
  },
  {
   "cell_type": "code",
   "execution_count": 19,
   "id": "34d69000",
   "metadata": {
    "scrolled": true
   },
   "outputs": [
    {
     "name": "stdout",
     "output_type": "stream",
     "text": [
      "2022-07-14 10:39:46,803 INFO sqlalchemy.engine.Engine PRAGMA main.table_info(\"esg_matching\")\n",
      "2022-07-14 10:39:46,805 INFO sqlalchemy.engine.Engine [raw sql] ()\n",
      "2022-07-14 10:39:46,811 INFO sqlalchemy.engine.Engine PRAGMA main.table_xinfo(\"esg_matching\")\n",
      "2022-07-14 10:39:46,815 INFO sqlalchemy.engine.Engine [raw sql] ()\n",
      "2022-07-14 10:39:46,820 INFO sqlalchemy.engine.Engine SELECT sql FROM  (SELECT * FROM sqlite_master UNION ALL   SELECT * FROM sqlite_temp_master) WHERE name = ? AND type = 'table'\n",
      "2022-07-14 10:39:46,821 INFO sqlalchemy.engine.Engine [raw sql] ('esg_matching',)\n",
      "2022-07-14 10:39:46,823 INFO sqlalchemy.engine.Engine PRAGMA main.foreign_key_list(\"esg_matching\")\n",
      "2022-07-14 10:39:46,824 INFO sqlalchemy.engine.Engine [raw sql] ()\n",
      "2022-07-14 10:39:46,825 INFO sqlalchemy.engine.Engine PRAGMA temp.foreign_key_list(\"esg_matching\")\n",
      "2022-07-14 10:39:46,826 INFO sqlalchemy.engine.Engine [raw sql] ()\n",
      "2022-07-14 10:39:46,829 INFO sqlalchemy.engine.Engine SELECT sql FROM  (SELECT * FROM sqlite_master UNION ALL   SELECT * FROM sqlite_temp_master) WHERE name = ? AND type = 'table'\n",
      "2022-07-14 10:39:46,830 INFO sqlalchemy.engine.Engine [raw sql] ('esg_matching',)\n",
      "2022-07-14 10:39:46,832 INFO sqlalchemy.engine.Engine PRAGMA main.index_list(\"esg_matching\")\n",
      "2022-07-14 10:39:46,833 INFO sqlalchemy.engine.Engine [raw sql] ()\n",
      "2022-07-14 10:39:46,835 INFO sqlalchemy.engine.Engine PRAGMA temp.index_list(\"esg_matching\")\n",
      "2022-07-14 10:39:46,836 INFO sqlalchemy.engine.Engine [raw sql] ()\n",
      "2022-07-14 10:39:46,838 INFO sqlalchemy.engine.Engine PRAGMA main.index_list(\"esg_matching\")\n",
      "2022-07-14 10:39:46,839 INFO sqlalchemy.engine.Engine [raw sql] ()\n",
      "2022-07-14 10:39:46,841 INFO sqlalchemy.engine.Engine PRAGMA temp.index_list(\"esg_matching\")\n",
      "2022-07-14 10:39:46,842 INFO sqlalchemy.engine.Engine [raw sql] ()\n",
      "2022-07-14 10:39:46,843 INFO sqlalchemy.engine.Engine SELECT sql FROM  (SELECT * FROM sqlite_master UNION ALL   SELECT * FROM sqlite_temp_master) WHERE name = ? AND type = 'table'\n",
      "2022-07-14 10:39:46,844 INFO sqlalchemy.engine.Engine [raw sql] ('esg_matching',)\n",
      "2022-07-14 10:39:46,883 INFO sqlalchemy.engine.Engine BEGIN (implicit)\n",
      "2022-07-14 10:39:46,887 INFO sqlalchemy.engine.Engine \n",
      "DROP TABLE esg_matching\n",
      "2022-07-14 10:39:46,888 INFO sqlalchemy.engine.Engine [no key 0.00094s] ()\n",
      "2022-07-14 10:39:47,102 INFO sqlalchemy.engine.Engine COMMIT\n",
      "2022-07-14 10:39:47,107 INFO sqlalchemy.engine.Engine BEGIN (implicit)\n",
      "2022-07-14 10:39:47,110 INFO sqlalchemy.engine.Engine \n",
      "CREATE TABLE esg_matching (\n",
      "\ttimestamp DATETIME DEFAULT (CURRENT_TIMESTAMP), \n",
      "\tmatching_id INTEGER NOT NULL, \n",
      "\tref_name VARCHAR, \n",
      "\ttgt_name VARCHAR, \n",
      "\tmatching_type VARCHAR, \n",
      "\tmatching_scope VARCHAR, \n",
      "\tmatching_rule VARCHAR, \n",
      "\tref_id INTEGER, \n",
      "\tref_company VARCHAR, \n",
      "\tref_country VARCHAR, \n",
      "\ttgt_id INTEGER, \n",
      "\ttgt_company VARCHAR, \n",
      "\ttgt_country VARCHAR, \n",
      "\tisin VARCHAR, \n",
      "\tlei VARCHAR, \n",
      "\tsedol VARCHAR, \n",
      "\tPRIMARY KEY (matching_id)\n",
      ")\n",
      "\n",
      "\n",
      "2022-07-14 10:39:47,112 INFO sqlalchemy.engine.Engine [no key 0.00216s] ()\n",
      "2022-07-14 10:39:47,243 INFO sqlalchemy.engine.Engine COMMIT\n"
     ]
    }
   ],
   "source": [
    "# Call the create_data_source_from_settings() method by passing the File\n",
    "db_matching = etl_proc_obj.create_data_source(file_match)"
   ]
  },
  {
   "cell_type": "code",
   "execution_count": 20,
   "id": "6d5dfd21",
   "metadata": {},
   "outputs": [
    {
     "name": "stdout",
     "output_type": "stream",
     "text": [
      "2022-07-14 10:39:47,266 INFO sqlalchemy.engine.Engine PRAGMA main.table_info(\"esg_no_matching\")\n",
      "2022-07-14 10:39:47,267 INFO sqlalchemy.engine.Engine [raw sql] ()\n",
      "2022-07-14 10:39:47,275 INFO sqlalchemy.engine.Engine PRAGMA main.table_xinfo(\"esg_no_matching\")\n",
      "2022-07-14 10:39:47,276 INFO sqlalchemy.engine.Engine [raw sql] ()\n",
      "2022-07-14 10:39:47,279 INFO sqlalchemy.engine.Engine SELECT sql FROM  (SELECT * FROM sqlite_master UNION ALL   SELECT * FROM sqlite_temp_master) WHERE name = ? AND type = 'table'\n",
      "2022-07-14 10:39:47,281 INFO sqlalchemy.engine.Engine [raw sql] ('esg_no_matching',)\n",
      "2022-07-14 10:39:47,284 INFO sqlalchemy.engine.Engine PRAGMA main.foreign_key_list(\"esg_no_matching\")\n",
      "2022-07-14 10:39:47,285 INFO sqlalchemy.engine.Engine [raw sql] ()\n",
      "2022-07-14 10:39:47,287 INFO sqlalchemy.engine.Engine PRAGMA temp.foreign_key_list(\"esg_no_matching\")\n",
      "2022-07-14 10:39:47,288 INFO sqlalchemy.engine.Engine [raw sql] ()\n",
      "2022-07-14 10:39:47,290 INFO sqlalchemy.engine.Engine SELECT sql FROM  (SELECT * FROM sqlite_master UNION ALL   SELECT * FROM sqlite_temp_master) WHERE name = ? AND type = 'table'\n",
      "2022-07-14 10:39:47,292 INFO sqlalchemy.engine.Engine [raw sql] ('esg_no_matching',)\n",
      "2022-07-14 10:39:47,294 INFO sqlalchemy.engine.Engine PRAGMA main.index_list(\"esg_no_matching\")\n",
      "2022-07-14 10:39:47,295 INFO sqlalchemy.engine.Engine [raw sql] ()\n",
      "2022-07-14 10:39:47,297 INFO sqlalchemy.engine.Engine PRAGMA temp.index_list(\"esg_no_matching\")\n",
      "2022-07-14 10:39:47,298 INFO sqlalchemy.engine.Engine [raw sql] ()\n",
      "2022-07-14 10:39:47,301 INFO sqlalchemy.engine.Engine PRAGMA main.index_list(\"esg_no_matching\")\n",
      "2022-07-14 10:39:47,302 INFO sqlalchemy.engine.Engine [raw sql] ()\n",
      "2022-07-14 10:39:47,304 INFO sqlalchemy.engine.Engine PRAGMA temp.index_list(\"esg_no_matching\")\n",
      "2022-07-14 10:39:47,305 INFO sqlalchemy.engine.Engine [raw sql] ()\n",
      "2022-07-14 10:39:47,306 INFO sqlalchemy.engine.Engine SELECT sql FROM  (SELECT * FROM sqlite_master UNION ALL   SELECT * FROM sqlite_temp_master) WHERE name = ? AND type = 'table'\n",
      "2022-07-14 10:39:47,307 INFO sqlalchemy.engine.Engine [raw sql] ('esg_no_matching',)\n",
      "2022-07-14 10:39:47,326 INFO sqlalchemy.engine.Engine BEGIN (implicit)\n",
      "2022-07-14 10:39:47,328 INFO sqlalchemy.engine.Engine \n",
      "DROP TABLE esg_no_matching\n",
      "2022-07-14 10:39:47,329 INFO sqlalchemy.engine.Engine [no key 0.00146s] ()\n",
      "2022-07-14 10:39:47,481 INFO sqlalchemy.engine.Engine COMMIT\n",
      "2022-07-14 10:39:47,490 INFO sqlalchemy.engine.Engine BEGIN (implicit)\n",
      "2022-07-14 10:39:47,496 INFO sqlalchemy.engine.Engine \n",
      "CREATE TABLE esg_no_matching (\n",
      "\ttimestamp DATETIME DEFAULT (CURRENT_TIMESTAMP), \n",
      "\tmatching_id INTEGER NOT NULL, \n",
      "\ttgt_name VARCHAR, \n",
      "\ttgt_id INTEGER, \n",
      "\ttgt_company VARCHAR, \n",
      "\ttgt_country VARCHAR, \n",
      "\tisin VARCHAR, \n",
      "\tlei VARCHAR, \n",
      "\tsedol VARCHAR, \n",
      "\tPRIMARY KEY (matching_id)\n",
      ")\n",
      "\n",
      "\n",
      "2022-07-14 10:39:47,497 INFO sqlalchemy.engine.Engine [no key 0.00112s] ()\n",
      "2022-07-14 10:39:47,631 INFO sqlalchemy.engine.Engine COMMIT\n"
     ]
    }
   ],
   "source": [
    "# Call the create_data_source_from_settings() method by passing the File\n",
    "db_no_matching = etl_proc_obj.create_data_source(file_no_match)"
   ]
  },
  {
   "cell_type": "markdown",
   "id": "eb372b0d",
   "metadata": {},
   "source": [
    "## 4. Checking matching policy and aliases"
   ]
  },
  {
   "cell_type": "code",
   "execution_count": 21,
   "id": "374fcbd7",
   "metadata": {},
   "outputs": [
    {
     "data": {
      "text/plain": [
       "{'matching_with_ref1': {'dfm': {'lei': ['LEI']},\n",
       "  'drm': {'name+country': ['COMPANY', 'COUNTRY']},\n",
       "  'irm': {'lei': ['LEI'],\n",
       "   'isin': ['ISIN'],\n",
       "   'name+country': ['COMPANY', 'COUNTRY']}}}"
      ]
     },
     "execution_count": 21,
     "metadata": {},
     "output_type": "execute_result"
    }
   ],
   "source": [
    "db_tgt1.get_policy_definition()"
   ]
  },
  {
   "cell_type": "code",
   "execution_count": 22,
   "id": "ca4885de",
   "metadata": {},
   "outputs": [
    {
     "data": {
      "text/plain": [
       "{'matching_with_ref1': {'dfm': {'lei': ['LEI']},\n",
       "  'drm': {'name+country': ['COMPANY', 'COUNTRY']},\n",
       "  'irm': {'lei': ['LEI'],\n",
       "   'isin': ['ISIN'],\n",
       "   'name+country': ['COMPANY', 'COUNTRY']}}}"
      ]
     },
     "execution_count": 22,
     "metadata": {},
     "output_type": "execute_result"
    }
   ],
   "source": [
    "db_tgt2.get_policy_definition()"
   ]
  },
  {
   "cell_type": "code",
   "execution_count": 23,
   "id": "c5f64f36",
   "metadata": {},
   "outputs": [
    {
     "data": {
      "text/plain": [
       "{'LEI': Column('lei_ref', String(), table=<esg_match_ref>),\n",
       " 'COMPANY': Column('name_ref', String(), table=<esg_match_ref>),\n",
       " 'COUNTRY': Column('country_ref', String(), table=<esg_match_ref>)}"
      ]
     },
     "execution_count": 23,
     "metadata": {},
     "output_type": "execute_result"
    }
   ],
   "source": [
    "db_ref.get_mapping_to_alias()"
   ]
  },
  {
   "cell_type": "code",
   "execution_count": 24,
   "id": "c12daac7",
   "metadata": {},
   "outputs": [
    {
     "data": {
      "text/plain": [
       "{'ISIN': Column('isin_ds1', String(), table=<esg_match_tgt1>),\n",
       " 'LEI': Column('lei_ds1', String(), table=<esg_match_tgt1>),\n",
       " 'COMPANY': Column('name_ds1', String(), table=<esg_match_tgt1>),\n",
       " 'COUNTRY': Column('country_ds1', String(), table=<esg_match_tgt1>)}"
      ]
     },
     "execution_count": 24,
     "metadata": {},
     "output_type": "execute_result"
    }
   ],
   "source": [
    "db_tgt1.get_mapping_to_alias()"
   ]
  },
  {
   "cell_type": "code",
   "execution_count": 25,
   "id": "bef3d452",
   "metadata": {},
   "outputs": [
    {
     "data": {
      "text/plain": [
       "{'ISIN': Column('isin_ds2', String(), table=<esg_match_tgt2>),\n",
       " 'LEI': Column('lei_ds2', String(), table=<esg_match_tgt2>),\n",
       " 'SEDOL': Column('sedol_ds2', String(), table=<esg_match_tgt2>),\n",
       " 'COMPANY': Column('name_ds2', String(), table=<esg_match_tgt2>),\n",
       " 'COUNTRY': Column('country_ds2', String(), table=<esg_match_tgt2>)}"
      ]
     },
     "execution_count": 25,
     "metadata": {},
     "output_type": "execute_result"
    }
   ],
   "source": [
    "db_tgt2.get_mapping_to_alias()"
   ]
  },
  {
   "cell_type": "markdown",
   "id": "2b59d599",
   "metadata": {},
   "source": [
    "## 5. Checking attribute mapping between sources and matching tables"
   ]
  },
  {
   "cell_type": "code",
   "execution_count": 26,
   "id": "5667f91a",
   "metadata": {},
   "outputs": [
    {
     "data": {
      "text/plain": [
       "{'ref_id': Column('id_ref', Integer(), table=<esg_match_ref>, primary_key=True, nullable=False),\n",
       " 'ref_company': Column('name_ref', String(), table=<esg_match_ref>),\n",
       " 'ref_country': Column('country_ref', String(), table=<esg_match_ref>)}"
      ]
     },
     "execution_count": 26,
     "metadata": {},
     "output_type": "execute_result"
    }
   ],
   "source": [
    "db_ref.get_mapping_to_matching()"
   ]
  },
  {
   "cell_type": "code",
   "execution_count": 27,
   "id": "e0142407",
   "metadata": {},
   "outputs": [
    {
     "data": {
      "text/plain": [
       "{'tgt_id': Column('id_ds1', Integer(), table=<esg_match_tgt1>, primary_key=True, nullable=False),\n",
       " 'isin': Column('isin_ds1', String(), table=<esg_match_tgt1>),\n",
       " 'lei': Column('lei_ds1', String(), table=<esg_match_tgt1>),\n",
       " 'tgt_company': Column('name_ds1', String(), table=<esg_match_tgt1>),\n",
       " 'tgt_country': Column('country_ds1', String(), table=<esg_match_tgt1>)}"
      ]
     },
     "execution_count": 27,
     "metadata": {},
     "output_type": "execute_result"
    }
   ],
   "source": [
    "db_tgt1.get_mapping_to_matching()"
   ]
  },
  {
   "cell_type": "code",
   "execution_count": 28,
   "id": "5590d258",
   "metadata": {},
   "outputs": [
    {
     "data": {
      "text/plain": [
       "{'tgt_id': Column('id_ds2', Integer(), table=<esg_match_tgt2>, primary_key=True, nullable=False),\n",
       " 'isin': Column('isin_ds2', String(), table=<esg_match_tgt2>),\n",
       " 'lei': Column('lei_ds2', String(), table=<esg_match_tgt2>),\n",
       " 'sedol': Column('sedol_ds2', String(), table=<esg_match_tgt2>),\n",
       " 'tgt_company': Column('name_ds2', String(), table=<esg_match_tgt2>),\n",
       " 'tgt_country': Column('country_ds2', String(), table=<esg_match_tgt2>)}"
      ]
     },
     "execution_count": 28,
     "metadata": {},
     "output_type": "execute_result"
    }
   ],
   "source": [
    "db_tgt2.get_mapping_to_matching()"
   ]
  },
  {
   "cell_type": "markdown",
   "id": "f60ebc53",
   "metadata": {},
   "source": [
    "## 6. Create policies for matching each target data source with the referential"
   ]
  },
  {
   "cell_type": "code",
   "execution_count": 29,
   "id": "07be9e87",
   "metadata": {},
   "outputs": [],
   "source": [
    "# Import policy module\n",
    "from esg_matching.matcher.policy import MatchingPolicy"
   ]
  },
  {
   "cell_type": "code",
   "execution_count": 30,
   "id": "4fb6fa14",
   "metadata": {},
   "outputs": [],
   "source": [
    "# Create macthing policy object for target1\n",
    "policy_match_tgt1 = MatchingPolicy(db_tgt1, 'matching_with_ref1')"
   ]
  },
  {
   "cell_type": "code",
   "execution_count": 31,
   "id": "08342a83",
   "metadata": {},
   "outputs": [],
   "source": [
    "# Set the referential and matching/no-matching sources\n",
    "policy_match_tgt1.set_referential_source(db_ref)\n",
    "policy_match_tgt1.set_matching_source(db_matching)\n",
    "policy_match_tgt1.set_no_matching_source(db_no_matching)"
   ]
  },
  {
   "cell_type": "code",
   "execution_count": 32,
   "id": "e621da45",
   "metadata": {},
   "outputs": [],
   "source": [
    "# Create macthing policy object for target2\n",
    "policy_match_tgt2 = MatchingPolicy(db_tgt2, 'matching_with_ref1')"
   ]
  },
  {
   "cell_type": "code",
   "execution_count": 33,
   "id": "aaf8274f",
   "metadata": {},
   "outputs": [],
   "source": [
    "# Set the referential and matching/no-matching sources\n",
    "policy_match_tgt2.set_referential_source(db_ref)\n",
    "policy_match_tgt2.set_matching_source(db_matching)\n",
    "policy_match_tgt2.set_no_matching_source(db_no_matching)"
   ]
  },
  {
   "cell_type": "markdown",
   "id": "6e62383f",
   "metadata": {},
   "source": [
    "## 7. Perform direct full matching (DFM) for each data source"
   ]
  },
  {
   "cell_type": "code",
   "execution_count": 34,
   "id": "e1aac282",
   "metadata": {},
   "outputs": [],
   "source": [
    "# Import DFM module\n",
    "from esg_matching.matcher.dfm import DbMatcherDfm"
   ]
  },
  {
   "cell_type": "code",
   "execution_count": 35,
   "id": "8df93fe4",
   "metadata": {},
   "outputs": [],
   "source": [
    "# Create a matcher object for DFM\n",
    "dfm_matcher_obj = DbMatcherDfm(db_conn)"
   ]
  },
  {
   "cell_type": "code",
   "execution_count": 36,
   "id": "14241c99",
   "metadata": {},
   "outputs": [
    {
     "name": "stdout",
     "output_type": "stream",
     "text": [
      "2022-07-14 10:40:03,727 INFO sqlalchemy.engine.Engine INSERT INTO esg_matching (ref_name, tgt_name, matching_type, matching_scope, matching_rule, tgt_id, isin, lei, tgt_company, tgt_country, ref_id, ref_company, ref_country) SELECT 'ds_ref' AS ref_name, 'ds_tgt1' AS tgt_name, 'direct' AS matching_type, 'full' AS matching_scope, 'lei' AS matching_rule, esg_match_tgt1.id_ds1 AS tgt_id, esg_match_tgt1.isin_ds1 AS isin, esg_match_tgt1.lei_ds1 AS lei, esg_match_tgt1.name_ds1 AS tgt_company, esg_match_tgt1.country_ds1 AS tgt_country, esg_match_ref.id_ref AS ref_id, esg_match_ref.name_ref AS ref_company, esg_match_ref.country_ref AS ref_country \n",
      "FROM esg_match_tgt1 JOIN esg_match_ref ON esg_match_tgt1.lei_ds1 = esg_match_ref.lei_ref\n",
      "2022-07-14 10:40:03,728 INFO sqlalchemy.engine.Engine [generated in 0.00143s] ()\n",
      "2022-07-14 10:40:03,931 INFO sqlalchemy.engine.Engine COMMIT\n",
      "2022-07-14 10:40:04,048 INFO sqlalchemy.engine.Engine INSERT INTO esg_no_matching (tgt_name, tgt_id, isin, lei, tgt_company, tgt_country) SELECT 'ds_tgt1' AS tgt_name, esg_match_tgt1.id_ds1 AS tgt_id, esg_match_tgt1.isin_ds1 AS isin, esg_match_tgt1.lei_ds1 AS lei, esg_match_tgt1.name_ds1 AS tgt_company, esg_match_tgt1.country_ds1 AS tgt_country \n",
      "FROM esg_match_tgt1 LEFT OUTER JOIN esg_match_ref ON esg_match_tgt1.lei_ds1 = esg_match_ref.lei_ref \n",
      "WHERE esg_match_ref.lei_ref IS NULL\n",
      "2022-07-14 10:40:04,049 INFO sqlalchemy.engine.Engine [generated in 0.00098s] ()\n",
      "2022-07-14 10:40:04,053 INFO sqlalchemy.engine.Engine COMMIT\n"
     ]
    }
   ],
   "source": [
    "# Perform DFM on target 1\n",
    "dfm_matcher_obj.set_policy(policy_match_tgt1)\n",
    "dfm_matcher_obj.execute_matching()"
   ]
  },
  {
   "cell_type": "code",
   "execution_count": 37,
   "id": "f7b77396",
   "metadata": {},
   "outputs": [
    {
     "name": "stdout",
     "output_type": "stream",
     "text": [
      "2022-07-14 10:40:04,329 INFO sqlalchemy.engine.Engine INSERT INTO esg_matching (ref_name, tgt_name, matching_type, matching_scope, matching_rule, tgt_id, isin, lei, sedol, tgt_company, tgt_country, ref_id, ref_company, ref_country) SELECT 'ds_ref' AS ref_name, 'ds_tgt2' AS tgt_name, 'direct' AS matching_type, 'full' AS matching_scope, 'lei' AS matching_rule, esg_match_tgt2.id_ds2 AS tgt_id, esg_match_tgt2.isin_ds2 AS isin, esg_match_tgt2.lei_ds2 AS lei, esg_match_tgt2.sedol_ds2 AS sedol, esg_match_tgt2.name_ds2 AS tgt_company, esg_match_tgt2.country_ds2 AS tgt_country, esg_match_ref.id_ref AS ref_id, esg_match_ref.name_ref AS ref_company, esg_match_ref.country_ref AS ref_country \n",
      "FROM esg_match_tgt2 JOIN esg_match_ref ON esg_match_tgt2.lei_ds2 = esg_match_ref.lei_ref\n",
      "2022-07-14 10:40:04,330 INFO sqlalchemy.engine.Engine [generated in 0.00109s] ()\n",
      "2022-07-14 10:40:04,377 INFO sqlalchemy.engine.Engine COMMIT\n",
      "2022-07-14 10:40:04,582 INFO sqlalchemy.engine.Engine INSERT INTO esg_no_matching (tgt_name, tgt_id, isin, lei, sedol, tgt_company, tgt_country) SELECT 'ds_tgt2' AS tgt_name, esg_match_tgt2.id_ds2 AS tgt_id, esg_match_tgt2.isin_ds2 AS isin, esg_match_tgt2.lei_ds2 AS lei, esg_match_tgt2.sedol_ds2 AS sedol, esg_match_tgt2.name_ds2 AS tgt_company, esg_match_tgt2.country_ds2 AS tgt_country \n",
      "FROM esg_match_tgt2 LEFT OUTER JOIN esg_match_ref ON esg_match_tgt2.lei_ds2 = esg_match_ref.lei_ref \n",
      "WHERE esg_match_ref.lei_ref IS NULL\n",
      "2022-07-14 10:40:04,583 INFO sqlalchemy.engine.Engine [generated in 0.00097s] ()\n",
      "2022-07-14 10:40:04,590 INFO sqlalchemy.engine.Engine COMMIT\n"
     ]
    }
   ],
   "source": [
    "# Perform DFM on target 2\n",
    "dfm_matcher_obj.set_policy(policy_match_tgt2)\n",
    "dfm_matcher_obj.execute_matching()"
   ]
  },
  {
   "cell_type": "markdown",
   "id": "13353981",
   "metadata": {},
   "source": [
    "## 8. Perform direct residual matching (DRM) for each data source"
   ]
  },
  {
   "cell_type": "code",
   "execution_count": 38,
   "id": "b3d5b866",
   "metadata": {},
   "outputs": [],
   "source": [
    "# Import DRM module\n",
    "from esg_matching.matcher.drm import DbMatcherDrm"
   ]
  },
  {
   "cell_type": "code",
   "execution_count": 39,
   "id": "6063d3f1",
   "metadata": {},
   "outputs": [],
   "source": [
    "# Create a matcher object for DRM\n",
    "drm_matcher_obj = DbMatcherDrm(db_conn)"
   ]
  },
  {
   "cell_type": "code",
   "execution_count": 40,
   "id": "bafb60ca",
   "metadata": {},
   "outputs": [
    {
     "name": "stdout",
     "output_type": "stream",
     "text": [
      "2022-07-14 10:40:06,525 INFO sqlalchemy.engine.Engine INSERT INTO esg_matching (ref_name, tgt_name, matching_type, matching_scope, matching_rule, tgt_id, isin, lei, tgt_company, tgt_country, ref_id, ref_company, ref_country) SELECT 'ds_ref' AS ref_name, 'ds_tgt1' AS tgt_name, 'direct' AS matching_type, 'residual' AS matching_scope, 'name+country' AS matching_rule, esg_no_matching.tgt_id, esg_no_matching.isin, esg_no_matching.lei, esg_no_matching.tgt_company, esg_no_matching.tgt_country, esg_match_ref.id_ref AS ref_id, esg_match_ref.name_ref AS ref_company, esg_match_ref.country_ref AS ref_country \n",
      "FROM esg_no_matching JOIN esg_match_ref ON esg_no_matching.tgt_company = esg_match_ref.name_ref AND esg_no_matching.tgt_country = esg_match_ref.country_ref \n",
      "WHERE esg_no_matching.tgt_name = ?\n",
      "2022-07-14 10:40:06,527 INFO sqlalchemy.engine.Engine [generated in 0.00225s] ('ds_tgt1',)\n",
      "2022-07-14 10:40:06,541 INFO sqlalchemy.engine.Engine COMMIT\n",
      "2022-07-14 10:40:06,724 INFO sqlalchemy.engine.Engine DELETE FROM esg_no_matching WHERE esg_no_matching.matching_id IN (SELECT esg_no_matching.matching_id \n",
      "FROM esg_no_matching JOIN esg_match_ref ON esg_no_matching.tgt_company = esg_match_ref.name_ref AND esg_no_matching.tgt_country = esg_match_ref.country_ref \n",
      "WHERE esg_no_matching.tgt_name = ?)\n",
      "2022-07-14 10:40:06,725 INFO sqlalchemy.engine.Engine [generated in 0.00118s] ('ds_tgt1',)\n",
      "2022-07-14 10:40:06,748 INFO sqlalchemy.engine.Engine COMMIT\n"
     ]
    }
   ],
   "source": [
    "# Perform DRM on target 1\n",
    "drm_matcher_obj.set_policy(policy_match_tgt1)\n",
    "drm_matcher_obj.execute_matching()"
   ]
  },
  {
   "cell_type": "code",
   "execution_count": 41,
   "id": "8326a958",
   "metadata": {},
   "outputs": [
    {
     "name": "stdout",
     "output_type": "stream",
     "text": [
      "2022-07-14 10:40:07,445 INFO sqlalchemy.engine.Engine INSERT INTO esg_matching (ref_name, tgt_name, matching_type, matching_scope, matching_rule, tgt_id, isin, lei, sedol, tgt_company, tgt_country, ref_id, ref_company, ref_country) SELECT 'ds_ref' AS ref_name, 'ds_tgt2' AS tgt_name, 'direct' AS matching_type, 'residual' AS matching_scope, 'name+country' AS matching_rule, esg_no_matching.tgt_id, esg_no_matching.isin, esg_no_matching.lei, esg_no_matching.sedol, esg_no_matching.tgt_company, esg_no_matching.tgt_country, esg_match_ref.id_ref AS ref_id, esg_match_ref.name_ref AS ref_company, esg_match_ref.country_ref AS ref_country \n",
      "FROM esg_no_matching JOIN esg_match_ref ON esg_no_matching.tgt_company = esg_match_ref.name_ref AND esg_no_matching.tgt_country = esg_match_ref.country_ref \n",
      "WHERE esg_no_matching.tgt_name = ?\n",
      "2022-07-14 10:40:07,446 INFO sqlalchemy.engine.Engine [generated in 0.00103s] ('ds_tgt2',)\n",
      "2022-07-14 10:40:07,455 INFO sqlalchemy.engine.Engine COMMIT\n",
      "2022-07-14 10:40:07,804 INFO sqlalchemy.engine.Engine DELETE FROM esg_no_matching WHERE esg_no_matching.matching_id IN (SELECT esg_no_matching.matching_id \n",
      "FROM esg_no_matching JOIN esg_match_ref ON esg_no_matching.tgt_company = esg_match_ref.name_ref AND esg_no_matching.tgt_country = esg_match_ref.country_ref \n",
      "WHERE esg_no_matching.tgt_name = ?)\n",
      "2022-07-14 10:40:07,805 INFO sqlalchemy.engine.Engine [cached since 1.081s ago] ('ds_tgt2',)\n",
      "2022-07-14 10:40:07,808 INFO sqlalchemy.engine.Engine COMMIT\n"
     ]
    }
   ],
   "source": [
    "# Perform DRM on target 2\n",
    "drm_matcher_obj.set_policy(policy_match_tgt2)\n",
    "drm_matcher_obj.execute_matching()"
   ]
  },
  {
   "cell_type": "markdown",
   "id": "f1cbd7d9",
   "metadata": {},
   "source": [
    "## 9. Perform indirect full matching (IFM) for each data source"
   ]
  },
  {
   "cell_type": "code",
   "execution_count": 42,
   "id": "1587b012",
   "metadata": {},
   "outputs": [],
   "source": [
    "# Import IFM module\n",
    "from esg_matching.matcher.irm import DbMatcherIrm"
   ]
  },
  {
   "cell_type": "code",
   "execution_count": 43,
   "id": "e28438be",
   "metadata": {},
   "outputs": [],
   "source": [
    "# Create a matcher object for IFM\n",
    "irm_matcher_obj = DbMatcherIrm(db_conn)"
   ]
  },
  {
   "cell_type": "code",
   "execution_count": 44,
   "id": "a9263279",
   "metadata": {},
   "outputs": [
    {
     "name": "stdout",
     "output_type": "stream",
     "text": [
      "2022-07-14 10:40:09,739 INFO sqlalchemy.engine.Engine INSERT INTO esg_matching (matching_type, matching_scope, matching_rule, tgt_name, tgt_id, tgt_company, tgt_country, isin, lei, sedol, ref_name, ref_id, ref_company, ref_country) SELECT 'indirect' AS matching_type, 'full' AS matching_scope, 'lei' AS matching_rule, esg_no_matching.tgt_name, esg_no_matching.tgt_id, esg_no_matching.tgt_company, esg_no_matching.tgt_country, esg_no_matching.isin, esg_no_matching.lei, esg_no_matching.sedol, esg_matching.tgt_name AS ref_name, esg_matching.tgt_id AS ref_id, esg_matching.tgt_company AS ref_company, esg_matching.tgt_country AS ref_country \n",
      "FROM esg_no_matching JOIN esg_matching ON esg_no_matching.lei = esg_matching.lei \n",
      "WHERE esg_no_matching.tgt_name = ? AND esg_matching.tgt_name != ?\n",
      "2022-07-14 10:40:09,739 INFO sqlalchemy.engine.Engine [generated in 0.00092s] ('ds_tgt1', 'ds_tgt1')\n",
      "2022-07-14 10:40:09,742 INFO sqlalchemy.engine.Engine COMMIT\n",
      "2022-07-14 10:40:09,746 INFO sqlalchemy.engine.Engine DELETE FROM esg_no_matching WHERE esg_no_matching.matching_id IN (SELECT esg_no_matching.matching_id \n",
      "FROM esg_no_matching JOIN esg_matching ON esg_no_matching.lei = esg_matching.lei \n",
      "WHERE esg_no_matching.tgt_name = ? AND esg_matching.tgt_name != ?)\n",
      "2022-07-14 10:40:09,747 INFO sqlalchemy.engine.Engine [generated in 0.00134s] ('ds_tgt1', 'ds_tgt1')\n",
      "2022-07-14 10:40:09,749 INFO sqlalchemy.engine.Engine COMMIT\n",
      "2022-07-14 10:40:09,755 INFO sqlalchemy.engine.Engine INSERT INTO esg_matching (matching_type, matching_scope, matching_rule, tgt_name, tgt_id, tgt_company, tgt_country, isin, lei, sedol, ref_name, ref_id, ref_company, ref_country) SELECT 'indirect' AS matching_type, 'full' AS matching_scope, 'isin' AS matching_rule, esg_no_matching.tgt_name, esg_no_matching.tgt_id, esg_no_matching.tgt_company, esg_no_matching.tgt_country, esg_no_matching.isin, esg_no_matching.lei, esg_no_matching.sedol, esg_matching.tgt_name AS ref_name, esg_matching.tgt_id AS ref_id, esg_matching.tgt_company AS ref_company, esg_matching.tgt_country AS ref_country \n",
      "FROM esg_no_matching JOIN esg_matching ON esg_no_matching.isin = esg_matching.isin \n",
      "WHERE esg_no_matching.tgt_name = ? AND esg_matching.tgt_name != ?\n",
      "2022-07-14 10:40:09,756 INFO sqlalchemy.engine.Engine [generated in 0.00112s] ('ds_tgt1', 'ds_tgt1')\n",
      "2022-07-14 10:40:09,758 INFO sqlalchemy.engine.Engine COMMIT\n",
      "2022-07-14 10:40:09,762 INFO sqlalchemy.engine.Engine DELETE FROM esg_no_matching WHERE esg_no_matching.matching_id IN (SELECT esg_no_matching.matching_id \n",
      "FROM esg_no_matching JOIN esg_matching ON esg_no_matching.isin = esg_matching.isin \n",
      "WHERE esg_no_matching.tgt_name = ? AND esg_matching.tgt_name != ?)\n",
      "2022-07-14 10:40:09,763 INFO sqlalchemy.engine.Engine [generated in 0.00116s] ('ds_tgt1', 'ds_tgt1')\n",
      "2022-07-14 10:40:09,765 INFO sqlalchemy.engine.Engine COMMIT\n",
      "2022-07-14 10:40:09,771 INFO sqlalchemy.engine.Engine INSERT INTO esg_matching (matching_type, matching_scope, matching_rule, tgt_name, tgt_id, tgt_company, tgt_country, isin, lei, sedol, ref_name, ref_id, ref_company, ref_country) SELECT 'indirect' AS matching_type, 'full' AS matching_scope, 'name+country' AS matching_rule, esg_no_matching.tgt_name, esg_no_matching.tgt_id, esg_no_matching.tgt_company, esg_no_matching.tgt_country, esg_no_matching.isin, esg_no_matching.lei, esg_no_matching.sedol, esg_matching.tgt_name AS ref_name, esg_matching.tgt_id AS ref_id, esg_matching.tgt_company AS ref_company, esg_matching.tgt_country AS ref_country \n",
      "FROM esg_no_matching JOIN esg_matching ON esg_no_matching.tgt_company = esg_matching.tgt_company AND esg_no_matching.tgt_country = esg_matching.tgt_country \n",
      "WHERE esg_no_matching.tgt_name = ? AND esg_matching.tgt_name != ?\n",
      "2022-07-14 10:40:09,772 INFO sqlalchemy.engine.Engine [generated in 0.00107s] ('ds_tgt1', 'ds_tgt1')\n",
      "2022-07-14 10:40:09,775 INFO sqlalchemy.engine.Engine COMMIT\n",
      "2022-07-14 10:40:09,781 INFO sqlalchemy.engine.Engine DELETE FROM esg_no_matching WHERE esg_no_matching.matching_id IN (SELECT esg_no_matching.matching_id \n",
      "FROM esg_no_matching JOIN esg_matching ON esg_no_matching.tgt_company = esg_matching.tgt_company AND esg_no_matching.tgt_country = esg_matching.tgt_country \n",
      "WHERE esg_no_matching.tgt_name = ? AND esg_matching.tgt_name != ?)\n",
      "2022-07-14 10:40:09,782 INFO sqlalchemy.engine.Engine [generated in 0.00120s] ('ds_tgt1', 'ds_tgt1')\n",
      "2022-07-14 10:40:09,785 INFO sqlalchemy.engine.Engine COMMIT\n"
     ]
    }
   ],
   "source": [
    "# Perform IFM on target 1\n",
    "irm_matcher_obj.set_policy(policy_match_tgt1)\n",
    "irm_matcher_obj.execute_matching()"
   ]
  },
  {
   "cell_type": "code",
   "execution_count": 45,
   "id": "c9803270",
   "metadata": {},
   "outputs": [
    {
     "name": "stdout",
     "output_type": "stream",
     "text": [
      "2022-07-14 10:40:12,474 INFO sqlalchemy.engine.Engine INSERT INTO esg_matching (matching_type, matching_scope, matching_rule, tgt_name, tgt_id, tgt_company, tgt_country, isin, lei, sedol, ref_name, ref_id, ref_company, ref_country) SELECT 'indirect' AS matching_type, 'full' AS matching_scope, 'lei' AS matching_rule, esg_no_matching.tgt_name, esg_no_matching.tgt_id, esg_no_matching.tgt_company, esg_no_matching.tgt_country, esg_no_matching.isin, esg_no_matching.lei, esg_no_matching.sedol, esg_matching.tgt_name AS ref_name, esg_matching.tgt_id AS ref_id, esg_matching.tgt_company AS ref_company, esg_matching.tgt_country AS ref_country \n",
      "FROM esg_no_matching JOIN esg_matching ON esg_no_matching.lei = esg_matching.lei \n",
      "WHERE esg_no_matching.tgt_name = ? AND esg_matching.tgt_name != ?\n",
      "2022-07-14 10:40:12,475 INFO sqlalchemy.engine.Engine [cached since 2.737s ago] ('ds_tgt2', 'ds_tgt2')\n",
      "2022-07-14 10:40:12,479 INFO sqlalchemy.engine.Engine COMMIT\n",
      "2022-07-14 10:40:12,708 INFO sqlalchemy.engine.Engine DELETE FROM esg_no_matching WHERE esg_no_matching.matching_id IN (SELECT esg_no_matching.matching_id \n",
      "FROM esg_no_matching JOIN esg_matching ON esg_no_matching.lei = esg_matching.lei \n",
      "WHERE esg_no_matching.tgt_name = ? AND esg_matching.tgt_name != ?)\n",
      "2022-07-14 10:40:12,710 INFO sqlalchemy.engine.Engine [cached since 2.965s ago] ('ds_tgt2', 'ds_tgt2')\n",
      "2022-07-14 10:40:12,750 INFO sqlalchemy.engine.Engine COMMIT\n",
      "2022-07-14 10:40:12,867 INFO sqlalchemy.engine.Engine INSERT INTO esg_matching (matching_type, matching_scope, matching_rule, tgt_name, tgt_id, tgt_company, tgt_country, isin, lei, sedol, ref_name, ref_id, ref_company, ref_country) SELECT 'indirect' AS matching_type, 'full' AS matching_scope, 'isin' AS matching_rule, esg_no_matching.tgt_name, esg_no_matching.tgt_id, esg_no_matching.tgt_company, esg_no_matching.tgt_country, esg_no_matching.isin, esg_no_matching.lei, esg_no_matching.sedol, esg_matching.tgt_name AS ref_name, esg_matching.tgt_id AS ref_id, esg_matching.tgt_company AS ref_company, esg_matching.tgt_country AS ref_country \n",
      "FROM esg_no_matching JOIN esg_matching ON esg_no_matching.isin = esg_matching.isin \n",
      "WHERE esg_no_matching.tgt_name = ? AND esg_matching.tgt_name != ?\n",
      "2022-07-14 10:40:12,870 INFO sqlalchemy.engine.Engine [cached since 3.116s ago] ('ds_tgt2', 'ds_tgt2')\n",
      "2022-07-14 10:40:12,874 INFO sqlalchemy.engine.Engine COMMIT\n",
      "2022-07-14 10:40:13,075 INFO sqlalchemy.engine.Engine DELETE FROM esg_no_matching WHERE esg_no_matching.matching_id IN (SELECT esg_no_matching.matching_id \n",
      "FROM esg_no_matching JOIN esg_matching ON esg_no_matching.isin = esg_matching.isin \n",
      "WHERE esg_no_matching.tgt_name = ? AND esg_matching.tgt_name != ?)\n",
      "2022-07-14 10:40:13,076 INFO sqlalchemy.engine.Engine [cached since 3.313s ago] ('ds_tgt2', 'ds_tgt2')\n",
      "2022-07-14 10:40:13,079 INFO sqlalchemy.engine.Engine COMMIT\n",
      "2022-07-14 10:40:13,103 INFO sqlalchemy.engine.Engine INSERT INTO esg_matching (matching_type, matching_scope, matching_rule, tgt_name, tgt_id, tgt_company, tgt_country, isin, lei, sedol, ref_name, ref_id, ref_company, ref_country) SELECT 'indirect' AS matching_type, 'full' AS matching_scope, 'name+country' AS matching_rule, esg_no_matching.tgt_name, esg_no_matching.tgt_id, esg_no_matching.tgt_company, esg_no_matching.tgt_country, esg_no_matching.isin, esg_no_matching.lei, esg_no_matching.sedol, esg_matching.tgt_name AS ref_name, esg_matching.tgt_id AS ref_id, esg_matching.tgt_company AS ref_company, esg_matching.tgt_country AS ref_country \n",
      "FROM esg_no_matching JOIN esg_matching ON esg_no_matching.tgt_company = esg_matching.tgt_company AND esg_no_matching.tgt_country = esg_matching.tgt_country \n",
      "WHERE esg_no_matching.tgt_name = ? AND esg_matching.tgt_name != ?\n",
      "2022-07-14 10:40:13,104 INFO sqlalchemy.engine.Engine [cached since 3.333s ago] ('ds_tgt2', 'ds_tgt2')\n",
      "2022-07-14 10:40:13,107 INFO sqlalchemy.engine.Engine COMMIT\n",
      "2022-07-14 10:40:13,112 INFO sqlalchemy.engine.Engine DELETE FROM esg_no_matching WHERE esg_no_matching.matching_id IN (SELECT esg_no_matching.matching_id \n",
      "FROM esg_no_matching JOIN esg_matching ON esg_no_matching.tgt_company = esg_matching.tgt_company AND esg_no_matching.tgt_country = esg_matching.tgt_country \n",
      "WHERE esg_no_matching.tgt_name = ? AND esg_matching.tgt_name != ?)\n",
      "2022-07-14 10:40:13,115 INFO sqlalchemy.engine.Engine [cached since 3.334s ago] ('ds_tgt2', 'ds_tgt2')\n",
      "2022-07-14 10:40:13,120 INFO sqlalchemy.engine.Engine COMMIT\n"
     ]
    }
   ],
   "source": [
    "# Perform IFM on target 2\n",
    "irm_matcher_obj.set_policy(policy_match_tgt2)\n",
    "irm_matcher_obj.execute_matching()"
   ]
  },
  {
   "cell_type": "markdown",
   "id": "1c632584",
   "metadata": {},
   "source": [
    "## 10. Saving the matching table as .csv file"
   ]
  },
  {
   "cell_type": "code",
   "execution_count": 46,
   "id": "3a76bafd",
   "metadata": {},
   "outputs": [],
   "source": [
    "import pandas as pd"
   ]
  },
  {
   "cell_type": "code",
   "execution_count": 47,
   "id": "1ac23054",
   "metadata": {},
   "outputs": [
    {
     "name": "stdout",
     "output_type": "stream",
     "text": [
      "2022-07-14 10:40:14,887 INFO sqlalchemy.engine.Engine SELECT esg_matching.timestamp, esg_matching.matching_id, esg_matching.ref_name, esg_matching.tgt_name, esg_matching.matching_type, esg_matching.matching_scope, esg_matching.matching_rule, esg_matching.ref_id, esg_matching.ref_company, esg_matching.ref_country, esg_matching.tgt_id, esg_matching.tgt_company, esg_matching.tgt_country, esg_matching.isin, esg_matching.lei, esg_matching.sedol \n",
      "FROM esg_matching\n",
      "2022-07-14 10:40:14,889 INFO sqlalchemy.engine.Engine [generated in 0.00112s] ()\n"
     ]
    }
   ],
   "source": [
    "df_matching = db_matching.get_data_as_df()"
   ]
  },
  {
   "cell_type": "code",
   "execution_count": 48,
   "id": "d1986de3",
   "metadata": {},
   "outputs": [
    {
     "data": {
      "text/html": [
       "<div>\n",
       "<style scoped>\n",
       "    .dataframe tbody tr th:only-of-type {\n",
       "        vertical-align: middle;\n",
       "    }\n",
       "\n",
       "    .dataframe tbody tr th {\n",
       "        vertical-align: top;\n",
       "    }\n",
       "\n",
       "    .dataframe thead th {\n",
       "        text-align: right;\n",
       "    }\n",
       "</style>\n",
       "<table border=\"1\" class=\"dataframe\">\n",
       "  <thead>\n",
       "    <tr style=\"text-align: right;\">\n",
       "      <th></th>\n",
       "      <th>timestamp</th>\n",
       "      <th>matching_id</th>\n",
       "      <th>ref_name</th>\n",
       "      <th>tgt_name</th>\n",
       "      <th>matching_type</th>\n",
       "      <th>matching_scope</th>\n",
       "      <th>matching_rule</th>\n",
       "      <th>ref_id</th>\n",
       "      <th>ref_company</th>\n",
       "      <th>ref_country</th>\n",
       "      <th>tgt_id</th>\n",
       "      <th>tgt_company</th>\n",
       "      <th>tgt_country</th>\n",
       "      <th>isin</th>\n",
       "      <th>lei</th>\n",
       "      <th>sedol</th>\n",
       "    </tr>\n",
       "  </thead>\n",
       "  <tbody>\n",
       "    <tr>\n",
       "      <th>0</th>\n",
       "      <td>2022-07-14 09:40:03</td>\n",
       "      <td>1</td>\n",
       "      <td>ds_ref</td>\n",
       "      <td>ds_tgt1</td>\n",
       "      <td>direct</td>\n",
       "      <td>full</td>\n",
       "      <td>lei</td>\n",
       "      <td>3</td>\n",
       "      <td>STARCOURT MALL SRLS.</td>\n",
       "      <td>it</td>\n",
       "      <td>4</td>\n",
       "      <td>STARCOURT MALL SOCIETÀ A RESPONSABILITÀ LIMITA...</td>\n",
       "      <td>it</td>\n",
       "      <td>None</td>\n",
       "      <td>8156006CE62347C74658</td>\n",
       "      <td>None</td>\n",
       "    </tr>\n",
       "    <tr>\n",
       "      <th>1</th>\n",
       "      <td>2022-07-14 09:40:04</td>\n",
       "      <td>2</td>\n",
       "      <td>ds_ref</td>\n",
       "      <td>ds_tgt2</td>\n",
       "      <td>direct</td>\n",
       "      <td>full</td>\n",
       "      <td>lei</td>\n",
       "      <td>3</td>\n",
       "      <td>STARCOURT MALL SRLS.</td>\n",
       "      <td>it</td>\n",
       "      <td>2</td>\n",
       "      <td>STARCOURT MALL</td>\n",
       "      <td>it</td>\n",
       "      <td>NO0003058109</td>\n",
       "      <td>8156006CE62347C74658</td>\n",
       "      <td>10009110965</td>\n",
       "    </tr>\n",
       "    <tr>\n",
       "      <th>2</th>\n",
       "      <td>2022-07-14 09:40:04</td>\n",
       "      <td>3</td>\n",
       "      <td>ds_ref</td>\n",
       "      <td>ds_tgt2</td>\n",
       "      <td>direct</td>\n",
       "      <td>full</td>\n",
       "      <td>lei</td>\n",
       "      <td>6</td>\n",
       "      <td>INGEN SOCIÉTÉ COOPÉRATIVE DE PRODUCTION</td>\n",
       "      <td>fr</td>\n",
       "      <td>4</td>\n",
       "      <td>INGEN</td>\n",
       "      <td>fr</td>\n",
       "      <td>FR0000072910</td>\n",
       "      <td>9695001UE8RNVNTE9L89</td>\n",
       "      <td>2019952</td>\n",
       "    </tr>\n",
       "    <tr>\n",
       "      <th>3</th>\n",
       "      <td>2022-07-14 09:40:04</td>\n",
       "      <td>4</td>\n",
       "      <td>ds_ref</td>\n",
       "      <td>ds_tgt2</td>\n",
       "      <td>direct</td>\n",
       "      <td>full</td>\n",
       "      <td>lei</td>\n",
       "      <td>4</td>\n",
       "      <td>STERLING COOPER</td>\n",
       "      <td>gb</td>\n",
       "      <td>6</td>\n",
       "      <td>STERLING COOPER</td>\n",
       "      <td>gb</td>\n",
       "      <td>GB00B1YW4409</td>\n",
       "      <td>213800KY4C9WU7WBW518</td>\n",
       "      <td>B1YW440</td>\n",
       "    </tr>\n",
       "    <tr>\n",
       "      <th>4</th>\n",
       "      <td>2022-07-14 09:40:06</td>\n",
       "      <td>5</td>\n",
       "      <td>ds_ref</td>\n",
       "      <td>ds_tgt1</td>\n",
       "      <td>direct</td>\n",
       "      <td>residual</td>\n",
       "      <td>name+country</td>\n",
       "      <td>1</td>\n",
       "      <td>SALLMOOR AGRUPACION DE INTERES ECONOMICO</td>\n",
       "      <td>es</td>\n",
       "      <td>1</td>\n",
       "      <td>SALLMOOR AGRUPACION DE INTERES ECONOMICO</td>\n",
       "      <td>es</td>\n",
       "      <td>SK1120005824</td>\n",
       "      <td>097900BHK10000084115</td>\n",
       "      <td>None</td>\n",
       "    </tr>\n",
       "    <tr>\n",
       "      <th>5</th>\n",
       "      <td>2022-07-14 09:40:06</td>\n",
       "      <td>6</td>\n",
       "      <td>ds_ref</td>\n",
       "      <td>ds_tgt1</td>\n",
       "      <td>direct</td>\n",
       "      <td>residual</td>\n",
       "      <td>name+country</td>\n",
       "      <td>2</td>\n",
       "      <td>HONEYDUKES LIMITED</td>\n",
       "      <td>us</td>\n",
       "      <td>3</td>\n",
       "      <td>HONEYDUKES LIMITED</td>\n",
       "      <td>us</td>\n",
       "      <td>None</td>\n",
       "      <td>254900B1P3S786KDAW57</td>\n",
       "      <td>None</td>\n",
       "    </tr>\n",
       "    <tr>\n",
       "      <th>6</th>\n",
       "      <td>2022-07-14 09:40:07</td>\n",
       "      <td>7</td>\n",
       "      <td>ds_ref</td>\n",
       "      <td>ds_tgt2</td>\n",
       "      <td>direct</td>\n",
       "      <td>residual</td>\n",
       "      <td>name+country</td>\n",
       "      <td>8</td>\n",
       "      <td>SPECTRE EMPRESA INDIVIDUAL DE RESPONSABILIDADE...</td>\n",
       "      <td>br</td>\n",
       "      <td>5</td>\n",
       "      <td>SPECTRE EMPRESA INDIVIDUAL DE RESPONSABILIDADE...</td>\n",
       "      <td>br</td>\n",
       "      <td>BRCIELACNOR3</td>\n",
       "      <td>None</td>\n",
       "      <td>2046853</td>\n",
       "    </tr>\n",
       "    <tr>\n",
       "      <th>7</th>\n",
       "      <td>2022-07-14 09:40:12</td>\n",
       "      <td>8</td>\n",
       "      <td>ds_tgt1</td>\n",
       "      <td>ds_tgt2</td>\n",
       "      <td>indirect</td>\n",
       "      <td>full</td>\n",
       "      <td>lei</td>\n",
       "      <td>1</td>\n",
       "      <td>SALLMOOR AGRUPACION DE INTERES ECONOMICO</td>\n",
       "      <td>es</td>\n",
       "      <td>1</td>\n",
       "      <td>HONEYDUKES LIMITED</td>\n",
       "      <td>None</td>\n",
       "      <td>None</td>\n",
       "      <td>097900BHK10000084115</td>\n",
       "      <td>7108899</td>\n",
       "    </tr>\n",
       "    <tr>\n",
       "      <th>8</th>\n",
       "      <td>2022-07-14 09:40:12</td>\n",
       "      <td>9</td>\n",
       "      <td>ds_tgt1</td>\n",
       "      <td>ds_tgt2</td>\n",
       "      <td>indirect</td>\n",
       "      <td>full</td>\n",
       "      <td>isin</td>\n",
       "      <td>1</td>\n",
       "      <td>SALLMOOR AGRUPACION DE INTERES ECONOMICO</td>\n",
       "      <td>es</td>\n",
       "      <td>7</td>\n",
       "      <td>CENTRAL PERK</td>\n",
       "      <td>sk</td>\n",
       "      <td>SK1120005824</td>\n",
       "      <td>None</td>\n",
       "      <td>B1YW440</td>\n",
       "    </tr>\n",
       "  </tbody>\n",
       "</table>\n",
       "</div>"
      ],
      "text/plain": [
       "            timestamp  matching_id ref_name tgt_name matching_type  \\\n",
       "0 2022-07-14 09:40:03            1   ds_ref  ds_tgt1        direct   \n",
       "1 2022-07-14 09:40:04            2   ds_ref  ds_tgt2        direct   \n",
       "2 2022-07-14 09:40:04            3   ds_ref  ds_tgt2        direct   \n",
       "3 2022-07-14 09:40:04            4   ds_ref  ds_tgt2        direct   \n",
       "4 2022-07-14 09:40:06            5   ds_ref  ds_tgt1        direct   \n",
       "5 2022-07-14 09:40:06            6   ds_ref  ds_tgt1        direct   \n",
       "6 2022-07-14 09:40:07            7   ds_ref  ds_tgt2        direct   \n",
       "7 2022-07-14 09:40:12            8  ds_tgt1  ds_tgt2      indirect   \n",
       "8 2022-07-14 09:40:12            9  ds_tgt1  ds_tgt2      indirect   \n",
       "\n",
       "  matching_scope matching_rule  ref_id  \\\n",
       "0           full           lei       3   \n",
       "1           full           lei       3   \n",
       "2           full           lei       6   \n",
       "3           full           lei       4   \n",
       "4       residual  name+country       1   \n",
       "5       residual  name+country       2   \n",
       "6       residual  name+country       8   \n",
       "7           full           lei       1   \n",
       "8           full          isin       1   \n",
       "\n",
       "                                         ref_company ref_country  tgt_id  \\\n",
       "0                               STARCOURT MALL SRLS.          it       4   \n",
       "1                               STARCOURT MALL SRLS.          it       2   \n",
       "2            INGEN SOCIÉTÉ COOPÉRATIVE DE PRODUCTION          fr       4   \n",
       "3                                    STERLING COOPER          gb       6   \n",
       "4           SALLMOOR AGRUPACION DE INTERES ECONOMICO          es       1   \n",
       "5                                 HONEYDUKES LIMITED          us       3   \n",
       "6  SPECTRE EMPRESA INDIVIDUAL DE RESPONSABILIDADE...          br       5   \n",
       "7           SALLMOOR AGRUPACION DE INTERES ECONOMICO          es       1   \n",
       "8           SALLMOOR AGRUPACION DE INTERES ECONOMICO          es       7   \n",
       "\n",
       "                                         tgt_company tgt_country  \\\n",
       "0  STARCOURT MALL SOCIETÀ A RESPONSABILITÀ LIMITA...          it   \n",
       "1                                     STARCOURT MALL          it   \n",
       "2                                              INGEN          fr   \n",
       "3                                    STERLING COOPER          gb   \n",
       "4           SALLMOOR AGRUPACION DE INTERES ECONOMICO          es   \n",
       "5                                 HONEYDUKES LIMITED          us   \n",
       "6  SPECTRE EMPRESA INDIVIDUAL DE RESPONSABILIDADE...          br   \n",
       "7                                 HONEYDUKES LIMITED        None   \n",
       "8                                       CENTRAL PERK          sk   \n",
       "\n",
       "           isin                   lei        sedol  \n",
       "0          None  8156006CE62347C74658         None  \n",
       "1  NO0003058109  8156006CE62347C74658  10009110965  \n",
       "2  FR0000072910  9695001UE8RNVNTE9L89      2019952  \n",
       "3  GB00B1YW4409  213800KY4C9WU7WBW518      B1YW440  \n",
       "4  SK1120005824  097900BHK10000084115         None  \n",
       "5          None  254900B1P3S786KDAW57         None  \n",
       "6  BRCIELACNOR3                  None      2046853  \n",
       "7          None  097900BHK10000084115      7108899  \n",
       "8  SK1120005824                  None      B1YW440  "
      ]
     },
     "execution_count": 48,
     "metadata": {},
     "output_type": "execute_result"
    }
   ],
   "source": [
    "df_matching"
   ]
  },
  {
   "cell_type": "code",
   "execution_count": 49,
   "id": "1d4d8484",
   "metadata": {},
   "outputs": [],
   "source": [
    "df_matching.to_csv('my_matching.csv', index=False)"
   ]
  },
  {
   "cell_type": "markdown",
   "id": "f79b6cfd",
   "metadata": {},
   "source": [
    "## 11. Close database connection"
   ]
  },
  {
   "cell_type": "code",
   "execution_count": 50,
   "id": "54de4508",
   "metadata": {},
   "outputs": [],
   "source": [
    "db_conn.disconnect()"
   ]
  },
  {
   "cell_type": "code",
   "execution_count": 51,
   "id": "b208b749",
   "metadata": {},
   "outputs": [
    {
     "data": {
      "text/plain": [
       "False"
      ]
     },
     "execution_count": 51,
     "metadata": {},
     "output_type": "execute_result"
    }
   ],
   "source": [
    "db_conn.is_connected()"
   ]
  },
  {
   "cell_type": "code",
   "execution_count": null,
   "id": "85efdd07",
   "metadata": {},
   "outputs": [],
   "source": []
  }
 ],
 "metadata": {
  "kernelspec": {
   "display_name": "Python 3",
   "language": "python",
   "name": "python3"
  },
  "language_info": {
   "codemirror_mode": {
    "name": "ipython",
    "version": 3
   },
   "file_extension": ".py",
   "mimetype": "text/x-python",
   "name": "python",
   "nbconvert_exporter": "python",
   "pygments_lexer": "ipython3",
   "version": "3.9.5"
  }
 },
 "nbformat": 4,
 "nbformat_minor": 5
}
