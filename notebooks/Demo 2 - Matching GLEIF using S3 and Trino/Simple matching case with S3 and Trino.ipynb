{
 "cells": [
  {
   "cell_type": "markdown",
   "id": "ec694baf",
   "metadata": {},
   "source": [
    "# Simple matching case with S3 and Trino"
   ]
  },
  {
   "cell_type": "code",
   "execution_count": null,
   "id": "b4733c92",
   "metadata": {},
   "outputs": [],
   "source": [
    "# Sets up the location of the api relative to this notebook \n",
    "import os\n",
    "import sys\n",
    "sys.path.append('../')"
   ]
  },
  {
   "cell_type": "markdown",
   "id": "21bf0ffd",
   "metadata": {},
   "source": [
    "## 1. Connecting with Trino using Esg-Matching"
   ]
  },
  {
   "cell_type": "code",
   "execution_count": 2,
   "id": "83c122c8",
   "metadata": {},
   "outputs": [],
   "source": [
    "# Import the module for connection to a sqllite database\n",
    "from esg_matching.engine.connectors.trino import TrinoConnector"
   ]
  },
  {
   "cell_type": "code",
   "execution_count": 3,
   "id": "4e637cda",
   "metadata": {},
   "outputs": [],
   "source": [
    "user_trino = os.environ['TRINO_USER']\n",
    "pwd_trino = os.environ['TRINO_PASSWD']\n",
    "host_trino = os.environ['TRINO_HOST']\n",
    "port_trino = int(os.environ['TRINO_PORT'])"
   ]
  },
  {
   "cell_type": "code",
   "execution_count": 4,
   "id": "4624a82e",
   "metadata": {},
   "outputs": [],
   "source": [
    "# The database connector is represented by the class SqlLiteConnector \n",
    "db_conn = TrinoConnector()"
   ]
  },
  {
   "cell_type": "code",
   "execution_count": 5,
   "id": "3026e0cb",
   "metadata": {},
   "outputs": [
    {
     "name": "stdout",
     "output_type": "stream",
     "text": [
      "2022-07-14 11:41:15,866 INFO sqlalchemy.engine.Engine SELECT version()\n",
      "2022-07-14 11:41:15,870 INFO sqlalchemy.engine.Engine [dialect trino+rest does not support caching 0.00414s] ()\n"
     ]
    }
   ],
   "source": [
    "# The connect() method of the SqlLiteConnector is used to stablish a connection with the database if it exists, \n",
    "# or to create a new one. The property path_db defines the location and name of the database.\n",
    "# The  property show_sql_statement indicates if the SQL statements are echoed (or printed) in the default output channel.\n",
    "db_conn.username = user_trino\n",
    "db_conn.user_password = pwd_trino\n",
    "db_conn.host_url = host_trino\n",
    "db_conn.port_number = port_trino\n",
    "db_conn.show_sql_statement = True\n",
    "db_conn.connect()"
   ]
  },
  {
   "cell_type": "code",
   "execution_count": 6,
   "id": "54c67754",
   "metadata": {},
   "outputs": [
    {
     "data": {
      "text/plain": [
       "True"
      ]
     },
     "execution_count": 6,
     "metadata": {},
     "output_type": "execute_result"
    }
   ],
   "source": [
    "# Check if the connection was stablished\n",
    "db_conn.is_connected()"
   ]
  },
  {
   "cell_type": "code",
   "execution_count": 8,
   "id": "e4fe5520",
   "metadata": {},
   "outputs": [
    {
     "name": "stdout",
     "output_type": "stream",
     "text": [
      "2022-07-14 11:42:36,250 INFO sqlalchemy.engine.Engine \n",
      "show schemas in osc_datacommons_iceberg_dev\n",
      "\n",
      "2022-07-14 11:42:36,251 INFO sqlalchemy.engine.Engine [raw sql] ()\n",
      "[('aicoe_osc_demo',), ('company_data',), ('default',), ('defaultschema1',), ('demo',), ('eje_test_iceberg',), ('epa_frs',), ('epa_ghgrp',), ('epacems',), ('epacems_y95_al',), ('esg_matching',), ('essd',), ('ghgrp_demo',), ('gleif',), ('gleif_mdt',), ('iceberg_demo',), ('information_schema',), ('ingest_schema',), ('iso3166',), ('itr_mdt',), ('metastore',), ('metastore_iceberg',), ('osc_corp_data',), ('pcaf_sovereign_footprint',), ('physical_risk_project',), ('pudl',), ('rmi_20210929',), ('rmi_20211120',), ('rmi_20220119',), ('rmi_utility_transition_hub',), ('sec_dera',), ('sfi_geoasset',), ('team1',), ('team2',), ('testaccessschema1',), ('testdb',), ('urgentem',), ('us_census',), ('wri',), ('wri_demo',), ('wri_dev',), ('wri_gppd',), ('wri_gppd_md',), ('wri_new',), ('wri_test',)]\n"
     ]
    }
   ],
   "source": [
    "# Show available schemas to ensure trino connection is set correctly\n",
    "schema_show_sql = f\"\"\"\n",
    "show schemas in osc_datacommons_iceberg_dev\n",
    "\"\"\"\n",
    "schema_show = db_conn.engine.execute(schema_show_sql)\n",
    "print(schema_show.fetchall())"
   ]
  },
  {
   "cell_type": "code",
   "execution_count": null,
   "id": "8bc08f58",
   "metadata": {},
   "outputs": [],
   "source": []
  }
 ],
 "metadata": {
  "kernelspec": {
   "display_name": "Python 3 (ipykernel)",
   "language": "python",
   "name": "python3"
  },
  "language_info": {
   "codemirror_mode": {
    "name": "ipython",
    "version": 3
   },
   "file_extension": ".py",
   "mimetype": "text/x-python",
   "name": "python",
   "nbconvert_exporter": "python",
   "pygments_lexer": "ipython3",
   "version": "3.8.5"
  }
 },
 "nbformat": 4,
 "nbformat_minor": 5
}
