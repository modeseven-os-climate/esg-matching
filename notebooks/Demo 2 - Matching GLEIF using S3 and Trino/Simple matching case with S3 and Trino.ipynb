{
 "cells": [
  {
   "cell_type": "markdown",
   "id": "ec694baf",
   "metadata": {},
   "source": [
    "# Simple matching case with S3 and Trino"
   ]
  },
  {
   "cell_type": "code",
   "execution_count": 1,
   "id": "b4733c92",
   "metadata": {},
   "outputs": [],
   "source": [
    "# Sets up the location of the api relative to this notebook \n",
    "import os\n",
    "import sys\n",
    "sys.path.append('../../')"
   ]
  },
  {
   "cell_type": "markdown",
   "id": "21bf0ffd",
   "metadata": {},
   "source": [
    "## 1. Connecting with Trino using Esg-Matching"
   ]
  },
  {
   "cell_type": "code",
   "execution_count": 2,
   "id": "83c122c8",
   "metadata": {},
   "outputs": [],
   "source": [
    "# Import the module for connection to a sqllite database\n",
    "from esg_matching.engine.connectors.trino import TrinoConnector"
   ]
  },
  {
   "cell_type": "code",
   "execution_count": 3,
   "id": "4e637cda",
   "metadata": {},
   "outputs": [],
   "source": [
    "user_trino = os.environ['TRINO_USER']\n",
    "pwd_trino = os.environ['TRINO_PASSWD']\n",
    "host_trino = os.environ['TRINO_HOST']\n",
    "port_trino = int(os.environ['TRINO_PORT'])"
   ]
  },
  {
   "cell_type": "code",
   "execution_count": 4,
   "id": "4624a82e",
   "metadata": {},
   "outputs": [],
   "source": [
    "# The database connector is represented by the class SqlLiteConnector \n",
    "db_conn = TrinoConnector()"
   ]
  },
  {
   "cell_type": "code",
   "execution_count": 5,
   "id": "3026e0cb",
   "metadata": {},
   "outputs": [
    {
     "name": "stdout",
     "output_type": "stream",
     "text": [
      "2022-07-14 15:04:57,588 INFO sqlalchemy.engine.Engine SELECT version()\n",
      "2022-07-14 15:04:57,593 INFO sqlalchemy.engine.Engine [dialect trino+rest does not support caching 0.00483s] ()\n"
     ]
    }
   ],
   "source": [
    "# The connect() method of the SqlLiteConnector is used to stablish a connection with the database if it exists, \n",
    "# or to create a new one. The property path_db defines the location and name of the database.\n",
    "# The  property show_sql_statement indicates if the SQL statements are echoed (or printed) in the default output channel.\n",
    "db_conn.username = user_trino\n",
    "db_conn.user_password = pwd_trino\n",
    "db_conn.host_url = host_trino\n",
    "db_conn.port_number = port_trino\n",
    "db_conn.catalog = 'osc_datacommons_iceberg_dev'\n",
    "db_conn.show_sql_statement = True\n",
    "db_conn.connect()"
   ]
  },
  {
   "cell_type": "code",
   "execution_count": 6,
   "id": "54c67754",
   "metadata": {},
   "outputs": [
    {
     "data": {
      "text/plain": [
       "True"
      ]
     },
     "execution_count": 6,
     "metadata": {},
     "output_type": "execute_result"
    }
   ],
   "source": [
    "# Check if the connection was stablished\n",
    "db_conn.is_connected()"
   ]
  },
  {
   "cell_type": "code",
   "execution_count": 23,
   "id": "e4fe5520",
   "metadata": {},
   "outputs": [
    {
     "name": "stdout",
     "output_type": "stream",
     "text": [
      "2022-07-16 13:36:13,464 INFO sqlalchemy.engine.Engine \n",
      "show schemas in osc_datacommons_iceberg_dev\n",
      "\n",
      "2022-07-16 13:36:13,465 INFO sqlalchemy.engine.Engine [raw sql] ()\n",
      "[('aicoe_osc_demo',), ('company_data',), ('default',), ('defaultschema1',), ('demo',), ('eje_test_iceberg',), ('epa_frs',), ('epa_ghgrp',), ('epacems',), ('epacems_y95_al',), ('esg_matching',), ('essd',), ('ghgrp_demo',), ('gleif',), ('gleif_mdt',), ('iceberg_demo',), ('information_schema',), ('ingest_schema',), ('iso3166',), ('itr_mdt',), ('metastore',), ('metastore_iceberg',), ('osc_corp_data',), ('pcaf_sovereign_footprint',), ('physical_risk_project',), ('pudl',), ('rmi_20210929',), ('rmi_20211120',), ('rmi_20220119',), ('rmi_utility_transition_hub',), ('sec_dera',), ('sfi_geoasset',), ('team1',), ('team2',), ('testaccessschema1',), ('testdb',), ('urgentem',), ('us_census',), ('wri',), ('wri_demo',), ('wri_dev',), ('wri_gppd',), ('wri_gppd_md',), ('wri_new',), ('wri_test',)]\n"
     ]
    }
   ],
   "source": [
    "# Show available schemas to ensure trino connection is set correctly\n",
    "schema_show_sql = f\"\"\"\n",
    "show schemas in osc_datacommons_iceberg_dev\n",
    "\"\"\"\n",
    "schema_show = db_conn.engine.execute(schema_show_sql)\n",
    "print(schema_show.fetchall())"
   ]
  },
  {
   "cell_type": "code",
   "execution_count": 24,
   "id": "8bc08f58",
   "metadata": {},
   "outputs": [],
   "source": [
    "import sqlalchemy as sa\n",
    "from sqlalchemy import MetaData, Table"
   ]
  },
  {
   "cell_type": "code",
   "execution_count": 25,
   "id": "0c7d6f0e",
   "metadata": {},
   "outputs": [],
   "source": [
    "meta = MetaData(schema=\"esg_matching\")"
   ]
  },
  {
   "cell_type": "code",
   "execution_count": 26,
   "id": "743c5aaf",
   "metadata": {},
   "outputs": [
    {
     "name": "stdout",
     "output_type": "stream",
     "text": [
      "2022-07-16 13:36:19,684 INFO sqlalchemy.engine.Engine SELECT \"table_name\"\n",
      "FROM \"information_schema\".\"tables\"\n",
      "WHERE \"table_schema\" = ?\n",
      "2022-07-16 13:36:19,685 INFO sqlalchemy.engine.Engine [dialect trino+rest does not support caching 0.00162s] ('esg_matching',)\n",
      "2022-07-16 13:36:21,058 INFO sqlalchemy.engine.Engine SELECT \"table_name\"\n",
      "FROM \"information_schema\".\"tables\"\n",
      "WHERE \"table_schema\" = ?\n",
      "  AND \"table_name\" = ?\n",
      "2022-07-16 13:36:21,058 INFO sqlalchemy.engine.Engine [dialect trino+rest does not support caching 0.00085s] ('esg_matching', 'matching')\n",
      "2022-07-16 13:36:22,230 INFO sqlalchemy.engine.Engine SELECT\n",
      "    \"column_name\",\n",
      "    \"data_type\",\n",
      "    \"column_default\",\n",
      "    UPPER(\"is_nullable\") AS \"is_nullable\"\n",
      "FROM \"information_schema\".\"columns\"\n",
      "WHERE \"table_schema\" = ?\n",
      "  AND \"table_name\" = ?\n",
      "ORDER BY \"ordinal_position\" ASC\n",
      "2022-07-16 13:36:22,231 INFO sqlalchemy.engine.Engine [dialect trino+rest does not support caching 0.00088s] ('esg_matching', 'matching')\n",
      "2022-07-16 13:36:23,594 INFO sqlalchemy.engine.Engine SELECT \"table_name\"\n",
      "FROM \"information_schema\".\"tables\"\n",
      "WHERE \"table_schema\" = ?\n",
      "  AND \"table_name\" = ?\n",
      "2022-07-16 13:36:23,595 INFO sqlalchemy.engine.Engine [dialect trino+rest does not support caching 0.00138s] ('esg_matching', 'matching')\n",
      "2022-07-16 13:36:24,767 INFO sqlalchemy.engine.Engine SELECT\n",
      "    \"column_name\",\n",
      "    \"data_type\",\n",
      "    \"column_default\",\n",
      "    UPPER(\"is_nullable\") AS \"is_nullable\"\n",
      "FROM \"information_schema\".\"columns\"\n",
      "WHERE \"table_schema\" = ?\n",
      "  AND \"table_name\" = ?\n",
      "ORDER BY \"ordinal_position\" ASC\n",
      "2022-07-16 13:36:24,768 INFO sqlalchemy.engine.Engine [dialect trino+rest does not support caching 0.00087s] ('esg_matching', 'matching$partitions')\n",
      "2022-07-16 13:36:26,170 INFO sqlalchemy.engine.Engine SELECT \"comment\"\n",
      "FROM \"system\".\"metadata\".\"table_comments\"\n",
      "WHERE \"schema_name\" = ?\n",
      "AND \"table_name\" = ?\n",
      "2022-07-16 13:36:26,171 INFO sqlalchemy.engine.Engine [dialect trino+rest does not support caching 0.00141s] ('esg_matching', 'matching')\n"
     ]
    },
    {
     "name": "stderr",
     "output_type": "stream",
     "text": [
      "C:\\Users\\Patrycia\\AppData\\Local\\Temp\\ipykernel_14120\\2386930757.py:1: SAWarning: index key 'record_count' was not located in columns for table 'matching'\n",
      "  meta.reflect(db_conn.engine)\n",
      "C:\\Users\\Patrycia\\AppData\\Local\\Temp\\ipykernel_14120\\2386930757.py:1: SAWarning: index key 'file_count' was not located in columns for table 'matching'\n",
      "  meta.reflect(db_conn.engine)\n",
      "C:\\Users\\Patrycia\\AppData\\Local\\Temp\\ipykernel_14120\\2386930757.py:1: SAWarning: index key 'total_size' was not located in columns for table 'matching'\n",
      "  meta.reflect(db_conn.engine)\n",
      "C:\\Users\\Patrycia\\AppData\\Local\\Temp\\ipykernel_14120\\2386930757.py:1: SAWarning: index key 'data' was not located in columns for table 'matching'\n",
      "  meta.reflect(db_conn.engine)\n"
     ]
    },
    {
     "name": "stdout",
     "output_type": "stream",
     "text": [
      "2022-07-16 13:36:27,272 INFO sqlalchemy.engine.Engine ROLLBACK\n"
     ]
    }
   ],
   "source": [
    "meta.reflect(db_conn.engine)"
   ]
  },
  {
   "cell_type": "code",
   "execution_count": 27,
   "id": "297f406c",
   "metadata": {},
   "outputs": [
    {
     "data": {
      "text/plain": [
       "sqlalchemy.sql.schema.MetaData"
      ]
     },
     "execution_count": 27,
     "metadata": {},
     "output_type": "execute_result"
    }
   ],
   "source": [
    "type(meta)"
   ]
  },
  {
   "cell_type": "code",
   "execution_count": 28,
   "id": "0c1fda53",
   "metadata": {},
   "outputs": [],
   "source": [
    "table_obj = sa.Table('matching', meta, autoload_with=db_conn.engine)"
   ]
  },
  {
   "cell_type": "code",
   "execution_count": 29,
   "id": "98b2604a",
   "metadata": {},
   "outputs": [],
   "source": [
    "import pandas as pd"
   ]
  },
  {
   "cell_type": "code",
   "execution_count": 30,
   "id": "df1b10e8",
   "metadata": {},
   "outputs": [
    {
     "name": "stdout",
     "output_type": "stream",
     "text": [
      "2022-07-16 13:36:52,919 INFO sqlalchemy.engine.Engine SELECT esg_matching.matching.matching_id, esg_matching.matching.ref_name, esg_matching.matching.tgt_name, esg_matching.matching.matching_type, esg_matching.matching.matching_scope, esg_matching.matching.matching_rule, esg_matching.matching.ref_id, esg_matching.matching.ref_company, esg_matching.matching.ref_country, esg_matching.matching.tgt_id, esg_matching.matching.tgt_company, esg_matching.matching.tgt_country, esg_matching.matching.isin, esg_matching.matching.lei, esg_matching.matching.sedol \n",
      "FROM esg_matching.matching\n",
      "2022-07-16 13:36:52,920 INFO sqlalchemy.engine.Engine [dialect trino+rest does not support caching 0.00131s] ()\n"
     ]
    }
   ],
   "source": [
    "query_table = sa.select([table_obj])\n",
    "df_table = pd.read_sql_query(query_table, db_conn.engine)"
   ]
  },
  {
   "cell_type": "code",
   "execution_count": 31,
   "id": "7c656e4f",
   "metadata": {},
   "outputs": [
    {
     "data": {
      "text/html": [
       "<div>\n",
       "<style scoped>\n",
       "    .dataframe tbody tr th:only-of-type {\n",
       "        vertical-align: middle;\n",
       "    }\n",
       "\n",
       "    .dataframe tbody tr th {\n",
       "        vertical-align: top;\n",
       "    }\n",
       "\n",
       "    .dataframe thead th {\n",
       "        text-align: right;\n",
       "    }\n",
       "</style>\n",
       "<table border=\"1\" class=\"dataframe\">\n",
       "  <thead>\n",
       "    <tr style=\"text-align: right;\">\n",
       "      <th></th>\n",
       "      <th>matching_id</th>\n",
       "      <th>ref_name</th>\n",
       "      <th>tgt_name</th>\n",
       "      <th>matching_type</th>\n",
       "      <th>matching_scope</th>\n",
       "      <th>matching_rule</th>\n",
       "      <th>ref_id</th>\n",
       "      <th>ref_company</th>\n",
       "      <th>ref_country</th>\n",
       "      <th>tgt_id</th>\n",
       "      <th>tgt_company</th>\n",
       "      <th>tgt_country</th>\n",
       "      <th>isin</th>\n",
       "      <th>lei</th>\n",
       "      <th>sedol</th>\n",
       "    </tr>\n",
       "  </thead>\n",
       "  <tbody>\n",
       "    <tr>\n",
       "      <th>0</th>\n",
       "      <td>8</td>\n",
       "      <td>ds_tgt1</td>\n",
       "      <td>ds_tgt2</td>\n",
       "      <td>indirect</td>\n",
       "      <td>full</td>\n",
       "      <td>lei</td>\n",
       "      <td>1</td>\n",
       "      <td>SALLMOOR AGRUPACION DE INTERES ECONOMICO</td>\n",
       "      <td>es</td>\n",
       "      <td>1</td>\n",
       "      <td>HONEYDUKES LIMITED</td>\n",
       "      <td>None</td>\n",
       "      <td>None</td>\n",
       "      <td>097900BHK10000084115</td>\n",
       "      <td>7108899</td>\n",
       "    </tr>\n",
       "    <tr>\n",
       "      <th>1</th>\n",
       "      <td>4</td>\n",
       "      <td>ds_ref</td>\n",
       "      <td>ds_tgt2</td>\n",
       "      <td>direct</td>\n",
       "      <td>full</td>\n",
       "      <td>lei</td>\n",
       "      <td>4</td>\n",
       "      <td>STERLING COOPER</td>\n",
       "      <td>gb</td>\n",
       "      <td>6</td>\n",
       "      <td>STERLING COOPER</td>\n",
       "      <td>gb</td>\n",
       "      <td>GB00B1YW4409</td>\n",
       "      <td>213800KY4C9WU7WBW518</td>\n",
       "      <td>B1YW440</td>\n",
       "    </tr>\n",
       "    <tr>\n",
       "      <th>2</th>\n",
       "      <td>2</td>\n",
       "      <td>ds_ref</td>\n",
       "      <td>ds_tgt2</td>\n",
       "      <td>direct</td>\n",
       "      <td>full</td>\n",
       "      <td>lei</td>\n",
       "      <td>3</td>\n",
       "      <td>STARCOURT MALL SRLS.</td>\n",
       "      <td>it</td>\n",
       "      <td>2</td>\n",
       "      <td>STARCOURT MALL</td>\n",
       "      <td>it</td>\n",
       "      <td>NO0003058109</td>\n",
       "      <td>8156006CE62347C74658</td>\n",
       "      <td>10009110965</td>\n",
       "    </tr>\n",
       "    <tr>\n",
       "      <th>3</th>\n",
       "      <td>5</td>\n",
       "      <td>ds_ref</td>\n",
       "      <td>ds_tgt1</td>\n",
       "      <td>direct</td>\n",
       "      <td>residual</td>\n",
       "      <td>name+country</td>\n",
       "      <td>1</td>\n",
       "      <td>SALLMOOR AGRUPACION DE INTERES ECONOMICO</td>\n",
       "      <td>es</td>\n",
       "      <td>1</td>\n",
       "      <td>SALLMOOR AGRUPACION DE INTERES ECONOMICO</td>\n",
       "      <td>es</td>\n",
       "      <td>SK1120005824</td>\n",
       "      <td>097900BHK10000084115</td>\n",
       "      <td>None</td>\n",
       "    </tr>\n",
       "    <tr>\n",
       "      <th>4</th>\n",
       "      <td>6</td>\n",
       "      <td>ds_ref</td>\n",
       "      <td>ds_tgt1</td>\n",
       "      <td>direct</td>\n",
       "      <td>residual</td>\n",
       "      <td>name+country</td>\n",
       "      <td>2</td>\n",
       "      <td>HONEYDUKES LIMITED</td>\n",
       "      <td>us</td>\n",
       "      <td>3</td>\n",
       "      <td>HONEYDUKES LIMITED</td>\n",
       "      <td>us</td>\n",
       "      <td>None</td>\n",
       "      <td>254900B1P3S786KDAW57</td>\n",
       "      <td>None</td>\n",
       "    </tr>\n",
       "    <tr>\n",
       "      <th>5</th>\n",
       "      <td>9</td>\n",
       "      <td>ds_tgt1</td>\n",
       "      <td>ds_tgt2</td>\n",
       "      <td>indirect</td>\n",
       "      <td>full</td>\n",
       "      <td>isin</td>\n",
       "      <td>1</td>\n",
       "      <td>SALLMOOR AGRUPACION DE INTERES ECONOMICO</td>\n",
       "      <td>es</td>\n",
       "      <td>7</td>\n",
       "      <td>CENTRAL PERK</td>\n",
       "      <td>sk</td>\n",
       "      <td>SK1120005824</td>\n",
       "      <td>None</td>\n",
       "      <td>B1YW440</td>\n",
       "    </tr>\n",
       "    <tr>\n",
       "      <th>6</th>\n",
       "      <td>3</td>\n",
       "      <td>ds_ref</td>\n",
       "      <td>ds_tgt2</td>\n",
       "      <td>direct</td>\n",
       "      <td>full</td>\n",
       "      <td>lei</td>\n",
       "      <td>6</td>\n",
       "      <td>INGEN SOCIÉTÉ COOPÉRATIVE DE PRODUCTION</td>\n",
       "      <td>fr</td>\n",
       "      <td>4</td>\n",
       "      <td>INGEN</td>\n",
       "      <td>fr</td>\n",
       "      <td>FR0000072910</td>\n",
       "      <td>9695001UE8RNVNTE9L89</td>\n",
       "      <td>2019952</td>\n",
       "    </tr>\n",
       "    <tr>\n",
       "      <th>7</th>\n",
       "      <td>7</td>\n",
       "      <td>ds_ref</td>\n",
       "      <td>ds_tgt2</td>\n",
       "      <td>direct</td>\n",
       "      <td>residual</td>\n",
       "      <td>name+country</td>\n",
       "      <td>8</td>\n",
       "      <td>SPECTRE EMPRESA INDIVIDUAL DE RESPONSABILIDADE...</td>\n",
       "      <td>br</td>\n",
       "      <td>5</td>\n",
       "      <td>SPECTRE EMPRESA INDIVIDUAL DE RESPONSABILIDADE...</td>\n",
       "      <td>br</td>\n",
       "      <td>BRCIELACNOR3</td>\n",
       "      <td>None</td>\n",
       "      <td>2046853</td>\n",
       "    </tr>\n",
       "    <tr>\n",
       "      <th>8</th>\n",
       "      <td>1</td>\n",
       "      <td>ds_ref</td>\n",
       "      <td>ds_tgt1</td>\n",
       "      <td>direct</td>\n",
       "      <td>full</td>\n",
       "      <td>lei</td>\n",
       "      <td>3</td>\n",
       "      <td>STARCOURT MALL SRLS.</td>\n",
       "      <td>it</td>\n",
       "      <td>4</td>\n",
       "      <td>STARCOURT MALL SOCIETÀ A RESPONSABILITÀ LIMITA...</td>\n",
       "      <td>it</td>\n",
       "      <td>None</td>\n",
       "      <td>8156006CE62347C74658</td>\n",
       "      <td>None</td>\n",
       "    </tr>\n",
       "  </tbody>\n",
       "</table>\n",
       "</div>"
      ],
      "text/plain": [
       "   matching_id ref_name tgt_name matching_type matching_scope matching_rule  \\\n",
       "0            8  ds_tgt1  ds_tgt2      indirect           full           lei   \n",
       "1            4   ds_ref  ds_tgt2        direct           full           lei   \n",
       "2            2   ds_ref  ds_tgt2        direct           full           lei   \n",
       "3            5   ds_ref  ds_tgt1        direct       residual  name+country   \n",
       "4            6   ds_ref  ds_tgt1        direct       residual  name+country   \n",
       "5            9  ds_tgt1  ds_tgt2      indirect           full          isin   \n",
       "6            3   ds_ref  ds_tgt2        direct           full           lei   \n",
       "7            7   ds_ref  ds_tgt2        direct       residual  name+country   \n",
       "8            1   ds_ref  ds_tgt1        direct           full           lei   \n",
       "\n",
       "   ref_id                                        ref_company ref_country  \\\n",
       "0       1           SALLMOOR AGRUPACION DE INTERES ECONOMICO          es   \n",
       "1       4                                    STERLING COOPER          gb   \n",
       "2       3                               STARCOURT MALL SRLS.          it   \n",
       "3       1           SALLMOOR AGRUPACION DE INTERES ECONOMICO          es   \n",
       "4       2                                 HONEYDUKES LIMITED          us   \n",
       "5       1           SALLMOOR AGRUPACION DE INTERES ECONOMICO          es   \n",
       "6       6            INGEN SOCIÉTÉ COOPÉRATIVE DE PRODUCTION          fr   \n",
       "7       8  SPECTRE EMPRESA INDIVIDUAL DE RESPONSABILIDADE...          br   \n",
       "8       3                               STARCOURT MALL SRLS.          it   \n",
       "\n",
       "   tgt_id                                        tgt_company tgt_country  \\\n",
       "0       1                                 HONEYDUKES LIMITED        None   \n",
       "1       6                                    STERLING COOPER          gb   \n",
       "2       2                                     STARCOURT MALL          it   \n",
       "3       1           SALLMOOR AGRUPACION DE INTERES ECONOMICO          es   \n",
       "4       3                                 HONEYDUKES LIMITED          us   \n",
       "5       7                                       CENTRAL PERK          sk   \n",
       "6       4                                              INGEN          fr   \n",
       "7       5  SPECTRE EMPRESA INDIVIDUAL DE RESPONSABILIDADE...          br   \n",
       "8       4  STARCOURT MALL SOCIETÀ A RESPONSABILITÀ LIMITA...          it   \n",
       "\n",
       "           isin                   lei        sedol  \n",
       "0          None  097900BHK10000084115      7108899  \n",
       "1  GB00B1YW4409  213800KY4C9WU7WBW518      B1YW440  \n",
       "2  NO0003058109  8156006CE62347C74658  10009110965  \n",
       "3  SK1120005824  097900BHK10000084115         None  \n",
       "4          None  254900B1P3S786KDAW57         None  \n",
       "5  SK1120005824                  None      B1YW440  \n",
       "6  FR0000072910  9695001UE8RNVNTE9L89      2019952  \n",
       "7  BRCIELACNOR3                  None      2046853  \n",
       "8          None  8156006CE62347C74658         None  "
      ]
     },
     "execution_count": 31,
     "metadata": {},
     "output_type": "execute_result"
    }
   ],
   "source": [
    "df_table"
   ]
  },
  {
   "cell_type": "code",
   "execution_count": null,
   "id": "fdbd0ca6",
   "metadata": {},
   "outputs": [],
   "source": []
  }
 ],
 "metadata": {
  "kernelspec": {
   "display_name": "Python 3",
   "language": "python",
   "name": "python3"
  },
  "language_info": {
   "codemirror_mode": {
    "name": "ipython",
    "version": 3
   },
   "file_extension": ".py",
   "mimetype": "text/x-python",
   "name": "python",
   "nbconvert_exporter": "python",
   "pygments_lexer": "ipython3",
   "version": "3.9.5"
  }
 },
 "nbformat": 4,
 "nbformat_minor": 5
}
