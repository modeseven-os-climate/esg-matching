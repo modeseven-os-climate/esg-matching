{
 "cells": [
  {
   "cell_type": "markdown",
   "id": "387bfc33",
   "metadata": {},
   "source": [
    "# Simple matching case with S3 and Trino"
   ]
  },
  {
   "cell_type": "code",
   "execution_count": 1,
   "id": "2e91f41a",
   "metadata": {},
   "outputs": [],
   "source": [
    "# Sets up the location of the api relative to this notebook \n",
    "import os\n",
    "import sys\n",
    "sys.path.append('../')"
   ]
  },
  {
   "cell_type": "markdown",
   "id": "a31fb0c3",
   "metadata": {},
   "source": [
    "## 1. Connecting with Trino using Esg-Matching"
   ]
  },
  {
   "cell_type": "code",
   "execution_count": 2,
   "id": "83c122c8",
   "metadata": {},
   "outputs": [
    {
     "ename": "ModuleNotFoundError",
     "evalue": "No module named 'esg_matching'",
     "output_type": "error",
     "traceback": [
      "\u001b[1;31m---------------------------------------------------------------------------\u001b[0m",
      "\u001b[1;31mModuleNotFoundError\u001b[0m                       Traceback (most recent call last)",
      "Input \u001b[1;32mIn [2]\u001b[0m, in \u001b[0;36m<cell line: 2>\u001b[1;34m()\u001b[0m\n\u001b[0;32m      1\u001b[0m \u001b[38;5;66;03m# Import the module for connection to trino database\u001b[39;00m\n\u001b[1;32m----> 2\u001b[0m \u001b[38;5;28;01mfrom\u001b[39;00m \u001b[38;5;21;01mesg_matching\u001b[39;00m\u001b[38;5;21;01m.\u001b[39;00m\u001b[38;5;21;01mengine\u001b[39;00m\u001b[38;5;21;01m.\u001b[39;00m\u001b[38;5;21;01mconnectors\u001b[39;00m\u001b[38;5;21;01m.\u001b[39;00m\u001b[38;5;21;01mtrino\u001b[39;00m \u001b[38;5;28;01mimport\u001b[39;00m TrinoConnector\n",
      "\u001b[1;31mModuleNotFoundError\u001b[0m: No module named 'esg_matching'"
     ]
    }
   ],
   "source": [
    "# Import the module for connection to trino database\n",
    "from esg_matching.engine.connectors.trino import TrinoConnector"
   ]
  },
  {
   "cell_type": "code",
   "execution_count": null,
   "id": "4e637cda",
   "metadata": {},
   "outputs": [],
   "source": [
    "user_trino = os.environ['TRINO_USER']\n",
    "pwd_trino = os.environ['TRINO_PASSWD']\n",
    "host_trino = os.environ['TRINO_HOST']\n",
    "port_trino = int(os.environ['TRINO_PORT'])"
   ]
  },
  {
   "cell_type": "code",
   "execution_count": null,
   "id": "4624a82e",
   "metadata": {},
   "outputs": [],
   "source": [
    "# The database connector is represented by the class SqlLiteConnector \n",
    "db_conn = TrinoConnector()"
   ]
  },
  {
   "cell_type": "code",
   "execution_count": null,
   "id": "3026e0cb",
   "metadata": {},
   "outputs": [],
   "source": [
    "# The connect() method of the SqlLiteConnector is used to stablish a connection with the database if it exists, \n",
    "# or to create a new one. The property path_db defines the location and name of the database.\n",
    "# The  property show_sql_statement indicates if the SQL statements are echoed (or printed) in the default output channel.\n",
    "db_conn.username = user_trino\n",
    "db_conn.user_password = pwd_trino\n",
    "db_conn.host_url = host_trino\n",
    "db_conn.port_number = port_trino\n",
    "db_conn.show_sql_statement = True\n",
    "db_conn.connect()"
   ]
  },
  {
   "cell_type": "code",
   "execution_count": null,
   "id": "54c67754",
   "metadata": {},
   "outputs": [],
   "source": [
    "# Check if the connection was stablished\n",
    "db_conn.is_connected()"
   ]
  },
  {
   "cell_type": "code",
   "execution_count": null,
   "id": "e4fe5520",
   "metadata": {},
   "outputs": [],
   "source": [
    "# Show available schemas to ensure trino connection is set correctly\n",
    "schema_show_sql = f\"\"\"\n",
    "show schemas in osc_datacommons_iceberg_dev\n",
    "\"\"\"\n",
    "schema_show = db_conn.engine.execute(schema_show_sql)\n",
    "print(schema_show.fetchall())"
   ]
  },
  {
   "cell_type": "code",
   "execution_count": null,
   "id": "8bc08f58",
   "metadata": {},
   "outputs": [],
   "source": [
    "import sqlalchemy as sa\n",
    "from sqlalchemy import MetaData, Table"
   ]
  },
  {
   "cell_type": "code",
   "execution_count": null,
   "id": "f20ee613",
   "metadata": {},
   "outputs": [],
   "source": [
    "meta = MetaData(db_conn.engine)"
   ]
  },
  {
   "cell_type": "code",
   "execution_count": null,
   "id": "178a6f01",
   "metadata": {},
   "outputs": [],
   "source": []
  }
 ],
 "metadata": {
  "kernelspec": {
   "display_name": "Python 3 (ipykernel)",
   "language": "python",
   "name": "python3"
  },
  "language_info": {
   "codemirror_mode": {
    "name": "ipython",
    "version": 3
   },
   "file_extension": ".py",
   "mimetype": "text/x-python",
   "name": "python",
   "nbconvert_exporter": "python",
   "pygments_lexer": "ipython3",
   "version": "3.8.5"
  }
 },
 "nbformat": 4,
 "nbformat_minor": 5
}
