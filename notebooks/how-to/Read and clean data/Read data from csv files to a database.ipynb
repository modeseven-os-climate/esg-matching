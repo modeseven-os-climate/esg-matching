{
 "cells": [
  {
   "cell_type": "markdown",
   "id": "70a7e2f0",
   "metadata": {},
   "source": [
    "# How to...read data from csv files to a database"
   ]
  },
  {
   "cell_type": "code",
   "execution_count": 1,
   "id": "f4095a55",
   "metadata": {},
   "outputs": [],
   "source": [
    "# Sets up the location of the api relative to this notebook \n",
    "import sys\n",
    "sys.path.append('../../../')"
   ]
  },
  {
   "cell_type": "code",
   "execution_count": 2,
   "id": "d25887a4",
   "metadata": {},
   "outputs": [],
   "source": [
    "# Import the module for accessing a database\n",
    "from esgmatching.dbmanager.SqlEngine import SqlEngine"
   ]
  },
  {
   "cell_type": "code",
   "execution_count": 3,
   "id": "90a3e395",
   "metadata": {},
   "outputs": [],
   "source": [
    "# Import the module for reading csv files\n",
    "from esgmatching.reader.FileReaderCsvToDB import FileReaderCsvToDB"
   ]
  },
  {
   "cell_type": "markdown",
   "id": "e462c872",
   "metadata": {},
   "source": [
    "## 1. Database setup"
   ]
  },
  {
   "cell_type": "code",
   "execution_count": 4,
   "id": "c5cef12f",
   "metadata": {},
   "outputs": [],
   "source": [
    "# Localization of the database to be created in relation to this jupyter notebook\n",
    "# The database will be created in the /data/dabase folder, under the project main folder (EntityMatching)\n",
    "path_db = '../../../data/database/'"
   ]
  },
  {
   "cell_type": "code",
   "execution_count": 5,
   "id": "81691aff",
   "metadata": {},
   "outputs": [
    {
     "data": {
      "text/plain": [
       "'sqlite:///../../../data/database/entitymatching.db'"
      ]
     },
     "execution_count": 5,
     "metadata": {},
     "output_type": "execute_result"
    }
   ],
   "source": [
    "# String connection used for sqlite. Others databases might require different information.\n",
    "# In this example the connection is a combination of [sqlite statement] + [database path] + [database name]\n",
    "str_connection = 'sqlite:///' + path_db + 'entitymatching.db'\n",
    "str_connection"
   ]
  },
  {
   "cell_type": "code",
   "execution_count": 6,
   "id": "39e00bc9",
   "metadata": {},
   "outputs": [],
   "source": [
    "# The database engine object is created by passing the string connection \n",
    "sqlengine_obj = SqlEngine(str_connection)"
   ]
  },
  {
   "cell_type": "code",
   "execution_count": 7,
   "id": "2405fab6",
   "metadata": {},
   "outputs": [],
   "source": [
    "# The connect() method of the SqlEngine is used to stablish a connection with the database if it exists, \n",
    "# or to create a new one, otherwise. The parameter show_eco is False by default and indicates if the SQL statements \n",
    "# are echoed (or printed) in the default output channel. Therefore, let's set show_echo = True to see the Sql statements. \n",
    "sqlengine_obj.connect(show_echo=True)"
   ]
  },
  {
   "cell_type": "code",
   "execution_count": 8,
   "id": "aeee0eda",
   "metadata": {},
   "outputs": [
    {
     "data": {
      "text/plain": [
       "True"
      ]
     },
     "execution_count": 8,
     "metadata": {},
     "output_type": "execute_result"
    }
   ],
   "source": [
    "# Check if the connection was stablished\n",
    "sqlengine_obj.is_connected()"
   ]
  },
  {
   "cell_type": "markdown",
   "id": "311fc6eb",
   "metadata": {},
   "source": [
    "## 2. FileReader setup"
   ]
  },
  {
   "cell_type": "code",
   "execution_count": 9,
   "id": "699946f1",
   "metadata": {},
   "outputs": [],
   "source": [
    "# Path to the csv files and its mapping files\n",
    "# Localization of the test files\n",
    "path_test = '../../../data/test/'"
   ]
  },
  {
   "cell_type": "code",
   "execution_count": 10,
   "id": "95d68d55",
   "metadata": {},
   "outputs": [
    {
     "data": {
      "text/plain": [
       "'../../../data/test/test_data_source1.csv'"
      ]
     },
     "execution_count": 10,
     "metadata": {},
     "output_type": "execute_result"
    }
   ],
   "source": [
    "# CSV file for Data source 1 \n",
    "file1_path = path_test + 'test_data_source1.csv'\n",
    "file1_path"
   ]
  },
  {
   "cell_type": "code",
   "execution_count": 11,
   "id": "5035b76d",
   "metadata": {},
   "outputs": [
    {
     "data": {
      "text/plain": [
       "'../../../data/test/test_data_source1.json'"
      ]
     },
     "execution_count": 11,
     "metadata": {},
     "output_type": "execute_result"
    }
   ],
   "source": [
    "# Data mapping for Data source 1\n",
    "file1_map = path_test + 'test_data_source1.json'\n",
    "file1_map"
   ]
  },
  {
   "cell_type": "code",
   "execution_count": 12,
   "id": "56b303ff",
   "metadata": {},
   "outputs": [],
   "source": [
    "# Initialize the FileReaderCsvToDB\n",
    "csvreader_obj = FileReaderCsvToDB()  "
   ]
  },
  {
   "cell_type": "markdown",
   "id": "08f82a3d",
   "metadata": {},
   "source": [
    "The database engine object must be set in the FileReader as to provide connectivity with a database.\n",
    "It is important to certify that a connection was established through sqlengine_obj.connect() method.  "
   ]
  },
  {
   "cell_type": "code",
   "execution_count": 13,
   "id": "10f06bca",
   "metadata": {},
   "outputs": [],
   "source": [
    "# Set the database engine into the FileReader. Define use_session=True to indicate that a session object must be used. \n",
    "csvreader_obj.set_database_engine(sqlengine_obj, use_session=True)"
   ]
  },
  {
   "cell_type": "markdown",
   "id": "40f4fe14",
   "metadata": {},
   "source": [
    "## 3. Read a file and load its content to the database"
   ]
  },
  {
   "cell_type": "markdown",
   "id": "fe6ba5e6",
   "metadata": {},
   "source": [
    "The read_file() method reads the csv file passed as parameter when the FileReader was created. This method returns a data source object that can be used latter to query the database or to perfor other tasks, such as matching.\n",
    "The following parameters gives some control of the reading process:\n",
    "- delimiter='\\t': the character used to separate values in the csv file. By default is used the tab character.\n",
    "- chunk_size=1: total number of lines to read and persist to a database table at a time. It can speed up the process when reading long files"
   ]
  },
  {
   "cell_type": "code",
   "execution_count": 14,
   "id": "a1d728c4",
   "metadata": {},
   "outputs": [
    {
     "name": "stdout",
     "output_type": "stream",
     "text": [
      "2021-09-07 19:55:51,267 INFO sqlalchemy.engine.Engine BEGIN (implicit)\n",
      "2021-09-07 19:55:51,270 INFO sqlalchemy.engine.Engine \n",
      "CREATE TABLE data_source_ref (\n",
      "\tidx INTEGER NOT NULL, \n",
      "\tdata_source VARCHAR, \n",
      "\tisin VARCHAR, \n",
      "\tisvalid_isin BOOLEAN, \n",
      "\tcompany_name VARCHAR, \n",
      "\toriginal_company_name VARCHAR, \n",
      "\tcountry VARCHAR, \n",
      "\tcountry_alpha2 VARCHAR, \n",
      "\tcountry_alpha3 VARCHAR, \n",
      "\toriginal_country VARCHAR, \n",
      "\tPRIMARY KEY (idx)\n",
      ")\n",
      "\n",
      "\n",
      "2021-09-07 19:55:51,271 INFO sqlalchemy.engine.Engine [no key 0.00101s] ()\n",
      "2021-09-07 19:55:51,295 INFO sqlalchemy.engine.Engine COMMIT\n",
      "2021-09-07 19:55:51,483 INFO sqlalchemy.engine.Engine BEGIN (implicit)\n",
      "2021-09-07 19:55:51,485 INFO sqlalchemy.engine.Engine INSERT INTO data_source_ref (data_source, isin, isvalid_isin, company_name, original_company_name, country, country_alpha2, country_alpha3, original_country) VALUES (?, ?, ?, ?, ?, ?, ?, ?, ?)\n",
      "2021-09-07 19:55:51,486 INFO sqlalchemy.engine.Engine [no key 0.00094s] ('data_source_ref', 'SK1120005824', 1, 'central perk', 'CENTRAL PERK', 'slovakia', 'sk', 'svk', 'SK')\n",
      "2021-09-07 19:55:51,490 INFO sqlalchemy.engine.Engine INSERT INTO data_source_ref (data_source, isin, isvalid_isin, company_name, original_company_name, country, country_alpha2, country_alpha3, original_country) VALUES (?, NULL, NULL, ?, ?, ?, ?, ?, ?)\n",
      "2021-09-07 19:55:51,491 INFO sqlalchemy.engine.Engine [no key 0.00126s] ('data_source_ref', 'honeydukes', 'HONEYDUKES', 'united states of america', 'us', 'usa', 'UNITED STATES OF AMERICA')\n",
      "2021-09-07 19:55:51,494 INFO sqlalchemy.engine.Engine INSERT INTO data_source_ref (data_source, isin, isvalid_isin, company_name, original_company_name, country, country_alpha2, country_alpha3, original_country) VALUES (?, NULL, NULL, ?, ?, ?, ?, ?, ?)\n",
      "2021-09-07 19:55:51,495 INFO sqlalchemy.engine.Engine [no key 0.00103s] ('data_source_ref', 'starcourt mall', 'STARCOURT MALL', 'austria', 'at', 'aut', 'AUSTRIA')\n",
      "2021-09-07 19:55:51,505 INFO sqlalchemy.engine.Engine INSERT INTO data_source_ref (data_source, isin, isvalid_isin, company_name, original_company_name, country, country_alpha2, country_alpha3, original_country) VALUES (?, ?, ?, ?, ?, ?, ?, ?, ?)\n",
      "2021-09-07 19:55:51,505 INFO sqlalchemy.engine.Engine [no key 0.00092s] ('data_source_ref', 'GB00B1YW4409', 1, 'sterling cooper', 'STERLING COOPER', 'united kingdom of great britain and northern ireland', 'gb', 'gbr', 'GBR')\n",
      "2021-09-07 19:55:51,508 INFO sqlalchemy.engine.Engine INSERT INTO data_source_ref (data_source, isin, isvalid_isin, company_name, original_company_name, country, country_alpha2, country_alpha3, original_country) VALUES (?, ?, ?, ?, ?, ?, ?, ?, ?)\n",
      "2021-09-07 19:55:51,515 INFO sqlalchemy.engine.Engine [no key 0.00714s] ('data_source_ref', 'CH0012221716', 1, 'bluth company', 'Bluth company', 'switzerland', 'ch', 'che', 'CHE')\n",
      "2021-09-07 19:55:51,517 INFO sqlalchemy.engine.Engine INSERT INTO data_source_ref (data_source, isin, isvalid_isin, company_name, original_company_name, country, country_alpha2, country_alpha3, original_country) VALUES (?, ?, ?, ?, ?, ?, ?, ?, ?)\n",
      "2021-09-07 19:55:51,518 INFO sqlalchemy.engine.Engine [no key 0.00111s] ('data_source_ref', 'US0200021014', 1, 'ingen', 'InGen', 'united states of america', 'us', 'usa', 'usa')\n",
      "2021-09-07 19:55:51,521 INFO sqlalchemy.engine.Engine INSERT INTO data_source_ref (data_source, isin, isvalid_isin, company_name, original_company_name, country, country_alpha2, country_alpha3, original_country) VALUES (?, ?, ?, ?, ?, ?, ?, ?, ?)\n",
      "2021-09-07 19:55:51,523 INFO sqlalchemy.engine.Engine [no key 0.00179s] ('data_source_ref', 'US0231351067', 1, 'stark industries', 'Stark Industries', 'united states of america', 'us', 'usa', 'us')\n",
      "2021-09-07 19:55:51,527 INFO sqlalchemy.engine.Engine INSERT INTO data_source_ref (data_source, isin, isvalid_isin, company_name, original_company_name, country, country_alpha2, country_alpha3, original_country) VALUES (?, ?, ?, ?, ?, ?, ?, ?, ?)\n",
      "2021-09-07 19:55:51,528 INFO sqlalchemy.engine.Engine [no key 0.00117s] ('data_source_ref', 'US0126531013', 1, 'spectre', 'SPECTRE', 'united states of america', 'us', 'usa', 'USA')\n",
      "2021-09-07 19:55:51,530 INFO sqlalchemy.engine.Engine COMMIT\n",
      "2021-09-07 19:55:51,550 INFO sqlalchemy.engine.Engine BEGIN (implicit)\n",
      "2021-09-07 19:55:51,555 INFO sqlalchemy.engine.Engine SELECT count(DISTINCT data_source_ref.idx) AS count_1 \n",
      "FROM data_source_ref\n",
      " LIMIT ? OFFSET ?\n",
      "2021-09-07 19:55:51,556 INFO sqlalchemy.engine.Engine [generated in 0.00117s] (1, 0)\n",
      "2021-09-07 19:55:51,559 INFO sqlalchemy.engine.Engine ROLLBACK\n"
     ]
    }
   ],
   "source": [
    "# Read 'test_data_source1.csv'\n",
    "data_source_obj = csvreader_obj.read_file(file1_path, file1_map, delimiter=',')"
   ]
  },
  {
   "cell_type": "markdown",
   "id": "9bb69e66",
   "metadata": {},
   "source": [
    "## 4. Reports"
   ]
  },
  {
   "cell_type": "code",
   "execution_count": 15,
   "id": "1bee080e",
   "metadata": {},
   "outputs": [
    {
     "name": "stdout",
     "output_type": "stream",
     "text": [
      "---------------------------------------- FILE READER REPORT ----------------------------------------\n",
      "Description: Details of the ETL process performed on [data_source_ref] data source.\n",
      "Datetime:2021-09-07 19:55:51\n",
      "----------------------------------------------------------------------------------------------------\n",
      "File Name: ../../../data/test/test_data_source1.csv\n",
      "Columns in File: 3\n",
      "Rows in File: 8\n",
      "Columns Read from File: 3\n",
      "Columns in Database: 10\n",
      "Rows in Database: 8\n"
     ]
    }
   ],
   "source": [
    "# Show the ETL report for the latest file read by the FileReader\n",
    "report_obj = csvreader_obj.report_obj\n",
    "report_obj.print_report()"
   ]
  },
  {
   "cell_type": "markdown",
   "id": "1764caee",
   "metadata": {},
   "source": [
    "## 5. Checking the attribute names of EntityDB"
   ]
  },
  {
   "cell_type": "markdown",
   "id": "43e1a8e8",
   "metadata": {},
   "source": [
    "There are multiple methods to check the column or attribute names of the EntityDB object:\n",
    "1. Use get_original_attribute_names(): to retrieve the original attribute names of the columns in the csv file\n",
    "2. Use get_renamed_attribute_names(): to retrieve the renamed attribute names of the columns in the csv file\n",
    "3. Use get_table_column_names(): to retrieve the equivalent attribute names in the database"
   ]
  },
  {
   "cell_type": "code",
   "execution_count": 16,
   "id": "04315e20",
   "metadata": {},
   "outputs": [
    {
     "data": {
      "text/plain": [
       "['ISIN', 'COMPANY', 'COUNTRY']"
      ]
     },
     "execution_count": 16,
     "metadata": {},
     "output_type": "execute_result"
    }
   ],
   "source": [
    "# Retrieve the original attribute names (read from the csv file)\n",
    "data_source_obj.get_original_attribute_names()"
   ]
  },
  {
   "cell_type": "code",
   "execution_count": 17,
   "id": "d36ef079",
   "metadata": {},
   "outputs": [
    {
     "data": {
      "text/plain": [
       "['isin', 'company_name', 'country']"
      ]
     },
     "execution_count": 17,
     "metadata": {},
     "output_type": "execute_result"
    }
   ],
   "source": [
    "# Retrieve the original attribute names (read from the csv file)\n",
    "data_source_obj.get_renamed_attribute_names()"
   ]
  },
  {
   "cell_type": "code",
   "execution_count": 18,
   "id": "151b51f8",
   "metadata": {},
   "outputs": [
    {
     "data": {
      "text/plain": [
       "['idx',\n",
       " 'data_source',\n",
       " 'isin',\n",
       " 'isvalid_isin',\n",
       " 'company_name',\n",
       " 'original_company_name',\n",
       " 'country',\n",
       " 'country_alpha2',\n",
       " 'country_alpha3',\n",
       " 'original_country']"
      ]
     },
     "execution_count": 18,
     "metadata": {},
     "output_type": "execute_result"
    }
   ],
   "source": [
    "data_source_obj.get_table_column_names()"
   ]
  },
  {
   "cell_type": "markdown",
   "id": "00b55fb5",
   "metadata": {},
   "source": [
    "## 6. Checking the total entries in the EntityDB"
   ]
  },
  {
   "cell_type": "code",
   "execution_count": 19,
   "id": "c1c8ae07",
   "metadata": {},
   "outputs": [
    {
     "name": "stdout",
     "output_type": "stream",
     "text": [
      "2021-09-07 19:55:51,675 INFO sqlalchemy.engine.Engine BEGIN (implicit)\n",
      "2021-09-07 19:55:51,679 INFO sqlalchemy.engine.Engine SELECT count(DISTINCT data_source_ref.idx) AS count_1 \n",
      "FROM data_source_ref\n",
      " LIMIT ? OFFSET ?\n",
      "2021-09-07 19:55:51,680 INFO sqlalchemy.engine.Engine [cached since 0.1252s ago] (1, 0)\n",
      "2021-09-07 19:55:51,684 INFO sqlalchemy.engine.Engine ROLLBACK\n"
     ]
    },
    {
     "data": {
      "text/plain": [
       "8"
      ]
     },
     "execution_count": 19,
     "metadata": {},
     "output_type": "execute_result"
    }
   ],
   "source": [
    "# Total entries using the default index column\n",
    "result = data_source_obj.get_total_entries_by_idx()\n",
    "result"
   ]
  },
  {
   "cell_type": "code",
   "execution_count": 20,
   "id": "bc0f90d6",
   "metadata": {},
   "outputs": [
    {
     "name": "stdout",
     "output_type": "stream",
     "text": [
      "2021-09-07 19:55:51,702 INFO sqlalchemy.engine.Engine BEGIN (implicit)\n",
      "2021-09-07 19:55:51,705 INFO sqlalchemy.engine.Engine SELECT count(DISTINCT data_source_ref.isin) AS count_1 \n",
      "FROM data_source_ref\n",
      " LIMIT ? OFFSET ?\n",
      "2021-09-07 19:55:51,706 INFO sqlalchemy.engine.Engine [generated in 0.00114s] (1, 0)\n",
      "2021-09-07 19:55:51,708 INFO sqlalchemy.engine.Engine ROLLBACK\n"
     ]
    },
    {
     "data": {
      "text/plain": [
       "6"
      ]
     },
     "execution_count": 20,
     "metadata": {},
     "output_type": "execute_result"
    }
   ],
   "source": [
    "# Total entries using other column names\n",
    "# This method can be used to check the non-null columns\n",
    "result = data_source_obj.get_total_entries_by_column_name('isin')\n",
    "result"
   ]
  },
  {
   "cell_type": "markdown",
   "id": "5fddcf52",
   "metadata": {},
   "source": [
    "## 7. Checking the content of the EntityDB"
   ]
  },
  {
   "cell_type": "markdown",
   "id": "d869453d",
   "metadata": {},
   "source": [
    "The get_data() method of the EntityDB object performs a full select in the table, returning a list of tupples. Each item of the list is a row in the table and each element is the value per column."
   ]
  },
  {
   "cell_type": "code",
   "execution_count": 21,
   "id": "71d7f99b",
   "metadata": {},
   "outputs": [
    {
     "name": "stdout",
     "output_type": "stream",
     "text": [
      "2021-09-07 19:55:51,738 INFO sqlalchemy.engine.Engine SELECT data_source_ref.idx, data_source_ref.data_source, data_source_ref.isin, data_source_ref.isvalid_isin, data_source_ref.company_name, data_source_ref.original_company_name, data_source_ref.country, data_source_ref.country_alpha2, data_source_ref.country_alpha3, data_source_ref.original_country \n",
      "FROM data_source_ref\n",
      "2021-09-07 19:55:51,741 INFO sqlalchemy.engine.Engine [generated in 0.00376s] ()\n"
     ]
    },
    {
     "data": {
      "text/plain": [
       "[(1, 'data_source_ref', 'SK1120005824', True, 'central perk', 'CENTRAL PERK', 'slovakia', 'sk', 'svk', 'SK'),\n",
       " (2, 'data_source_ref', None, None, 'honeydukes', 'HONEYDUKES', 'united states of america', 'us', 'usa', 'UNITED STATES OF AMERICA'),\n",
       " (3, 'data_source_ref', None, None, 'starcourt mall', 'STARCOURT MALL', 'austria', 'at', 'aut', 'AUSTRIA'),\n",
       " (4, 'data_source_ref', 'GB00B1YW4409', True, 'sterling cooper', 'STERLING COOPER', 'united kingdom of great britain and northern ireland', 'gb', 'gbr', 'GBR'),\n",
       " (5, 'data_source_ref', 'CH0012221716', True, 'bluth company', 'Bluth company', 'switzerland', 'ch', 'che', 'CHE'),\n",
       " (6, 'data_source_ref', 'US0200021014', True, 'ingen', 'InGen', 'united states of america', 'us', 'usa', 'usa'),\n",
       " (7, 'data_source_ref', 'US0231351067', True, 'stark industries', 'Stark Industries', 'united states of america', 'us', 'usa', 'us'),\n",
       " (8, 'data_source_ref', 'US0126531013', True, 'spectre', 'SPECTRE', 'united states of america', 'us', 'usa', 'USA')]"
      ]
     },
     "execution_count": 21,
     "metadata": {},
     "output_type": "execute_result"
    }
   ],
   "source": [
    "# Query the table \n",
    "lst_result = data_source_obj.get_data()\n",
    "lst_result"
   ]
  },
  {
   "cell_type": "markdown",
   "id": "c6197535",
   "metadata": {},
   "source": [
    "The get_data_as_df() method of the EntityDB also performs a select in the table, but returns a pandas dataframe as result."
   ]
  },
  {
   "cell_type": "code",
   "execution_count": 22,
   "id": "a3e81c7f",
   "metadata": {},
   "outputs": [
    {
     "name": "stdout",
     "output_type": "stream",
     "text": [
      "2021-09-07 19:55:51,767 INFO sqlalchemy.engine.Engine SELECT data_source_ref.idx, data_source_ref.data_source, data_source_ref.isin, data_source_ref.isvalid_isin, data_source_ref.company_name, data_source_ref.original_company_name, data_source_ref.country, data_source_ref.country_alpha2, data_source_ref.country_alpha3, data_source_ref.original_country \n",
      "FROM data_source_ref\n",
      "2021-09-07 19:55:51,768 INFO sqlalchemy.engine.Engine [cached since 0.03049s ago] ()\n"
     ]
    },
    {
     "data": {
      "text/html": [
       "<div>\n",
       "<style scoped>\n",
       "    .dataframe tbody tr th:only-of-type {\n",
       "        vertical-align: middle;\n",
       "    }\n",
       "\n",
       "    .dataframe tbody tr th {\n",
       "        vertical-align: top;\n",
       "    }\n",
       "\n",
       "    .dataframe thead th {\n",
       "        text-align: right;\n",
       "    }\n",
       "</style>\n",
       "<table border=\"1\" class=\"dataframe\">\n",
       "  <thead>\n",
       "    <tr style=\"text-align: right;\">\n",
       "      <th></th>\n",
       "      <th>idx</th>\n",
       "      <th>data_source</th>\n",
       "      <th>isin</th>\n",
       "      <th>isvalid_isin</th>\n",
       "      <th>company_name</th>\n",
       "      <th>original_company_name</th>\n",
       "      <th>country</th>\n",
       "      <th>country_alpha2</th>\n",
       "      <th>country_alpha3</th>\n",
       "      <th>original_country</th>\n",
       "    </tr>\n",
       "  </thead>\n",
       "  <tbody>\n",
       "    <tr>\n",
       "      <th>0</th>\n",
       "      <td>1</td>\n",
       "      <td>data_source_ref</td>\n",
       "      <td>SK1120005824</td>\n",
       "      <td>True</td>\n",
       "      <td>central perk</td>\n",
       "      <td>CENTRAL PERK</td>\n",
       "      <td>slovakia</td>\n",
       "      <td>sk</td>\n",
       "      <td>svk</td>\n",
       "      <td>SK</td>\n",
       "    </tr>\n",
       "    <tr>\n",
       "      <th>1</th>\n",
       "      <td>2</td>\n",
       "      <td>data_source_ref</td>\n",
       "      <td>None</td>\n",
       "      <td>None</td>\n",
       "      <td>honeydukes</td>\n",
       "      <td>HONEYDUKES</td>\n",
       "      <td>united states of america</td>\n",
       "      <td>us</td>\n",
       "      <td>usa</td>\n",
       "      <td>UNITED STATES OF AMERICA</td>\n",
       "    </tr>\n",
       "    <tr>\n",
       "      <th>2</th>\n",
       "      <td>3</td>\n",
       "      <td>data_source_ref</td>\n",
       "      <td>None</td>\n",
       "      <td>None</td>\n",
       "      <td>starcourt mall</td>\n",
       "      <td>STARCOURT MALL</td>\n",
       "      <td>austria</td>\n",
       "      <td>at</td>\n",
       "      <td>aut</td>\n",
       "      <td>AUSTRIA</td>\n",
       "    </tr>\n",
       "    <tr>\n",
       "      <th>3</th>\n",
       "      <td>4</td>\n",
       "      <td>data_source_ref</td>\n",
       "      <td>GB00B1YW4409</td>\n",
       "      <td>True</td>\n",
       "      <td>sterling cooper</td>\n",
       "      <td>STERLING COOPER</td>\n",
       "      <td>united kingdom of great britain and northern i...</td>\n",
       "      <td>gb</td>\n",
       "      <td>gbr</td>\n",
       "      <td>GBR</td>\n",
       "    </tr>\n",
       "    <tr>\n",
       "      <th>4</th>\n",
       "      <td>5</td>\n",
       "      <td>data_source_ref</td>\n",
       "      <td>CH0012221716</td>\n",
       "      <td>True</td>\n",
       "      <td>bluth company</td>\n",
       "      <td>Bluth company</td>\n",
       "      <td>switzerland</td>\n",
       "      <td>ch</td>\n",
       "      <td>che</td>\n",
       "      <td>CHE</td>\n",
       "    </tr>\n",
       "    <tr>\n",
       "      <th>5</th>\n",
       "      <td>6</td>\n",
       "      <td>data_source_ref</td>\n",
       "      <td>US0200021014</td>\n",
       "      <td>True</td>\n",
       "      <td>ingen</td>\n",
       "      <td>InGen</td>\n",
       "      <td>united states of america</td>\n",
       "      <td>us</td>\n",
       "      <td>usa</td>\n",
       "      <td>usa</td>\n",
       "    </tr>\n",
       "    <tr>\n",
       "      <th>6</th>\n",
       "      <td>7</td>\n",
       "      <td>data_source_ref</td>\n",
       "      <td>US0231351067</td>\n",
       "      <td>True</td>\n",
       "      <td>stark industries</td>\n",
       "      <td>Stark Industries</td>\n",
       "      <td>united states of america</td>\n",
       "      <td>us</td>\n",
       "      <td>usa</td>\n",
       "      <td>us</td>\n",
       "    </tr>\n",
       "    <tr>\n",
       "      <th>7</th>\n",
       "      <td>8</td>\n",
       "      <td>data_source_ref</td>\n",
       "      <td>US0126531013</td>\n",
       "      <td>True</td>\n",
       "      <td>spectre</td>\n",
       "      <td>SPECTRE</td>\n",
       "      <td>united states of america</td>\n",
       "      <td>us</td>\n",
       "      <td>usa</td>\n",
       "      <td>USA</td>\n",
       "    </tr>\n",
       "  </tbody>\n",
       "</table>\n",
       "</div>"
      ],
      "text/plain": [
       "   idx      data_source          isin isvalid_isin      company_name  \\\n",
       "0    1  data_source_ref  SK1120005824         True      central perk   \n",
       "1    2  data_source_ref          None         None        honeydukes   \n",
       "2    3  data_source_ref          None         None    starcourt mall   \n",
       "3    4  data_source_ref  GB00B1YW4409         True   sterling cooper   \n",
       "4    5  data_source_ref  CH0012221716         True     bluth company   \n",
       "5    6  data_source_ref  US0200021014         True             ingen   \n",
       "6    7  data_source_ref  US0231351067         True  stark industries   \n",
       "7    8  data_source_ref  US0126531013         True           spectre   \n",
       "\n",
       "  original_company_name                                            country  \\\n",
       "0          CENTRAL PERK                                           slovakia   \n",
       "1            HONEYDUKES                           united states of america   \n",
       "2        STARCOURT MALL                                            austria   \n",
       "3       STERLING COOPER  united kingdom of great britain and northern i...   \n",
       "4         Bluth company                                        switzerland   \n",
       "5                 InGen                           united states of america   \n",
       "6      Stark Industries                           united states of america   \n",
       "7               SPECTRE                           united states of america   \n",
       "\n",
       "  country_alpha2 country_alpha3          original_country  \n",
       "0             sk            svk                        SK  \n",
       "1             us            usa  UNITED STATES OF AMERICA  \n",
       "2             at            aut                   AUSTRIA  \n",
       "3             gb            gbr                       GBR  \n",
       "4             ch            che                       CHE  \n",
       "5             us            usa                       usa  \n",
       "6             us            usa                        us  \n",
       "7             us            usa                       USA  "
      ]
     },
     "execution_count": 22,
     "metadata": {},
     "output_type": "execute_result"
    }
   ],
   "source": [
    "# Query the table\n",
    "df_result = data_source_obj.get_data_as_df()\n",
    "df_result"
   ]
  },
  {
   "cell_type": "markdown",
   "id": "86eb1a59",
   "metadata": {},
   "source": [
    "## 8. Drop the table"
   ]
  },
  {
   "cell_type": "code",
   "execution_count": 23,
   "id": "94175912",
   "metadata": {},
   "outputs": [
    {
     "name": "stdout",
     "output_type": "stream",
     "text": [
      "2021-09-07 19:55:51,820 INFO sqlalchemy.engine.Engine BEGIN (implicit)\n",
      "2021-09-07 19:55:51,822 INFO sqlalchemy.engine.Engine \n",
      "DROP TABLE data_source_ref\n",
      "2021-09-07 19:55:51,824 INFO sqlalchemy.engine.Engine [no key 0.00142s] ()\n",
      "2021-09-07 19:55:51,852 INFO sqlalchemy.engine.Engine COMMIT\n"
     ]
    }
   ],
   "source": [
    "sqlengine_obj.drop_table(data_source_obj.table_obj)"
   ]
  },
  {
   "cell_type": "markdown",
   "id": "4e3479ca",
   "metadata": {},
   "source": [
    "## 9. Close database connection"
   ]
  },
  {
   "cell_type": "code",
   "execution_count": 24,
   "id": "65fd6d82",
   "metadata": {},
   "outputs": [],
   "source": [
    "sqlengine_obj.disconnect()"
   ]
  },
  {
   "cell_type": "code",
   "execution_count": null,
   "id": "9dde2038",
   "metadata": {},
   "outputs": [],
   "source": []
  }
 ],
 "metadata": {
  "kernelspec": {
   "display_name": "Python 3",
   "language": "python",
   "name": "python3"
  },
  "language_info": {
   "codemirror_mode": {
    "name": "ipython",
    "version": 3
   },
   "file_extension": ".py",
   "mimetype": "text/x-python",
   "name": "python",
   "nbconvert_exporter": "python",
   "pygments_lexer": "ipython3",
   "version": "3.9.5"
  }
 },
 "nbformat": 4,
 "nbformat_minor": 5
}
