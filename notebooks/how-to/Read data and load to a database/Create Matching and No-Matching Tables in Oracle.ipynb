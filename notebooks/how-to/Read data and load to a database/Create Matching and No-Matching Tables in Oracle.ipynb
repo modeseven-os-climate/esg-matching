{
 "cells": [
  {
   "cell_type": "markdown",
   "id": "1953d503",
   "metadata": {},
   "source": [
    "# How to...create Matching and No-Matching Tables in Oracle database"
   ]
  },
  {
   "cell_type": "code",
   "execution_count": 1,
   "id": "5695dc98",
   "metadata": {},
   "outputs": [],
   "source": [
    "# Sets up the location of the api relative to this notebook \n",
    "import sys\n",
    "sys.path.append('../../../')"
   ]
  },
  {
   "cell_type": "code",
   "execution_count": 2,
   "id": "ea12b3e5",
   "metadata": {},
   "outputs": [],
   "source": [
    "# Import the module for connection to a sqllite database\n",
    "from esgmatching.db_engine.engines.connector_oracle import OracleConnector"
   ]
  },
  {
   "cell_type": "code",
   "execution_count": 3,
   "id": "f914e8f7",
   "metadata": {},
   "outputs": [],
   "source": [
    "# Import the modules for file management\n",
    "from esgmatching.file_reader.file import File\n",
    "from esgmatching.file_reader.file_reader_csv import FileReaderCsv"
   ]
  },
  {
   "cell_type": "code",
   "execution_count": 4,
   "id": "7f3a87aa",
   "metadata": {},
   "outputs": [],
   "source": [
    "# Import the modules for the etl processing: reading, transformation and loading data to a database\n",
    "from esgmatching.processing.etl_processing import EtlProcessing"
   ]
  },
  {
   "cell_type": "markdown",
   "id": "06d026cb",
   "metadata": {},
   "source": [
    "## 1. Database setup"
   ]
  },
  {
   "cell_type": "code",
   "execution_count": 5,
   "id": "64fee95c",
   "metadata": {},
   "outputs": [],
   "source": [
    "# The database connector is represented by the class OracleConnector \n",
    "db_conn = OracleConnector()"
   ]
  },
  {
   "cell_type": "code",
   "execution_count": 6,
   "id": "1f127f58",
   "metadata": {},
   "outputs": [],
   "source": [
    "# Setting upt the properties\n",
    "db_conn.client_driver_dir ='C:\\oracle\\instantclient_21_3'\n",
    "db_conn.username ='admin'\n",
    "db_conn.user_password ='oraclebnp'\n",
    "db_conn.host_url ='esgmatching.ctqjxnfdw57h.eu-central-1.rds.amazonaws.com'\n",
    "db_conn.port_number ='1521'\n",
    "db_conn.service_name ='DATABASE'\n",
    "db_conn.show_sql_statement = True"
   ]
  },
  {
   "cell_type": "code",
   "execution_count": 7,
   "id": "bcff5305",
   "metadata": {},
   "outputs": [],
   "source": [
    "# The connect() method of the OracleConnector is used to stablish a connection with the database. \n",
    "db_conn.connect()"
   ]
  },
  {
   "cell_type": "code",
   "execution_count": 8,
   "id": "d5b3662b",
   "metadata": {},
   "outputs": [
    {
     "data": {
      "text/plain": [
       "True"
      ]
     },
     "execution_count": 8,
     "metadata": {},
     "output_type": "execute_result"
    }
   ],
   "source": [
    "# Check if the connection was stablished\n",
    "db_conn.is_connected()"
   ]
  },
  {
   "cell_type": "markdown",
   "id": "356694b0",
   "metadata": {},
   "source": [
    "## 2. File setup"
   ]
  },
  {
   "cell_type": "code",
   "execution_count": 9,
   "id": "ca5608c6",
   "metadata": {},
   "outputs": [
    {
     "data": {
      "text/plain": [
       "'../../../tests/data/oracle/test_matching_oracle.json'"
      ]
     },
     "execution_count": 9,
     "metadata": {},
     "output_type": "execute_result"
    }
   ],
   "source": [
    "# Settings for Macthing Table\n",
    "match_settings = '../../../tests/data/oracle/test_matching_oracle.json'\n",
    "match_settings"
   ]
  },
  {
   "cell_type": "code",
   "execution_count": 10,
   "id": "62ebf0dd",
   "metadata": {},
   "outputs": [
    {
     "data": {
      "text/plain": [
       "'../../../tests/data/oracle/test_no_matching_oracle.json'"
      ]
     },
     "execution_count": 10,
     "metadata": {},
     "output_type": "execute_result"
    }
   ],
   "source": [
    "# Settings for No-Macthing Table\n",
    "no_match_settings = '../../../tests/data/oracle/test_no_matching_oracle.json'\n",
    "no_match_settings"
   ]
  },
  {
   "cell_type": "code",
   "execution_count": 11,
   "id": "818d6645",
   "metadata": {},
   "outputs": [],
   "source": [
    "# Create a file object\n",
    "file_match = File(match_settings)\n",
    "file_no_match = File(no_match_settings)"
   ]
  },
  {
   "cell_type": "code",
   "execution_count": 12,
   "id": "4ec637ed",
   "metadata": {},
   "outputs": [],
   "source": [
    "# Create an ETL process object\n",
    "etl_proc_obj = EtlProcessing(db_conn)"
   ]
  },
  {
   "cell_type": "markdown",
   "id": "b8636387",
   "metadata": {},
   "source": [
    "## 3. Create Matching from file settings"
   ]
  },
  {
   "cell_type": "code",
   "execution_count": 13,
   "id": "c9e8980a",
   "metadata": {},
   "outputs": [
    {
     "name": "stdout",
     "output_type": "stream",
     "text": [
      "2022-01-26 11:57:05,546 INFO sqlalchemy.engine.Engine select sys_context( 'userenv', 'current_schema' ) from dual\n",
      "2022-01-26 11:57:05,553 INFO sqlalchemy.engine.Engine [raw sql] {}\n",
      "2022-01-26 11:57:05,678 INFO sqlalchemy.engine.Engine SELECT value FROM v$parameter WHERE name = 'compatible'\n",
      "2022-01-26 11:57:05,680 INFO sqlalchemy.engine.Engine [raw sql] {}\n",
      "2022-01-26 11:57:05,725 INFO sqlalchemy.engine.Engine select value from nls_session_parameters where parameter = 'NLS_NUMERIC_CHARACTERS'\n",
      "2022-01-26 11:57:05,727 INFO sqlalchemy.engine.Engine [raw sql] {}\n",
      "2022-01-26 11:57:05,846 INFO sqlalchemy.engine.Engine SELECT table_name FROM all_tables WHERE table_name = :name AND owner = :schema_name\n",
      "2022-01-26 11:57:05,847 INFO sqlalchemy.engine.Engine [generated in 0.00203s] {'name': 'ESG_MATCHING', 'schema_name': 'ADMIN'}\n",
      "2022-01-26 11:57:05,931 INFO sqlalchemy.engine.Engine BEGIN (implicit)\n",
      "2022-01-26 11:57:05,932 INFO sqlalchemy.engine.Engine \n",
      "CREATE TABLE \"ESG_MATCHING\" (\n",
      "\t\"TIMESTAMP\" TIMESTAMP DEFAULT CURRENT_TIMESTAMP, \n",
      "\t\"REF-NAME\" VARCHAR2(255 CHAR), \n",
      "\t\"TGT_NAME\" VARCHAR2(20 CHAR), \n",
      "\t\"MATCHING_TYPE\" VARCHAR2(20 CHAR), \n",
      "\t\"MATCHING_SCOPE\" VARCHAR2(20 CHAR), \n",
      "\t\"MATCHING_RULE\" VARCHAR2(20 CHAR), \n",
      "\t\"REF_ID\" VARCHAR2(255 CHAR), \n",
      "\t\"REF_COMPANY\" VARCHAR2(255 CHAR), \n",
      "\t\"REF_COUNTRY\" VARCHAR2(255 CHAR), \n",
      "\t\"TGT_ID\" VARCHAR2(255 CHAR), \n",
      "\t\"TGT_COMPANY\" VARCHAR2(255 CHAR), \n",
      "\t\"TGT_COUNTRY\" VARCHAR2(255 CHAR), \n",
      "\t\"ISIN\" VARCHAR2(12 CHAR), \n",
      "\t\"LEI\" VARCHAR2(20 CHAR), \n",
      "\t\"SEDOL\" VARCHAR2(20 CHAR)\n",
      ")\n",
      "\n",
      "\n",
      "2022-01-26 11:57:05,933 INFO sqlalchemy.engine.Engine [no key 0.00095s] {}\n",
      "2022-01-26 11:57:05,987 INFO sqlalchemy.engine.Engine COMMIT\n"
     ]
    }
   ],
   "source": [
    "# Call the create_data_source_from_settings() method by passing the File\n",
    "db_matching = etl_proc_obj.create_data_source(file_match)"
   ]
  },
  {
   "cell_type": "code",
   "execution_count": 14,
   "id": "dfd9c49f",
   "metadata": {},
   "outputs": [
    {
     "data": {
      "text/plain": [
       "['TIMESTAMP',\n",
       " 'REF-NAME',\n",
       " 'TGT_NAME',\n",
       " 'MATCHING_TYPE',\n",
       " 'MATCHING_SCOPE',\n",
       " 'MATCHING_RULE',\n",
       " 'REF_ID',\n",
       " 'REF_COMPANY',\n",
       " 'REF_COUNTRY',\n",
       " 'TGT_ID',\n",
       " 'TGT_COMPANY',\n",
       " 'TGT_COUNTRY',\n",
       " 'ISIN',\n",
       " 'LEI',\n",
       " 'SEDOL']"
      ]
     },
     "execution_count": 14,
     "metadata": {},
     "output_type": "execute_result"
    }
   ],
   "source": [
    "# Retrieve the attribute names of the database table\n",
    "db_matching.get_attribute_names()"
   ]
  },
  {
   "cell_type": "markdown",
   "id": "fd75b4f9",
   "metadata": {},
   "source": [
    "## 4. Create No-Matching from file settings"
   ]
  },
  {
   "cell_type": "code",
   "execution_count": 15,
   "id": "34737aeb",
   "metadata": {},
   "outputs": [
    {
     "name": "stdout",
     "output_type": "stream",
     "text": [
      "2022-01-26 11:57:14,263 INFO sqlalchemy.engine.Engine SELECT table_name FROM all_tables WHERE table_name = :name AND owner = :schema_name\n",
      "2022-01-26 11:57:14,265 INFO sqlalchemy.engine.Engine [cached since 8.42s ago] {'name': 'ESG_NO_MATCHING', 'schema_name': 'ADMIN'}\n",
      "2022-01-26 11:57:14,511 INFO sqlalchemy.engine.Engine BEGIN (implicit)\n",
      "2022-01-26 11:57:14,513 INFO sqlalchemy.engine.Engine \n",
      "CREATE TABLE \"ESG_NO_MATCHING\" (\n",
      "\t\"TIMESTAMP\" TIMESTAMP DEFAULT CURRENT_TIMESTAMP, \n",
      "\t\"TGT_NAME\" VARCHAR2(20 CHAR), \n",
      "\t\"TGT_ID\" VARCHAR2(255 CHAR), \n",
      "\t\"TGT_COMPANY\" VARCHAR2(255 CHAR), \n",
      "\t\"TGT_COUNTRY\" VARCHAR2(255 CHAR), \n",
      "\t\"ISIN\" VARCHAR2(12 CHAR), \n",
      "\t\"LEI\" VARCHAR2(20 CHAR), \n",
      "\t\"SEDOL\" VARCHAR2(20 CHAR)\n",
      ")\n",
      "\n",
      "\n",
      "2022-01-26 11:57:14,516 INFO sqlalchemy.engine.Engine [no key 0.00236s] {}\n",
      "2022-01-26 11:57:14,561 INFO sqlalchemy.engine.Engine COMMIT\n"
     ]
    }
   ],
   "source": [
    "# Call the create_data_source_from_settings() method by passing the File\n",
    "db_no_matching = etl_proc_obj.create_data_source(file_no_match)"
   ]
  },
  {
   "cell_type": "code",
   "execution_count": 16,
   "id": "cf1a32eb",
   "metadata": {},
   "outputs": [
    {
     "data": {
      "text/plain": [
       "['TIMESTAMP',\n",
       " 'TGT_NAME',\n",
       " 'TGT_ID',\n",
       " 'TGT_COMPANY',\n",
       " 'TGT_COUNTRY',\n",
       " 'ISIN',\n",
       " 'LEI',\n",
       " 'SEDOL']"
      ]
     },
     "execution_count": 16,
     "metadata": {},
     "output_type": "execute_result"
    }
   ],
   "source": [
    "# Retrieve the attribute names of the database table\n",
    "db_no_matching.get_attribute_names()"
   ]
  },
  {
   "cell_type": "code",
   "execution_count": null,
   "id": "3d6d869d",
   "metadata": {},
   "outputs": [],
   "source": []
  }
 ],
 "metadata": {
  "kernelspec": {
   "display_name": "Python 3",
   "language": "python",
   "name": "python3"
  },
  "language_info": {
   "codemirror_mode": {
    "name": "ipython",
    "version": 3
   },
   "file_extension": ".py",
   "mimetype": "text/x-python",
   "name": "python",
   "nbconvert_exporter": "python",
   "pygments_lexer": "ipython3",
   "version": "3.9.5"
  }
 },
 "nbformat": 4,
 "nbformat_minor": 5
}
