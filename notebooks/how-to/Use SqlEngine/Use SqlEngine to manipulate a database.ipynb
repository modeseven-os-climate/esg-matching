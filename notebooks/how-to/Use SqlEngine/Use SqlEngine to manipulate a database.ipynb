{
 "cells": [
  {
   "cell_type": "markdown",
   "id": "7b6cdab7",
   "metadata": {},
   "source": [
    "# How to...use SqlEngine to manipulate data into and from a database"
   ]
  },
  {
   "cell_type": "markdown",
   "id": "d8a9db06",
   "metadata": {},
   "source": [
    "This notebook shows how to use the entitymatching api to manipulate data into and from a local database. The API has the capability to create a database in a local folder, create tables and execute all the basic SQL operations (insert, delete, update and select)."
   ]
  },
  {
   "cell_type": "code",
   "execution_count": null,
   "id": "8384beb8",
   "metadata": {},
   "outputs": [],
   "source": [
    "# Sets up the location of the api relative to this notebook \n",
    "import sys\n",
    "sys.path.append('../../../')"
   ]
  },
  {
   "cell_type": "code",
   "execution_count": null,
   "id": "2211e002",
   "metadata": {},
   "outputs": [],
   "source": [
    "# Import the module for accessing a database\n",
    "from entitymatching.dbmanager import SqlEngine as DbEngine"
   ]
  },
  {
   "cell_type": "markdown",
   "id": "7b241099",
   "metadata": {},
   "source": [
    "## 1. Connect to a database"
   ]
  },
  {
   "cell_type": "markdown",
   "id": "12b4948a",
   "metadata": {},
   "source": [
    "The string connection below creates a local database based on sqlite, that must be installed in the user's computer. Check the link https://www.tutorialspoint.com/sqlite/sqlite_installation.htm for more information on how to install and use sqlite. "
   ]
  },
  {
   "cell_type": "code",
   "execution_count": null,
   "id": "1f6861b6",
   "metadata": {},
   "outputs": [],
   "source": [
    "# Localization of the database to be created in relation to this jupyter notebook\n",
    "# The database will be created in the /data/dabase folder, under the project main folder (EntityMatching)\n",
    "path_db = '../../../data/database/'"
   ]
  },
  {
   "cell_type": "code",
   "execution_count": null,
   "id": "1fb34c2a",
   "metadata": {},
   "outputs": [],
   "source": [
    "# String connection used for sqlite. Others databases might require different information.\n",
    "# In this example the connection is a combination of [sqlite statement] + [database path] + [database name]\n",
    "str_connection = 'sqlite:///' + path_db + 'entitymatching.db'\n",
    "str_connection"
   ]
  },
  {
   "cell_type": "code",
   "execution_count": null,
   "id": "a778dfe6",
   "metadata": {},
   "outputs": [],
   "source": [
    "# The database engine object is created by passing the string connection \n",
    "sqlengine_obj = DbEngine.SqlEngine(str_connection)"
   ]
  },
  {
   "cell_type": "code",
   "execution_count": null,
   "id": "3ed5c1f5",
   "metadata": {},
   "outputs": [],
   "source": [
    "# The connect() method of the SqlEngine is used to stablish a connection with the database if it exists, \n",
    "# or to create a new one, otherwise. The parameter show_eco is False by default and indicates if the SQL statements \n",
    "# are echoed (or printed) in the default output channel. Therefore, let's set show_echo = True to see the Sql statements. \n",
    "sqlengine_obj.connect(show_echo=True)"
   ]
  },
  {
   "cell_type": "code",
   "execution_count": null,
   "id": "5c1917fe",
   "metadata": {},
   "outputs": [],
   "source": [
    "# Check if the connection was stablished\n",
    "sqlengine_obj.is_connected()"
   ]
  },
  {
   "cell_type": "markdown",
   "id": "88fd05a7",
   "metadata": {},
   "source": [
    "## 2. Create a table"
   ]
  },
  {
   "cell_type": "code",
   "execution_count": null,
   "id": "35f4c689",
   "metadata": {},
   "outputs": [],
   "source": [
    "# Prepare to create a table\n",
    "table1_name = 'table1'\n",
    "columns_names = ['isin', 'lei', 'company_name']"
   ]
  },
  {
   "cell_type": "code",
   "execution_count": null,
   "id": "b059f590",
   "metadata": {},
   "outputs": [],
   "source": [
    "# The create_table method requires a name for table and a list with all column names and returns a table object. \n",
    "# The parameter add_idx creates an autoincrement column that will be the table's primary key.\n",
    "table1_obj = sqlengine_obj.create_table(table1_name, columns_names, add_idx=True)"
   ]
  },
  {
   "cell_type": "code",
   "execution_count": null,
   "id": "74076c0a",
   "metadata": {},
   "outputs": [],
   "source": [
    "# Check if the table was created successfully\n",
    "is_table_created = sqlengine_obj.table_exists(table1_name)\n",
    "is_table_created"
   ]
  },
  {
   "cell_type": "code",
   "execution_count": null,
   "id": "3981609a",
   "metadata": {},
   "outputs": [],
   "source": [
    "# Check the type of table object\n",
    "type(table1_obj)"
   ]
  },
  {
   "cell_type": "markdown",
   "id": "89c415b1",
   "metadata": {},
   "source": [
    "## 3. Insert data in a table"
   ]
  },
  {
   "cell_type": "code",
   "execution_count": null,
   "id": "d5d2ac73",
   "metadata": {},
   "outputs": [],
   "source": [
    "# The data to be inserted is a dictionary in which the key is the column name and the value is its content.\n",
    "data = {\"isin\": \"SK1120005824\", \"lei\": \"097900BHK10000084115\", \"company_name\": \"CENTRAL PERK\"}"
   ]
  },
  {
   "cell_type": "code",
   "execution_count": null,
   "id": "28e73621",
   "metadata": {},
   "outputs": [],
   "source": [
    "# The insert_row() method adds the content to the table\n",
    "sqlengine_obj.insert_row(table1_obj, data)"
   ]
  },
  {
   "cell_type": "code",
   "execution_count": null,
   "id": "634db6c5",
   "metadata": {},
   "outputs": [],
   "source": [
    "# It is possible to query the table and check the values in it\n",
    "result = sqlengine_obj.query_table(table1_obj)\n",
    "result"
   ]
  },
  {
   "cell_type": "code",
   "execution_count": null,
   "id": "49a50473",
   "metadata": {},
   "outputs": [],
   "source": [
    "# The result of the query is a list of tupples. Therefore, recovering the values individually is an easy task\n",
    "print('isin: {}'.format(result[0][1]))\n",
    "print('lei: {}'.format(result[0][2]))\n",
    "print('company_name: {}'.format(result[0][3]))"
   ]
  },
  {
   "cell_type": "markdown",
   "id": "024a47d2",
   "metadata": {},
   "source": [
    "## 4. Insert multiple rows in a table"
   ]
  },
  {
   "cell_type": "code",
   "execution_count": null,
   "id": "1020cdcf",
   "metadata": {},
   "outputs": [],
   "source": [
    "# To insert multiple rows, just add multiple dictionary of rows in a list and pass the list to the insert method \n",
    "data = []\n",
    "data.append({\"isin\": \"DE0005545503\", \"lei\": \"5299003VKVDCUPSS5X23\", \"company_name\": \"DUNDER MIFFLIN\"})\n",
    "data.append({\"isin\": \"GB00B1YW4409\", \"lei\": \"254900B1P3S786KDAW57\", \"company_name\": \"HONEYDUKES\"})\n",
    "data"
   ]
  },
  {
   "cell_type": "code",
   "execution_count": null,
   "id": "b7403c22",
   "metadata": {},
   "outputs": [],
   "source": [
    "# The insert_row() method adds the multiple rows to the table\n",
    "sqlengine_obj.insert_row(table1_obj, data)"
   ]
  },
  {
   "cell_type": "code",
   "execution_count": null,
   "id": "f7e3b6c7",
   "metadata": {},
   "outputs": [],
   "source": [
    "# It is possible to query the table and check the values in it\n",
    "result = sqlengine_obj.query_table(table1_obj)\n",
    "result"
   ]
  },
  {
   "cell_type": "markdown",
   "id": "3a790502",
   "metadata": {},
   "source": [
    "## 5. Select join..."
   ]
  },
  {
   "cell_type": "code",
   "execution_count": null,
   "id": "5d07b0fc",
   "metadata": {},
   "outputs": [],
   "source": [
    "# Prepare to create a table\n",
    "table2_name = 'table2'\n",
    "columns_names = ['isin', 'company_name']"
   ]
  },
  {
   "cell_type": "code",
   "execution_count": null,
   "id": "31be2cb8",
   "metadata": {},
   "outputs": [],
   "source": [
    "# Create table2\n",
    "table2_obj = sqlengine_obj.create_table(table2_name, columns_names, add_idx=True)"
   ]
  },
  {
   "cell_type": "code",
   "execution_count": null,
   "id": "1584d966",
   "metadata": {},
   "outputs": [],
   "source": [
    "# To insert multiple rows, just add multiple dictionary of rows in a list and pass the list to the insert method \n",
    "data = []\n",
    "data.append({\"isin\": \"SK1120005824\", \"company_name\": \"CENTRAL PERK\"})\n",
    "data.append({\"isin\": \"DE0005545503\", \"company_name\": \"DUNDER MIFFLIN\"})"
   ]
  },
  {
   "cell_type": "code",
   "execution_count": null,
   "id": "99ab0713",
   "metadata": {},
   "outputs": [],
   "source": [
    "data"
   ]
  },
  {
   "cell_type": "code",
   "execution_count": null,
   "id": "2f82fc4c",
   "metadata": {},
   "outputs": [],
   "source": [
    "# The insert_row() method adds the multiple rows to the table\n",
    "sqlengine_obj.insert_row(table2_obj, data)"
   ]
  },
  {
   "cell_type": "code",
   "execution_count": null,
   "id": "f16a3e00",
   "metadata": {},
   "outputs": [],
   "source": [
    "# Checking the values\n",
    "result = sqlengine_obj.query_table(table2_obj)\n",
    "result"
   ]
  },
  {
   "cell_type": "code",
   "execution_count": null,
   "id": "c7f808f3",
   "metadata": {},
   "outputs": [],
   "source": [
    "for column in table2_obj.columns:\n",
    "    print(type(column))"
   ]
  },
  {
   "cell_type": "code",
   "execution_count": null,
   "id": "8a780fb7",
   "metadata": {},
   "outputs": [],
   "source": [
    "# Performing a join between the two tables\n",
    "query = session.query(User, Document, DocumentsPermissions).join(Document).join(DocumentsPermissions)"
   ]
  },
  {
   "cell_type": "markdown",
   "id": "4ec18636",
   "metadata": {},
   "source": [
    "## 6. Drop tables "
   ]
  },
  {
   "cell_type": "code",
   "execution_count": null,
   "id": "3d5dc256",
   "metadata": {},
   "outputs": [],
   "source": [
    "sqlengine_obj.drop_table(table1_obj)"
   ]
  },
  {
   "cell_type": "code",
   "execution_count": null,
   "id": "3a6c46a5",
   "metadata": {},
   "outputs": [],
   "source": [
    "sqlengine_obj.drop_table(table2_obj)"
   ]
  },
  {
   "cell_type": "markdown",
   "id": "b7218f6a",
   "metadata": {},
   "source": [
    "## 7. Disconnect from database"
   ]
  },
  {
   "cell_type": "code",
   "execution_count": null,
   "id": "b457e5e0",
   "metadata": {},
   "outputs": [],
   "source": [
    "sqlengine_obj.disconnect()"
   ]
  },
  {
   "cell_type": "code",
   "execution_count": null,
   "id": "3805ab9c",
   "metadata": {},
   "outputs": [],
   "source": [
    "sqlengine_obj.is_connected()"
   ]
  },
  {
   "cell_type": "code",
   "execution_count": null,
   "id": "dedc7d5d",
   "metadata": {},
   "outputs": [],
   "source": []
  }
 ],
 "metadata": {
  "kernelspec": {
   "display_name": "Python 3",
   "language": "python",
   "name": "python3"
  },
  "language_info": {
   "codemirror_mode": {
    "name": "ipython",
    "version": 3
   },
   "file_extension": ".py",
   "mimetype": "text/x-python",
   "name": "python",
   "nbconvert_exporter": "python",
   "pygments_lexer": "ipython3",
   "version": "3.9.5"
  }
 },
 "nbformat": 4,
 "nbformat_minor": 5
}
