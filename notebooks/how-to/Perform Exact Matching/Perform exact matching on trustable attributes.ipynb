{
 "cells": [
  {
   "cell_type": "markdown",
   "id": "5a8d29fa",
   "metadata": {},
   "source": [
    "# How to...perform exact matching on trustable attributes"
   ]
  },
  {
   "cell_type": "code",
   "execution_count": 1,
   "id": "8a03d042",
   "metadata": {},
   "outputs": [],
   "source": [
    "# Sets up the location of the api relative to this notebook \n",
    "import sys\n",
    "sys.path.append('../../../')"
   ]
  },
  {
   "cell_type": "code",
   "execution_count": 2,
   "id": "c6f71c0b",
   "metadata": {},
   "outputs": [],
   "source": [
    "# Import the module for accessing a database\n",
    "from esgmatching.dbmanager.SqlEngine import SqlEngine"
   ]
  },
  {
   "cell_type": "code",
   "execution_count": 3,
   "id": "ce4293e1",
   "metadata": {},
   "outputs": [],
   "source": [
    "# Import the module for reading csv files\n",
    "from esgmatching.reader.FileReaderCsvToDB import FileReaderCsvToDB"
   ]
  },
  {
   "cell_type": "code",
   "execution_count": 4,
   "id": "a772228e",
   "metadata": {},
   "outputs": [],
   "source": [
    "# Import the module for reading csv files\n",
    "from esgmatching.matcher.ExactMatcherDB import ExactMatcherDB"
   ]
  },
  {
   "cell_type": "markdown",
   "id": "0c2c7fd6",
   "metadata": {},
   "source": [
    "## 1. Settings"
   ]
  },
  {
   "cell_type": "code",
   "execution_count": 5,
   "id": "3c6eb429",
   "metadata": {},
   "outputs": [],
   "source": [
    "# Localization of the database to be created in relation to this jupyter notebook\n",
    "# The database will be created in the /data/dabase folder, under the project main folder (EntityMatching)\n",
    "path_db = '../../../data/database/'"
   ]
  },
  {
   "cell_type": "code",
   "execution_count": 6,
   "id": "6b0651d1",
   "metadata": {},
   "outputs": [
    {
     "data": {
      "text/plain": [
       "'sqlite:///../../../data/database/entitymatching.db'"
      ]
     },
     "execution_count": 6,
     "metadata": {},
     "output_type": "execute_result"
    }
   ],
   "source": [
    "# String connection used for sqlite. Others databases might require different information.\n",
    "# In this example the connection is a combination of [sqlite statement] + [database path] + [database name]\n",
    "str_connection = 'sqlite:///' + path_db + 'entitymatching.db'\n",
    "str_connection"
   ]
  },
  {
   "cell_type": "code",
   "execution_count": 7,
   "id": "7caa247e",
   "metadata": {},
   "outputs": [],
   "source": [
    "# The database engine object is created by passing the string connection \n",
    "sqlengine_obj = SqlEngine(str_connection)"
   ]
  },
  {
   "cell_type": "code",
   "execution_count": 2,
   "id": "17ea404a",
   "metadata": {},
   "outputs": [
    {
     "ename": "NameError",
     "evalue": "name 'sqlengine_obj' is not defined",
     "output_type": "error",
     "traceback": [
      "\u001b[1;31m---------------------------------------------------------------------------\u001b[0m",
      "\u001b[1;31mNameError\u001b[0m                                 Traceback (most recent call last)",
      "\u001b[1;32m<ipython-input-2-6c46c537e102>\u001b[0m in \u001b[0;36m<module>\u001b[1;34m\u001b[0m\n\u001b[0;32m      2\u001b[0m \u001b[1;31m# or to create a new one, otherwise. The parameter show_eco is False by default and indicates if the SQL statements\u001b[0m\u001b[1;33m\u001b[0m\u001b[1;33m\u001b[0m\u001b[1;33m\u001b[0m\u001b[0m\n\u001b[0;32m      3\u001b[0m \u001b[1;31m# are echoed (or printed) in the default output channel. Therefore, let's set show_echo = True to see the Sql statements.\u001b[0m\u001b[1;33m\u001b[0m\u001b[1;33m\u001b[0m\u001b[1;33m\u001b[0m\u001b[0m\n\u001b[1;32m----> 4\u001b[1;33m \u001b[0msqlengine_obj\u001b[0m\u001b[1;33m.\u001b[0m\u001b[0mconnect\u001b[0m\u001b[1;33m(\u001b[0m\u001b[0mshow_echo\u001b[0m\u001b[1;33m=\u001b[0m\u001b[1;32mTrue\u001b[0m\u001b[1;33m)\u001b[0m\u001b[1;33m\u001b[0m\u001b[1;33m\u001b[0m\u001b[0m\n\u001b[0m",
      "\u001b[1;31mNameError\u001b[0m: name 'sqlengine_obj' is not defined"
     ]
    }
   ],
   "source": [
    "# The connect() method of the SqlEngine is used to stablish a connection with the database if it exists, \n",
    "# or to create a new one, otherwise. The parameter show_eco is False by default and indicates if the SQL statements \n",
    "# are echoed (or printed) in the default output channel. Therefore, let's set show_echo = True to see the Sql statements. \n",
    "sqlengine_obj.connect(show_echo=True)"
   ]
  },
  {
   "cell_type": "code",
   "execution_count": 1,
   "id": "72715f52",
   "metadata": {},
   "outputs": [
    {
     "ename": "NameError",
     "evalue": "name 'sqlengine_obj' is not defined",
     "output_type": "error",
     "traceback": [
      "\u001b[1;31m---------------------------------------------------------------------------\u001b[0m",
      "\u001b[1;31mNameError\u001b[0m                                 Traceback (most recent call last)",
      "\u001b[1;32m<ipython-input-1-b82dfa54d6da>\u001b[0m in \u001b[0;36m<module>\u001b[1;34m\u001b[0m\n\u001b[0;32m      1\u001b[0m \u001b[1;31m# Check if the connection was stablished\u001b[0m\u001b[1;33m\u001b[0m\u001b[1;33m\u001b[0m\u001b[1;33m\u001b[0m\u001b[0m\n\u001b[1;32m----> 2\u001b[1;33m \u001b[0msqlengine_obj\u001b[0m\u001b[1;33m.\u001b[0m\u001b[0mis_connected\u001b[0m\u001b[1;33m(\u001b[0m\u001b[1;33m)\u001b[0m\u001b[1;33m\u001b[0m\u001b[1;33m\u001b[0m\u001b[0m\n\u001b[0m",
      "\u001b[1;31mNameError\u001b[0m: name 'sqlengine_obj' is not defined"
     ]
    }
   ],
   "source": [
    "# Check if the connection was stablished\n",
    "sqlengine_obj.is_connected()"
   ]
  },
  {
   "cell_type": "markdown",
   "id": "4b2e9a2b",
   "metadata": {},
   "source": [
    "## 2. Read the csv files into the database"
   ]
  },
  {
   "cell_type": "code",
   "execution_count": 9,
   "id": "99ced735",
   "metadata": {},
   "outputs": [],
   "source": [
    "# Path to the csv files and its mapping files\n",
    "# Localization of the test files\n",
    "path_test = '../../../data/test/'"
   ]
  },
  {
   "cell_type": "code",
   "execution_count": 10,
   "id": "5741be70",
   "metadata": {},
   "outputs": [
    {
     "data": {
      "text/plain": [
       "'../../../data/test/test_data_source1.csv'"
      ]
     },
     "execution_count": 10,
     "metadata": {},
     "output_type": "execute_result"
    }
   ],
   "source": [
    "# CSV file for Data source 1 \n",
    "file1_path = path_test + 'test_data_source1.csv'\n",
    "file1_path"
   ]
  },
  {
   "cell_type": "code",
   "execution_count": 11,
   "id": "bf71c484",
   "metadata": {},
   "outputs": [
    {
     "data": {
      "text/plain": [
       "'../../../data/test/test_data_source1.json'"
      ]
     },
     "execution_count": 11,
     "metadata": {},
     "output_type": "execute_result"
    }
   ],
   "source": [
    "# Data mapping for Data source 1\n",
    "file1_map = path_test + 'test_data_source1.json'\n",
    "file1_map"
   ]
  },
  {
   "cell_type": "code",
   "execution_count": 12,
   "id": "6c38293c",
   "metadata": {},
   "outputs": [],
   "source": [
    "# Initialize the FileReader\n",
    "csvreader_obj = FileReaderCsvToDB()"
   ]
  },
  {
   "cell_type": "code",
   "execution_count": 13,
   "id": "f1453670",
   "metadata": {},
   "outputs": [],
   "source": [
    "# Set the database engine into the FileReader\n",
    "csvreader_obj.set_database_engine(sqlengine_obj, use_session=True)"
   ]
  },
  {
   "cell_type": "code",
   "execution_count": 14,
   "id": "9fd5c211",
   "metadata": {},
   "outputs": [
    {
     "name": "stdout",
     "output_type": "stream",
     "text": [
      "2021-09-09 10:53:40,438 INFO sqlalchemy.engine.Engine BEGIN (implicit)\n",
      "2021-09-09 10:53:40,442 INFO sqlalchemy.engine.Engine \n",
      "CREATE TABLE data_source_ref (\n",
      "\tidx INTEGER NOT NULL, \n",
      "\tdata_source VARCHAR, \n",
      "\tisin VARCHAR, \n",
      "\tisvalid_isin BOOLEAN, \n",
      "\tcompany_name VARCHAR, \n",
      "\toriginal_company_name VARCHAR, \n",
      "\tcountry VARCHAR, \n",
      "\tcountry_alpha2 VARCHAR, \n",
      "\tcountry_alpha3 VARCHAR, \n",
      "\toriginal_country VARCHAR, \n",
      "\tPRIMARY KEY (idx)\n",
      ")\n",
      "\n",
      "\n",
      "2021-09-09 10:53:40,443 INFO sqlalchemy.engine.Engine [no key 0.00113s] ()\n",
      "2021-09-09 10:53:40,463 INFO sqlalchemy.engine.Engine COMMIT\n",
      "2021-09-09 10:53:40,658 INFO sqlalchemy.engine.Engine BEGIN (implicit)\n",
      "2021-09-09 10:53:40,660 INFO sqlalchemy.engine.Engine INSERT INTO data_source_ref (data_source, isin, isvalid_isin, company_name, original_company_name, country, country_alpha2, country_alpha3, original_country) VALUES (?, ?, ?, ?, ?, ?, ?, ?, ?), (?, NULL, NULL, ?, ?, ?, ?, ?, ?), (?, NULL, NULL, ?, ?, ?, ?, ?, ?), (?, ?, ?, ?, ?, ?, ?, ?, ?), (?, ?, ?, ?, ?, ?, ?, ?, ?), (?, ?, ?, ?, ?, ?, ?, ?, ?), (?, ?, ?, ?, ?, ?, ?, ?, ?), (?, ?, ?, ?, ?, ?, ?, ?, ?)\n",
      "2021-09-09 10:53:40,661 INFO sqlalchemy.engine.Engine [no key 0.00091s] ('data_source_ref', 'SK1120005824', 1, 'central perk', 'CENTRAL PERK', 'slovakia', 'sk', 'svk', 'SK', 'data_source_ref', 'honeydukes', 'HONEYDUKES', 'united states of america', 'us', 'usa', 'UNITED STATES OF AMERICA', 'data_source_ref', 'starcourt mall', 'STARCOURT MALL', 'austria', 'at', 'aut', 'AUSTRIA', 'data_source_ref', 'GB00B1YW4409', 1, 'sterling cooper', 'STERLING COOPER', 'united kingdom of great britain and northern ireland', 'gb', 'gbr', 'GBR', 'data_source_ref', 'CH0012221716', 1, 'bluth company', 'Bluth company', 'switzerland', 'ch', 'che', 'CHE', 'data_source_ref', 'US0200021014', 1, 'ingen', 'InGen', 'united states of america', 'us', 'usa', 'usa', 'data_source_ref', 'US0231351067', 1, 'stark industries', 'Stark Industries', 'united states of america', 'us', 'usa', 'us', 'data_source_ref', 'US0126531013', 1, 'spectre', 'SPECTRE', 'united states of america', 'us', 'usa', 'USA')\n",
      "2021-09-09 10:53:40,665 INFO sqlalchemy.engine.Engine COMMIT\n",
      "2021-09-09 10:53:40,684 INFO sqlalchemy.engine.Engine BEGIN (implicit)\n",
      "2021-09-09 10:53:40,694 INFO sqlalchemy.engine.Engine SELECT count(DISTINCT data_source_ref.idx) AS count_1 \n",
      "FROM data_source_ref\n",
      " LIMIT ? OFFSET ?\n",
      "2021-09-09 10:53:40,698 INFO sqlalchemy.engine.Engine [generated in 0.00426s] (1, 0)\n",
      "2021-09-09 10:53:40,703 INFO sqlalchemy.engine.Engine ROLLBACK\n"
     ]
    }
   ],
   "source": [
    "# Read 'test_data_source1.csv'\n",
    "ref_data_source = csvreader_obj.read_file(file1_path, file1_map, delimiter=',', chunk_size=10)"
   ]
  },
  {
   "cell_type": "code",
   "execution_count": 15,
   "id": "87e8d4e1",
   "metadata": {},
   "outputs": [
    {
     "data": {
      "text/plain": [
       "'../../../data/test/test_data_source2.csv'"
      ]
     },
     "execution_count": 15,
     "metadata": {},
     "output_type": "execute_result"
    }
   ],
   "source": [
    "# CSV file for Data source 2 \n",
    "file2_path = path_test + 'test_data_source2.csv'\n",
    "file2_path"
   ]
  },
  {
   "cell_type": "code",
   "execution_count": 16,
   "id": "272dfa7e",
   "metadata": {},
   "outputs": [
    {
     "data": {
      "text/plain": [
       "'../../../data/test/test_data_source2.json'"
      ]
     },
     "execution_count": 16,
     "metadata": {},
     "output_type": "execute_result"
    }
   ],
   "source": [
    "# Data mapping for Data source 2\n",
    "file2_map = path_test + 'test_data_source2.json'\n",
    "file2_map"
   ]
  },
  {
   "cell_type": "code",
   "execution_count": 17,
   "id": "7e0c96d6",
   "metadata": {},
   "outputs": [
    {
     "name": "stdout",
     "output_type": "stream",
     "text": [
      "2021-09-09 10:55:16,206 INFO sqlalchemy.engine.Engine BEGIN (implicit)\n",
      "2021-09-09 10:55:16,208 INFO sqlalchemy.engine.Engine \n",
      "CREATE TABLE data_source_target1 (\n",
      "\tidx INTEGER NOT NULL, \n",
      "\tdata_source VARCHAR, \n",
      "\tisin VARCHAR, \n",
      "\tisvalid_isin BOOLEAN, \n",
      "\tlei VARCHAR, \n",
      "\tisvalid_lei BOOLEAN, \n",
      "\tcompany_name VARCHAR, \n",
      "\toriginal_company_name VARCHAR, \n",
      "\tcountry VARCHAR, \n",
      "\tcountry_alpha2 VARCHAR, \n",
      "\tcountry_alpha3 VARCHAR, \n",
      "\toriginal_country VARCHAR, \n",
      "\tPRIMARY KEY (idx)\n",
      ")\n",
      "\n",
      "\n",
      "2021-09-09 10:55:16,209 INFO sqlalchemy.engine.Engine [no key 0.00079s] ()\n",
      "2021-09-09 10:55:16,227 INFO sqlalchemy.engine.Engine COMMIT\n",
      "2021-09-09 10:55:16,236 INFO sqlalchemy.engine.Engine BEGIN (implicit)\n",
      "2021-09-09 10:55:16,241 INFO sqlalchemy.engine.Engine INSERT INTO data_source_target1 (data_source, isin, isvalid_isin, lei, isvalid_lei, company_name, original_company_name, country, country_alpha2, country_alpha3, original_country) VALUES (?, ?, ?, ?, ?, ?, ?, ?, ?, ?, ?), (?, ?, ?, ?, ?, ?, ?, ?, ?, ?, ?), (?, NULL, NULL, ?, ?, ?, ?, ?, ?, ?, ?), (?, NULL, NULL, ?, ?, ?, ?, ?, ?, ?, ?), (?, ?, ?, NULL, NULL, ?, ?, ?, ?, ?, ?), (?, NULL, NULL, ?, ?, ?, ?, ?, ?, ?, ?), (?, ?, ?, ?, ?, ?, ?, ?, ?, ?, ?), (?, ?, ?, ?, ?, ?, ?, ?, ?, ?, ?)\n",
      "2021-09-09 10:55:16,249 INFO sqlalchemy.engine.Engine [no key 0.00842s] ('data_source_target1', 'SK1120005824', 1, '097900BHK10000084115', 1, 'central perk and sons', 'CENTRAL PERK AND SONS', 'germany', 'de', 'deu', 'DE', 'data_source_target1', 'DE0005545503', 1, '5299003VKVDCUPSS5X23', 1, 'dunder mifflins', 'DUNDER MIFFLINS [12345]', 'germany', 'de', 'deu', 'de', 'data_source_target1', '254900B1P3S786KDAW57', 1, 'honeydukes', 'HONEYDUKES (adm@honeydukes.com)', 'united states of america', 'us', 'usa', 'UNITED STATES OF AMERICA', 'data_source_target1', '529900MVZ2YHFZV3K546', 1, 'starcourt mall', 'STARCOURT MALL', 'austria', 'at', 'aut', 'AUSTRIA', 'data_source_target1', 'GB00B1YW4409', 1, 'krusty krab', 'Krusty Krab', 'united kingdom of great britain and northern ireland', 'gb', 'gbr', 'GB', 'data_source_target1', '3003007MR0P683GYR674', 1, 'rr diner', 'RR DINER', 'china', 'cn', 'chn', 'CHINA', 'data_source_target1', 'US0231351067', 1, 'ZXTILKJKG63JELOEG630', 1, 'starks industries and association', 'Starks Industries and Association', 'united states of america', 'us', 'usa', 'usa', 'data_source_target1', 'US0126531013', 1, 'HDBLS2Q6GV1LSKQPBS54', 1, 'spectre universal limited', 'SPECTRE UNIVERSAL LIMITED', 'united states of america', 'us', 'usa', 'USA')\n",
      "2021-09-09 10:55:16,254 INFO sqlalchemy.engine.Engine COMMIT\n",
      "2021-09-09 10:55:16,274 INFO sqlalchemy.engine.Engine BEGIN (implicit)\n",
      "2021-09-09 10:55:16,286 INFO sqlalchemy.engine.Engine SELECT count(DISTINCT data_source_target1.idx) AS count_1 \n",
      "FROM data_source_target1\n",
      " LIMIT ? OFFSET ?\n",
      "2021-09-09 10:55:16,287 INFO sqlalchemy.engine.Engine [generated in 0.00105s] (1, 0)\n",
      "2021-09-09 10:55:16,289 INFO sqlalchemy.engine.Engine ROLLBACK\n"
     ]
    }
   ],
   "source": [
    "# Read 'test_data_source2.csv'\n",
    "target_data_source = csvreader_obj.read_file(file2_path, file2_map, delimiter=',', chunk_size=10)"
   ]
  },
  {
   "cell_type": "code",
   "execution_count": 18,
   "id": "7f1e27f8",
   "metadata": {},
   "outputs": [
    {
     "data": {
      "text/plain": [
       "'../../../data/test/test_data_source3.csv'"
      ]
     },
     "execution_count": 18,
     "metadata": {},
     "output_type": "execute_result"
    }
   ],
   "source": [
    "# CSV file for Data source 3 \n",
    "file3_path = path_test + 'test_data_source3.csv'\n",
    "file3_path"
   ]
  },
  {
   "cell_type": "code",
   "execution_count": 19,
   "id": "76c14124",
   "metadata": {},
   "outputs": [
    {
     "data": {
      "text/plain": [
       "'../../../data/test/test_data_source3.json'"
      ]
     },
     "execution_count": 19,
     "metadata": {},
     "output_type": "execute_result"
    }
   ],
   "source": [
    "# Data mapping for Data source 3\n",
    "file3_map = path_test + 'test_data_source3.json'\n",
    "file3_map"
   ]
  },
  {
   "cell_type": "code",
   "execution_count": 20,
   "id": "9bad0c10",
   "metadata": {},
   "outputs": [
    {
     "name": "stdout",
     "output_type": "stream",
     "text": [
      "2021-09-09 10:55:21,552 INFO sqlalchemy.engine.Engine BEGIN (implicit)\n",
      "2021-09-09 10:55:21,554 INFO sqlalchemy.engine.Engine \n",
      "CREATE TABLE data_source_target2 (\n",
      "\tidx INTEGER NOT NULL, \n",
      "\tdata_source VARCHAR, \n",
      "\tisin VARCHAR, \n",
      "\tisvalid_isin BOOLEAN, \n",
      "\tlei VARCHAR, \n",
      "\tisvalid_lei BOOLEAN, \n",
      "\tsedol VARCHAR, \n",
      "\tisvalid_sedol BOOLEAN, \n",
      "\tcompany_name VARCHAR, \n",
      "\toriginal_company_name VARCHAR, \n",
      "\tcountry VARCHAR, \n",
      "\tcountry_alpha2 VARCHAR, \n",
      "\tcountry_alpha3 VARCHAR, \n",
      "\toriginal_country VARCHAR, \n",
      "\tPRIMARY KEY (idx)\n",
      ")\n",
      "\n",
      "\n",
      "2021-09-09 10:55:21,555 INFO sqlalchemy.engine.Engine [no key 0.00115s] ()\n",
      "2021-09-09 10:55:21,577 INFO sqlalchemy.engine.Engine COMMIT\n",
      "2021-09-09 10:55:21,586 INFO sqlalchemy.engine.Engine BEGIN (implicit)\n",
      "2021-09-09 10:55:21,594 INFO sqlalchemy.engine.Engine INSERT INTO data_source_target2 (data_source, isin, isvalid_isin, lei, isvalid_lei, sedol, isvalid_sedol, company_name, original_company_name, country, country_alpha2, country_alpha3, original_country) VALUES (?, NULL, NULL, ?, ?, ?, ?, ?, ?, ?, ?, ?, ?), (?, NULL, NULL, NULL, NULL, NULL, NULL, ?, ?, ?, ?, ?, ?), (?, ?, ?, NULL, NULL, NULL, NULL, ?, ?, ?, ?, ?, ?), (?, ?, ?, NULL, NULL, ?, ?, ?, ?, ?, ?, ?, ?), (?, ?, ?, NULL, NULL, ?, ?, ?, ?, ?, ?, ?, ?), (?, ?, ?, NULL, NULL, ?, ?, ?, ?, ?, ?, ?, ?), (?, ?, ?, NULL, NULL, ?, ?, ?, ?, ?, ?, ?, ?), (?, ?, ?, NULL, NULL, ?, ?, ?, ?, ?, ?, ?, ?), (?, ?, ?, NULL, NULL, ?, ?, ?, ?, ?, ?, ?, ?)\n",
      "2021-09-09 10:55:21,596 INFO sqlalchemy.engine.Engine [no key 0.00187s] ('data_source_target2', '097900BHK10000084115', 1, '7108899', 1, 'honeydukes', 'HONEYDUKES', 'united states of america', 'us', 'usa', 'UNITED STATES', 'data_source_target2', 'starcourt mall', 'STARCOURT MALL', 'austria', 'at', 'aut', 'AUSTRIA', 'data_source_target2', 'CH0012221716', 1, 'bluth company', 'Bluth company', 'switzerland', 'ch', 'che', 'CHE', 'data_source_target2', 'US0200021014', 1, '2019952', 1, 'ingen', 'InGen', 'united states of america', 'us', 'usa', 'usa', 'data_source_target2', 'US0126531013', 1, '2046853', 1, 'spectre', 'SPECTRE', 'united states of america', 'us', 'usa', 'USA', 'data_source_target2', 'GB00B1YW4409', 1, 'B1YW440', 1, 'sterling cooper', 'STERLING COOPER', 'united kingdom of great britain and northern ireland', 'gb', 'gbr', 'GBR', 'data_source_target2', 'SK1120005824', 1, 'B1YW440', 1, 'central perk', 'CENTRAL PERK', 'slovakia', 'sk', 'svk', 'SK', 'data_source_target2', 'DE0005545503', 1, '5299003VKVDCUPSS5X23', 0, 'dunder mifflins', 'DUNDER MIFFLINS', 'germany', 'de', 'deu', 'Germany', 'data_source_target2', 'GB00B1YW4409', 1, 'B1YW440', 1, 'krusty krab', 'Krusty Kr~ab', 'united kingdom of great britain and northern ireland', 'gb', 'gbr', 'GBR')\n",
      "2021-09-09 10:55:21,600 INFO sqlalchemy.engine.Engine COMMIT\n",
      "2021-09-09 10:55:21,615 INFO sqlalchemy.engine.Engine BEGIN (implicit)\n",
      "2021-09-09 10:55:21,619 INFO sqlalchemy.engine.Engine SELECT count(DISTINCT data_source_target2.idx) AS count_1 \n",
      "FROM data_source_target2\n",
      " LIMIT ? OFFSET ?\n",
      "2021-09-09 10:55:21,620 INFO sqlalchemy.engine.Engine [generated in 0.00147s] (1, 0)\n",
      "2021-09-09 10:55:21,623 INFO sqlalchemy.engine.Engine ROLLBACK\n"
     ]
    }
   ],
   "source": [
    "# Read 'test_data_source3.csv'\n",
    "target_data_source2 = csvreader_obj.read_file(file3_path, file3_map, delimiter=',', chunk_size=10)"
   ]
  },
  {
   "cell_type": "markdown",
   "id": "f5511574",
   "metadata": {},
   "source": [
    "## 3. Perform matching"
   ]
  },
  {
   "cell_type": "code",
   "execution_count": 21,
   "id": "eb8114b7",
   "metadata": {},
   "outputs": [],
   "source": [
    "matcher_obj = ExactMatcherDB('Matching_DS1_DS2',ref_data_source)"
   ]
  },
  {
   "cell_type": "code",
   "execution_count": 22,
   "id": "1fcb292a",
   "metadata": {},
   "outputs": [],
   "source": [
    "matcher_obj.add_target_data_sources(target_data_source)"
   ]
  },
  {
   "cell_type": "code",
   "execution_count": 23,
   "id": "a954febc",
   "metadata": {},
   "outputs": [],
   "source": [
    "matcher_obj.add_target_data_sources(target_data_source2)"
   ]
  },
  {
   "cell_type": "code",
   "execution_count": 24,
   "id": "7310b0ef",
   "metadata": {},
   "outputs": [],
   "source": [
    "matcher_obj.set_database_engine(sqlengine_obj)"
   ]
  },
  {
   "cell_type": "code",
   "execution_count": 25,
   "id": "b9a8966f",
   "metadata": {
    "scrolled": false
   },
   "outputs": [
    {
     "name": "stdout",
     "output_type": "stream",
     "text": [
      "2021-09-09 10:56:46,921 INFO sqlalchemy.engine.Engine SELECT name FROM sqlite_master WHERE type='table' ORDER BY name\n",
      "2021-09-09 10:56:46,922 INFO sqlalchemy.engine.Engine [raw sql] ()\n",
      "2021-09-09 10:56:46,928 INFO sqlalchemy.engine.Engine BEGIN (implicit)\n",
      "2021-09-09 10:56:46,930 INFO sqlalchemy.engine.Engine \n",
      "CREATE TABLE \"Matching_Table\" (\n",
      "\tidx INTEGER NOT NULL, \n",
      "\ttimestamp DATETIME DEFAULT (CURRENT_TIMESTAMP), \n",
      "\t\"match\" INTEGER, \n",
      "\ttarget_name VARCHAR, \n",
      "\tref_name VARCHAR, \n",
      "\tisin VARCHAR, \n",
      "\tlei VARCHAR, \n",
      "\tcompany_name VARCHAR, \n",
      "\tcountry VARCHAR, \n",
      "\tsedol VARCHAR, \n",
      "\tref_isin VARCHAR, \n",
      "\tref_company_name VARCHAR, \n",
      "\tref_country VARCHAR, \n",
      "\tPRIMARY KEY (idx)\n",
      ")\n",
      "\n",
      "\n",
      "2021-09-09 10:56:46,932 INFO sqlalchemy.engine.Engine [no key 0.00123s] ()\n",
      "2021-09-09 10:56:46,954 INFO sqlalchemy.engine.Engine COMMIT\n",
      "2021-09-09 10:56:46,957 INFO sqlalchemy.engine.Engine BEGIN (implicit)\n",
      "2021-09-09 10:56:46,959 INFO sqlalchemy.engine.Engine \n",
      "CREATE TABLE \"No_Matching_Table\" (\n",
      "\tidx INTEGER NOT NULL, \n",
      "\ttimestamp DATETIME DEFAULT (CURRENT_TIMESTAMP), \n",
      "\ttarget_name VARCHAR, \n",
      "\tisin VARCHAR, \n",
      "\tlei VARCHAR, \n",
      "\tcompany_name VARCHAR, \n",
      "\tcountry VARCHAR, \n",
      "\tsedol VARCHAR, \n",
      "\tPRIMARY KEY (idx)\n",
      ")\n",
      "\n",
      "\n",
      "2021-09-09 10:56:46,961 INFO sqlalchemy.engine.Engine [no key 0.00125s] ()\n",
      "2021-09-09 10:56:46,977 INFO sqlalchemy.engine.Engine COMMIT\n",
      "2021-09-09 10:56:46,983 INFO sqlalchemy.engine.Engine INSERT INTO \"Matching_Table\" (isin, lei, company_name, country, target_name, ref_isin, ref_company_name, ref_country, ref_name) SELECT data_source_target1.isin AS isin, data_source_target1.lei AS lei, data_source_target1.company_name AS company_name, data_source_target1.country AS country, data_source_target1.data_source AS target_name, data_source_ref.isin AS ref_isin, data_source_ref.company_name AS ref_company_name, data_source_ref.country AS ref_country, data_source_ref.data_source AS ref_name \n",
      "FROM data_source_target1 JOIN data_source_ref ON data_source_target1.isin = data_source_ref.isin\n",
      "2021-09-09 10:56:46,984 INFO sqlalchemy.engine.Engine [generated in 0.00119s] ()\n",
      "2021-09-09 10:56:46,988 INFO sqlalchemy.engine.Engine COMMIT\n",
      "2021-09-09 10:56:47,005 INFO sqlalchemy.engine.Engine UPDATE \"Matching_Table\" SET \"match\"=? WHERE \"Matching_Table\".\"match\" IS NULL\n",
      "2021-09-09 10:56:47,006 INFO sqlalchemy.engine.Engine [generated in 0.00114s] (1,)\n",
      "2021-09-09 10:56:47,009 INFO sqlalchemy.engine.Engine COMMIT\n",
      "2021-09-09 10:56:47,026 INFO sqlalchemy.engine.Engine BEGIN (implicit)\n",
      "2021-09-09 10:56:47,028 INFO sqlalchemy.engine.Engine SELECT count(DISTINCT data_source_target1.idx) AS count_1 \n",
      "FROM data_source_target1\n",
      " LIMIT ? OFFSET ?\n",
      "2021-09-09 10:56:47,029 INFO sqlalchemy.engine.Engine [cached since 90.74s ago] (1, 0)\n",
      "2021-09-09 10:56:47,032 INFO sqlalchemy.engine.Engine ROLLBACK\n",
      "2021-09-09 10:56:47,035 INFO sqlalchemy.engine.Engine BEGIN (implicit)\n",
      "2021-09-09 10:56:47,038 INFO sqlalchemy.engine.Engine SELECT count(\"Matching_Table\".target_name) AS count_1 \n",
      "FROM \"Matching_Table\" \n",
      "WHERE \"Matching_Table\".target_name = 'data_source_target1'\n",
      " LIMIT ? OFFSET ?\n",
      "2021-09-09 10:56:47,041 INFO sqlalchemy.engine.Engine [generated in 0.00275s] (1, 0)\n",
      "2021-09-09 10:56:47,046 INFO sqlalchemy.engine.Engine ROLLBACK\n",
      "2021-09-09 10:56:47,050 INFO sqlalchemy.engine.Engine INSERT INTO \"No_Matching_Table\" (isin, lei, company_name, country, target_name) SELECT data_source_target1.isin AS isin, data_source_target1.lei AS lei, data_source_target1.company_name AS company_name, data_source_target1.country AS country, data_source_target1.data_source AS target_name \n",
      "FROM data_source_target1 LEFT OUTER JOIN data_source_ref ON data_source_target1.isin = data_source_ref.isin \n",
      "WHERE data_source_ref.isin IS NULL\n",
      "2021-09-09 10:56:47,051 INFO sqlalchemy.engine.Engine [generated in 0.00098s] ()\n",
      "2021-09-09 10:56:47,054 INFO sqlalchemy.engine.Engine COMMIT\n",
      "2021-09-09 10:56:47,072 INFO sqlalchemy.engine.Engine INSERT INTO \"Matching_Table\" (isin, lei, sedol, company_name, country, target_name, ref_isin, ref_company_name, ref_country, ref_name) SELECT data_source_target2.isin AS isin, data_source_target2.lei AS lei, data_source_target2.sedol AS sedol, data_source_target2.company_name AS company_name, data_source_target2.country AS country, data_source_target2.data_source AS target_name, data_source_ref.isin AS ref_isin, data_source_ref.company_name AS ref_company_name, data_source_ref.country AS ref_country, data_source_ref.data_source AS ref_name \n",
      "FROM data_source_target2 JOIN data_source_ref ON data_source_target2.isin = data_source_ref.isin\n",
      "2021-09-09 10:56:47,074 INFO sqlalchemy.engine.Engine [generated in 0.00154s] ()\n",
      "2021-09-09 10:56:47,080 INFO sqlalchemy.engine.Engine COMMIT\n",
      "2021-09-09 10:56:47,137 INFO sqlalchemy.engine.Engine UPDATE \"Matching_Table\" SET \"match\"=? WHERE \"Matching_Table\".\"match\" IS NULL\n",
      "2021-09-09 10:56:47,138 INFO sqlalchemy.engine.Engine [cached since 0.1331s ago] (1,)\n",
      "2021-09-09 10:56:47,145 INFO sqlalchemy.engine.Engine COMMIT\n",
      "2021-09-09 10:56:47,162 INFO sqlalchemy.engine.Engine BEGIN (implicit)\n",
      "2021-09-09 10:56:47,164 INFO sqlalchemy.engine.Engine SELECT count(DISTINCT data_source_target2.idx) AS count_1 \n",
      "FROM data_source_target2\n",
      " LIMIT ? OFFSET ?\n",
      "2021-09-09 10:56:47,167 INFO sqlalchemy.engine.Engine [cached since 85.55s ago] (1, 0)\n",
      "2021-09-09 10:56:47,175 INFO sqlalchemy.engine.Engine ROLLBACK\n",
      "2021-09-09 10:56:47,178 INFO sqlalchemy.engine.Engine BEGIN (implicit)\n",
      "2021-09-09 10:56:47,180 INFO sqlalchemy.engine.Engine SELECT count(\"Matching_Table\".target_name) AS count_1 \n",
      "FROM \"Matching_Table\" \n",
      "WHERE \"Matching_Table\".target_name = 'data_source_target2'\n",
      " LIMIT ? OFFSET ?\n",
      "2021-09-09 10:56:47,182 INFO sqlalchemy.engine.Engine [generated in 0.00131s] (1, 0)\n",
      "2021-09-09 10:56:47,185 INFO sqlalchemy.engine.Engine ROLLBACK\n",
      "2021-09-09 10:56:47,189 INFO sqlalchemy.engine.Engine INSERT INTO \"No_Matching_Table\" (isin, lei, sedol, company_name, country, target_name) SELECT data_source_target2.isin AS isin, data_source_target2.lei AS lei, data_source_target2.sedol AS sedol, data_source_target2.company_name AS company_name, data_source_target2.country AS country, data_source_target2.data_source AS target_name \n",
      "FROM data_source_target2 LEFT OUTER JOIN data_source_ref ON data_source_target2.isin = data_source_ref.isin \n",
      "WHERE data_source_ref.isin IS NULL\n",
      "2021-09-09 10:56:47,191 INFO sqlalchemy.engine.Engine [generated in 0.00154s] ()\n",
      "2021-09-09 10:56:47,197 INFO sqlalchemy.engine.Engine COMMIT\n"
     ]
    }
   ],
   "source": [
    "matching_report_obj = matcher_obj.execute_matching('Matching_Table')"
   ]
  },
  {
   "cell_type": "code",
   "execution_count": 26,
   "id": "57ec3fc1",
   "metadata": {},
   "outputs": [
    {
     "name": "stdout",
     "output_type": "stream",
     "text": [
      "['target_name', 'isin', 'lei', 'company_name', 'country', 'sedol', 'ref_isin', 'ref_company_name', 'ref_country', 'ref_name']\n",
      "{'target_name': Column('target_name', String(), table=<No_Matching_Table>), 'isin': Column('isin', String(), table=<No_Matching_Table>), 'lei': Column('lei', String(), table=<No_Matching_Table>), 'company_name': Column('company_name', String(), table=<No_Matching_Table>), 'country': Column('country', String(), table=<No_Matching_Table>), 'sedol': Column('sedol', String(), table=<No_Matching_Table>)}\n",
      "{'ref_isin': Column('isin', String(), table=<Matching_Table>), 'ref_company_name': Column('company_name', String(), table=<Matching_Table>), 'ref_country': Column('country', String(), table=<Matching_Table>), 'ref_name': Column('target_name', String(), table=<Matching_Table>)}\n",
      "['lei']\n",
      "2021-09-09 11:00:01,875 INFO sqlalchemy.engine.Engine INSERT INTO \"Matching_Table\" (target_name, isin, lei, company_name, country, sedol, ref_isin, ref_company_name, ref_country, ref_name) SELECT \"No_Matching_Table\".target_name AS target_name, \"No_Matching_Table\".isin AS isin, \"No_Matching_Table\".lei AS lei, \"No_Matching_Table\".company_name AS company_name, \"No_Matching_Table\".country AS country, \"No_Matching_Table\".sedol AS sedol, \"Matching_Table\".isin AS ref_isin, \"Matching_Table\".company_name AS ref_company_name, \"Matching_Table\".country AS ref_country, \"Matching_Table\".target_name AS ref_name \n",
      "FROM \"No_Matching_Table\" JOIN \"Matching_Table\" ON \"No_Matching_Table\".lei = \"Matching_Table\".lei \n",
      "WHERE \"Matching_Table\".\"match\" = 1 AND \"No_Matching_Table\".target_name = 'data_source_target1'\n",
      "2021-09-09 11:00:01,875 INFO sqlalchemy.engine.Engine [generated in 0.00093s] ()\n",
      "2021-09-09 11:00:01,879 INFO sqlalchemy.engine.Engine COMMIT\n",
      "{'ref_name': Column('ref_name', String(), table=<Matching_Table>), 'ref_isin': Column('ref_isin', String(), table=<Matching_Table>), 'ref_company_name': Column('ref_company_name', String(), table=<Matching_Table>), 'ref_country': Column('ref_country', String(), table=<Matching_Table>)}\n",
      "2021-09-09 11:00:01,884 INFO sqlalchemy.engine.Engine INSERT INTO \"Matching_Table\" (target_name, isin, lei, company_name, country, sedol, ref_name, ref_isin, ref_company_name, ref_country) SELECT \"No_Matching_Table\".target_name AS target_name, \"No_Matching_Table\".isin AS isin, \"No_Matching_Table\".lei AS lei, \"No_Matching_Table\".company_name AS company_name, \"No_Matching_Table\".country AS country, \"No_Matching_Table\".sedol AS sedol, \"Matching_Table\".ref_name AS ref_name, \"Matching_Table\".ref_isin AS ref_isin, \"Matching_Table\".ref_company_name AS ref_company_name, \"Matching_Table\".ref_country AS ref_country \n",
      "FROM \"No_Matching_Table\" JOIN \"Matching_Table\" ON \"No_Matching_Table\".lei = \"Matching_Table\".lei \n",
      "WHERE \"Matching_Table\".\"match\" = 1 AND \"No_Matching_Table\".target_name = 'data_source_target1'\n",
      "2021-09-09 11:00:01,885 INFO sqlalchemy.engine.Engine [generated in 0.00091s] ()\n",
      "2021-09-09 11:00:01,887 INFO sqlalchemy.engine.Engine COMMIT\n",
      "2021-09-09 11:00:01,890 INFO sqlalchemy.engine.Engine UPDATE \"Matching_Table\" SET \"match\"=? WHERE \"Matching_Table\".\"match\" IS NULL\n",
      "2021-09-09 11:00:01,891 INFO sqlalchemy.engine.Engine [cached since 194.9s ago] (2,)\n",
      "2021-09-09 11:00:01,895 INFO sqlalchemy.engine.Engine COMMIT\n",
      "['lei']\n",
      "2021-09-09 11:00:01,902 INFO sqlalchemy.engine.Engine INSERT INTO \"Matching_Table\" (target_name, isin, lei, company_name, country, sedol, ref_isin, ref_company_name, ref_country, ref_name) SELECT \"No_Matching_Table\".target_name AS target_name, \"No_Matching_Table\".isin AS isin, \"No_Matching_Table\".lei AS lei, \"No_Matching_Table\".company_name AS company_name, \"No_Matching_Table\".country AS country, \"No_Matching_Table\".sedol AS sedol, \"Matching_Table\".isin AS ref_isin, \"Matching_Table\".company_name AS ref_company_name, \"Matching_Table\".country AS ref_country, \"Matching_Table\".target_name AS ref_name \n",
      "FROM \"No_Matching_Table\" JOIN \"Matching_Table\" ON \"No_Matching_Table\".lei = \"Matching_Table\".lei \n",
      "WHERE \"Matching_Table\".\"match\" = 1 AND \"No_Matching_Table\".target_name = 'data_source_target2'\n",
      "2021-09-09 11:00:01,903 INFO sqlalchemy.engine.Engine [generated in 0.00163s] ()\n",
      "2021-09-09 11:00:01,907 INFO sqlalchemy.engine.Engine COMMIT\n",
      "{'ref_name': Column('ref_name', String(), table=<Matching_Table>), 'ref_isin': Column('ref_isin', String(), table=<Matching_Table>), 'ref_company_name': Column('ref_company_name', String(), table=<Matching_Table>), 'ref_country': Column('ref_country', String(), table=<Matching_Table>)}\n",
      "2021-09-09 11:00:01,925 INFO sqlalchemy.engine.Engine INSERT INTO \"Matching_Table\" (target_name, isin, lei, company_name, country, sedol, ref_name, ref_isin, ref_company_name, ref_country) SELECT \"No_Matching_Table\".target_name AS target_name, \"No_Matching_Table\".isin AS isin, \"No_Matching_Table\".lei AS lei, \"No_Matching_Table\".company_name AS company_name, \"No_Matching_Table\".country AS country, \"No_Matching_Table\".sedol AS sedol, \"Matching_Table\".ref_name AS ref_name, \"Matching_Table\".ref_isin AS ref_isin, \"Matching_Table\".ref_company_name AS ref_company_name, \"Matching_Table\".ref_country AS ref_country \n",
      "FROM \"No_Matching_Table\" JOIN \"Matching_Table\" ON \"No_Matching_Table\".lei = \"Matching_Table\".lei \n",
      "WHERE \"Matching_Table\".\"match\" = 1 AND \"No_Matching_Table\".target_name = 'data_source_target2'\n",
      "2021-09-09 11:00:01,926 INFO sqlalchemy.engine.Engine [generated in 0.00156s] ()\n",
      "2021-09-09 11:00:01,930 INFO sqlalchemy.engine.Engine COMMIT\n",
      "2021-09-09 11:00:01,946 INFO sqlalchemy.engine.Engine UPDATE \"Matching_Table\" SET \"match\"=? WHERE \"Matching_Table\".\"match\" IS NULL\n",
      "2021-09-09 11:00:01,947 INFO sqlalchemy.engine.Engine [cached since 194.9s ago] (2,)\n",
      "2021-09-09 11:00:01,952 INFO sqlalchemy.engine.Engine COMMIT\n"
     ]
    }
   ],
   "source": [
    "matcher_obj.execute_indirect_matching()"
   ]
  },
  {
   "cell_type": "code",
   "execution_count": 27,
   "id": "61e56bff",
   "metadata": {
    "scrolled": true
   },
   "outputs": [
    {
     "name": "stdout",
     "output_type": "stream",
     "text": [
      "------------------------- REPORT ON MATCHING -------------------------\n",
      "Report name: Matching_DS1_DS2\n",
      "Description: \n",
      "Datetime:2021-09-09 10:56:46\n",
      "----------------------------------------------------------------------\n",
      "Referential          Target               Coverage (%)\n",
      "----------------------------------------------------------------------\n",
      "data_source_ref      data_source_target1       50.00\n",
      "data_source_ref      data_source_target2       66.67\n",
      "----------------------------------------------------------------------\n"
     ]
    }
   ],
   "source": [
    "matching_report_obj.print_report()"
   ]
  },
  {
   "cell_type": "markdown",
   "id": "612dd50d",
   "metadata": {},
   "source": [
    "## 5. Drop Tables"
   ]
  },
  {
   "cell_type": "code",
   "execution_count": null,
   "id": "73b3e457",
   "metadata": {},
   "outputs": [],
   "source": [
    "sqlengine_obj.drop_table(ref_data_source.table_obj)"
   ]
  },
  {
   "cell_type": "code",
   "execution_count": null,
   "id": "48cacfa4",
   "metadata": {},
   "outputs": [],
   "source": [
    "sqlengine_obj.drop_table(target_data_source.table_obj)"
   ]
  },
  {
   "cell_type": "code",
   "execution_count": null,
   "id": "fc610014",
   "metadata": {},
   "outputs": [],
   "source": [
    "sqlengine_obj.drop_table(target_data_source2.table_obj)"
   ]
  },
  {
   "cell_type": "markdown",
   "id": "1adcdc7c",
   "metadata": {},
   "source": [
    "## 6. Close database connection"
   ]
  },
  {
   "cell_type": "code",
   "execution_count": null,
   "id": "2ef4c4f6",
   "metadata": {},
   "outputs": [],
   "source": [
    "sqlengine_obj.disconnect()"
   ]
  },
  {
   "cell_type": "code",
   "execution_count": null,
   "id": "03f2c9fd",
   "metadata": {},
   "outputs": [],
   "source": []
  }
 ],
 "metadata": {
  "kernelspec": {
   "display_name": "Python 3",
   "language": "python",
   "name": "python3"
  },
  "language_info": {
   "codemirror_mode": {
    "name": "ipython",
    "version": 3
   },
   "file_extension": ".py",
   "mimetype": "text/x-python",
   "name": "python",
   "nbconvert_exporter": "python",
   "pygments_lexer": "ipython3",
   "version": "3.9.5"
  }
 },
 "nbformat": 4,
 "nbformat_minor": 5
}
